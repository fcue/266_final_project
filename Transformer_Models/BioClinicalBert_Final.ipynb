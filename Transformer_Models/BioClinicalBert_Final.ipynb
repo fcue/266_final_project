{
  "cells": [
    {
      "cell_type": "code",
      "execution_count": null,
      "metadata": {
        "colab": {
          "base_uri": "https://localhost:8080/"
        },
        "id": "dEURsjghWMCJ",
        "outputId": "95d3d9e3-a399-4393-9dd5-fb56c385ec11"
      },
      "outputs": [
        {
          "output_type": "stream",
          "name": "stdout",
          "text": [
            "Collecting seqeval\n",
            "  Downloading seqeval-1.2.2.tar.gz (43 kB)\n",
            "\u001b[?25l     \u001b[90m━━━━━━━━━━━━━━━━━━━━━━━━━━━━━━━━━━━━━━━━\u001b[0m \u001b[32m0.0/43.6 kB\u001b[0m \u001b[31m?\u001b[0m eta \u001b[36m-:--:--\u001b[0m\r\u001b[2K     \u001b[90m━━━━━━━━━━━━━━━━━━━━━━━━━━━━━━━━━━━━━━━━\u001b[0m \u001b[32m43.6/43.6 kB\u001b[0m \u001b[31m2.2 MB/s\u001b[0m eta \u001b[36m0:00:00\u001b[0m\n",
            "\u001b[?25h  Preparing metadata (setup.py) ... \u001b[?25l\u001b[?25hdone\n",
            "Requirement already satisfied: numpy>=1.14.0 in /usr/local/lib/python3.10/dist-packages (from seqeval) (1.25.2)\n",
            "Requirement already satisfied: scikit-learn>=0.21.3 in /usr/local/lib/python3.10/dist-packages (from seqeval) (1.2.2)\n",
            "Requirement already satisfied: scipy>=1.3.2 in /usr/local/lib/python3.10/dist-packages (from scikit-learn>=0.21.3->seqeval) (1.11.4)\n",
            "Requirement already satisfied: joblib>=1.1.1 in /usr/local/lib/python3.10/dist-packages (from scikit-learn>=0.21.3->seqeval) (1.3.2)\n",
            "Requirement already satisfied: threadpoolctl>=2.0.0 in /usr/local/lib/python3.10/dist-packages (from scikit-learn>=0.21.3->seqeval) (3.4.0)\n",
            "Building wheels for collected packages: seqeval\n",
            "  Building wheel for seqeval (setup.py) ... \u001b[?25l\u001b[?25hdone\n",
            "  Created wheel for seqeval: filename=seqeval-1.2.2-py3-none-any.whl size=16161 sha256=f9d4cf2d9801a70dee6b232a92f8afc3b749ceae71f490dccd1d8b688bad44bd\n",
            "  Stored in directory: /root/.cache/pip/wheels/1a/67/4a/ad4082dd7dfc30f2abfe4d80a2ed5926a506eb8a972b4767fa\n",
            "Successfully built seqeval\n",
            "Installing collected packages: seqeval\n",
            "Successfully installed seqeval-1.2.2\n"
          ]
        }
      ],
      "source": [
        "!pip install seqeval"
      ]
    },
    {
      "cell_type": "code",
      "execution_count": null,
      "metadata": {
        "id": "DixhWmqWcy3M"
      },
      "outputs": [],
      "source": [
        "import pandas as pd\n",
        "import numpy as np\n",
        "\n",
        "import os\n",
        "\n",
        "import torch\n",
        "from torch.utils.data import Dataset, DataLoader\n",
        "from sklearn.metrics import accuracy_score\n"
      ]
    },
    {
      "cell_type": "code",
      "execution_count": null,
      "metadata": {
        "colab": {
          "base_uri": "https://localhost:8080/"
        },
        "id": "sYBZ86dRc2bq",
        "outputId": "0298a4ae-1b90-4dfd-dac3-c024c1437adb"
      },
      "outputs": [
        {
          "output_type": "stream",
          "name": "stdout",
          "text": [
            "Mounted at /content/drive\n"
          ]
        }
      ],
      "source": [
        "from google.colab import drive\n",
        "drive.mount('/content/drive')"
      ]
    },
    {
      "cell_type": "code",
      "execution_count": null,
      "metadata": {
        "colab": {
          "base_uri": "https://localhost:8080/"
        },
        "id": "nPL27mL0_sTC",
        "outputId": "6e4ffa6c-c2b7-4b1a-ac5d-b4eaa8582d03"
      },
      "outputs": [
        {
          "output_type": "stream",
          "name": "stdout",
          "text": [
            "cuda\n"
          ]
        }
      ],
      "source": [
        "# verify GPU\n",
        "from torch import cuda\n",
        "device = 'cuda' if cuda.is_available() else 'cpu'\n",
        "print(device)"
      ]
    },
    {
      "cell_type": "markdown",
      "metadata": {
        "id": "qyMy7PgZ_mME"
      },
      "source": [
        "## Convert to DataFrame for EDA"
      ]
    },
    {
      "cell_type": "code",
      "execution_count": null,
      "metadata": {
        "id": "xJ6HnnrvKF_q"
      },
      "outputs": [],
      "source": [
        "def convert_data(filepath):\n",
        "\n",
        "  # Read the data from the text file\n",
        "  with open(filepath, \"r\") as file:\n",
        "      lines = file.readlines()\n",
        "\n",
        "  # Define an empty list to store the data\n",
        "  data = []\n",
        "\n",
        "  # Iterate over each line in the file\n",
        "  for line in lines:\n",
        "      # Split the line by spaces\n",
        "      parts = line.strip().split()\n",
        "\n",
        "      # Check if the line has the expected number of elements\n",
        "      if len(parts) == 9:\n",
        "          # Extract the values from the line\n",
        "          text_file_name = parts[0]\n",
        "          sentence_line_number = int(parts[1])\n",
        "          sentence_word_index = int(parts[2])\n",
        "          sentence_seq = parts[3]\n",
        "          start_token = int(parts[4])\n",
        "          end_token = int(parts[5])\n",
        "          original_word = parts[6]\n",
        "          word = parts[7]\n",
        "          label = parts[8]\n",
        "\n",
        "          # Append the values as a tuple to the data list\n",
        "          data.append((text_file_name, sentence_line_number, sentence_word_index, sentence_seq,\n",
        "                      start_token, end_token, original_word, word, label))\n",
        "\n",
        "  # Create a DataFrame from the data list with appropriate column names\n",
        "  df = pd.DataFrame(data, columns=['text_file_name', 'sentence_line_number', 'sentence_word_index',\n",
        "                                  'sentence_seq', 'start_token', 'end_token', 'original_word',\n",
        "                                  'word', 'label'])\n",
        "\n",
        "  return df\n"
      ]
    },
    {
      "cell_type": "code",
      "execution_count": null,
      "metadata": {
        "colab": {
          "base_uri": "https://localhost:8080/"
        },
        "id": "PBwbw0ddKYcJ",
        "outputId": "2ff907c0-cc15-4052-c355-428f6f71c4f8"
      },
      "outputs": [
        {
          "output_type": "stream",
          "name": "stdout",
          "text": [
            "Length of train: 895141\n",
            "Length of test: 585761\n"
          ]
        }
      ],
      "source": [
        "train_data_path = \"/content/drive/MyDrive/266_final/data/Original_text/dataset1_train.txt\"\n",
        "test_data_path = \"/content/drive/MyDrive/266_final/data/Original_text/dataset1_test.txt\"\n",
        "\n",
        "train = convert_data(train_data_path)\n",
        "test = convert_data(test_data_path)\n",
        "\n",
        "print(f\"Length of train: {len(train)}\")\n",
        "print(f\"Length of test: {len(test)}\")\n"
      ]
    },
    {
      "cell_type": "code",
      "execution_count": null,
      "metadata": {
        "colab": {
          "base_uri": "https://localhost:8080/"
        },
        "id": "kqnvelmiGLXi",
        "outputId": "f99c3b36-2e6a-4237-e3da-adcdfdbea4a1"
      },
      "outputs": [
        {
          "output_type": "execute_result",
          "data": {
            "text/plain": [
              "1053"
            ]
          },
          "metadata": {},
          "execution_count": 7
        }
      ],
      "source": [
        "df = train.copy()\n",
        "df['sentence_line_number'].nunique()"
      ]
    },
    {
      "cell_type": "code",
      "execution_count": null,
      "metadata": {
        "colab": {
          "base_uri": "https://localhost:8080/"
        },
        "id": "fVvq1qgWw1vR",
        "outputId": "da91fd09-8f1a-403b-b040-e0f7fef0ca1e"
      },
      "outputs": [
        {
          "output_type": "execute_result",
          "data": {
            "text/plain": [
              "label\n",
              "I-Route           397\n",
              "B-Duration        592\n",
              "I-ADE             776\n",
              "B-ADE             956\n",
              "I-Duration       1034\n",
              "I-Reason         3125\n",
              "B-Reason         3791\n",
              "I-Form           4173\n",
              "B-Dosage         4221\n",
              "I-Drug           4298\n",
              "B-Route          5475\n",
              "B-Frequency      6279\n",
              "I-Strength       6617\n",
              "B-Form           6647\n",
              "B-Strength       6691\n",
              "I-Dosage         8779\n",
              "I-Frequency     13023\n",
              "B-Drug          16222\n",
              "O              802045\n",
              "Name: count, dtype: int64"
            ]
          },
          "metadata": {},
          "execution_count": 8
        }
      ],
      "source": [
        "df['label'].value_counts().sort_values()"
      ]
    },
    {
      "cell_type": "markdown",
      "metadata": {
        "id": "GWzDzNtXJRSa"
      },
      "source": [
        "### Label labels"
      ]
    },
    {
      "cell_type": "code",
      "execution_count": null,
      "metadata": {
        "colab": {
          "base_uri": "https://localhost:8080/"
        },
        "id": "CXnnrZqSIX95",
        "outputId": "32a75a3f-2647-4226-f81e-0c06d987e3f9"
      },
      "outputs": [
        {
          "output_type": "stream",
          "name": "stdout",
          "text": [
            "{'I-Route', 'I-Duration', 'I-Dosage', 'B-Dosage', 'B-Strength', 'B-Frequency', 'I-ADE', 'I-Strength', 'B-Form', 'I-Reason', 'B-Drug', 'I-Drug', 'I-Form', 'B-Duration', 'B-Route', 'I-Frequency', 'B-ADE', 'O', 'B-Reason'}\n"
          ]
        }
      ],
      "source": [
        "labels = [i.split() for i in df['label'].values.tolist()]\n",
        "unique_labels = set()\n",
        "\n",
        "for lb in labels:\n",
        "  [unique_labels.add(i) for i in lb if i not in unique_labels]\n",
        "\n",
        "print(unique_labels)"
      ]
    },
    {
      "cell_type": "code",
      "execution_count": null,
      "metadata": {
        "colab": {
          "base_uri": "https://localhost:8080/"
        },
        "id": "ux83z2FGLU05",
        "outputId": "2fdf9c70-9b2f-4e99-a2fe-438306f2052d"
      },
      "outputs": [
        {
          "output_type": "stream",
          "name": "stdout",
          "text": [
            "{'B-ADE': 0, 'B-Dosage': 1, 'B-Drug': 2, 'B-Duration': 3, 'B-Form': 4, 'B-Frequency': 5, 'B-Reason': 6, 'B-Route': 7, 'B-Strength': 8, 'I-ADE': 9, 'I-Dosage': 10, 'I-Drug': 11, 'I-Duration': 12, 'I-Form': 13, 'I-Frequency': 14, 'I-Reason': 15, 'I-Route': 16, 'I-Strength': 17, 'O': 18}\n"
          ]
        }
      ],
      "source": [
        "# Map each label into its id representation and vice versa\n",
        "labels_to_ids = {k: v for v, k in enumerate(sorted(unique_labels))}\n",
        "ids_to_labels = {v: k for v, k in enumerate(sorted(unique_labels))}\n",
        "print(labels_to_ids)"
      ]
    },
    {
      "cell_type": "code",
      "execution_count": null,
      "metadata": {
        "colab": {
          "base_uri": "https://localhost:8080/",
          "height": 617
        },
        "id": "rsYIn59mvEey",
        "outputId": "f7008501-db4d-42d7-d9ec-5b25a6a20ce0"
      },
      "outputs": [
        {
          "output_type": "execute_result",
          "data": {
            "text/plain": [
              "                           text_file_name  sentence_line_number  \\\n",
              "637     data/training_20180910/110727.txt                    68   \n",
              "645     data/training_20180910/110727.txt                    69   \n",
              "700     data/training_20180910/110727.txt                    74   \n",
              "706     data/training_20180910/110727.txt                    75   \n",
              "732     data/training_20180910/110727.txt                    78   \n",
              "...                                   ...                   ...   \n",
              "892895  data/training_20180910/118564.txt                   156   \n",
              "892897  data/training_20180910/118564.txt                   157   \n",
              "893013  data/training_20180910/118564.txt                   168   \n",
              "894424  data/training_20180910/100883.txt                   128   \n",
              "894469  data/training_20180910/100883.txt                   132   \n",
              "\n",
              "        sentence_word_index sentence_seq  start_token  end_token  \\\n",
              "637                       3         T208         3011       3025   \n",
              "645                       0         T377         3062       3070   \n",
              "700                       1         T209         3237       3240   \n",
              "706                       1         T210         3262       3265   \n",
              "732                       1         T378         3365       3370   \n",
              "...                     ...          ...          ...        ...   \n",
              "892895                    6          T40         8092       8106   \n",
              "892897                    1          T41         8111       8120   \n",
              "893013                   10          T44         8731       8735   \n",
              "894424                    0          T41         5871       5882   \n",
              "894469                    0          T46         6119       6131   \n",
              "\n",
              "         original_word            word  label  \n",
              "637     polyneuropathy  polyneuropathy  B-ADE  \n",
              "645           infusion        infusion  B-ADE  \n",
              "700                HTN             HTN  B-ADE  \n",
              "706                DM2             DM0  B-ADE  \n",
              "732              NAFLD           NAFLD  B-ADE  \n",
              "...                ...             ...    ...  \n",
              "892895  hallucinations  hallucinations  B-ADE  \n",
              "892897       tachypnea       tachypnea  B-ADE  \n",
              "893013            rash            rash  B-ADE  \n",
              "894424     Hypotension     Hypotension  B-ADE  \n",
              "894469    tachycardiac    tachycardiac  B-ADE  \n",
              "\n",
              "[956 rows x 9 columns]"
            ],
            "text/html": [
              "\n",
              "  <div id=\"df-2e8faa1b-b140-4ec9-979f-1f17a675f6bb\" class=\"colab-df-container\">\n",
              "    <div>\n",
              "<style scoped>\n",
              "    .dataframe tbody tr th:only-of-type {\n",
              "        vertical-align: middle;\n",
              "    }\n",
              "\n",
              "    .dataframe tbody tr th {\n",
              "        vertical-align: top;\n",
              "    }\n",
              "\n",
              "    .dataframe thead th {\n",
              "        text-align: right;\n",
              "    }\n",
              "</style>\n",
              "<table border=\"1\" class=\"dataframe\">\n",
              "  <thead>\n",
              "    <tr style=\"text-align: right;\">\n",
              "      <th></th>\n",
              "      <th>text_file_name</th>\n",
              "      <th>sentence_line_number</th>\n",
              "      <th>sentence_word_index</th>\n",
              "      <th>sentence_seq</th>\n",
              "      <th>start_token</th>\n",
              "      <th>end_token</th>\n",
              "      <th>original_word</th>\n",
              "      <th>word</th>\n",
              "      <th>label</th>\n",
              "    </tr>\n",
              "  </thead>\n",
              "  <tbody>\n",
              "    <tr>\n",
              "      <th>637</th>\n",
              "      <td>data/training_20180910/110727.txt</td>\n",
              "      <td>68</td>\n",
              "      <td>3</td>\n",
              "      <td>T208</td>\n",
              "      <td>3011</td>\n",
              "      <td>3025</td>\n",
              "      <td>polyneuropathy</td>\n",
              "      <td>polyneuropathy</td>\n",
              "      <td>B-ADE</td>\n",
              "    </tr>\n",
              "    <tr>\n",
              "      <th>645</th>\n",
              "      <td>data/training_20180910/110727.txt</td>\n",
              "      <td>69</td>\n",
              "      <td>0</td>\n",
              "      <td>T377</td>\n",
              "      <td>3062</td>\n",
              "      <td>3070</td>\n",
              "      <td>infusion</td>\n",
              "      <td>infusion</td>\n",
              "      <td>B-ADE</td>\n",
              "    </tr>\n",
              "    <tr>\n",
              "      <th>700</th>\n",
              "      <td>data/training_20180910/110727.txt</td>\n",
              "      <td>74</td>\n",
              "      <td>1</td>\n",
              "      <td>T209</td>\n",
              "      <td>3237</td>\n",
              "      <td>3240</td>\n",
              "      <td>HTN</td>\n",
              "      <td>HTN</td>\n",
              "      <td>B-ADE</td>\n",
              "    </tr>\n",
              "    <tr>\n",
              "      <th>706</th>\n",
              "      <td>data/training_20180910/110727.txt</td>\n",
              "      <td>75</td>\n",
              "      <td>1</td>\n",
              "      <td>T210</td>\n",
              "      <td>3262</td>\n",
              "      <td>3265</td>\n",
              "      <td>DM2</td>\n",
              "      <td>DM0</td>\n",
              "      <td>B-ADE</td>\n",
              "    </tr>\n",
              "    <tr>\n",
              "      <th>732</th>\n",
              "      <td>data/training_20180910/110727.txt</td>\n",
              "      <td>78</td>\n",
              "      <td>1</td>\n",
              "      <td>T378</td>\n",
              "      <td>3365</td>\n",
              "      <td>3370</td>\n",
              "      <td>NAFLD</td>\n",
              "      <td>NAFLD</td>\n",
              "      <td>B-ADE</td>\n",
              "    </tr>\n",
              "    <tr>\n",
              "      <th>...</th>\n",
              "      <td>...</td>\n",
              "      <td>...</td>\n",
              "      <td>...</td>\n",
              "      <td>...</td>\n",
              "      <td>...</td>\n",
              "      <td>...</td>\n",
              "      <td>...</td>\n",
              "      <td>...</td>\n",
              "      <td>...</td>\n",
              "    </tr>\n",
              "    <tr>\n",
              "      <th>892895</th>\n",
              "      <td>data/training_20180910/118564.txt</td>\n",
              "      <td>156</td>\n",
              "      <td>6</td>\n",
              "      <td>T40</td>\n",
              "      <td>8092</td>\n",
              "      <td>8106</td>\n",
              "      <td>hallucinations</td>\n",
              "      <td>hallucinations</td>\n",
              "      <td>B-ADE</td>\n",
              "    </tr>\n",
              "    <tr>\n",
              "      <th>892897</th>\n",
              "      <td>data/training_20180910/118564.txt</td>\n",
              "      <td>157</td>\n",
              "      <td>1</td>\n",
              "      <td>T41</td>\n",
              "      <td>8111</td>\n",
              "      <td>8120</td>\n",
              "      <td>tachypnea</td>\n",
              "      <td>tachypnea</td>\n",
              "      <td>B-ADE</td>\n",
              "    </tr>\n",
              "    <tr>\n",
              "      <th>893013</th>\n",
              "      <td>data/training_20180910/118564.txt</td>\n",
              "      <td>168</td>\n",
              "      <td>10</td>\n",
              "      <td>T44</td>\n",
              "      <td>8731</td>\n",
              "      <td>8735</td>\n",
              "      <td>rash</td>\n",
              "      <td>rash</td>\n",
              "      <td>B-ADE</td>\n",
              "    </tr>\n",
              "    <tr>\n",
              "      <th>894424</th>\n",
              "      <td>data/training_20180910/100883.txt</td>\n",
              "      <td>128</td>\n",
              "      <td>0</td>\n",
              "      <td>T41</td>\n",
              "      <td>5871</td>\n",
              "      <td>5882</td>\n",
              "      <td>Hypotension</td>\n",
              "      <td>Hypotension</td>\n",
              "      <td>B-ADE</td>\n",
              "    </tr>\n",
              "    <tr>\n",
              "      <th>894469</th>\n",
              "      <td>data/training_20180910/100883.txt</td>\n",
              "      <td>132</td>\n",
              "      <td>0</td>\n",
              "      <td>T46</td>\n",
              "      <td>6119</td>\n",
              "      <td>6131</td>\n",
              "      <td>tachycardiac</td>\n",
              "      <td>tachycardiac</td>\n",
              "      <td>B-ADE</td>\n",
              "    </tr>\n",
              "  </tbody>\n",
              "</table>\n",
              "<p>956 rows × 9 columns</p>\n",
              "</div>\n",
              "    <div class=\"colab-df-buttons\">\n",
              "\n",
              "  <div class=\"colab-df-container\">\n",
              "    <button class=\"colab-df-convert\" onclick=\"convertToInteractive('df-2e8faa1b-b140-4ec9-979f-1f17a675f6bb')\"\n",
              "            title=\"Convert this dataframe to an interactive table.\"\n",
              "            style=\"display:none;\">\n",
              "\n",
              "  <svg xmlns=\"http://www.w3.org/2000/svg\" height=\"24px\" viewBox=\"0 -960 960 960\">\n",
              "    <path d=\"M120-120v-720h720v720H120Zm60-500h600v-160H180v160Zm220 220h160v-160H400v160Zm0 220h160v-160H400v160ZM180-400h160v-160H180v160Zm440 0h160v-160H620v160ZM180-180h160v-160H180v160Zm440 0h160v-160H620v160Z\"/>\n",
              "  </svg>\n",
              "    </button>\n",
              "\n",
              "  <style>\n",
              "    .colab-df-container {\n",
              "      display:flex;\n",
              "      gap: 12px;\n",
              "    }\n",
              "\n",
              "    .colab-df-convert {\n",
              "      background-color: #E8F0FE;\n",
              "      border: none;\n",
              "      border-radius: 50%;\n",
              "      cursor: pointer;\n",
              "      display: none;\n",
              "      fill: #1967D2;\n",
              "      height: 32px;\n",
              "      padding: 0 0 0 0;\n",
              "      width: 32px;\n",
              "    }\n",
              "\n",
              "    .colab-df-convert:hover {\n",
              "      background-color: #E2EBFA;\n",
              "      box-shadow: 0px 1px 2px rgba(60, 64, 67, 0.3), 0px 1px 3px 1px rgba(60, 64, 67, 0.15);\n",
              "      fill: #174EA6;\n",
              "    }\n",
              "\n",
              "    .colab-df-buttons div {\n",
              "      margin-bottom: 4px;\n",
              "    }\n",
              "\n",
              "    [theme=dark] .colab-df-convert {\n",
              "      background-color: #3B4455;\n",
              "      fill: #D2E3FC;\n",
              "    }\n",
              "\n",
              "    [theme=dark] .colab-df-convert:hover {\n",
              "      background-color: #434B5C;\n",
              "      box-shadow: 0px 1px 3px 1px rgba(0, 0, 0, 0.15);\n",
              "      filter: drop-shadow(0px 1px 2px rgba(0, 0, 0, 0.3));\n",
              "      fill: #FFFFFF;\n",
              "    }\n",
              "  </style>\n",
              "\n",
              "    <script>\n",
              "      const buttonEl =\n",
              "        document.querySelector('#df-2e8faa1b-b140-4ec9-979f-1f17a675f6bb button.colab-df-convert');\n",
              "      buttonEl.style.display =\n",
              "        google.colab.kernel.accessAllowed ? 'block' : 'none';\n",
              "\n",
              "      async function convertToInteractive(key) {\n",
              "        const element = document.querySelector('#df-2e8faa1b-b140-4ec9-979f-1f17a675f6bb');\n",
              "        const dataTable =\n",
              "          await google.colab.kernel.invokeFunction('convertToInteractive',\n",
              "                                                    [key], {});\n",
              "        if (!dataTable) return;\n",
              "\n",
              "        const docLinkHtml = 'Like what you see? Visit the ' +\n",
              "          '<a target=\"_blank\" href=https://colab.research.google.com/notebooks/data_table.ipynb>data table notebook</a>'\n",
              "          + ' to learn more about interactive tables.';\n",
              "        element.innerHTML = '';\n",
              "        dataTable['output_type'] = 'display_data';\n",
              "        await google.colab.output.renderOutput(dataTable, element);\n",
              "        const docLink = document.createElement('div');\n",
              "        docLink.innerHTML = docLinkHtml;\n",
              "        element.appendChild(docLink);\n",
              "      }\n",
              "    </script>\n",
              "  </div>\n",
              "\n",
              "\n",
              "<div id=\"df-e0ce5073-1141-4942-8cd6-3ff87733f19e\">\n",
              "  <button class=\"colab-df-quickchart\" onclick=\"quickchart('df-e0ce5073-1141-4942-8cd6-3ff87733f19e')\"\n",
              "            title=\"Suggest charts\"\n",
              "            style=\"display:none;\">\n",
              "\n",
              "<svg xmlns=\"http://www.w3.org/2000/svg\" height=\"24px\"viewBox=\"0 0 24 24\"\n",
              "     width=\"24px\">\n",
              "    <g>\n",
              "        <path d=\"M19 3H5c-1.1 0-2 .9-2 2v14c0 1.1.9 2 2 2h14c1.1 0 2-.9 2-2V5c0-1.1-.9-2-2-2zM9 17H7v-7h2v7zm4 0h-2V7h2v10zm4 0h-2v-4h2v4z\"/>\n",
              "    </g>\n",
              "</svg>\n",
              "  </button>\n",
              "\n",
              "<style>\n",
              "  .colab-df-quickchart {\n",
              "      --bg-color: #E8F0FE;\n",
              "      --fill-color: #1967D2;\n",
              "      --hover-bg-color: #E2EBFA;\n",
              "      --hover-fill-color: #174EA6;\n",
              "      --disabled-fill-color: #AAA;\n",
              "      --disabled-bg-color: #DDD;\n",
              "  }\n",
              "\n",
              "  [theme=dark] .colab-df-quickchart {\n",
              "      --bg-color: #3B4455;\n",
              "      --fill-color: #D2E3FC;\n",
              "      --hover-bg-color: #434B5C;\n",
              "      --hover-fill-color: #FFFFFF;\n",
              "      --disabled-bg-color: #3B4455;\n",
              "      --disabled-fill-color: #666;\n",
              "  }\n",
              "\n",
              "  .colab-df-quickchart {\n",
              "    background-color: var(--bg-color);\n",
              "    border: none;\n",
              "    border-radius: 50%;\n",
              "    cursor: pointer;\n",
              "    display: none;\n",
              "    fill: var(--fill-color);\n",
              "    height: 32px;\n",
              "    padding: 0;\n",
              "    width: 32px;\n",
              "  }\n",
              "\n",
              "  .colab-df-quickchart:hover {\n",
              "    background-color: var(--hover-bg-color);\n",
              "    box-shadow: 0 1px 2px rgba(60, 64, 67, 0.3), 0 1px 3px 1px rgba(60, 64, 67, 0.15);\n",
              "    fill: var(--button-hover-fill-color);\n",
              "  }\n",
              "\n",
              "  .colab-df-quickchart-complete:disabled,\n",
              "  .colab-df-quickchart-complete:disabled:hover {\n",
              "    background-color: var(--disabled-bg-color);\n",
              "    fill: var(--disabled-fill-color);\n",
              "    box-shadow: none;\n",
              "  }\n",
              "\n",
              "  .colab-df-spinner {\n",
              "    border: 2px solid var(--fill-color);\n",
              "    border-color: transparent;\n",
              "    border-bottom-color: var(--fill-color);\n",
              "    animation:\n",
              "      spin 1s steps(1) infinite;\n",
              "  }\n",
              "\n",
              "  @keyframes spin {\n",
              "    0% {\n",
              "      border-color: transparent;\n",
              "      border-bottom-color: var(--fill-color);\n",
              "      border-left-color: var(--fill-color);\n",
              "    }\n",
              "    20% {\n",
              "      border-color: transparent;\n",
              "      border-left-color: var(--fill-color);\n",
              "      border-top-color: var(--fill-color);\n",
              "    }\n",
              "    30% {\n",
              "      border-color: transparent;\n",
              "      border-left-color: var(--fill-color);\n",
              "      border-top-color: var(--fill-color);\n",
              "      border-right-color: var(--fill-color);\n",
              "    }\n",
              "    40% {\n",
              "      border-color: transparent;\n",
              "      border-right-color: var(--fill-color);\n",
              "      border-top-color: var(--fill-color);\n",
              "    }\n",
              "    60% {\n",
              "      border-color: transparent;\n",
              "      border-right-color: var(--fill-color);\n",
              "    }\n",
              "    80% {\n",
              "      border-color: transparent;\n",
              "      border-right-color: var(--fill-color);\n",
              "      border-bottom-color: var(--fill-color);\n",
              "    }\n",
              "    90% {\n",
              "      border-color: transparent;\n",
              "      border-bottom-color: var(--fill-color);\n",
              "    }\n",
              "  }\n",
              "</style>\n",
              "\n",
              "  <script>\n",
              "    async function quickchart(key) {\n",
              "      const quickchartButtonEl =\n",
              "        document.querySelector('#' + key + ' button');\n",
              "      quickchartButtonEl.disabled = true;  // To prevent multiple clicks.\n",
              "      quickchartButtonEl.classList.add('colab-df-spinner');\n",
              "      try {\n",
              "        const charts = await google.colab.kernel.invokeFunction(\n",
              "            'suggestCharts', [key], {});\n",
              "      } catch (error) {\n",
              "        console.error('Error during call to suggestCharts:', error);\n",
              "      }\n",
              "      quickchartButtonEl.classList.remove('colab-df-spinner');\n",
              "      quickchartButtonEl.classList.add('colab-df-quickchart-complete');\n",
              "    }\n",
              "    (() => {\n",
              "      let quickchartButtonEl =\n",
              "        document.querySelector('#df-e0ce5073-1141-4942-8cd6-3ff87733f19e button');\n",
              "      quickchartButtonEl.style.display =\n",
              "        google.colab.kernel.accessAllowed ? 'block' : 'none';\n",
              "    })();\n",
              "  </script>\n",
              "</div>\n",
              "\n",
              "    </div>\n",
              "  </div>\n"
            ],
            "application/vnd.google.colaboratory.intrinsic+json": {
              "type": "dataframe",
              "summary": "{\n  \"name\": \"df[df['label'] == 'B-ADE']\",\n  \"rows\": 956,\n  \"fields\": [\n    {\n      \"column\": \"text_file_name\",\n      \"properties\": {\n        \"dtype\": \"category\",\n        \"num_unique_values\": 237,\n        \"samples\": [\n          \"data/training_20180910/104468.txt\",\n          \"data/training_20180910/123475.txt\",\n          \"data/training_20180910/103142.txt\"\n        ],\n        \"semantic_type\": \"\",\n        \"description\": \"\"\n      }\n    },\n    {\n      \"column\": \"sentence_line_number\",\n      \"properties\": {\n        \"dtype\": \"number\",\n        \"std\": 148,\n        \"min\": 10,\n        \"max\": 1052,\n        \"num_unique_values\": 388,\n        \"samples\": [\n          34,\n          284,\n          213\n        ],\n        \"semantic_type\": \"\",\n        \"description\": \"\"\n      }\n    },\n    {\n      \"column\": \"sentence_word_index\",\n      \"properties\": {\n        \"dtype\": \"number\",\n        \"std\": 4,\n        \"min\": 0,\n        \"max\": 31,\n        \"num_unique_values\": 25,\n        \"samples\": [\n          6,\n          19,\n          3\n        ],\n        \"semantic_type\": \"\",\n        \"description\": \"\"\n      }\n    },\n    {\n      \"column\": \"sentence_seq\",\n      \"properties\": {\n        \"dtype\": \"category\",\n        \"num_unique_values\": 338,\n        \"samples\": [\n          \"T241\",\n          \"T253\",\n          \"T23\"\n        ],\n        \"semantic_type\": \"\",\n        \"description\": \"\"\n      }\n    },\n    {\n      \"column\": \"start_token\",\n      \"properties\": {\n        \"dtype\": \"number\",\n        \"std\": 6147,\n        \"min\": 266,\n        \"max\": 41838,\n        \"num_unique_values\": 935,\n        \"samples\": [\n          1862,\n          826,\n          9743\n        ],\n        \"semantic_type\": \"\",\n        \"description\": \"\"\n      }\n    },\n    {\n      \"column\": \"end_token\",\n      \"properties\": {\n        \"dtype\": \"number\",\n        \"std\": 6147,\n        \"min\": 277,\n        \"max\": 41843,\n        \"num_unique_values\": 928,\n        \"samples\": [\n          8162,\n          13639,\n          13327\n        ],\n        \"semantic_type\": \"\",\n        \"description\": \"\"\n      }\n    },\n    {\n      \"column\": \"original_word\",\n      \"properties\": {\n        \"dtype\": \"category\",\n        \"num_unique_values\": 418,\n        \"samples\": [\n          \"cardiac\",\n          \"UGIB\",\n          \"sedative\"\n        ],\n        \"semantic_type\": \"\",\n        \"description\": \"\"\n      }\n    },\n    {\n      \"column\": \"word\",\n      \"properties\": {\n        \"dtype\": \"category\",\n        \"num_unique_values\": 418,\n        \"samples\": [\n          \"cardiac\",\n          \"UGIB\",\n          \"sedative\"\n        ],\n        \"semantic_type\": \"\",\n        \"description\": \"\"\n      }\n    },\n    {\n      \"column\": \"label\",\n      \"properties\": {\n        \"dtype\": \"category\",\n        \"num_unique_values\": 1,\n        \"samples\": [\n          \"B-ADE\"\n        ],\n        \"semantic_type\": \"\",\n        \"description\": \"\"\n      }\n    }\n  ]\n}"
            }
          },
          "metadata": {},
          "execution_count": 12
        }
      ],
      "source": [
        "df[df['label'] == 'B-ADE']"
      ]
    },
    {
      "cell_type": "code",
      "execution_count": null,
      "metadata": {
        "id": "G4ukPCa0-SG6"
      },
      "outputs": [],
      "source": [
        "def formatted_df(df):\n",
        "  df['sentence'] = df[[\n",
        "      'text_file_name',\n",
        "      'sentence_line_number',\n",
        "      'original_word',\n",
        "      'label']].groupby(\n",
        "          ['text_file_name', 'sentence_line_number'])['original_word'].transform(lambda x: ' '.join(x))\n",
        "\n",
        "  df['word_labels'] = df[[\n",
        "      'text_file_name',\n",
        "      'sentence_line_number',\n",
        "      'original_word',\n",
        "      'label']].groupby(\n",
        "          ['text_file_name', 'sentence_line_number'])['label'].transform(lambda x: ','.join(x))\n",
        "\n",
        "  return df"
      ]
    },
    {
      "cell_type": "code",
      "execution_count": null,
      "metadata": {
        "id": "1KfHxKgI-d7M"
      },
      "outputs": [],
      "source": [
        "df = formatted_df(df)\n",
        "df_test = formatted_df(test)"
      ]
    },
    {
      "cell_type": "code",
      "execution_count": null,
      "metadata": {
        "id": "xxe_t7P5Ae-V"
      },
      "outputs": [],
      "source": [
        "def sentence_level_data_fn(df):\n",
        "  sentence_level_data = df[[\"text_file_name\", \"sentence_line_number\", \"sentence\", \"word_labels\"]].drop_duplicates().reset_index(drop=True)\n",
        "  return sentence_level_data\n",
        "\n",
        "sentence_level_train = sentence_level_data_fn(df)\n",
        "sentence_level_test = sentence_level_data_fn(df_test)"
      ]
    },
    {
      "cell_type": "code",
      "execution_count": null,
      "metadata": {
        "colab": {
          "base_uri": "https://localhost:8080/",
          "height": 206
        },
        "id": "XpGwter59c47",
        "outputId": "0a64cf4c-2678-49c0-c5a5-007a588744fc"
      },
      "outputs": [
        {
          "output_type": "execute_result",
          "data": {
            "text/plain": [
              "                      text_file_name  sentence_line_number  \\\n",
              "0  data/training_20180910/110727.txt                     1   \n",
              "1  data/training_20180910/110727.txt                     3   \n",
              "2  data/training_20180910/110727.txt                     5   \n",
              "3  data/training_20180910/110727.txt                     7   \n",
              "4  data/training_20180910/110727.txt                     8   \n",
              "\n",
              "                                            sentence  \\\n",
              "0  Admission Date : [ * * 2202 - 1 - 8 * * ] Disc...   \n",
              "1  Date of Birth : [ * * 2163 - 9 - 18 * * ] Sex : M   \n",
              "2                                 Service : MEDICINE   \n",
              "3                                        Allergies :   \n",
              "4                        Keflex / Orencia / Remicade   \n",
              "\n",
              "                                         word_labels  \n",
              "0  O,O,O,O,O,O,O,O,O,O,O,O,O,O,O,O,O,O,O,O,O,O,O,...  \n",
              "1                O,O,O,O,O,O,O,O,O,O,O,O,O,O,O,O,O,O  \n",
              "2                                              O,O,O  \n",
              "3                                                O,O  \n",
              "4                           B-Drug,O,B-Drug,O,B-Drug  "
            ],
            "text/html": [
              "\n",
              "  <div id=\"df-5232eb9f-269d-43e4-8463-98d10dc6e28f\" class=\"colab-df-container\">\n",
              "    <div>\n",
              "<style scoped>\n",
              "    .dataframe tbody tr th:only-of-type {\n",
              "        vertical-align: middle;\n",
              "    }\n",
              "\n",
              "    .dataframe tbody tr th {\n",
              "        vertical-align: top;\n",
              "    }\n",
              "\n",
              "    .dataframe thead th {\n",
              "        text-align: right;\n",
              "    }\n",
              "</style>\n",
              "<table border=\"1\" class=\"dataframe\">\n",
              "  <thead>\n",
              "    <tr style=\"text-align: right;\">\n",
              "      <th></th>\n",
              "      <th>text_file_name</th>\n",
              "      <th>sentence_line_number</th>\n",
              "      <th>sentence</th>\n",
              "      <th>word_labels</th>\n",
              "    </tr>\n",
              "  </thead>\n",
              "  <tbody>\n",
              "    <tr>\n",
              "      <th>0</th>\n",
              "      <td>data/training_20180910/110727.txt</td>\n",
              "      <td>1</td>\n",
              "      <td>Admission Date : [ * * 2202 - 1 - 8 * * ] Disc...</td>\n",
              "      <td>O,O,O,O,O,O,O,O,O,O,O,O,O,O,O,O,O,O,O,O,O,O,O,...</td>\n",
              "    </tr>\n",
              "    <tr>\n",
              "      <th>1</th>\n",
              "      <td>data/training_20180910/110727.txt</td>\n",
              "      <td>3</td>\n",
              "      <td>Date of Birth : [ * * 2163 - 9 - 18 * * ] Sex : M</td>\n",
              "      <td>O,O,O,O,O,O,O,O,O,O,O,O,O,O,O,O,O,O</td>\n",
              "    </tr>\n",
              "    <tr>\n",
              "      <th>2</th>\n",
              "      <td>data/training_20180910/110727.txt</td>\n",
              "      <td>5</td>\n",
              "      <td>Service : MEDICINE</td>\n",
              "      <td>O,O,O</td>\n",
              "    </tr>\n",
              "    <tr>\n",
              "      <th>3</th>\n",
              "      <td>data/training_20180910/110727.txt</td>\n",
              "      <td>7</td>\n",
              "      <td>Allergies :</td>\n",
              "      <td>O,O</td>\n",
              "    </tr>\n",
              "    <tr>\n",
              "      <th>4</th>\n",
              "      <td>data/training_20180910/110727.txt</td>\n",
              "      <td>8</td>\n",
              "      <td>Keflex / Orencia / Remicade</td>\n",
              "      <td>B-Drug,O,B-Drug,O,B-Drug</td>\n",
              "    </tr>\n",
              "  </tbody>\n",
              "</table>\n",
              "</div>\n",
              "    <div class=\"colab-df-buttons\">\n",
              "\n",
              "  <div class=\"colab-df-container\">\n",
              "    <button class=\"colab-df-convert\" onclick=\"convertToInteractive('df-5232eb9f-269d-43e4-8463-98d10dc6e28f')\"\n",
              "            title=\"Convert this dataframe to an interactive table.\"\n",
              "            style=\"display:none;\">\n",
              "\n",
              "  <svg xmlns=\"http://www.w3.org/2000/svg\" height=\"24px\" viewBox=\"0 -960 960 960\">\n",
              "    <path d=\"M120-120v-720h720v720H120Zm60-500h600v-160H180v160Zm220 220h160v-160H400v160Zm0 220h160v-160H400v160ZM180-400h160v-160H180v160Zm440 0h160v-160H620v160ZM180-180h160v-160H180v160Zm440 0h160v-160H620v160Z\"/>\n",
              "  </svg>\n",
              "    </button>\n",
              "\n",
              "  <style>\n",
              "    .colab-df-container {\n",
              "      display:flex;\n",
              "      gap: 12px;\n",
              "    }\n",
              "\n",
              "    .colab-df-convert {\n",
              "      background-color: #E8F0FE;\n",
              "      border: none;\n",
              "      border-radius: 50%;\n",
              "      cursor: pointer;\n",
              "      display: none;\n",
              "      fill: #1967D2;\n",
              "      height: 32px;\n",
              "      padding: 0 0 0 0;\n",
              "      width: 32px;\n",
              "    }\n",
              "\n",
              "    .colab-df-convert:hover {\n",
              "      background-color: #E2EBFA;\n",
              "      box-shadow: 0px 1px 2px rgba(60, 64, 67, 0.3), 0px 1px 3px 1px rgba(60, 64, 67, 0.15);\n",
              "      fill: #174EA6;\n",
              "    }\n",
              "\n",
              "    .colab-df-buttons div {\n",
              "      margin-bottom: 4px;\n",
              "    }\n",
              "\n",
              "    [theme=dark] .colab-df-convert {\n",
              "      background-color: #3B4455;\n",
              "      fill: #D2E3FC;\n",
              "    }\n",
              "\n",
              "    [theme=dark] .colab-df-convert:hover {\n",
              "      background-color: #434B5C;\n",
              "      box-shadow: 0px 1px 3px 1px rgba(0, 0, 0, 0.15);\n",
              "      filter: drop-shadow(0px 1px 2px rgba(0, 0, 0, 0.3));\n",
              "      fill: #FFFFFF;\n",
              "    }\n",
              "  </style>\n",
              "\n",
              "    <script>\n",
              "      const buttonEl =\n",
              "        document.querySelector('#df-5232eb9f-269d-43e4-8463-98d10dc6e28f button.colab-df-convert');\n",
              "      buttonEl.style.display =\n",
              "        google.colab.kernel.accessAllowed ? 'block' : 'none';\n",
              "\n",
              "      async function convertToInteractive(key) {\n",
              "        const element = document.querySelector('#df-5232eb9f-269d-43e4-8463-98d10dc6e28f');\n",
              "        const dataTable =\n",
              "          await google.colab.kernel.invokeFunction('convertToInteractive',\n",
              "                                                    [key], {});\n",
              "        if (!dataTable) return;\n",
              "\n",
              "        const docLinkHtml = 'Like what you see? Visit the ' +\n",
              "          '<a target=\"_blank\" href=https://colab.research.google.com/notebooks/data_table.ipynb>data table notebook</a>'\n",
              "          + ' to learn more about interactive tables.';\n",
              "        element.innerHTML = '';\n",
              "        dataTable['output_type'] = 'display_data';\n",
              "        await google.colab.output.renderOutput(dataTable, element);\n",
              "        const docLink = document.createElement('div');\n",
              "        docLink.innerHTML = docLinkHtml;\n",
              "        element.appendChild(docLink);\n",
              "      }\n",
              "    </script>\n",
              "  </div>\n",
              "\n",
              "\n",
              "<div id=\"df-28282555-3cb7-4510-b8cf-dd8caea43963\">\n",
              "  <button class=\"colab-df-quickchart\" onclick=\"quickchart('df-28282555-3cb7-4510-b8cf-dd8caea43963')\"\n",
              "            title=\"Suggest charts\"\n",
              "            style=\"display:none;\">\n",
              "\n",
              "<svg xmlns=\"http://www.w3.org/2000/svg\" height=\"24px\"viewBox=\"0 0 24 24\"\n",
              "     width=\"24px\">\n",
              "    <g>\n",
              "        <path d=\"M19 3H5c-1.1 0-2 .9-2 2v14c0 1.1.9 2 2 2h14c1.1 0 2-.9 2-2V5c0-1.1-.9-2-2-2zM9 17H7v-7h2v7zm4 0h-2V7h2v10zm4 0h-2v-4h2v4z\"/>\n",
              "    </g>\n",
              "</svg>\n",
              "  </button>\n",
              "\n",
              "<style>\n",
              "  .colab-df-quickchart {\n",
              "      --bg-color: #E8F0FE;\n",
              "      --fill-color: #1967D2;\n",
              "      --hover-bg-color: #E2EBFA;\n",
              "      --hover-fill-color: #174EA6;\n",
              "      --disabled-fill-color: #AAA;\n",
              "      --disabled-bg-color: #DDD;\n",
              "  }\n",
              "\n",
              "  [theme=dark] .colab-df-quickchart {\n",
              "      --bg-color: #3B4455;\n",
              "      --fill-color: #D2E3FC;\n",
              "      --hover-bg-color: #434B5C;\n",
              "      --hover-fill-color: #FFFFFF;\n",
              "      --disabled-bg-color: #3B4455;\n",
              "      --disabled-fill-color: #666;\n",
              "  }\n",
              "\n",
              "  .colab-df-quickchart {\n",
              "    background-color: var(--bg-color);\n",
              "    border: none;\n",
              "    border-radius: 50%;\n",
              "    cursor: pointer;\n",
              "    display: none;\n",
              "    fill: var(--fill-color);\n",
              "    height: 32px;\n",
              "    padding: 0;\n",
              "    width: 32px;\n",
              "  }\n",
              "\n",
              "  .colab-df-quickchart:hover {\n",
              "    background-color: var(--hover-bg-color);\n",
              "    box-shadow: 0 1px 2px rgba(60, 64, 67, 0.3), 0 1px 3px 1px rgba(60, 64, 67, 0.15);\n",
              "    fill: var(--button-hover-fill-color);\n",
              "  }\n",
              "\n",
              "  .colab-df-quickchart-complete:disabled,\n",
              "  .colab-df-quickchart-complete:disabled:hover {\n",
              "    background-color: var(--disabled-bg-color);\n",
              "    fill: var(--disabled-fill-color);\n",
              "    box-shadow: none;\n",
              "  }\n",
              "\n",
              "  .colab-df-spinner {\n",
              "    border: 2px solid var(--fill-color);\n",
              "    border-color: transparent;\n",
              "    border-bottom-color: var(--fill-color);\n",
              "    animation:\n",
              "      spin 1s steps(1) infinite;\n",
              "  }\n",
              "\n",
              "  @keyframes spin {\n",
              "    0% {\n",
              "      border-color: transparent;\n",
              "      border-bottom-color: var(--fill-color);\n",
              "      border-left-color: var(--fill-color);\n",
              "    }\n",
              "    20% {\n",
              "      border-color: transparent;\n",
              "      border-left-color: var(--fill-color);\n",
              "      border-top-color: var(--fill-color);\n",
              "    }\n",
              "    30% {\n",
              "      border-color: transparent;\n",
              "      border-left-color: var(--fill-color);\n",
              "      border-top-color: var(--fill-color);\n",
              "      border-right-color: var(--fill-color);\n",
              "    }\n",
              "    40% {\n",
              "      border-color: transparent;\n",
              "      border-right-color: var(--fill-color);\n",
              "      border-top-color: var(--fill-color);\n",
              "    }\n",
              "    60% {\n",
              "      border-color: transparent;\n",
              "      border-right-color: var(--fill-color);\n",
              "    }\n",
              "    80% {\n",
              "      border-color: transparent;\n",
              "      border-right-color: var(--fill-color);\n",
              "      border-bottom-color: var(--fill-color);\n",
              "    }\n",
              "    90% {\n",
              "      border-color: transparent;\n",
              "      border-bottom-color: var(--fill-color);\n",
              "    }\n",
              "  }\n",
              "</style>\n",
              "\n",
              "  <script>\n",
              "    async function quickchart(key) {\n",
              "      const quickchartButtonEl =\n",
              "        document.querySelector('#' + key + ' button');\n",
              "      quickchartButtonEl.disabled = true;  // To prevent multiple clicks.\n",
              "      quickchartButtonEl.classList.add('colab-df-spinner');\n",
              "      try {\n",
              "        const charts = await google.colab.kernel.invokeFunction(\n",
              "            'suggestCharts', [key], {});\n",
              "      } catch (error) {\n",
              "        console.error('Error during call to suggestCharts:', error);\n",
              "      }\n",
              "      quickchartButtonEl.classList.remove('colab-df-spinner');\n",
              "      quickchartButtonEl.classList.add('colab-df-quickchart-complete');\n",
              "    }\n",
              "    (() => {\n",
              "      let quickchartButtonEl =\n",
              "        document.querySelector('#df-28282555-3cb7-4510-b8cf-dd8caea43963 button');\n",
              "      quickchartButtonEl.style.display =\n",
              "        google.colab.kernel.accessAllowed ? 'block' : 'none';\n",
              "    })();\n",
              "  </script>\n",
              "</div>\n",
              "\n",
              "    </div>\n",
              "  </div>\n"
            ],
            "application/vnd.google.colaboratory.intrinsic+json": {
              "type": "dataframe",
              "variable_name": "sentence_level_data",
              "summary": "{\n  \"name\": \"sentence_level_data\",\n  \"rows\": 83321,\n  \"fields\": [\n    {\n      \"column\": \"text_file_name\",\n      \"properties\": {\n        \"dtype\": \"category\",\n        \"num_unique_values\": 303,\n        \"samples\": [\n          \"data/training_20180910/125867.txt\",\n          \"data/training_20180910/102173.txt\",\n          \"data/training_20180910/186876.txt\"\n        ],\n        \"semantic_type\": \"\",\n        \"description\": \"\"\n      }\n    },\n    {\n      \"column\": \"sentence_line_number\",\n      \"properties\": {\n        \"dtype\": \"number\",\n        \"std\": 140,\n        \"min\": 1,\n        \"max\": 1102,\n        \"num_unique_values\": 1053,\n        \"samples\": [\n          427,\n          111,\n          1010\n        ],\n        \"semantic_type\": \"\",\n        \"description\": \"\"\n      }\n    },\n    {\n      \"column\": \"sentence\",\n      \"properties\": {\n        \"dtype\": \"string\",\n        \"num_unique_values\": 66634,\n        \"samples\": [\n          \"[ * * Hospital1 * * ] . She had an LP done on [ * * 10 - 1 * * ] , which was positive for\",\n          \"Marrow clot section is similar to the biopsy .\",\n          \"Delirium secondary to medications\"\n        ],\n        \"semantic_type\": \"\",\n        \"description\": \"\"\n      }\n    },\n    {\n      \"column\": \"word_labels\",\n      \"properties\": {\n        \"dtype\": \"category\",\n        \"num_unique_values\": 8589,\n        \"samples\": [\n          \"B-Strength,O,O,O,O,O,O,O,O,O,O,O,O\",\n          \"O,O,O,B-Drug,O,B-Frequency,I-Frequency,I-Frequency,I-Frequency,B-Drug,B-Form\",\n          \"O,O,O,O,O,O,B-Drug,O,O,O\"\n        ],\n        \"semantic_type\": \"\",\n        \"description\": \"\"\n      }\n    }\n  ]\n}"
            }
          },
          "metadata": {},
          "execution_count": 17
        }
      ],
      "source": [
        "sentence_level_data = sentence_level_train[[\"text_file_name\", \"sentence_line_number\", \"sentence\", \"word_labels\"]].drop_duplicates().reset_index(drop=True)\n",
        "sentence_level_test = sentence_level_test[[\"text_file_name\",\"sentence_line_number\",  \"sentence\", \"word_labels\"]].drop_duplicates().reset_index(drop=True)\n",
        "\n",
        "sentence_level_data.head()"
      ]
    },
    {
      "cell_type": "code",
      "source": [
        "len(sentence_level_data)"
      ],
      "metadata": {
        "colab": {
          "base_uri": "https://localhost:8080/"
        },
        "id": "7RtPA5HtAzAl",
        "outputId": "d807c1fd-eb1b-4038-e72a-8ee1cbf6ca24"
      },
      "execution_count": null,
      "outputs": [
        {
          "output_type": "execute_result",
          "data": {
            "text/plain": [
              "83321"
            ]
          },
          "metadata": {},
          "execution_count": 18
        }
      ]
    },
    {
      "cell_type": "code",
      "execution_count": null,
      "metadata": {
        "colab": {
          "base_uri": "https://localhost:8080/",
          "height": 35
        },
        "id": "CWVeV6sXM9ct",
        "outputId": "13916aa4-e30d-4607-ce2b-803ea5dd0234"
      },
      "outputs": [
        {
          "output_type": "execute_result",
          "data": {
            "text/plain": [
              "'your chemistries .'"
            ],
            "application/vnd.google.colaboratory.intrinsic+json": {
              "type": "string"
            }
          },
          "metadata": {},
          "execution_count": 19
        }
      ],
      "source": [
        "sentence_level_data.iloc[7020].sentence"
      ]
    },
    {
      "cell_type": "code",
      "execution_count": null,
      "metadata": {
        "colab": {
          "base_uri": "https://localhost:8080/",
          "height": 35
        },
        "id": "SQrlUXdUNDaj",
        "outputId": "cb1282ae-6238-49d3-9f73-b59169f7f903"
      },
      "outputs": [
        {
          "output_type": "execute_result",
          "data": {
            "text/plain": [
              "'O,O,O'"
            ],
            "application/vnd.google.colaboratory.intrinsic+json": {
              "type": "string"
            }
          },
          "metadata": {},
          "execution_count": 20
        }
      ],
      "source": [
        "sentence_level_data.iloc[7020].word_labels"
      ]
    },
    {
      "cell_type": "code",
      "execution_count": null,
      "metadata": {
        "colab": {
          "base_uri": "https://localhost:8080/"
        },
        "id": "KRFGL3a1NGUI",
        "outputId": "65a763cf-20c1-4e91-d99f-2b4a0b6b178b"
      },
      "outputs": [
        {
          "output_type": "stream",
          "name": "stdout",
          "text": [
            "fx on x - ray . This was thought to be a psoriatic arthritis flare ,\n",
            "O,O,O,O,O,O,O,O,O,O,O,O,O,O,O,O\n"
          ]
        }
      ],
      "source": [
        "print(sentence_level_data.iloc[21].sentence)\n",
        "print(sentence_level_data.iloc[21].word_labels)"
      ]
    },
    {
      "cell_type": "markdown",
      "metadata": {
        "id": "D1UvdlPAM67e"
      },
      "source": [
        "#### Some sentences are really short. *Try* concatenating sentence to get longer inputs"
      ]
    },
    {
      "cell_type": "code",
      "execution_count": null,
      "metadata": {
        "id": "rMGe3A5OJ_Pb"
      },
      "outputs": [],
      "source": [
        "df = sentence_level_data.sort_values(by=['text_file_name', 'sentence_line_number'])\n",
        "df_test = sentence_level_test.sort_values(by=['text_file_name', 'sentence_line_number'])\n",
        "\n",
        "def cs(dataframe):\n",
        "    processed_data_list = []\n",
        "\n",
        "    # Group by 'text_file_name'\n",
        "    grouped = dataframe.groupby(\"text_file_name\")\n",
        "\n",
        "    for name, group in grouped:\n",
        "        sentences = group['sentence'].tolist()\n",
        "        # Labels are already strings, so we take them as is\n",
        "        labels = group['word_labels'].tolist()\n",
        "\n",
        "        for i in range(0, len(sentences), 5):\n",
        "            end_index = min(i + 5, len(sentences))\n",
        "            current_batch = sentences[i:end_index]\n",
        "            current_labels = labels[i:end_index]\n",
        "\n",
        "            concatenated_sentence = \" \".join(current_batch)\n",
        "            # Concatenate labels as they are, assuming they're correctly formatted strings\n",
        "            concatenated_label = \",\".join(current_labels)\n",
        "\n",
        "            processed_data_list.append({\n",
        "                \"text_file_name\": name,\n",
        "                \"sentences\": concatenated_sentence,\n",
        "                \"labels\": concatenated_label\n",
        "            })\n",
        "\n",
        "    processed_data = pd.DataFrame(processed_data_list)\n",
        "    return processed_data\n",
        "\n",
        "\n",
        "# Correcting the function to properly handle labels\n",
        "concatenated_df = cs(df)\n",
        "concatenated_test= cs(df_test)\n",
        "\n",
        "concatenated_df"
      ]
    },
    {
      "cell_type": "code",
      "execution_count": null,
      "metadata": {
        "colab": {
          "base_uri": "https://localhost:8080/",
          "height": 71
        },
        "id": "Navmg0_pEA-q",
        "outputId": "e30755d8-efb1-4cf1-e6d8-54cac573d8ba"
      },
      "outputs": [
        {
          "output_type": "execute_result",
          "data": {
            "text/plain": [
              "\"could be due to patient's liver dysfunction/third spacing from CHF . If cholecystitis is of clinical concern , HIDA scan can be performed provided the total bilirubin is not elevated . 3 ) Hyperdense renal cortex in left lower quadrant transplanted kidney . Findings are most likely due to chronic rejection or\""
            ],
            "application/vnd.google.colaboratory.intrinsic+json": {
              "type": "string"
            }
          },
          "metadata": {},
          "execution_count": 27
        }
      ],
      "source": [
        "# make sure test is formatted same way\n",
        "concatenated_df.iloc[301].sentences"
      ]
    },
    {
      "cell_type": "markdown",
      "source": [],
      "metadata": {
        "id": "WyIfCzGfkl5X"
      }
    },
    {
      "cell_type": "code",
      "execution_count": null,
      "metadata": {
        "colab": {
          "base_uri": "https://localhost:8080/",
          "height": 35
        },
        "id": "3wkFLzNjODM6",
        "outputId": "1c8c513c-0125-47c8-ddc6-d47bc7b9dfa8"
      },
      "outputs": [
        {
          "output_type": "execute_result",
          "data": {
            "text/plain": [
              "'O,O,O,O,O,O,O,O,O,O,O,O,O,O,O,O,O,O,O,O,O,O,O,O,O,O,O,O,O,O,O,O,O,O,O,O,O,O,O,O,O,O,O,O,O,O,O,O,O,O,O,O'"
            ],
            "application/vnd.google.colaboratory.intrinsic+json": {
              "type": "string"
            }
          },
          "metadata": {},
          "execution_count": 28
        }
      ],
      "source": [
        "concatenated_df.iloc[301].labels"
      ]
    },
    {
      "cell_type": "code",
      "execution_count": null,
      "metadata": {
        "id": "9a4wW-yFPLAo"
      },
      "outputs": [],
      "source": [
        "def contains_ade(labels):\n",
        "    return any('ADE' in label for label in labels.split(','))\n",
        "\n",
        "ade_mask = concatenated_df['labels'].apply(contains_ade)\n",
        "\n",
        "# Use the mask to filter the DataFrame\n",
        "ade_sentences_df = concatenated_df[ade_mask]\n",
        "\n",
        "# Display the filtered DataFrame\n",
        "ade_sentences_df"
      ]
    },
    {
      "cell_type": "code",
      "execution_count": null,
      "metadata": {
        "id": "A3En5RdvFr_O"
      },
      "outputs": [],
      "source": [
        "data = concatenated_df.copy()\n",
        "data_test = concatenated_test.copy()\n",
        "\n",
        "data.rename(columns={'concatenated_sentence': 'sentence', 'concatenated_labels': 'word_labels'}, inplace=True)\n",
        "data_test.rename(columns={'concatenated_sentence': 'sentence', 'concatenated_labels': 'word_labels'}, inplace=True)"
      ]
    },
    {
      "cell_type": "markdown",
      "metadata": {
        "id": "oIRanj57PpZu"
      },
      "source": [
        "### training"
      ]
    },
    {
      "cell_type": "code",
      "execution_count": null,
      "metadata": {
        "id": "8pmcdPWk_k5H",
        "colab": {
          "base_uri": "https://localhost:8080/",
          "height": 276,
          "referenced_widgets": [
            "7d780b7cdd4a41f393b79a31486425a0",
            "ade34100038c412da392a4012a6f42d7",
            "2bc21f108dcf4bf684e42cb9e1a39d14",
            "a6a95400b2054b5ba7a08efe7779401e",
            "6c4cfe5247a74dd08f1fa030fb1429d3",
            "a7af13149aed4fc99506c85d20224c2e",
            "f0890863e8104f989ab949c4fbd3534a",
            "9582ad37a5c944e697fe3f280801bb87",
            "c9f6f1ff38844d0196f6b4e12322e42a",
            "d2e47705149442fc9c104a07788b12bc",
            "00c5c4c72e284cd8b57b650f84755e67",
            "dfd8f65d8afd493ca6f97232a1b8885e",
            "a79e046b1c7a44928b32100b0ae9b4c1",
            "fbfd42fcef2a446aaa1e65431577e540",
            "c9a7bd4fdd8a40a9ad69b460688f7324",
            "f1f081b54de24d82a67f7029cdd14d59",
            "81ea0c69e7c640e3b73a012bb281537d",
            "154fc1083e9a47bd801b8820c47bce50",
            "eafe451ae05f4b3c911b66ea94289c64",
            "a49bc8b4ad9f475e9410a71ffab86d8b",
            "f7e81c1c1c794fce8d6ea384dde63b01",
            "e2bbe7e2243c459e92c38030c7fccbd0",
            "ffaa3d43721f48bd9e0a12a19b3fa6fa",
            "c3df9639a4be4062bc1620bebb0fd9ba",
            "f889432cec8147b48066e5f181ecbd3c",
            "30d73953da0541c7b5a0b614843fee2a",
            "6ce426058517422b9764ab936072b04c",
            "888748abf2e042e5ab53bfdc64a9dbb5",
            "897960437cf54691b54038e6dce6a4cb",
            "c15eb2fee2e0491cbf43d07e54923792",
            "ff6cfef69a9042d48a892db8e3038c51",
            "c2a62f1ada6e46ecbd1000e64dd1611c",
            "e2e09eef13d542a2a04366654b64ac63"
          ]
        },
        "outputId": "4264836a-7b1e-4203-e779-4196f7af045d"
      },
      "outputs": [
        {
          "output_type": "stream",
          "name": "stderr",
          "text": [
            "/usr/local/lib/python3.10/dist-packages/huggingface_hub/utils/_token.py:88: UserWarning: \n",
            "The secret `HF_TOKEN` does not exist in your Colab secrets.\n",
            "To authenticate with the Hugging Face Hub, create a token in your settings tab (https://huggingface.co/settings/tokens), set it as secret in your Google Colab and restart your session.\n",
            "You will be able to reuse this secret in all of your notebooks.\n",
            "Please note that authentication is recommended but still optional to access public models or datasets.\n",
            "  warnings.warn(\n"
          ]
        },
        {
          "output_type": "display_data",
          "data": {
            "text/plain": [
              "config.json:   0%|          | 0.00/385 [00:00<?, ?B/s]"
            ],
            "application/vnd.jupyter.widget-view+json": {
              "version_major": 2,
              "version_minor": 0,
              "model_id": "7d780b7cdd4a41f393b79a31486425a0"
            }
          },
          "metadata": {}
        },
        {
          "output_type": "display_data",
          "data": {
            "text/plain": [
              "vocab.txt:   0%|          | 0.00/213k [00:00<?, ?B/s]"
            ],
            "application/vnd.jupyter.widget-view+json": {
              "version_major": 2,
              "version_minor": 0,
              "model_id": "dfd8f65d8afd493ca6f97232a1b8885e"
            }
          },
          "metadata": {}
        },
        {
          "output_type": "display_data",
          "data": {
            "text/plain": [
              "pytorch_model.bin:   0%|          | 0.00/436M [00:00<?, ?B/s]"
            ],
            "application/vnd.jupyter.widget-view+json": {
              "version_major": 2,
              "version_minor": 0,
              "model_id": "ffaa3d43721f48bd9e0a12a19b3fa6fa"
            }
          },
          "metadata": {}
        },
        {
          "output_type": "stream",
          "name": "stderr",
          "text": [
            "Some weights of BertForTokenClassification were not initialized from the model checkpoint at emilyalsentzer/Bio_ClinicalBERT and are newly initialized: ['classifier.bias', 'classifier.weight']\n",
            "You should probably TRAIN this model on a down-stream task to be able to use it for predictions and inference.\n"
          ]
        }
      ],
      "source": [
        "from transformers import AutoTokenizer, AutoModelForTokenClassification\n",
        "\n",
        "model = \"emilyalsentzer/Bio_ClinicalBERT\"\n",
        "tokenizer = AutoTokenizer.from_pretrained(model)\n",
        "model = AutoModelForTokenClassification.from_pretrained(model, num_labels=len(labels_to_ids))"
      ]
    },
    {
      "cell_type": "code",
      "execution_count": null,
      "metadata": {
        "id": "VRjrBQAR9-zc"
      },
      "outputs": [],
      "source": [
        "MAX_LEN = 512\n",
        "TRAIN_BATCH_SIZE = 4\n",
        "VALID_BATCH_SIZE = 2\n",
        "TEST_BATCH_SIZE = 32\n",
        "EPOCHS = 3\n",
        "LEARNING_RATE = 1e-05\n",
        "MAX_GRAD_NORM = 10"
      ]
    },
    {
      "cell_type": "code",
      "execution_count": null,
      "metadata": {
        "id": "rYVPN8o4ve9Q"
      },
      "outputs": [],
      "source": [
        "class dataset(Dataset):\n",
        "  def __init__(self, dataframe, tokenizer, max_len):\n",
        "        self.len = len(dataframe)\n",
        "        self.data = dataframe\n",
        "        self.tokenizer = tokenizer\n",
        "        self.max_len = max_len\n",
        "\n",
        "  def __getitem__(self, index):\n",
        "        # step 1: get the sentence and word labels\n",
        "        sentence = self.data.sentences[index].strip().split()\n",
        "        word_labels = self.data.labels[index].split(\",\")\n",
        "        # sentence_id = self.data.iloc[index]['sentence_id']\n",
        "\n",
        "        # step 2: use tokenizer to encode sentence (includes padding/truncation up to max length)\n",
        "        # BertTokenizerFast provides a handy \"return_offsets_mapping\" functionality for individual tokens\n",
        "        encoding = self.tokenizer(sentence,\n",
        "                             return_offsets_mapping=True,\n",
        "                             padding='max_length',\n",
        "                             is_split_into_words=True,\n",
        "                             truncation=True,\n",
        "                             max_length=self.max_len)\n",
        "\n",
        "        # step 3: create token labels only for first word pieces of each tokenized word\n",
        "        labels = [labels_to_ids[label] for label in word_labels]\n",
        "        # code based on https://huggingface.co/transformers/custom_datasets.html#tok-ner\n",
        "        # create an empty array of -100 of length max_length\n",
        "        encoded_labels = np.ones(len(encoding[\"offset_mapping\"]), dtype=int) * -100\n",
        "\n",
        "        # set only labels whose first offset position is 0 and the second is not 0\n",
        "        i = 0\n",
        "        for idx, mapping in enumerate(encoding[\"offset_mapping\"]):\n",
        "          if mapping[0] == 0 and mapping[1] != 0:\n",
        "            # overwrite label\n",
        "            encoded_labels[idx] = labels[i]\n",
        "            i += 1\n",
        "\n",
        "        # step 4: turn everything into PyTorch tensors\n",
        "        item = {key: torch.as_tensor(val) for key, val in encoding.items()}\n",
        "        item['labels'] = torch.as_tensor(encoded_labels)\n",
        "        item['index'] = index\n",
        "\n",
        "        return item\n",
        "\n",
        "  def __len__(self):\n",
        "        return self.len"
      ]
    },
    {
      "cell_type": "code",
      "source": [
        "from sklearn.model_selection import train_test_split\n",
        "\n",
        "train_dataset, val_dataset = train_test_split(data, test_size=0.2, shuffle=False)\n"
      ],
      "metadata": {
        "id": "C9w4vm1oAZ4K"
      },
      "execution_count": null,
      "outputs": []
    },
    {
      "cell_type": "code",
      "source": [
        "train_dataset.reset_index(drop=True, inplace=True)\n",
        "val_dataset.reset_index(drop=True, inplace=True)"
      ],
      "metadata": {
        "id": "6cwkfORqBDMA"
      },
      "execution_count": null,
      "outputs": []
    },
    {
      "cell_type": "code",
      "source": [
        "train_dataset['sent_id']  = train_dataset.index\n",
        "val_dataset['sent_id']= val_dataset.index\n",
        "data_test['sent_id'] = data_test.index\n"
      ],
      "metadata": {
        "id": "eabNjnwEAef5"
      },
      "execution_count": null,
      "outputs": []
    },
    {
      "cell_type": "code",
      "execution_count": null,
      "metadata": {
        "colab": {
          "base_uri": "https://localhost:8080/"
        },
        "id": "FDFvMkzgQjUX",
        "outputId": "d8e20527-a4d0-4e96-ce85-3759032d8102"
      },
      "outputs": [
        {
          "output_type": "stream",
          "name": "stdout",
          "text": [
            "FULL Dataet: (16788, 3)\n",
            "TRAIN Dataset: (13430, 4)\n",
            "VAL Dataset: (3358, 4)\n",
            "TEST Dataset: (11146, 4)\n"
          ]
        }
      ],
      "source": [
        "print(\"FULL Dataet: {}\".format(data.shape))\n",
        "print(\"TRAIN Dataset: {}\".format(train_dataset.shape))\n",
        "print(\"VAL Dataset: {}\".format(val_dataset.shape))\n",
        "print(\"TEST Dataset: {}\".format(data_test.shape))\n",
        "\n",
        "data_test.reset_index(drop=True, inplace=True)\n",
        "\n",
        "training_set = dataset(train_dataset, tokenizer, MAX_LEN)\n",
        "val_set = dataset(val_dataset, tokenizer, MAX_LEN)\n",
        "test_set = dataset(data_test, tokenizer, MAX_LEN)"
      ]
    },
    {
      "cell_type": "code",
      "execution_count": null,
      "metadata": {
        "id": "ntEzGdRMjVzL"
      },
      "outputs": [],
      "source": [
        "train_params = {'batch_size': TRAIN_BATCH_SIZE,\n",
        "                'shuffle': True,\n",
        "                'num_workers': 0\n",
        "                }\n",
        "\n",
        "val_params = {'batch_size': VALID_BATCH_SIZE,\n",
        "                'shuffle': True,\n",
        "                'num_workers': 0\n",
        "                }\n",
        "\n",
        "test_params = {'batch_size': TEST_BATCH_SIZE,\n",
        "                'shuffle': True,\n",
        "                'num_workers': 0\n",
        "                }\n",
        "\n",
        "\n",
        "training_loader = DataLoader(training_set, **train_params)\n",
        "val_loader = DataLoader(val_set, **val_params)\n",
        "test_loader = DataLoader(test_set, **test_params)\n"
      ]
    },
    {
      "cell_type": "code",
      "execution_count": null,
      "metadata": {
        "colab": {
          "base_uri": "https://localhost:8080/"
        },
        "id": "BkNhlqUI43pt",
        "outputId": "63333ea4-b574-4932-d941-6f51c825349c"
      },
      "outputs": [
        {
          "output_type": "execute_result",
          "data": {
            "text/plain": [
              "BertForTokenClassification(\n",
              "  (bert): BertModel(\n",
              "    (embeddings): BertEmbeddings(\n",
              "      (word_embeddings): Embedding(28996, 768, padding_idx=0)\n",
              "      (position_embeddings): Embedding(512, 768)\n",
              "      (token_type_embeddings): Embedding(2, 768)\n",
              "      (LayerNorm): LayerNorm((768,), eps=1e-12, elementwise_affine=True)\n",
              "      (dropout): Dropout(p=0.1, inplace=False)\n",
              "    )\n",
              "    (encoder): BertEncoder(\n",
              "      (layer): ModuleList(\n",
              "        (0-11): 12 x BertLayer(\n",
              "          (attention): BertAttention(\n",
              "            (self): BertSelfAttention(\n",
              "              (query): Linear(in_features=768, out_features=768, bias=True)\n",
              "              (key): Linear(in_features=768, out_features=768, bias=True)\n",
              "              (value): Linear(in_features=768, out_features=768, bias=True)\n",
              "              (dropout): Dropout(p=0.1, inplace=False)\n",
              "            )\n",
              "            (output): BertSelfOutput(\n",
              "              (dense): Linear(in_features=768, out_features=768, bias=True)\n",
              "              (LayerNorm): LayerNorm((768,), eps=1e-12, elementwise_affine=True)\n",
              "              (dropout): Dropout(p=0.1, inplace=False)\n",
              "            )\n",
              "          )\n",
              "          (intermediate): BertIntermediate(\n",
              "            (dense): Linear(in_features=768, out_features=3072, bias=True)\n",
              "            (intermediate_act_fn): GELUActivation()\n",
              "          )\n",
              "          (output): BertOutput(\n",
              "            (dense): Linear(in_features=3072, out_features=768, bias=True)\n",
              "            (LayerNorm): LayerNorm((768,), eps=1e-12, elementwise_affine=True)\n",
              "            (dropout): Dropout(p=0.1, inplace=False)\n",
              "          )\n",
              "        )\n",
              "      )\n",
              "    )\n",
              "  )\n",
              "  (dropout): Dropout(p=0.1, inplace=False)\n",
              "  (classifier): Linear(in_features=768, out_features=19, bias=True)\n",
              ")"
            ]
          },
          "metadata": {},
          "execution_count": 56
        }
      ],
      "source": [
        "model.to(device)"
      ]
    },
    {
      "cell_type": "code",
      "execution_count": null,
      "metadata": {
        "colab": {
          "base_uri": "https://localhost:8080/"
        },
        "id": "oUh5g2Az5J7u",
        "outputId": "1a30e056-1597-49cc-d9e6-946102b6dfbd"
      },
      "outputs": [
        {
          "output_type": "execute_result",
          "data": {
            "text/plain": [
              "tensor(3.0942, device='cuda:0', grad_fn=<NllLossBackward0>)"
            ]
          },
          "metadata": {},
          "execution_count": 57
        }
      ],
      "source": [
        "inputs = training_set[2]\n",
        "input_ids = inputs[\"input_ids\"].unsqueeze(0)\n",
        "attention_mask = inputs[\"attention_mask\"].unsqueeze(0)\n",
        "labels = inputs[\"labels\"].unsqueeze(0)\n",
        "\n",
        "input_ids = input_ids.to(device)\n",
        "attention_mask = attention_mask.to(device)\n",
        "labels = labels.to(device)\n",
        "\n",
        "outputs = model(input_ids, attention_mask=attention_mask, labels=labels)\n",
        "initial_loss = outputs[0]\n",
        "initial_loss"
      ]
    },
    {
      "cell_type": "code",
      "execution_count": null,
      "metadata": {
        "colab": {
          "base_uri": "https://localhost:8080/"
        },
        "id": "4-qfx9lU6JqM",
        "outputId": "03f35a46-1dab-47a6-e98f-2d28a818050d"
      },
      "outputs": [
        {
          "output_type": "execute_result",
          "data": {
            "text/plain": [
              "torch.Size([1, 512, 19])"
            ]
          },
          "metadata": {},
          "execution_count": 58
        }
      ],
      "source": [
        "tr_logits = outputs[1]\n",
        "tr_logits.shape"
      ]
    },
    {
      "cell_type": "code",
      "execution_count": null,
      "metadata": {
        "id": "O4PsFZH8i837"
      },
      "outputs": [],
      "source": [
        "import torch.nn.functional as F\n",
        "\n",
        "\n",
        "def focal_loss(logits, labels, alpha=0.25, gamma=2.0, ignore_index=-100):\n",
        "    \"\"\"\n",
        "    logits: [batch_size, seq_len, num_labels] - model predictions\n",
        "    labels: [batch_size, seq_len] - ground truth labels\n",
        "    \"\"\"\n",
        "    # Calculate Cross Entropy Loss without reduction\n",
        "    ce_loss = F.cross_entropy(logits.view(-1, logits.size(-1)), labels.view(-1), reduction='none', ignore_index=ignore_index)\n",
        "\n",
        "    # Get the predictions\n",
        "    pred_probs = F.softmax(logits.view(-1, logits.size(-1)), dim=-1)\n",
        "    pred_class = labels.view(-1)\n",
        "\n",
        "    # focusing parameter\n",
        "    gamma = gamma\n",
        "\n",
        "    # Filter out 'ignore_index' labels\n",
        "    filtered = labels.view(-1) != ignore_index\n",
        "\n",
        "    # Calculate focal loss\n",
        "    ce_loss_filtered = ce_loss[filtered]\n",
        "    pred_probs_filtered = pred_probs[filtered]\n",
        "    pred_class_filtered = pred_class[filtered]\n",
        "\n",
        "    # Construct the loss\n",
        "    pt = pred_probs_filtered.gather(1, pred_class_filtered.unsqueeze(-1)).squeeze()\n",
        "    loss = ((1 - pt) ** gamma * ce_loss_filtered).mean()  # mean over the batch\n",
        "\n",
        "    return loss\n",
        "\n"
      ]
    },
    {
      "cell_type": "code",
      "execution_count": null,
      "metadata": {
        "id": "CaOtXFnGQgqz"
      },
      "outputs": [],
      "source": [
        "optimizer = torch.optim.AdamW(params=model.parameters(), lr=LEARNING_RATE)"
      ]
    },
    {
      "cell_type": "code",
      "execution_count": null,
      "metadata": {
        "id": "99XcALDnQk_K"
      },
      "outputs": [],
      "source": [
        "def train(epoch):\n",
        "    tr_loss, tr_accuracy = 0, 0\n",
        "    nb_tr_examples, nb_tr_steps = 0, 0\n",
        "    tr_preds, tr_labels = [], []\n",
        "\n",
        "    model.train()\n",
        "\n",
        "    for idx, batch in enumerate(training_loader):\n",
        "        ids = batch['input_ids'].to(device, dtype=torch.long)\n",
        "        mask = batch['attention_mask'].to(device, dtype=torch.long)\n",
        "        labels = batch['labels'].to(device, dtype=torch.long)\n",
        "    #     global_attention_mask = torch.zeros(\n",
        "    # input_ids.shape, dtype=torch.long, device=input_ids.device\n",
        "\n",
        "        # Perform a forward pass to get the logits\n",
        "        outputs = model(input_ids=ids, attention_mask=mask)\n",
        "\n",
        "        # Calculate the loss using focal_loss function directly\n",
        "        loss = focal_loss(outputs.logits, labels)  # Use the focal_loss function here directly\n",
        "\n",
        "        tr_loss += loss.item()\n",
        "        nb_tr_steps += 1\n",
        "        nb_tr_examples += labels.size(0)\n",
        "\n",
        "        if idx % 100 == 0:\n",
        "            loss_step = tr_loss / nb_tr_steps\n",
        "            print(f\"Training loss per 100 training steps: {loss_step}\")\n",
        "\n",
        "        # Decoding the logits to compute accuracy\n",
        "        active_logits = outputs.logits.view(-1, model.num_labels)\n",
        "        flattened_predictions = torch.argmax(active_logits, axis=1)\n",
        "\n",
        "        # Ignoring the predictions of the padding tokens\n",
        "        active_accuracy = labels.view(-1) != -100\n",
        "        active_labels = torch.where(active_accuracy, labels.view(-1), torch.tensor(-100).type_as(labels))\n",
        "\n",
        "        labels = torch.masked_select(active_labels, active_accuracy)\n",
        "        predictions = torch.masked_select(flattened_predictions, active_accuracy)\n",
        "\n",
        "        tr_labels.extend(labels.cpu().numpy())\n",
        "        tr_preds.extend(predictions.cpu().numpy())\n",
        "\n",
        "        tmp_tr_accuracy = accuracy_score(labels.cpu().numpy(), predictions.cpu().numpy())\n",
        "        tr_accuracy += tmp_tr_accuracy\n",
        "\n",
        "        # Gradient clipping\n",
        "        torch.nn.utils.clip_grad_norm_(parameters=model.parameters(), max_norm=MAX_GRAD_NORM)\n",
        "\n",
        "        # Backward pass and optimization\n",
        "        optimizer.zero_grad()\n",
        "        loss.backward()\n",
        "        optimizer.step()\n",
        "\n",
        "    epoch_loss = tr_loss / nb_tr_steps\n",
        "    tr_accuracy = tr_accuracy / nb_tr_steps\n",
        "    print(f\"Training loss epoch: {epoch_loss}\")\n",
        "    print(f\"Training accuracy epoch: {tr_accuracy}\")\n"
      ]
    },
    {
      "cell_type": "code",
      "execution_count": null,
      "metadata": {
        "colab": {
          "base_uri": "https://localhost:8080/"
        },
        "id": "X9yYcqE5Qn62",
        "outputId": "615f5ee0-3589-4f19-fc6a-bc9533df2675"
      },
      "outputs": [
        {
          "output_type": "stream",
          "name": "stdout",
          "text": [
            "Training epoch: 1\n",
            "Training loss per 100 training steps: 2.7527318000793457\n",
            "Training loss per 100 training steps: 0.6569532255393149\n",
            "Training loss per 100 training steps: 0.43135295575252963\n",
            "Training loss per 100 training steps: 0.330070881404685\n",
            "Training loss per 100 training steps: 0.271578968592578\n",
            "Training loss per 100 training steps: 0.2299822101243093\n",
            "Training loss per 100 training steps: 0.20182844447208328\n",
            "Training loss per 100 training steps: 0.18308067930784339\n",
            "Training loss per 100 training steps: 0.167499995832697\n",
            "Training loss per 100 training steps: 0.15554645934580538\n",
            "Training loss per 100 training steps: 0.14545559111132758\n",
            "Training loss per 100 training steps: 0.13607852908903703\n",
            "Training loss per 100 training steps: 0.1284007770539981\n",
            "Training loss per 100 training steps: 0.12198305449735403\n",
            "Training loss per 100 training steps: 0.11626609483431143\n",
            "Training loss per 100 training steps: 0.11085445224404425\n",
            "Training loss per 100 training steps: 0.10636127406104198\n",
            "Training loss per 100 training steps: 0.10216976611507632\n",
            "Training loss per 100 training steps: 0.09896894610903088\n",
            "Training loss per 100 training steps: 0.09534894631948551\n",
            "Training loss per 100 training steps: 0.09223212026085037\n",
            "Training loss per 100 training steps: 0.089523816069606\n",
            "Training loss per 100 training steps: 0.08694611763729294\n",
            "Training loss per 100 training steps: 0.08454234839440168\n",
            "Training loss per 100 training steps: 0.08236868241044595\n",
            "Training loss per 100 training steps: 0.08017700109906413\n",
            "Training loss per 100 training steps: 0.0784271754152714\n",
            "Training loss per 100 training steps: 0.07672946526265376\n",
            "Training loss per 100 training steps: 0.07498947513378801\n",
            "Training loss per 100 training steps: 0.07352335892416664\n",
            "Training loss per 100 training steps: 0.07222165074928247\n",
            "Training loss per 100 training steps: 0.07092853413432228\n",
            "Training loss per 100 training steps: 0.06971656688468944\n",
            "Training loss per 100 training steps: 0.06854271700664505\n",
            "Training loss epoch: 0.06794288119722672\n",
            "Training accuracy epoch: 0.9720830530178419\n",
            "Training epoch: 2\n",
            "Training loss per 100 training steps: 0.004210191313177347\n",
            "Training loss per 100 training steps: 0.021161139254875498\n",
            "Training loss per 100 training steps: 0.023492482180360517\n",
            "Training loss per 100 training steps: 0.02365944868225624\n",
            "Training loss per 100 training steps: 0.023467791731570542\n",
            "Training loss per 100 training steps: 0.02354249942011606\n",
            "Training loss per 100 training steps: 0.0232596120060298\n",
            "Training loss per 100 training steps: 0.023126398890840956\n",
            "Training loss per 100 training steps: 0.023473412014324905\n",
            "Training loss per 100 training steps: 0.023826346258172152\n",
            "Training loss per 100 training steps: 0.023671416553577195\n",
            "Training loss per 100 training steps: 0.02339142543082046\n",
            "Training loss per 100 training steps: 0.023261609810259893\n",
            "Training loss per 100 training steps: 0.023319595305500235\n",
            "Training loss per 100 training steps: 0.02328038631903519\n",
            "Training loss per 100 training steps: 0.0230907057375395\n",
            "Training loss per 100 training steps: 0.022894693110480754\n",
            "Training loss per 100 training steps: 0.02291685760849886\n",
            "Training loss per 100 training steps: 0.02278932260199022\n",
            "Training loss per 100 training steps: 0.02277337408513808\n",
            "Training loss per 100 training steps: 0.022504797378644723\n",
            "Training loss per 100 training steps: 0.02229908078529005\n",
            "Training loss per 100 training steps: 0.022102122577241225\n",
            "Training loss per 100 training steps: 0.022205847336067515\n",
            "Training loss per 100 training steps: 0.022293069913157396\n",
            "Training loss per 100 training steps: 0.022392848329959882\n",
            "Training loss per 100 training steps: 0.022403277830687563\n",
            "Training loss per 100 training steps: 0.022257400924701135\n",
            "Training loss per 100 training steps: 0.022041691247737118\n",
            "Training loss per 100 training steps: 0.022083263443947933\n",
            "Training loss per 100 training steps: 0.022096259393406883\n",
            "Training loss per 100 training steps: 0.022098826436732014\n",
            "Training loss per 100 training steps: 0.02192411215626678\n",
            "Training loss per 100 training steps: 0.021897473961369034\n",
            "Training loss epoch: 0.021787764058714226\n",
            "Training accuracy epoch: 0.9841424632641692\n",
            "Training epoch: 3\n",
            "Training loss per 100 training steps: 0.002787698060274124\n",
            "Training loss per 100 training steps: 0.01457487716971168\n",
            "Training loss per 100 training steps: 0.014929631931897632\n",
            "Training loss per 100 training steps: 0.014457891950455165\n",
            "Training loss per 100 training steps: 0.013955472988026374\n",
            "Training loss per 100 training steps: 0.014106159533222959\n",
            "Training loss per 100 training steps: 0.013881003516385946\n",
            "Training loss per 100 training steps: 0.014078752406873282\n",
            "Training loss per 100 training steps: 0.01380240939796989\n",
            "Training loss per 100 training steps: 0.013870748962012139\n",
            "Training loss per 100 training steps: 0.01388576038884862\n",
            "Training loss per 100 training steps: 0.013914922109522842\n",
            "Training loss per 100 training steps: 0.013754679842105981\n",
            "Training loss per 100 training steps: 0.0135999630087755\n",
            "Training loss per 100 training steps: 0.013864767830773351\n",
            "Training loss per 100 training steps: 0.01407373994645412\n",
            "Training loss per 100 training steps: 0.014235531174446906\n",
            "Training loss per 100 training steps: 0.014144184429723917\n",
            "Training loss per 100 training steps: 0.014350660635972243\n",
            "Training loss per 100 training steps: 0.014407875937754522\n",
            "Training loss per 100 training steps: 0.014422991282939834\n",
            "Training loss per 100 training steps: 0.014526614762686213\n",
            "Training loss per 100 training steps: 0.014728996793578666\n",
            "Training loss per 100 training steps: 0.01466256390693465\n",
            "Training loss per 100 training steps: 0.014686810098792124\n",
            "Training loss per 100 training steps: 0.014801041516478949\n",
            "Training loss per 100 training steps: 0.014941997886822022\n",
            "Training loss per 100 training steps: 0.014890198901502446\n",
            "Training loss per 100 training steps: 0.015008799690204548\n",
            "Training loss per 100 training steps: 0.015072142498026237\n",
            "Training loss per 100 training steps: 0.015049271777971\n",
            "Training loss per 100 training steps: 0.015166920009980357\n",
            "Training loss per 100 training steps: 0.015082412472692038\n",
            "Training loss per 100 training steps: 0.014993699948524819\n",
            "Training loss epoch: 0.015005652952565927\n",
            "Training accuracy epoch: 0.9871956494431529\n"
          ]
        }
      ],
      "source": [
        "for epoch in range(EPOCHS):\n",
        "    print(f\"Training epoch: {epoch + 1}\")\n",
        "    train(epoch)"
      ]
    },
    {
      "cell_type": "markdown",
      "source": [
        "## Validate"
      ],
      "metadata": {
        "id": "7Xi8xRIpT_9n"
      }
    },
    {
      "cell_type": "code",
      "execution_count": null,
      "metadata": {
        "id": "PiUuvNdBldmT"
      },
      "outputs": [],
      "source": [
        "def valid(model, testing_loader):\n",
        "    model.eval()\n",
        "    eval_loss, eval_accuracy = 0, 0\n",
        "\n",
        "    nb_eval_examples, nb_eval_steps = 0, 0\n",
        "    eval_preds, eval_labels, indices = [], [], []\n",
        "\n",
        "    with torch.no_grad():\n",
        "        for idx, batch in enumerate(testing_loader):\n",
        "            ids = batch['input_ids'].to(device, dtype=torch.long)\n",
        "            mask = batch['attention_mask'].to(device, dtype=torch.long)\n",
        "            labels = batch['labels'].to(device, dtype=torch.long)\n",
        "            # indices_list = batch[idx]\n",
        "\n",
        "            outputs = model(input_ids=ids, attention_mask=mask)\n",
        "            loss = focal_loss(outputs.logits, labels)  # Use the same focal_loss function\n",
        "\n",
        "            eval_loss += loss.item()\n",
        "            nb_eval_steps += 1\n",
        "            nb_eval_examples += labels.size(0)\n",
        "\n",
        "            if idx % 100 == 0:\n",
        "                loss_step = eval_loss / nb_eval_steps\n",
        "                print(f\"Validation loss per 100 evaluation steps: {loss_step}\")\n",
        "\n",
        "            # Decoding the logits to compute accuracy\n",
        "            active_logits = outputs.logits.view(-1, model.num_labels)\n",
        "            flattened_predictions = torch.argmax(active_logits, axis=1)\n",
        "\n",
        "            # Ignoring the predictions of the padding tokens\n",
        "            active_accuracy = labels.view(-1) != -100\n",
        "            active_labels = torch.where(active_accuracy, labels.view(-1), torch.tensor(-100).type_as(labels))\n",
        "\n",
        "            labels = torch.masked_select(active_labels, active_accuracy)\n",
        "            predictions = torch.masked_select(flattened_predictions, active_accuracy)\n",
        "\n",
        "            eval_labels.extend(labels.cpu().numpy())\n",
        "            eval_preds.extend(predictions.cpu().numpy())\n",
        "\n",
        "            tmp_eval_accuracy = accuracy_score(labels.cpu().numpy(), predictions.cpu().numpy())\n",
        "            eval_accuracy += tmp_eval_accuracy\n",
        "\n",
        "            indices.extend(batch['index'].tolist())\n",
        "\n",
        "\n",
        "\n",
        "    labels = [ids_to_labels[id.item()] for id in eval_labels]\n",
        "    predictions = [ids_to_labels[id.item()] for id in eval_preds]\n",
        "\n",
        "    eval_loss = eval_loss / nb_eval_steps\n",
        "    eval_accuracy = eval_accuracy / nb_eval_steps\n",
        "    print(f\"Validation Loss: {eval_loss}\")\n",
        "    print(f\"Validation Accuracy: {eval_accuracy}\")\n",
        "\n",
        "    return indices,labels, predictions\n",
        "\n"
      ]
    },
    {
      "cell_type": "code",
      "execution_count": null,
      "metadata": {
        "colab": {
          "base_uri": "https://localhost:8080/"
        },
        "id": "Gs3qABW2_Z-V",
        "outputId": "2d08bccf-fbfa-444c-92da-50ca12d3fb24"
      },
      "outputs": [
        {
          "output_type": "stream",
          "name": "stdout",
          "text": [
            "Validation loss per 100 evaluation steps: 0.0038527334108948708\n",
            "Validation loss per 100 evaluation steps: 0.02208062936748401\n",
            "Validation loss per 100 evaluation steps: 0.02353187271341429\n",
            "Validation loss per 100 evaluation steps: 0.025959991755861698\n",
            "Validation loss per 100 evaluation steps: 0.02749102781167335\n",
            "Validation loss per 100 evaluation steps: 0.030323969670753157\n",
            "Validation loss per 100 evaluation steps: 0.03049074993808512\n",
            "Validation loss per 100 evaluation steps: 0.030840792006965812\n",
            "Validation loss per 100 evaluation steps: 0.029994755551667134\n",
            "Validation loss per 100 evaluation steps: 0.02976542290071897\n",
            "Validation loss per 100 evaluation steps: 0.0301041994225818\n",
            "Validation loss per 100 evaluation steps: 0.02926984025281906\n",
            "Validation loss per 100 evaluation steps: 0.029813305514830125\n",
            "Validation loss per 100 evaluation steps: 0.029407437919168\n",
            "Validation loss per 100 evaluation steps: 0.030037557049211065\n",
            "Validation loss per 100 evaluation steps: 0.030126538546770044\n",
            "Validation loss per 100 evaluation steps: 0.02996546228172175\n",
            "Validation Loss: 0.029643855004247446\n",
            "Validation Accuracy: 0.9794562002312033\n"
          ]
        }
      ],
      "source": [
        "indices, labels, predictions = valid(model, val_loader)"
      ]
    },
    {
      "cell_type": "code",
      "execution_count": null,
      "metadata": {
        "colab": {
          "base_uri": "https://localhost:8080/"
        },
        "id": "aIcbSKb79_2B",
        "outputId": "cb93abfe-9e2e-45b9-94e7-2f17ff923318"
      },
      "outputs": [
        {
          "output_type": "stream",
          "name": "stdout",
          "text": [
            "              precision    recall  f1-score   support\n",
            "\n",
            "         ADE       0.45      0.39      0.42       165\n",
            "      Dosage       0.82      0.90      0.86       782\n",
            "        Drug       0.89      0.93      0.91      3216\n",
            "    Duration       0.61      0.76      0.67       120\n",
            "        Form       0.91      0.88      0.90      1269\n",
            "   Frequency       0.79      0.83      0.81      1270\n",
            "      Reason       0.54      0.68      0.60       698\n",
            "       Route       0.90      0.93      0.92      1143\n",
            "    Strength       0.93      0.93      0.93      1341\n",
            "\n",
            "   micro avg       0.84      0.88      0.86     10004\n",
            "   macro avg       0.76      0.80      0.78     10004\n",
            "weighted avg       0.85      0.88      0.86     10004\n",
            "\n"
          ]
        }
      ],
      "source": [
        "from seqeval.metrics import classification_report\n",
        "\n",
        "print(classification_report([labels], [predictions]))"
      ]
    },
    {
      "cell_type": "code",
      "source": [
        "# indices_df = pd.DataFrame(indices)\n",
        "# indices_df.to_csv('indices_bioclinicalbert_concat7.csv', index=False)"
      ],
      "metadata": {
        "id": "N2TmEK8yGbQe"
      },
      "execution_count": null,
      "outputs": []
    },
    {
      "cell_type": "markdown",
      "source": [
        "### Test Set"
      ],
      "metadata": {
        "id": "-r3I62WQTlJG"
      }
    },
    {
      "cell_type": "code",
      "source": [
        "data_test['label_count'] = data_test['labels'].str.split(',').apply(len)"
      ],
      "metadata": {
        "id": "6ZMKEVL-FIef"
      },
      "execution_count": null,
      "outputs": []
    },
    {
      "cell_type": "code",
      "source": [
        "def split_predictions(test_predictions, label_count):\n",
        "    split_predictions = []\n",
        "    start_idx = 0\n",
        "    for count in label_count:\n",
        "        end_idx = start_idx + count\n",
        "        split_predictions.append(test_predictions[start_idx:end_idx])\n",
        "        start_idx = end_idx\n",
        "    return split_predictions\n",
        "broken_up_test_preds = split_predictions(test_predictions, data_test['label_count'])\n",
        "\n"
      ],
      "metadata": {
        "id": "dThiB8MpGw_v"
      },
      "execution_count": null,
      "outputs": []
    },
    {
      "cell_type": "code",
      "source": [
        "data_test.iloc[30]['sentences']"
      ],
      "metadata": {
        "id": "U98onZ4fPMN4"
      },
      "execution_count": null,
      "outputs": []
    },
    {
      "cell_type": "code",
      "source": [
        "data_test.iloc[30]['labels']"
      ],
      "metadata": {
        "id": "GoRbNhu3PPDu"
      },
      "execution_count": null,
      "outputs": []
    },
    {
      "cell_type": "code",
      "source": [
        "data_test.iloc[30]['predictions']"
      ],
      "metadata": {
        "id": "yWDOiyVDQFr-"
      },
      "execution_count": null,
      "outputs": []
    },
    {
      "cell_type": "code",
      "source": [
        "indices, test_labels, test_predictions = valid(model, test_loader)"
      ],
      "metadata": {
        "colab": {
          "base_uri": "https://localhost:8080/"
        },
        "id": "INLdCF2yhcUg",
        "outputId": "9e640986-1cae-4e04-a7b4-0a81798a12e3"
      },
      "execution_count": null,
      "outputs": [
        {
          "output_type": "stream",
          "name": "stdout",
          "text": [
            "Validation loss per 100 evaluation steps: 0.010349477641284466\n",
            "Validation loss per 100 evaluation steps: 0.024467365332132222\n",
            "Validation loss per 100 evaluation steps: 0.02616212235077919\n",
            "Validation loss per 100 evaluation steps: 0.026307430305515116\n",
            "Validation Loss: 0.026203872918242718\n",
            "Validation Accuracy: 0.9816380511133918\n"
          ]
        }
      ]
    },
    {
      "cell_type": "code",
      "source": [
        "# indices"
      ],
      "metadata": {
        "id": "1alpX_9jCi1g"
      },
      "execution_count": null,
      "outputs": []
    },
    {
      "cell_type": "code",
      "source": [
        "from seqeval.metrics import classification_report\n",
        "\n",
        "print(classification_report([test_labels], [test_predictions]))"
      ],
      "metadata": {
        "colab": {
          "base_uri": "https://localhost:8080/"
        },
        "id": "4kgpCwberb1-",
        "outputId": "7a519a0b-323e-4e24-a606-3cd3151e1dc0"
      },
      "execution_count": null,
      "outputs": [
        {
          "output_type": "stream",
          "name": "stdout",
          "text": [
            "              precision    recall  f1-score   support\n",
            "\n",
            "         ADE       0.53      0.42      0.47       634\n",
            "      Dosage       0.87      0.94      0.90      2704\n",
            "        Drug       0.91      0.94      0.93     10595\n",
            "    Duration       0.62      0.73      0.67       385\n",
            "        Form       0.94      0.91      0.92      4373\n",
            "   Frequency       0.82      0.85      0.84      4149\n",
            "      Reason       0.53      0.62      0.57      2561\n",
            "       Route       0.92      0.95      0.94      3513\n",
            "    Strength       0.94      0.95      0.95      4237\n",
            "\n",
            "   micro avg       0.86      0.89      0.88     33151\n",
            "   macro avg       0.79      0.81      0.80     33151\n",
            "weighted avg       0.87      0.89      0.88     33151\n",
            "\n"
          ]
        }
      ]
    },
    {
      "cell_type": "code",
      "source": [
        "def add_predictions_to_df(df, all_predictions):\n",
        "    # adding predictions back to data_test for analysis\n",
        "    prediction_slices = []\n",
        "\n",
        "    start_idx = 0\n",
        "\n",
        "    for index, row in df.iterrows():\n",
        "        label_count = row['label_count']\n",
        "\n",
        "        end_idx = start_idx + label_count\n",
        "\n",
        "        # Slice the predictions for the current row\n",
        "        current_predictions = all_predictions[start_idx:end_idx]\n",
        "        prediction_slices.append(current_predictions)\n",
        "        start_idx = end_idx\n",
        "\n",
        "\n",
        "    df['predictions'] = prediction_slices\n",
        "\n",
        "evaluate_test = add_predictions_to_df(data_test, test_predictions)"
      ],
      "metadata": {
        "id": "Anvgt9mUFMaJ"
      },
      "execution_count": null,
      "outputs": []
    },
    {
      "cell_type": "code",
      "source": [
        "len(indices)"
      ],
      "metadata": {
        "colab": {
          "base_uri": "https://localhost:8080/"
        },
        "id": "n69IaFTbCbOz",
        "outputId": "72d850f6-fa7c-4503-a263-9c3e24138c50"
      },
      "execution_count": null,
      "outputs": [
        {
          "output_type": "execute_result",
          "data": {
            "text/plain": [
              "11146"
            ]
          },
          "metadata": {},
          "execution_count": 79
        }
      ]
    },
    {
      "cell_type": "markdown",
      "metadata": {
        "id": "ccgbCa8siNo7"
      },
      "source": [
        "### Save"
      ]
    },
    {
      "cell_type": "code",
      "execution_count": null,
      "metadata": {
        "id": "l4564VeJwyoj"
      },
      "outputs": [],
      "source": [
        "# import os\n",
        "\n",
        "# directory = \"/content/drive/MyDrive/266_final/clinical_bert_concat8_take4\"\n",
        "\n",
        "# # if not os.path.exists(directory):\n",
        "# #     os.makedirs(directory)\n",
        "\n",
        "# tokenizer.save_vocabulary(directory)\n",
        "# # model.save_pretrained(directory)"
      ]
    },
    {
      "cell_type": "code",
      "source": [
        "# model.save_pretrained(directory, safe_serialization=False)"
      ],
      "metadata": {
        "id": "ZzQ9eiKbJ9R3"
      },
      "execution_count": null,
      "outputs": []
    }
  ],
  "metadata": {
    "accelerator": "GPU",
    "colab": {
      "gpuType": "V100",
      "machine_shape": "hm",
      "provenance": [],
      "toc_visible": true
    },
    "kernelspec": {
      "display_name": "Python 3",
      "name": "python3"
    },
    "language_info": {
      "name": "python"
    },
    "widgets": {
      "application/vnd.jupyter.widget-state+json": {
        "7d780b7cdd4a41f393b79a31486425a0": {
          "model_module": "@jupyter-widgets/controls",
          "model_name": "HBoxModel",
          "model_module_version": "1.5.0",
          "state": {
            "_dom_classes": [],
            "_model_module": "@jupyter-widgets/controls",
            "_model_module_version": "1.5.0",
            "_model_name": "HBoxModel",
            "_view_count": null,
            "_view_module": "@jupyter-widgets/controls",
            "_view_module_version": "1.5.0",
            "_view_name": "HBoxView",
            "box_style": "",
            "children": [
              "IPY_MODEL_ade34100038c412da392a4012a6f42d7",
              "IPY_MODEL_2bc21f108dcf4bf684e42cb9e1a39d14",
              "IPY_MODEL_a6a95400b2054b5ba7a08efe7779401e"
            ],
            "layout": "IPY_MODEL_6c4cfe5247a74dd08f1fa030fb1429d3"
          }
        },
        "ade34100038c412da392a4012a6f42d7": {
          "model_module": "@jupyter-widgets/controls",
          "model_name": "HTMLModel",
          "model_module_version": "1.5.0",
          "state": {
            "_dom_classes": [],
            "_model_module": "@jupyter-widgets/controls",
            "_model_module_version": "1.5.0",
            "_model_name": "HTMLModel",
            "_view_count": null,
            "_view_module": "@jupyter-widgets/controls",
            "_view_module_version": "1.5.0",
            "_view_name": "HTMLView",
            "description": "",
            "description_tooltip": null,
            "layout": "IPY_MODEL_a7af13149aed4fc99506c85d20224c2e",
            "placeholder": "​",
            "style": "IPY_MODEL_f0890863e8104f989ab949c4fbd3534a",
            "value": "config.json: 100%"
          }
        },
        "2bc21f108dcf4bf684e42cb9e1a39d14": {
          "model_module": "@jupyter-widgets/controls",
          "model_name": "FloatProgressModel",
          "model_module_version": "1.5.0",
          "state": {
            "_dom_classes": [],
            "_model_module": "@jupyter-widgets/controls",
            "_model_module_version": "1.5.0",
            "_model_name": "FloatProgressModel",
            "_view_count": null,
            "_view_module": "@jupyter-widgets/controls",
            "_view_module_version": "1.5.0",
            "_view_name": "ProgressView",
            "bar_style": "success",
            "description": "",
            "description_tooltip": null,
            "layout": "IPY_MODEL_9582ad37a5c944e697fe3f280801bb87",
            "max": 385,
            "min": 0,
            "orientation": "horizontal",
            "style": "IPY_MODEL_c9f6f1ff38844d0196f6b4e12322e42a",
            "value": 385
          }
        },
        "a6a95400b2054b5ba7a08efe7779401e": {
          "model_module": "@jupyter-widgets/controls",
          "model_name": "HTMLModel",
          "model_module_version": "1.5.0",
          "state": {
            "_dom_classes": [],
            "_model_module": "@jupyter-widgets/controls",
            "_model_module_version": "1.5.0",
            "_model_name": "HTMLModel",
            "_view_count": null,
            "_view_module": "@jupyter-widgets/controls",
            "_view_module_version": "1.5.0",
            "_view_name": "HTMLView",
            "description": "",
            "description_tooltip": null,
            "layout": "IPY_MODEL_d2e47705149442fc9c104a07788b12bc",
            "placeholder": "​",
            "style": "IPY_MODEL_00c5c4c72e284cd8b57b650f84755e67",
            "value": " 385/385 [00:00&lt;00:00, 31.3kB/s]"
          }
        },
        "6c4cfe5247a74dd08f1fa030fb1429d3": {
          "model_module": "@jupyter-widgets/base",
          "model_name": "LayoutModel",
          "model_module_version": "1.2.0",
          "state": {
            "_model_module": "@jupyter-widgets/base",
            "_model_module_version": "1.2.0",
            "_model_name": "LayoutModel",
            "_view_count": null,
            "_view_module": "@jupyter-widgets/base",
            "_view_module_version": "1.2.0",
            "_view_name": "LayoutView",
            "align_content": null,
            "align_items": null,
            "align_self": null,
            "border": null,
            "bottom": null,
            "display": null,
            "flex": null,
            "flex_flow": null,
            "grid_area": null,
            "grid_auto_columns": null,
            "grid_auto_flow": null,
            "grid_auto_rows": null,
            "grid_column": null,
            "grid_gap": null,
            "grid_row": null,
            "grid_template_areas": null,
            "grid_template_columns": null,
            "grid_template_rows": null,
            "height": null,
            "justify_content": null,
            "justify_items": null,
            "left": null,
            "margin": null,
            "max_height": null,
            "max_width": null,
            "min_height": null,
            "min_width": null,
            "object_fit": null,
            "object_position": null,
            "order": null,
            "overflow": null,
            "overflow_x": null,
            "overflow_y": null,
            "padding": null,
            "right": null,
            "top": null,
            "visibility": null,
            "width": null
          }
        },
        "a7af13149aed4fc99506c85d20224c2e": {
          "model_module": "@jupyter-widgets/base",
          "model_name": "LayoutModel",
          "model_module_version": "1.2.0",
          "state": {
            "_model_module": "@jupyter-widgets/base",
            "_model_module_version": "1.2.0",
            "_model_name": "LayoutModel",
            "_view_count": null,
            "_view_module": "@jupyter-widgets/base",
            "_view_module_version": "1.2.0",
            "_view_name": "LayoutView",
            "align_content": null,
            "align_items": null,
            "align_self": null,
            "border": null,
            "bottom": null,
            "display": null,
            "flex": null,
            "flex_flow": null,
            "grid_area": null,
            "grid_auto_columns": null,
            "grid_auto_flow": null,
            "grid_auto_rows": null,
            "grid_column": null,
            "grid_gap": null,
            "grid_row": null,
            "grid_template_areas": null,
            "grid_template_columns": null,
            "grid_template_rows": null,
            "height": null,
            "justify_content": null,
            "justify_items": null,
            "left": null,
            "margin": null,
            "max_height": null,
            "max_width": null,
            "min_height": null,
            "min_width": null,
            "object_fit": null,
            "object_position": null,
            "order": null,
            "overflow": null,
            "overflow_x": null,
            "overflow_y": null,
            "padding": null,
            "right": null,
            "top": null,
            "visibility": null,
            "width": null
          }
        },
        "f0890863e8104f989ab949c4fbd3534a": {
          "model_module": "@jupyter-widgets/controls",
          "model_name": "DescriptionStyleModel",
          "model_module_version": "1.5.0",
          "state": {
            "_model_module": "@jupyter-widgets/controls",
            "_model_module_version": "1.5.0",
            "_model_name": "DescriptionStyleModel",
            "_view_count": null,
            "_view_module": "@jupyter-widgets/base",
            "_view_module_version": "1.2.0",
            "_view_name": "StyleView",
            "description_width": ""
          }
        },
        "9582ad37a5c944e697fe3f280801bb87": {
          "model_module": "@jupyter-widgets/base",
          "model_name": "LayoutModel",
          "model_module_version": "1.2.0",
          "state": {
            "_model_module": "@jupyter-widgets/base",
            "_model_module_version": "1.2.0",
            "_model_name": "LayoutModel",
            "_view_count": null,
            "_view_module": "@jupyter-widgets/base",
            "_view_module_version": "1.2.0",
            "_view_name": "LayoutView",
            "align_content": null,
            "align_items": null,
            "align_self": null,
            "border": null,
            "bottom": null,
            "display": null,
            "flex": null,
            "flex_flow": null,
            "grid_area": null,
            "grid_auto_columns": null,
            "grid_auto_flow": null,
            "grid_auto_rows": null,
            "grid_column": null,
            "grid_gap": null,
            "grid_row": null,
            "grid_template_areas": null,
            "grid_template_columns": null,
            "grid_template_rows": null,
            "height": null,
            "justify_content": null,
            "justify_items": null,
            "left": null,
            "margin": null,
            "max_height": null,
            "max_width": null,
            "min_height": null,
            "min_width": null,
            "object_fit": null,
            "object_position": null,
            "order": null,
            "overflow": null,
            "overflow_x": null,
            "overflow_y": null,
            "padding": null,
            "right": null,
            "top": null,
            "visibility": null,
            "width": null
          }
        },
        "c9f6f1ff38844d0196f6b4e12322e42a": {
          "model_module": "@jupyter-widgets/controls",
          "model_name": "ProgressStyleModel",
          "model_module_version": "1.5.0",
          "state": {
            "_model_module": "@jupyter-widgets/controls",
            "_model_module_version": "1.5.0",
            "_model_name": "ProgressStyleModel",
            "_view_count": null,
            "_view_module": "@jupyter-widgets/base",
            "_view_module_version": "1.2.0",
            "_view_name": "StyleView",
            "bar_color": null,
            "description_width": ""
          }
        },
        "d2e47705149442fc9c104a07788b12bc": {
          "model_module": "@jupyter-widgets/base",
          "model_name": "LayoutModel",
          "model_module_version": "1.2.0",
          "state": {
            "_model_module": "@jupyter-widgets/base",
            "_model_module_version": "1.2.0",
            "_model_name": "LayoutModel",
            "_view_count": null,
            "_view_module": "@jupyter-widgets/base",
            "_view_module_version": "1.2.0",
            "_view_name": "LayoutView",
            "align_content": null,
            "align_items": null,
            "align_self": null,
            "border": null,
            "bottom": null,
            "display": null,
            "flex": null,
            "flex_flow": null,
            "grid_area": null,
            "grid_auto_columns": null,
            "grid_auto_flow": null,
            "grid_auto_rows": null,
            "grid_column": null,
            "grid_gap": null,
            "grid_row": null,
            "grid_template_areas": null,
            "grid_template_columns": null,
            "grid_template_rows": null,
            "height": null,
            "justify_content": null,
            "justify_items": null,
            "left": null,
            "margin": null,
            "max_height": null,
            "max_width": null,
            "min_height": null,
            "min_width": null,
            "object_fit": null,
            "object_position": null,
            "order": null,
            "overflow": null,
            "overflow_x": null,
            "overflow_y": null,
            "padding": null,
            "right": null,
            "top": null,
            "visibility": null,
            "width": null
          }
        },
        "00c5c4c72e284cd8b57b650f84755e67": {
          "model_module": "@jupyter-widgets/controls",
          "model_name": "DescriptionStyleModel",
          "model_module_version": "1.5.0",
          "state": {
            "_model_module": "@jupyter-widgets/controls",
            "_model_module_version": "1.5.0",
            "_model_name": "DescriptionStyleModel",
            "_view_count": null,
            "_view_module": "@jupyter-widgets/base",
            "_view_module_version": "1.2.0",
            "_view_name": "StyleView",
            "description_width": ""
          }
        },
        "dfd8f65d8afd493ca6f97232a1b8885e": {
          "model_module": "@jupyter-widgets/controls",
          "model_name": "HBoxModel",
          "model_module_version": "1.5.0",
          "state": {
            "_dom_classes": [],
            "_model_module": "@jupyter-widgets/controls",
            "_model_module_version": "1.5.0",
            "_model_name": "HBoxModel",
            "_view_count": null,
            "_view_module": "@jupyter-widgets/controls",
            "_view_module_version": "1.5.0",
            "_view_name": "HBoxView",
            "box_style": "",
            "children": [
              "IPY_MODEL_a79e046b1c7a44928b32100b0ae9b4c1",
              "IPY_MODEL_fbfd42fcef2a446aaa1e65431577e540",
              "IPY_MODEL_c9a7bd4fdd8a40a9ad69b460688f7324"
            ],
            "layout": "IPY_MODEL_f1f081b54de24d82a67f7029cdd14d59"
          }
        },
        "a79e046b1c7a44928b32100b0ae9b4c1": {
          "model_module": "@jupyter-widgets/controls",
          "model_name": "HTMLModel",
          "model_module_version": "1.5.0",
          "state": {
            "_dom_classes": [],
            "_model_module": "@jupyter-widgets/controls",
            "_model_module_version": "1.5.0",
            "_model_name": "HTMLModel",
            "_view_count": null,
            "_view_module": "@jupyter-widgets/controls",
            "_view_module_version": "1.5.0",
            "_view_name": "HTMLView",
            "description": "",
            "description_tooltip": null,
            "layout": "IPY_MODEL_81ea0c69e7c640e3b73a012bb281537d",
            "placeholder": "​",
            "style": "IPY_MODEL_154fc1083e9a47bd801b8820c47bce50",
            "value": "vocab.txt: 100%"
          }
        },
        "fbfd42fcef2a446aaa1e65431577e540": {
          "model_module": "@jupyter-widgets/controls",
          "model_name": "FloatProgressModel",
          "model_module_version": "1.5.0",
          "state": {
            "_dom_classes": [],
            "_model_module": "@jupyter-widgets/controls",
            "_model_module_version": "1.5.0",
            "_model_name": "FloatProgressModel",
            "_view_count": null,
            "_view_module": "@jupyter-widgets/controls",
            "_view_module_version": "1.5.0",
            "_view_name": "ProgressView",
            "bar_style": "success",
            "description": "",
            "description_tooltip": null,
            "layout": "IPY_MODEL_eafe451ae05f4b3c911b66ea94289c64",
            "max": 213450,
            "min": 0,
            "orientation": "horizontal",
            "style": "IPY_MODEL_a49bc8b4ad9f475e9410a71ffab86d8b",
            "value": 213450
          }
        },
        "c9a7bd4fdd8a40a9ad69b460688f7324": {
          "model_module": "@jupyter-widgets/controls",
          "model_name": "HTMLModel",
          "model_module_version": "1.5.0",
          "state": {
            "_dom_classes": [],
            "_model_module": "@jupyter-widgets/controls",
            "_model_module_version": "1.5.0",
            "_model_name": "HTMLModel",
            "_view_count": null,
            "_view_module": "@jupyter-widgets/controls",
            "_view_module_version": "1.5.0",
            "_view_name": "HTMLView",
            "description": "",
            "description_tooltip": null,
            "layout": "IPY_MODEL_f7e81c1c1c794fce8d6ea384dde63b01",
            "placeholder": "​",
            "style": "IPY_MODEL_e2bbe7e2243c459e92c38030c7fccbd0",
            "value": " 213k/213k [00:00&lt;00:00, 1.33MB/s]"
          }
        },
        "f1f081b54de24d82a67f7029cdd14d59": {
          "model_module": "@jupyter-widgets/base",
          "model_name": "LayoutModel",
          "model_module_version": "1.2.0",
          "state": {
            "_model_module": "@jupyter-widgets/base",
            "_model_module_version": "1.2.0",
            "_model_name": "LayoutModel",
            "_view_count": null,
            "_view_module": "@jupyter-widgets/base",
            "_view_module_version": "1.2.0",
            "_view_name": "LayoutView",
            "align_content": null,
            "align_items": null,
            "align_self": null,
            "border": null,
            "bottom": null,
            "display": null,
            "flex": null,
            "flex_flow": null,
            "grid_area": null,
            "grid_auto_columns": null,
            "grid_auto_flow": null,
            "grid_auto_rows": null,
            "grid_column": null,
            "grid_gap": null,
            "grid_row": null,
            "grid_template_areas": null,
            "grid_template_columns": null,
            "grid_template_rows": null,
            "height": null,
            "justify_content": null,
            "justify_items": null,
            "left": null,
            "margin": null,
            "max_height": null,
            "max_width": null,
            "min_height": null,
            "min_width": null,
            "object_fit": null,
            "object_position": null,
            "order": null,
            "overflow": null,
            "overflow_x": null,
            "overflow_y": null,
            "padding": null,
            "right": null,
            "top": null,
            "visibility": null,
            "width": null
          }
        },
        "81ea0c69e7c640e3b73a012bb281537d": {
          "model_module": "@jupyter-widgets/base",
          "model_name": "LayoutModel",
          "model_module_version": "1.2.0",
          "state": {
            "_model_module": "@jupyter-widgets/base",
            "_model_module_version": "1.2.0",
            "_model_name": "LayoutModel",
            "_view_count": null,
            "_view_module": "@jupyter-widgets/base",
            "_view_module_version": "1.2.0",
            "_view_name": "LayoutView",
            "align_content": null,
            "align_items": null,
            "align_self": null,
            "border": null,
            "bottom": null,
            "display": null,
            "flex": null,
            "flex_flow": null,
            "grid_area": null,
            "grid_auto_columns": null,
            "grid_auto_flow": null,
            "grid_auto_rows": null,
            "grid_column": null,
            "grid_gap": null,
            "grid_row": null,
            "grid_template_areas": null,
            "grid_template_columns": null,
            "grid_template_rows": null,
            "height": null,
            "justify_content": null,
            "justify_items": null,
            "left": null,
            "margin": null,
            "max_height": null,
            "max_width": null,
            "min_height": null,
            "min_width": null,
            "object_fit": null,
            "object_position": null,
            "order": null,
            "overflow": null,
            "overflow_x": null,
            "overflow_y": null,
            "padding": null,
            "right": null,
            "top": null,
            "visibility": null,
            "width": null
          }
        },
        "154fc1083e9a47bd801b8820c47bce50": {
          "model_module": "@jupyter-widgets/controls",
          "model_name": "DescriptionStyleModel",
          "model_module_version": "1.5.0",
          "state": {
            "_model_module": "@jupyter-widgets/controls",
            "_model_module_version": "1.5.0",
            "_model_name": "DescriptionStyleModel",
            "_view_count": null,
            "_view_module": "@jupyter-widgets/base",
            "_view_module_version": "1.2.0",
            "_view_name": "StyleView",
            "description_width": ""
          }
        },
        "eafe451ae05f4b3c911b66ea94289c64": {
          "model_module": "@jupyter-widgets/base",
          "model_name": "LayoutModel",
          "model_module_version": "1.2.0",
          "state": {
            "_model_module": "@jupyter-widgets/base",
            "_model_module_version": "1.2.0",
            "_model_name": "LayoutModel",
            "_view_count": null,
            "_view_module": "@jupyter-widgets/base",
            "_view_module_version": "1.2.0",
            "_view_name": "LayoutView",
            "align_content": null,
            "align_items": null,
            "align_self": null,
            "border": null,
            "bottom": null,
            "display": null,
            "flex": null,
            "flex_flow": null,
            "grid_area": null,
            "grid_auto_columns": null,
            "grid_auto_flow": null,
            "grid_auto_rows": null,
            "grid_column": null,
            "grid_gap": null,
            "grid_row": null,
            "grid_template_areas": null,
            "grid_template_columns": null,
            "grid_template_rows": null,
            "height": null,
            "justify_content": null,
            "justify_items": null,
            "left": null,
            "margin": null,
            "max_height": null,
            "max_width": null,
            "min_height": null,
            "min_width": null,
            "object_fit": null,
            "object_position": null,
            "order": null,
            "overflow": null,
            "overflow_x": null,
            "overflow_y": null,
            "padding": null,
            "right": null,
            "top": null,
            "visibility": null,
            "width": null
          }
        },
        "a49bc8b4ad9f475e9410a71ffab86d8b": {
          "model_module": "@jupyter-widgets/controls",
          "model_name": "ProgressStyleModel",
          "model_module_version": "1.5.0",
          "state": {
            "_model_module": "@jupyter-widgets/controls",
            "_model_module_version": "1.5.0",
            "_model_name": "ProgressStyleModel",
            "_view_count": null,
            "_view_module": "@jupyter-widgets/base",
            "_view_module_version": "1.2.0",
            "_view_name": "StyleView",
            "bar_color": null,
            "description_width": ""
          }
        },
        "f7e81c1c1c794fce8d6ea384dde63b01": {
          "model_module": "@jupyter-widgets/base",
          "model_name": "LayoutModel",
          "model_module_version": "1.2.0",
          "state": {
            "_model_module": "@jupyter-widgets/base",
            "_model_module_version": "1.2.0",
            "_model_name": "LayoutModel",
            "_view_count": null,
            "_view_module": "@jupyter-widgets/base",
            "_view_module_version": "1.2.0",
            "_view_name": "LayoutView",
            "align_content": null,
            "align_items": null,
            "align_self": null,
            "border": null,
            "bottom": null,
            "display": null,
            "flex": null,
            "flex_flow": null,
            "grid_area": null,
            "grid_auto_columns": null,
            "grid_auto_flow": null,
            "grid_auto_rows": null,
            "grid_column": null,
            "grid_gap": null,
            "grid_row": null,
            "grid_template_areas": null,
            "grid_template_columns": null,
            "grid_template_rows": null,
            "height": null,
            "justify_content": null,
            "justify_items": null,
            "left": null,
            "margin": null,
            "max_height": null,
            "max_width": null,
            "min_height": null,
            "min_width": null,
            "object_fit": null,
            "object_position": null,
            "order": null,
            "overflow": null,
            "overflow_x": null,
            "overflow_y": null,
            "padding": null,
            "right": null,
            "top": null,
            "visibility": null,
            "width": null
          }
        },
        "e2bbe7e2243c459e92c38030c7fccbd0": {
          "model_module": "@jupyter-widgets/controls",
          "model_name": "DescriptionStyleModel",
          "model_module_version": "1.5.0",
          "state": {
            "_model_module": "@jupyter-widgets/controls",
            "_model_module_version": "1.5.0",
            "_model_name": "DescriptionStyleModel",
            "_view_count": null,
            "_view_module": "@jupyter-widgets/base",
            "_view_module_version": "1.2.0",
            "_view_name": "StyleView",
            "description_width": ""
          }
        },
        "ffaa3d43721f48bd9e0a12a19b3fa6fa": {
          "model_module": "@jupyter-widgets/controls",
          "model_name": "HBoxModel",
          "model_module_version": "1.5.0",
          "state": {
            "_dom_classes": [],
            "_model_module": "@jupyter-widgets/controls",
            "_model_module_version": "1.5.0",
            "_model_name": "HBoxModel",
            "_view_count": null,
            "_view_module": "@jupyter-widgets/controls",
            "_view_module_version": "1.5.0",
            "_view_name": "HBoxView",
            "box_style": "",
            "children": [
              "IPY_MODEL_c3df9639a4be4062bc1620bebb0fd9ba",
              "IPY_MODEL_f889432cec8147b48066e5f181ecbd3c",
              "IPY_MODEL_30d73953da0541c7b5a0b614843fee2a"
            ],
            "layout": "IPY_MODEL_6ce426058517422b9764ab936072b04c"
          }
        },
        "c3df9639a4be4062bc1620bebb0fd9ba": {
          "model_module": "@jupyter-widgets/controls",
          "model_name": "HTMLModel",
          "model_module_version": "1.5.0",
          "state": {
            "_dom_classes": [],
            "_model_module": "@jupyter-widgets/controls",
            "_model_module_version": "1.5.0",
            "_model_name": "HTMLModel",
            "_view_count": null,
            "_view_module": "@jupyter-widgets/controls",
            "_view_module_version": "1.5.0",
            "_view_name": "HTMLView",
            "description": "",
            "description_tooltip": null,
            "layout": "IPY_MODEL_888748abf2e042e5ab53bfdc64a9dbb5",
            "placeholder": "​",
            "style": "IPY_MODEL_897960437cf54691b54038e6dce6a4cb",
            "value": "pytorch_model.bin: 100%"
          }
        },
        "f889432cec8147b48066e5f181ecbd3c": {
          "model_module": "@jupyter-widgets/controls",
          "model_name": "FloatProgressModel",
          "model_module_version": "1.5.0",
          "state": {
            "_dom_classes": [],
            "_model_module": "@jupyter-widgets/controls",
            "_model_module_version": "1.5.0",
            "_model_name": "FloatProgressModel",
            "_view_count": null,
            "_view_module": "@jupyter-widgets/controls",
            "_view_module_version": "1.5.0",
            "_view_name": "ProgressView",
            "bar_style": "success",
            "description": "",
            "description_tooltip": null,
            "layout": "IPY_MODEL_c15eb2fee2e0491cbf43d07e54923792",
            "max": 435778770,
            "min": 0,
            "orientation": "horizontal",
            "style": "IPY_MODEL_ff6cfef69a9042d48a892db8e3038c51",
            "value": 435778770
          }
        },
        "30d73953da0541c7b5a0b614843fee2a": {
          "model_module": "@jupyter-widgets/controls",
          "model_name": "HTMLModel",
          "model_module_version": "1.5.0",
          "state": {
            "_dom_classes": [],
            "_model_module": "@jupyter-widgets/controls",
            "_model_module_version": "1.5.0",
            "_model_name": "HTMLModel",
            "_view_count": null,
            "_view_module": "@jupyter-widgets/controls",
            "_view_module_version": "1.5.0",
            "_view_name": "HTMLView",
            "description": "",
            "description_tooltip": null,
            "layout": "IPY_MODEL_c2a62f1ada6e46ecbd1000e64dd1611c",
            "placeholder": "​",
            "style": "IPY_MODEL_e2e09eef13d542a2a04366654b64ac63",
            "value": " 436M/436M [00:14&lt;00:00, 22.6MB/s]"
          }
        },
        "6ce426058517422b9764ab936072b04c": {
          "model_module": "@jupyter-widgets/base",
          "model_name": "LayoutModel",
          "model_module_version": "1.2.0",
          "state": {
            "_model_module": "@jupyter-widgets/base",
            "_model_module_version": "1.2.0",
            "_model_name": "LayoutModel",
            "_view_count": null,
            "_view_module": "@jupyter-widgets/base",
            "_view_module_version": "1.2.0",
            "_view_name": "LayoutView",
            "align_content": null,
            "align_items": null,
            "align_self": null,
            "border": null,
            "bottom": null,
            "display": null,
            "flex": null,
            "flex_flow": null,
            "grid_area": null,
            "grid_auto_columns": null,
            "grid_auto_flow": null,
            "grid_auto_rows": null,
            "grid_column": null,
            "grid_gap": null,
            "grid_row": null,
            "grid_template_areas": null,
            "grid_template_columns": null,
            "grid_template_rows": null,
            "height": null,
            "justify_content": null,
            "justify_items": null,
            "left": null,
            "margin": null,
            "max_height": null,
            "max_width": null,
            "min_height": null,
            "min_width": null,
            "object_fit": null,
            "object_position": null,
            "order": null,
            "overflow": null,
            "overflow_x": null,
            "overflow_y": null,
            "padding": null,
            "right": null,
            "top": null,
            "visibility": null,
            "width": null
          }
        },
        "888748abf2e042e5ab53bfdc64a9dbb5": {
          "model_module": "@jupyter-widgets/base",
          "model_name": "LayoutModel",
          "model_module_version": "1.2.0",
          "state": {
            "_model_module": "@jupyter-widgets/base",
            "_model_module_version": "1.2.0",
            "_model_name": "LayoutModel",
            "_view_count": null,
            "_view_module": "@jupyter-widgets/base",
            "_view_module_version": "1.2.0",
            "_view_name": "LayoutView",
            "align_content": null,
            "align_items": null,
            "align_self": null,
            "border": null,
            "bottom": null,
            "display": null,
            "flex": null,
            "flex_flow": null,
            "grid_area": null,
            "grid_auto_columns": null,
            "grid_auto_flow": null,
            "grid_auto_rows": null,
            "grid_column": null,
            "grid_gap": null,
            "grid_row": null,
            "grid_template_areas": null,
            "grid_template_columns": null,
            "grid_template_rows": null,
            "height": null,
            "justify_content": null,
            "justify_items": null,
            "left": null,
            "margin": null,
            "max_height": null,
            "max_width": null,
            "min_height": null,
            "min_width": null,
            "object_fit": null,
            "object_position": null,
            "order": null,
            "overflow": null,
            "overflow_x": null,
            "overflow_y": null,
            "padding": null,
            "right": null,
            "top": null,
            "visibility": null,
            "width": null
          }
        },
        "897960437cf54691b54038e6dce6a4cb": {
          "model_module": "@jupyter-widgets/controls",
          "model_name": "DescriptionStyleModel",
          "model_module_version": "1.5.0",
          "state": {
            "_model_module": "@jupyter-widgets/controls",
            "_model_module_version": "1.5.0",
            "_model_name": "DescriptionStyleModel",
            "_view_count": null,
            "_view_module": "@jupyter-widgets/base",
            "_view_module_version": "1.2.0",
            "_view_name": "StyleView",
            "description_width": ""
          }
        },
        "c15eb2fee2e0491cbf43d07e54923792": {
          "model_module": "@jupyter-widgets/base",
          "model_name": "LayoutModel",
          "model_module_version": "1.2.0",
          "state": {
            "_model_module": "@jupyter-widgets/base",
            "_model_module_version": "1.2.0",
            "_model_name": "LayoutModel",
            "_view_count": null,
            "_view_module": "@jupyter-widgets/base",
            "_view_module_version": "1.2.0",
            "_view_name": "LayoutView",
            "align_content": null,
            "align_items": null,
            "align_self": null,
            "border": null,
            "bottom": null,
            "display": null,
            "flex": null,
            "flex_flow": null,
            "grid_area": null,
            "grid_auto_columns": null,
            "grid_auto_flow": null,
            "grid_auto_rows": null,
            "grid_column": null,
            "grid_gap": null,
            "grid_row": null,
            "grid_template_areas": null,
            "grid_template_columns": null,
            "grid_template_rows": null,
            "height": null,
            "justify_content": null,
            "justify_items": null,
            "left": null,
            "margin": null,
            "max_height": null,
            "max_width": null,
            "min_height": null,
            "min_width": null,
            "object_fit": null,
            "object_position": null,
            "order": null,
            "overflow": null,
            "overflow_x": null,
            "overflow_y": null,
            "padding": null,
            "right": null,
            "top": null,
            "visibility": null,
            "width": null
          }
        },
        "ff6cfef69a9042d48a892db8e3038c51": {
          "model_module": "@jupyter-widgets/controls",
          "model_name": "ProgressStyleModel",
          "model_module_version": "1.5.0",
          "state": {
            "_model_module": "@jupyter-widgets/controls",
            "_model_module_version": "1.5.0",
            "_model_name": "ProgressStyleModel",
            "_view_count": null,
            "_view_module": "@jupyter-widgets/base",
            "_view_module_version": "1.2.0",
            "_view_name": "StyleView",
            "bar_color": null,
            "description_width": ""
          }
        },
        "c2a62f1ada6e46ecbd1000e64dd1611c": {
          "model_module": "@jupyter-widgets/base",
          "model_name": "LayoutModel",
          "model_module_version": "1.2.0",
          "state": {
            "_model_module": "@jupyter-widgets/base",
            "_model_module_version": "1.2.0",
            "_model_name": "LayoutModel",
            "_view_count": null,
            "_view_module": "@jupyter-widgets/base",
            "_view_module_version": "1.2.0",
            "_view_name": "LayoutView",
            "align_content": null,
            "align_items": null,
            "align_self": null,
            "border": null,
            "bottom": null,
            "display": null,
            "flex": null,
            "flex_flow": null,
            "grid_area": null,
            "grid_auto_columns": null,
            "grid_auto_flow": null,
            "grid_auto_rows": null,
            "grid_column": null,
            "grid_gap": null,
            "grid_row": null,
            "grid_template_areas": null,
            "grid_template_columns": null,
            "grid_template_rows": null,
            "height": null,
            "justify_content": null,
            "justify_items": null,
            "left": null,
            "margin": null,
            "max_height": null,
            "max_width": null,
            "min_height": null,
            "min_width": null,
            "object_fit": null,
            "object_position": null,
            "order": null,
            "overflow": null,
            "overflow_x": null,
            "overflow_y": null,
            "padding": null,
            "right": null,
            "top": null,
            "visibility": null,
            "width": null
          }
        },
        "e2e09eef13d542a2a04366654b64ac63": {
          "model_module": "@jupyter-widgets/controls",
          "model_name": "DescriptionStyleModel",
          "model_module_version": "1.5.0",
          "state": {
            "_model_module": "@jupyter-widgets/controls",
            "_model_module_version": "1.5.0",
            "_model_name": "DescriptionStyleModel",
            "_view_count": null,
            "_view_module": "@jupyter-widgets/base",
            "_view_module_version": "1.2.0",
            "_view_name": "StyleView",
            "description_width": ""
          }
        }
      }
    }
  },
  "nbformat": 4,
  "nbformat_minor": 0
}