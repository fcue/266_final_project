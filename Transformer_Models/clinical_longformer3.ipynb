{
  "cells": [
    {
      "cell_type": "code",
      "source": [
        "!pip install seqeval"
      ],
      "metadata": {
        "colab": {
          "base_uri": "https://localhost:8080/"
        },
        "id": "MwTyly1qnxxi",
        "outputId": "8e917155-2531-4780-9332-c230e953699c"
      },
      "execution_count": 1,
      "outputs": [
        {
          "output_type": "stream",
          "name": "stdout",
          "text": [
            "Requirement already satisfied: seqeval in /usr/local/lib/python3.10/dist-packages (1.2.2)\n",
            "Requirement already satisfied: numpy>=1.14.0 in /usr/local/lib/python3.10/dist-packages (from seqeval) (1.25.2)\n",
            "Requirement already satisfied: scikit-learn>=0.21.3 in /usr/local/lib/python3.10/dist-packages (from seqeval) (1.2.2)\n",
            "Requirement already satisfied: scipy>=1.3.2 in /usr/local/lib/python3.10/dist-packages (from scikit-learn>=0.21.3->seqeval) (1.11.4)\n",
            "Requirement already satisfied: joblib>=1.1.1 in /usr/local/lib/python3.10/dist-packages (from scikit-learn>=0.21.3->seqeval) (1.3.2)\n",
            "Requirement already satisfied: threadpoolctl>=2.0.0 in /usr/local/lib/python3.10/dist-packages (from scikit-learn>=0.21.3->seqeval) (3.4.0)\n"
          ]
        }
      ]
    },
    {
      "cell_type": "code",
      "execution_count": 2,
      "metadata": {
        "id": "DixhWmqWcy3M"
      },
      "outputs": [],
      "source": [
        "import pandas as pd\n",
        "import numpy as np\n",
        "\n",
        "import torch\n",
        "from torch.utils.data import Dataset, DataLoader\n",
        "from sklearn.metrics import accuracy_score\n"
      ]
    },
    {
      "cell_type": "code",
      "execution_count": 3,
      "metadata": {
        "colab": {
          "base_uri": "https://localhost:8080/"
        },
        "id": "sYBZ86dRc2bq",
        "outputId": "e76e65b5-eb39-4701-febb-321103c7b4b5"
      },
      "outputs": [
        {
          "output_type": "stream",
          "name": "stdout",
          "text": [
            "Drive already mounted at /content/drive; to attempt to forcibly remount, call drive.mount(\"/content/drive\", force_remount=True).\n"
          ]
        }
      ],
      "source": [
        "from google.colab import drive\n",
        "drive.mount('/content/drive')"
      ]
    },
    {
      "cell_type": "code",
      "source": [
        "import os\n",
        "os.environ['PYTORCH_CUDA_ALLOC_CONF'] = 'expandable_segments:True'"
      ],
      "metadata": {
        "id": "BYwLmovB5q4u"
      },
      "execution_count": 4,
      "outputs": []
    },
    {
      "cell_type": "code",
      "source": [
        "# verify GPU\n",
        "from torch import cuda\n",
        "device = 'cuda' if cuda.is_available() else 'cpu'\n",
        "print(device)"
      ],
      "metadata": {
        "colab": {
          "base_uri": "https://localhost:8080/"
        },
        "id": "nPL27mL0_sTC",
        "outputId": "cc5df32a-f37c-4bc8-98e8-d38ae9ffc2b3"
      },
      "execution_count": 5,
      "outputs": [
        {
          "output_type": "stream",
          "name": "stdout",
          "text": [
            "cuda\n"
          ]
        }
      ]
    },
    {
      "cell_type": "markdown",
      "source": [
        "## Convert to DataFrame for EDA"
      ],
      "metadata": {
        "id": "qyMy7PgZ_mME"
      }
    },
    {
      "cell_type": "code",
      "execution_count": 6,
      "metadata": {
        "id": "PBwbw0ddKYcJ"
      },
      "outputs": [],
      "source": [
        "def convert_data(filepath):\n",
        "\n",
        "  # Read the data from the text file\n",
        "  with open(filepath, \"r\") as file:\n",
        "      lines = file.readlines()\n",
        "\n",
        "  # Define an empty list to store the data\n",
        "  data = []\n",
        "\n",
        "  # Iterate over each line in the file\n",
        "  for line in lines:\n",
        "      # Split the line by spaces\n",
        "      parts = line.strip().split()\n",
        "\n",
        "      # Check if the line has the expected number of elements\n",
        "      if len(parts) == 9:\n",
        "          # Extract the values from the line\n",
        "          text_file_name = parts[0]\n",
        "          sentence_line_number = int(parts[1])\n",
        "          sentence_word_index = int(parts[2])\n",
        "          sentence_seq = parts[3]\n",
        "          start_token = int(parts[4])\n",
        "          end_token = int(parts[5])\n",
        "          original_word = parts[6]\n",
        "          word = parts[7]\n",
        "          label = parts[8]\n",
        "\n",
        "          # Append the values as a tuple to the data list\n",
        "          data.append((text_file_name, sentence_line_number, sentence_word_index, sentence_seq,\n",
        "                      start_token, end_token, original_word, word, label))\n",
        "\n",
        "  # Create a DataFrame from the data list with appropriate column names\n",
        "  df = pd.DataFrame(data, columns=['text_file_name', 'sentence_line_number', 'sentence_word_index',\n",
        "                                  'sentence_seq', 'start_token', 'end_token', 'original_word',\n",
        "                                  'word', 'label'])\n",
        "\n",
        "  return df\n"
      ]
    },
    {
      "cell_type": "code",
      "source": [
        "train_data_path = \"/content/drive/MyDrive/266_final/data/Original_text/dataset1_train.txt\"\n",
        "test_data_path = \"/content/drive/MyDrive/266_final/data/Original_text/dataset1_test.txt\"\n",
        "\n",
        "train = convert_data(train_data_path)\n",
        "test = convert_data(test_data_path)\n",
        "\n",
        "print(f\"Length of train: {len(train)}\")\n",
        "print(f\"Length of test: {len(test)}\")\n"
      ],
      "metadata": {
        "colab": {
          "base_uri": "https://localhost:8080/"
        },
        "id": "97zEc_c_qYWJ",
        "outputId": "7828ddf2-3fdb-4ac7-e248-fbcff23b4bb7"
      },
      "execution_count": 7,
      "outputs": [
        {
          "output_type": "stream",
          "name": "stdout",
          "text": [
            "Length of train: 895141\n",
            "Length of test: 585761\n"
          ]
        }
      ]
    },
    {
      "cell_type": "code",
      "source": [
        "df = train.copy()"
      ],
      "metadata": {
        "id": "ipR22Y9PrElo"
      },
      "execution_count": 8,
      "outputs": []
    },
    {
      "cell_type": "code",
      "source": [
        "df['sentence_line_number'].nunique()"
      ],
      "metadata": {
        "colab": {
          "base_uri": "https://localhost:8080/"
        },
        "id": "kqnvelmiGLXi",
        "outputId": "5e9a19b7-c668-457c-cc63-9a9776fc72af"
      },
      "execution_count": 9,
      "outputs": [
        {
          "output_type": "execute_result",
          "data": {
            "text/plain": [
              "1053"
            ]
          },
          "metadata": {},
          "execution_count": 9
        }
      ]
    },
    {
      "cell_type": "code",
      "source": [
        "df.head()"
      ],
      "metadata": {
        "colab": {
          "base_uri": "https://localhost:8080/",
          "height": 206
        },
        "id": "E_JfdXDfoUMk",
        "outputId": "a2cc2931-4775-4376-d025-8c3b31e5aa4d"
      },
      "execution_count": 10,
      "outputs": [
        {
          "output_type": "execute_result",
          "data": {
            "text/plain": [
              "                      text_file_name  sentence_line_number  \\\n",
              "0  data/training_20180910/110727.txt                     1   \n",
              "1  data/training_20180910/110727.txt                     1   \n",
              "2  data/training_20180910/110727.txt                     1   \n",
              "3  data/training_20180910/110727.txt                     1   \n",
              "4  data/training_20180910/110727.txt                     1   \n",
              "\n",
              "   sentence_word_index sentence_seq  start_token  end_token original_word  \\\n",
              "0                    0           NA            0          9     Admission   \n",
              "1                    1           NA           10         14          Date   \n",
              "2                    2           NA           14         15             :   \n",
              "3                    3           NA           17         18             [   \n",
              "4                    4           NA           18         19             *   \n",
              "\n",
              "        word label  \n",
              "0  Admission     O  \n",
              "1       Date     O  \n",
              "2          :     O  \n",
              "3          [     O  \n",
              "4          *     O  "
            ],
            "text/html": [
              "\n",
              "  <div id=\"df-cf6d5b99-895d-4f59-ab07-aa46a170c792\" class=\"colab-df-container\">\n",
              "    <div>\n",
              "<style scoped>\n",
              "    .dataframe tbody tr th:only-of-type {\n",
              "        vertical-align: middle;\n",
              "    }\n",
              "\n",
              "    .dataframe tbody tr th {\n",
              "        vertical-align: top;\n",
              "    }\n",
              "\n",
              "    .dataframe thead th {\n",
              "        text-align: right;\n",
              "    }\n",
              "</style>\n",
              "<table border=\"1\" class=\"dataframe\">\n",
              "  <thead>\n",
              "    <tr style=\"text-align: right;\">\n",
              "      <th></th>\n",
              "      <th>text_file_name</th>\n",
              "      <th>sentence_line_number</th>\n",
              "      <th>sentence_word_index</th>\n",
              "      <th>sentence_seq</th>\n",
              "      <th>start_token</th>\n",
              "      <th>end_token</th>\n",
              "      <th>original_word</th>\n",
              "      <th>word</th>\n",
              "      <th>label</th>\n",
              "    </tr>\n",
              "  </thead>\n",
              "  <tbody>\n",
              "    <tr>\n",
              "      <th>0</th>\n",
              "      <td>data/training_20180910/110727.txt</td>\n",
              "      <td>1</td>\n",
              "      <td>0</td>\n",
              "      <td>NA</td>\n",
              "      <td>0</td>\n",
              "      <td>9</td>\n",
              "      <td>Admission</td>\n",
              "      <td>Admission</td>\n",
              "      <td>O</td>\n",
              "    </tr>\n",
              "    <tr>\n",
              "      <th>1</th>\n",
              "      <td>data/training_20180910/110727.txt</td>\n",
              "      <td>1</td>\n",
              "      <td>1</td>\n",
              "      <td>NA</td>\n",
              "      <td>10</td>\n",
              "      <td>14</td>\n",
              "      <td>Date</td>\n",
              "      <td>Date</td>\n",
              "      <td>O</td>\n",
              "    </tr>\n",
              "    <tr>\n",
              "      <th>2</th>\n",
              "      <td>data/training_20180910/110727.txt</td>\n",
              "      <td>1</td>\n",
              "      <td>2</td>\n",
              "      <td>NA</td>\n",
              "      <td>14</td>\n",
              "      <td>15</td>\n",
              "      <td>:</td>\n",
              "      <td>:</td>\n",
              "      <td>O</td>\n",
              "    </tr>\n",
              "    <tr>\n",
              "      <th>3</th>\n",
              "      <td>data/training_20180910/110727.txt</td>\n",
              "      <td>1</td>\n",
              "      <td>3</td>\n",
              "      <td>NA</td>\n",
              "      <td>17</td>\n",
              "      <td>18</td>\n",
              "      <td>[</td>\n",
              "      <td>[</td>\n",
              "      <td>O</td>\n",
              "    </tr>\n",
              "    <tr>\n",
              "      <th>4</th>\n",
              "      <td>data/training_20180910/110727.txt</td>\n",
              "      <td>1</td>\n",
              "      <td>4</td>\n",
              "      <td>NA</td>\n",
              "      <td>18</td>\n",
              "      <td>19</td>\n",
              "      <td>*</td>\n",
              "      <td>*</td>\n",
              "      <td>O</td>\n",
              "    </tr>\n",
              "  </tbody>\n",
              "</table>\n",
              "</div>\n",
              "    <div class=\"colab-df-buttons\">\n",
              "\n",
              "  <div class=\"colab-df-container\">\n",
              "    <button class=\"colab-df-convert\" onclick=\"convertToInteractive('df-cf6d5b99-895d-4f59-ab07-aa46a170c792')\"\n",
              "            title=\"Convert this dataframe to an interactive table.\"\n",
              "            style=\"display:none;\">\n",
              "\n",
              "  <svg xmlns=\"http://www.w3.org/2000/svg\" height=\"24px\" viewBox=\"0 -960 960 960\">\n",
              "    <path d=\"M120-120v-720h720v720H120Zm60-500h600v-160H180v160Zm220 220h160v-160H400v160Zm0 220h160v-160H400v160ZM180-400h160v-160H180v160Zm440 0h160v-160H620v160ZM180-180h160v-160H180v160Zm440 0h160v-160H620v160Z\"/>\n",
              "  </svg>\n",
              "    </button>\n",
              "\n",
              "  <style>\n",
              "    .colab-df-container {\n",
              "      display:flex;\n",
              "      gap: 12px;\n",
              "    }\n",
              "\n",
              "    .colab-df-convert {\n",
              "      background-color: #E8F0FE;\n",
              "      border: none;\n",
              "      border-radius: 50%;\n",
              "      cursor: pointer;\n",
              "      display: none;\n",
              "      fill: #1967D2;\n",
              "      height: 32px;\n",
              "      padding: 0 0 0 0;\n",
              "      width: 32px;\n",
              "    }\n",
              "\n",
              "    .colab-df-convert:hover {\n",
              "      background-color: #E2EBFA;\n",
              "      box-shadow: 0px 1px 2px rgba(60, 64, 67, 0.3), 0px 1px 3px 1px rgba(60, 64, 67, 0.15);\n",
              "      fill: #174EA6;\n",
              "    }\n",
              "\n",
              "    .colab-df-buttons div {\n",
              "      margin-bottom: 4px;\n",
              "    }\n",
              "\n",
              "    [theme=dark] .colab-df-convert {\n",
              "      background-color: #3B4455;\n",
              "      fill: #D2E3FC;\n",
              "    }\n",
              "\n",
              "    [theme=dark] .colab-df-convert:hover {\n",
              "      background-color: #434B5C;\n",
              "      box-shadow: 0px 1px 3px 1px rgba(0, 0, 0, 0.15);\n",
              "      filter: drop-shadow(0px 1px 2px rgba(0, 0, 0, 0.3));\n",
              "      fill: #FFFFFF;\n",
              "    }\n",
              "  </style>\n",
              "\n",
              "    <script>\n",
              "      const buttonEl =\n",
              "        document.querySelector('#df-cf6d5b99-895d-4f59-ab07-aa46a170c792 button.colab-df-convert');\n",
              "      buttonEl.style.display =\n",
              "        google.colab.kernel.accessAllowed ? 'block' : 'none';\n",
              "\n",
              "      async function convertToInteractive(key) {\n",
              "        const element = document.querySelector('#df-cf6d5b99-895d-4f59-ab07-aa46a170c792');\n",
              "        const dataTable =\n",
              "          await google.colab.kernel.invokeFunction('convertToInteractive',\n",
              "                                                    [key], {});\n",
              "        if (!dataTable) return;\n",
              "\n",
              "        const docLinkHtml = 'Like what you see? Visit the ' +\n",
              "          '<a target=\"_blank\" href=https://colab.research.google.com/notebooks/data_table.ipynb>data table notebook</a>'\n",
              "          + ' to learn more about interactive tables.';\n",
              "        element.innerHTML = '';\n",
              "        dataTable['output_type'] = 'display_data';\n",
              "        await google.colab.output.renderOutput(dataTable, element);\n",
              "        const docLink = document.createElement('div');\n",
              "        docLink.innerHTML = docLinkHtml;\n",
              "        element.appendChild(docLink);\n",
              "      }\n",
              "    </script>\n",
              "  </div>\n",
              "\n",
              "\n",
              "<div id=\"df-52b21500-8104-4834-94e6-6b6585eb4c0f\">\n",
              "  <button class=\"colab-df-quickchart\" onclick=\"quickchart('df-52b21500-8104-4834-94e6-6b6585eb4c0f')\"\n",
              "            title=\"Suggest charts\"\n",
              "            style=\"display:none;\">\n",
              "\n",
              "<svg xmlns=\"http://www.w3.org/2000/svg\" height=\"24px\"viewBox=\"0 0 24 24\"\n",
              "     width=\"24px\">\n",
              "    <g>\n",
              "        <path d=\"M19 3H5c-1.1 0-2 .9-2 2v14c0 1.1.9 2 2 2h14c1.1 0 2-.9 2-2V5c0-1.1-.9-2-2-2zM9 17H7v-7h2v7zm4 0h-2V7h2v10zm4 0h-2v-4h2v4z\"/>\n",
              "    </g>\n",
              "</svg>\n",
              "  </button>\n",
              "\n",
              "<style>\n",
              "  .colab-df-quickchart {\n",
              "      --bg-color: #E8F0FE;\n",
              "      --fill-color: #1967D2;\n",
              "      --hover-bg-color: #E2EBFA;\n",
              "      --hover-fill-color: #174EA6;\n",
              "      --disabled-fill-color: #AAA;\n",
              "      --disabled-bg-color: #DDD;\n",
              "  }\n",
              "\n",
              "  [theme=dark] .colab-df-quickchart {\n",
              "      --bg-color: #3B4455;\n",
              "      --fill-color: #D2E3FC;\n",
              "      --hover-bg-color: #434B5C;\n",
              "      --hover-fill-color: #FFFFFF;\n",
              "      --disabled-bg-color: #3B4455;\n",
              "      --disabled-fill-color: #666;\n",
              "  }\n",
              "\n",
              "  .colab-df-quickchart {\n",
              "    background-color: var(--bg-color);\n",
              "    border: none;\n",
              "    border-radius: 50%;\n",
              "    cursor: pointer;\n",
              "    display: none;\n",
              "    fill: var(--fill-color);\n",
              "    height: 32px;\n",
              "    padding: 0;\n",
              "    width: 32px;\n",
              "  }\n",
              "\n",
              "  .colab-df-quickchart:hover {\n",
              "    background-color: var(--hover-bg-color);\n",
              "    box-shadow: 0 1px 2px rgba(60, 64, 67, 0.3), 0 1px 3px 1px rgba(60, 64, 67, 0.15);\n",
              "    fill: var(--button-hover-fill-color);\n",
              "  }\n",
              "\n",
              "  .colab-df-quickchart-complete:disabled,\n",
              "  .colab-df-quickchart-complete:disabled:hover {\n",
              "    background-color: var(--disabled-bg-color);\n",
              "    fill: var(--disabled-fill-color);\n",
              "    box-shadow: none;\n",
              "  }\n",
              "\n",
              "  .colab-df-spinner {\n",
              "    border: 2px solid var(--fill-color);\n",
              "    border-color: transparent;\n",
              "    border-bottom-color: var(--fill-color);\n",
              "    animation:\n",
              "      spin 1s steps(1) infinite;\n",
              "  }\n",
              "\n",
              "  @keyframes spin {\n",
              "    0% {\n",
              "      border-color: transparent;\n",
              "      border-bottom-color: var(--fill-color);\n",
              "      border-left-color: var(--fill-color);\n",
              "    }\n",
              "    20% {\n",
              "      border-color: transparent;\n",
              "      border-left-color: var(--fill-color);\n",
              "      border-top-color: var(--fill-color);\n",
              "    }\n",
              "    30% {\n",
              "      border-color: transparent;\n",
              "      border-left-color: var(--fill-color);\n",
              "      border-top-color: var(--fill-color);\n",
              "      border-right-color: var(--fill-color);\n",
              "    }\n",
              "    40% {\n",
              "      border-color: transparent;\n",
              "      border-right-color: var(--fill-color);\n",
              "      border-top-color: var(--fill-color);\n",
              "    }\n",
              "    60% {\n",
              "      border-color: transparent;\n",
              "      border-right-color: var(--fill-color);\n",
              "    }\n",
              "    80% {\n",
              "      border-color: transparent;\n",
              "      border-right-color: var(--fill-color);\n",
              "      border-bottom-color: var(--fill-color);\n",
              "    }\n",
              "    90% {\n",
              "      border-color: transparent;\n",
              "      border-bottom-color: var(--fill-color);\n",
              "    }\n",
              "  }\n",
              "</style>\n",
              "\n",
              "  <script>\n",
              "    async function quickchart(key) {\n",
              "      const quickchartButtonEl =\n",
              "        document.querySelector('#' + key + ' button');\n",
              "      quickchartButtonEl.disabled = true;  // To prevent multiple clicks.\n",
              "      quickchartButtonEl.classList.add('colab-df-spinner');\n",
              "      try {\n",
              "        const charts = await google.colab.kernel.invokeFunction(\n",
              "            'suggestCharts', [key], {});\n",
              "      } catch (error) {\n",
              "        console.error('Error during call to suggestCharts:', error);\n",
              "      }\n",
              "      quickchartButtonEl.classList.remove('colab-df-spinner');\n",
              "      quickchartButtonEl.classList.add('colab-df-quickchart-complete');\n",
              "    }\n",
              "    (() => {\n",
              "      let quickchartButtonEl =\n",
              "        document.querySelector('#df-52b21500-8104-4834-94e6-6b6585eb4c0f button');\n",
              "      quickchartButtonEl.style.display =\n",
              "        google.colab.kernel.accessAllowed ? 'block' : 'none';\n",
              "    })();\n",
              "  </script>\n",
              "</div>\n",
              "\n",
              "    </div>\n",
              "  </div>\n"
            ],
            "application/vnd.google.colaboratory.intrinsic+json": {
              "type": "dataframe",
              "variable_name": "df"
            }
          },
          "metadata": {},
          "execution_count": 10
        }
      ]
    },
    {
      "cell_type": "code",
      "execution_count": 11,
      "metadata": {
        "colab": {
          "base_uri": "https://localhost:8080/"
        },
        "id": "fVvq1qgWw1vR",
        "outputId": "fc70f986-9605-4b39-bb15-da7a9bbbe5bb"
      },
      "outputs": [
        {
          "output_type": "execute_result",
          "data": {
            "text/plain": [
              "label\n",
              "O              802045\n",
              "B-Drug          16222\n",
              "I-Frequency     13023\n",
              "I-Dosage         8779\n",
              "B-Strength       6691\n",
              "B-Form           6647\n",
              "I-Strength       6617\n",
              "B-Frequency      6279\n",
              "B-Route          5475\n",
              "I-Drug           4298\n",
              "B-Dosage         4221\n",
              "I-Form           4173\n",
              "B-Reason         3791\n",
              "I-Reason         3125\n",
              "I-Duration       1034\n",
              "B-ADE             956\n",
              "I-ADE             776\n",
              "B-Duration        592\n",
              "I-Route           397\n",
              "Name: count, dtype: int64"
            ]
          },
          "metadata": {},
          "execution_count": 11
        }
      ],
      "source": [
        "df['label'].value_counts()"
      ]
    },
    {
      "cell_type": "markdown",
      "source": [
        "### Label labels"
      ],
      "metadata": {
        "id": "GWzDzNtXJRSa"
      }
    },
    {
      "cell_type": "code",
      "execution_count": 13,
      "metadata": {
        "colab": {
          "base_uri": "https://localhost:8080/"
        },
        "id": "CXnnrZqSIX95",
        "outputId": "585c1cec-df2e-481d-c32c-4989f5e2aa6d"
      },
      "outputs": [
        {
          "output_type": "stream",
          "name": "stdout",
          "text": [
            "{'I-ADE', 'B-Strength', 'B-Dosage', 'I-Reason', 'I-Dosage', 'B-Route', 'I-Strength', 'B-Duration', 'B-Frequency', 'I-Route', 'I-Duration', 'B-ADE', 'B-Reason', 'I-Drug', 'O', 'B-Form', 'I-Frequency', 'I-Form', 'B-Drug'}\n"
          ]
        }
      ],
      "source": [
        "labels = [i.split() for i in df['label'].values.tolist()]\n",
        "\n",
        "\n",
        "unique_labels = set()\n",
        "\n",
        "for lb in labels:\n",
        "  [unique_labels.add(i) for i in lb if i not in unique_labels]\n",
        "\n",
        "print(unique_labels)"
      ]
    },
    {
      "cell_type": "code",
      "execution_count": 14,
      "metadata": {
        "colab": {
          "base_uri": "https://localhost:8080/"
        },
        "id": "ux83z2FGLU05",
        "outputId": "cf02f45d-e5fc-452f-8e43-1be80f4db7ee"
      },
      "outputs": [
        {
          "output_type": "stream",
          "name": "stdout",
          "text": [
            "{'B-ADE': 0, 'B-Dosage': 1, 'B-Drug': 2, 'B-Duration': 3, 'B-Form': 4, 'B-Frequency': 5, 'B-Reason': 6, 'B-Route': 7, 'B-Strength': 8, 'I-ADE': 9, 'I-Dosage': 10, 'I-Drug': 11, 'I-Duration': 12, 'I-Form': 13, 'I-Frequency': 14, 'I-Reason': 15, 'I-Route': 16, 'I-Strength': 17, 'O': 18}\n"
          ]
        }
      ],
      "source": [
        "# Map each label into its id representation and vice versa\n",
        "labels_to_ids = {k: v for v, k in enumerate(sorted(unique_labels))}\n",
        "ids_to_labels = {v: k for v, k in enumerate(sorted(unique_labels))}\n",
        "print(labels_to_ids)"
      ]
    },
    {
      "cell_type": "code",
      "source": [
        "def formatted_df_cl(df):\n",
        "  df['sentence'] = df[[\n",
        "      'text_file_name',\n",
        "      'original_word',\n",
        "      'label']].groupby(\n",
        "          ['text_file_name'])['original_word'].transform(lambda x: ' '.join(x))\n",
        "\n",
        "  df['word_labels'] = df[[\n",
        "      'text_file_name',\n",
        "      'original_word',\n",
        "      'label']].groupby(\n",
        "          ['text_file_name'])['label'].transform(lambda x: ','.join(x))\n",
        "\n",
        "  return df"
      ],
      "metadata": {
        "id": "AY-2vTLnodGd"
      },
      "execution_count": 15,
      "outputs": []
    },
    {
      "cell_type": "code",
      "source": [
        "df = formatted_df_cl(df)\n",
        "test = formatted_df_cl(test)"
      ],
      "metadata": {
        "id": "qNJIWjL1sGg9"
      },
      "execution_count": 16,
      "outputs": []
    },
    {
      "cell_type": "code",
      "source": [
        "df.iloc[0]"
      ],
      "metadata": {
        "colab": {
          "base_uri": "https://localhost:8080/"
        },
        "id": "Jkb2_rCOxPhB",
        "outputId": "8fabfb09-31f7-434b-df61-068d0cfbc777"
      },
      "execution_count": 17,
      "outputs": [
        {
          "output_type": "execute_result",
          "data": {
            "text/plain": [
              "text_file_name                          data/training_20180910/110727.txt\n",
              "sentence_line_number                                                    1\n",
              "sentence_word_index                                                     0\n",
              "sentence_seq                                                           NA\n",
              "start_token                                                             0\n",
              "end_token                                                               9\n",
              "original_word                                                   Admission\n",
              "word                                                            Admission\n",
              "label                                                                   O\n",
              "sentence                Admission Date : [ * * 2202 - 1 - 8 * * ] Disc...\n",
              "word_labels             O,O,O,O,O,O,O,O,O,O,O,O,O,O,O,O,O,O,O,O,O,O,O,...\n",
              "Name: 0, dtype: object"
            ]
          },
          "metadata": {},
          "execution_count": 17
        }
      ]
    },
    {
      "cell_type": "code",
      "source": [
        "def sentence_level_data(df):\n",
        "  sentence_level_data = df[[\"sentence\", \"word_labels\"]].drop_duplicates().reset_index(drop=True)\n",
        "  return sentence_level_data"
      ],
      "metadata": {
        "id": "l3zrCBf-sfe-"
      },
      "execution_count": 18,
      "outputs": []
    },
    {
      "cell_type": "code",
      "source": [
        "sentence_level_train = sentence_level_data(df)\n",
        "sentence_level_test = sentence_level_data(test)"
      ],
      "metadata": {
        "id": "O2f8oq0fssJd"
      },
      "execution_count": 20,
      "outputs": []
    },
    {
      "cell_type": "code",
      "source": [
        "data_train = sentence_level_train.copy()\n",
        "data_test = sentence_level_test.copy()"
      ],
      "metadata": {
        "id": "745qa3MhQpM7"
      },
      "execution_count": 23,
      "outputs": []
    },
    {
      "cell_type": "code",
      "source": [
        "data_train.head()"
      ],
      "metadata": {
        "colab": {
          "base_uri": "https://localhost:8080/",
          "height": 206
        },
        "id": "T-NdnbvtFcKI",
        "outputId": "49ca086b-30fb-40e5-d370-a889cd81a21d"
      },
      "execution_count": 24,
      "outputs": [
        {
          "output_type": "execute_result",
          "data": {
            "text/plain": [
              "                                            sentence  \\\n",
              "0  Admission Date : [ * * 2202 - 1 - 8 * * ] Disc...   \n",
              "1  Admission Date : [ * * 2130 - 10 - 2 * * ] Dis...   \n",
              "2  Admission Date : [ * * 2151 - 1 - 25 * * ] Dis...   \n",
              "3  Admission Date : [ * * 2193 - 12 - 23 * * ] Di...   \n",
              "4  Admission Date : [ * * 2133 - 3 - 28 * * ] Dis...   \n",
              "\n",
              "                                         word_labels  \n",
              "0  O,O,O,O,O,O,O,O,O,O,O,O,O,O,O,O,O,O,O,O,O,O,O,...  \n",
              "1  O,O,O,O,O,O,O,O,O,O,O,O,O,O,O,O,O,O,O,O,O,O,O,...  \n",
              "2  O,O,O,O,O,O,O,O,O,O,O,O,O,O,O,O,O,O,O,O,O,O,O,...  \n",
              "3  O,O,O,O,O,O,O,O,O,O,O,O,O,O,O,O,O,O,O,O,O,O,O,...  \n",
              "4  O,O,O,O,O,O,O,O,O,O,O,O,O,O,O,O,O,O,O,O,O,O,O,...  "
            ],
            "text/html": [
              "\n",
              "  <div id=\"df-8dffd680-ba0d-4ae4-848c-a85ef6461f0d\" class=\"colab-df-container\">\n",
              "    <div>\n",
              "<style scoped>\n",
              "    .dataframe tbody tr th:only-of-type {\n",
              "        vertical-align: middle;\n",
              "    }\n",
              "\n",
              "    .dataframe tbody tr th {\n",
              "        vertical-align: top;\n",
              "    }\n",
              "\n",
              "    .dataframe thead th {\n",
              "        text-align: right;\n",
              "    }\n",
              "</style>\n",
              "<table border=\"1\" class=\"dataframe\">\n",
              "  <thead>\n",
              "    <tr style=\"text-align: right;\">\n",
              "      <th></th>\n",
              "      <th>sentence</th>\n",
              "      <th>word_labels</th>\n",
              "    </tr>\n",
              "  </thead>\n",
              "  <tbody>\n",
              "    <tr>\n",
              "      <th>0</th>\n",
              "      <td>Admission Date : [ * * 2202 - 1 - 8 * * ] Disc...</td>\n",
              "      <td>O,O,O,O,O,O,O,O,O,O,O,O,O,O,O,O,O,O,O,O,O,O,O,...</td>\n",
              "    </tr>\n",
              "    <tr>\n",
              "      <th>1</th>\n",
              "      <td>Admission Date : [ * * 2130 - 10 - 2 * * ] Dis...</td>\n",
              "      <td>O,O,O,O,O,O,O,O,O,O,O,O,O,O,O,O,O,O,O,O,O,O,O,...</td>\n",
              "    </tr>\n",
              "    <tr>\n",
              "      <th>2</th>\n",
              "      <td>Admission Date : [ * * 2151 - 1 - 25 * * ] Dis...</td>\n",
              "      <td>O,O,O,O,O,O,O,O,O,O,O,O,O,O,O,O,O,O,O,O,O,O,O,...</td>\n",
              "    </tr>\n",
              "    <tr>\n",
              "      <th>3</th>\n",
              "      <td>Admission Date : [ * * 2193 - 12 - 23 * * ] Di...</td>\n",
              "      <td>O,O,O,O,O,O,O,O,O,O,O,O,O,O,O,O,O,O,O,O,O,O,O,...</td>\n",
              "    </tr>\n",
              "    <tr>\n",
              "      <th>4</th>\n",
              "      <td>Admission Date : [ * * 2133 - 3 - 28 * * ] Dis...</td>\n",
              "      <td>O,O,O,O,O,O,O,O,O,O,O,O,O,O,O,O,O,O,O,O,O,O,O,...</td>\n",
              "    </tr>\n",
              "  </tbody>\n",
              "</table>\n",
              "</div>\n",
              "    <div class=\"colab-df-buttons\">\n",
              "\n",
              "  <div class=\"colab-df-container\">\n",
              "    <button class=\"colab-df-convert\" onclick=\"convertToInteractive('df-8dffd680-ba0d-4ae4-848c-a85ef6461f0d')\"\n",
              "            title=\"Convert this dataframe to an interactive table.\"\n",
              "            style=\"display:none;\">\n",
              "\n",
              "  <svg xmlns=\"http://www.w3.org/2000/svg\" height=\"24px\" viewBox=\"0 -960 960 960\">\n",
              "    <path d=\"M120-120v-720h720v720H120Zm60-500h600v-160H180v160Zm220 220h160v-160H400v160Zm0 220h160v-160H400v160ZM180-400h160v-160H180v160Zm440 0h160v-160H620v160ZM180-180h160v-160H180v160Zm440 0h160v-160H620v160Z\"/>\n",
              "  </svg>\n",
              "    </button>\n",
              "\n",
              "  <style>\n",
              "    .colab-df-container {\n",
              "      display:flex;\n",
              "      gap: 12px;\n",
              "    }\n",
              "\n",
              "    .colab-df-convert {\n",
              "      background-color: #E8F0FE;\n",
              "      border: none;\n",
              "      border-radius: 50%;\n",
              "      cursor: pointer;\n",
              "      display: none;\n",
              "      fill: #1967D2;\n",
              "      height: 32px;\n",
              "      padding: 0 0 0 0;\n",
              "      width: 32px;\n",
              "    }\n",
              "\n",
              "    .colab-df-convert:hover {\n",
              "      background-color: #E2EBFA;\n",
              "      box-shadow: 0px 1px 2px rgba(60, 64, 67, 0.3), 0px 1px 3px 1px rgba(60, 64, 67, 0.15);\n",
              "      fill: #174EA6;\n",
              "    }\n",
              "\n",
              "    .colab-df-buttons div {\n",
              "      margin-bottom: 4px;\n",
              "    }\n",
              "\n",
              "    [theme=dark] .colab-df-convert {\n",
              "      background-color: #3B4455;\n",
              "      fill: #D2E3FC;\n",
              "    }\n",
              "\n",
              "    [theme=dark] .colab-df-convert:hover {\n",
              "      background-color: #434B5C;\n",
              "      box-shadow: 0px 1px 3px 1px rgba(0, 0, 0, 0.15);\n",
              "      filter: drop-shadow(0px 1px 2px rgba(0, 0, 0, 0.3));\n",
              "      fill: #FFFFFF;\n",
              "    }\n",
              "  </style>\n",
              "\n",
              "    <script>\n",
              "      const buttonEl =\n",
              "        document.querySelector('#df-8dffd680-ba0d-4ae4-848c-a85ef6461f0d button.colab-df-convert');\n",
              "      buttonEl.style.display =\n",
              "        google.colab.kernel.accessAllowed ? 'block' : 'none';\n",
              "\n",
              "      async function convertToInteractive(key) {\n",
              "        const element = document.querySelector('#df-8dffd680-ba0d-4ae4-848c-a85ef6461f0d');\n",
              "        const dataTable =\n",
              "          await google.colab.kernel.invokeFunction('convertToInteractive',\n",
              "                                                    [key], {});\n",
              "        if (!dataTable) return;\n",
              "\n",
              "        const docLinkHtml = 'Like what you see? Visit the ' +\n",
              "          '<a target=\"_blank\" href=https://colab.research.google.com/notebooks/data_table.ipynb>data table notebook</a>'\n",
              "          + ' to learn more about interactive tables.';\n",
              "        element.innerHTML = '';\n",
              "        dataTable['output_type'] = 'display_data';\n",
              "        await google.colab.output.renderOutput(dataTable, element);\n",
              "        const docLink = document.createElement('div');\n",
              "        docLink.innerHTML = docLinkHtml;\n",
              "        element.appendChild(docLink);\n",
              "      }\n",
              "    </script>\n",
              "  </div>\n",
              "\n",
              "\n",
              "<div id=\"df-6dada17c-d2ef-496d-8c2d-26ee2fcc1979\">\n",
              "  <button class=\"colab-df-quickchart\" onclick=\"quickchart('df-6dada17c-d2ef-496d-8c2d-26ee2fcc1979')\"\n",
              "            title=\"Suggest charts\"\n",
              "            style=\"display:none;\">\n",
              "\n",
              "<svg xmlns=\"http://www.w3.org/2000/svg\" height=\"24px\"viewBox=\"0 0 24 24\"\n",
              "     width=\"24px\">\n",
              "    <g>\n",
              "        <path d=\"M19 3H5c-1.1 0-2 .9-2 2v14c0 1.1.9 2 2 2h14c1.1 0 2-.9 2-2V5c0-1.1-.9-2-2-2zM9 17H7v-7h2v7zm4 0h-2V7h2v10zm4 0h-2v-4h2v4z\"/>\n",
              "    </g>\n",
              "</svg>\n",
              "  </button>\n",
              "\n",
              "<style>\n",
              "  .colab-df-quickchart {\n",
              "      --bg-color: #E8F0FE;\n",
              "      --fill-color: #1967D2;\n",
              "      --hover-bg-color: #E2EBFA;\n",
              "      --hover-fill-color: #174EA6;\n",
              "      --disabled-fill-color: #AAA;\n",
              "      --disabled-bg-color: #DDD;\n",
              "  }\n",
              "\n",
              "  [theme=dark] .colab-df-quickchart {\n",
              "      --bg-color: #3B4455;\n",
              "      --fill-color: #D2E3FC;\n",
              "      --hover-bg-color: #434B5C;\n",
              "      --hover-fill-color: #FFFFFF;\n",
              "      --disabled-bg-color: #3B4455;\n",
              "      --disabled-fill-color: #666;\n",
              "  }\n",
              "\n",
              "  .colab-df-quickchart {\n",
              "    background-color: var(--bg-color);\n",
              "    border: none;\n",
              "    border-radius: 50%;\n",
              "    cursor: pointer;\n",
              "    display: none;\n",
              "    fill: var(--fill-color);\n",
              "    height: 32px;\n",
              "    padding: 0;\n",
              "    width: 32px;\n",
              "  }\n",
              "\n",
              "  .colab-df-quickchart:hover {\n",
              "    background-color: var(--hover-bg-color);\n",
              "    box-shadow: 0 1px 2px rgba(60, 64, 67, 0.3), 0 1px 3px 1px rgba(60, 64, 67, 0.15);\n",
              "    fill: var(--button-hover-fill-color);\n",
              "  }\n",
              "\n",
              "  .colab-df-quickchart-complete:disabled,\n",
              "  .colab-df-quickchart-complete:disabled:hover {\n",
              "    background-color: var(--disabled-bg-color);\n",
              "    fill: var(--disabled-fill-color);\n",
              "    box-shadow: none;\n",
              "  }\n",
              "\n",
              "  .colab-df-spinner {\n",
              "    border: 2px solid var(--fill-color);\n",
              "    border-color: transparent;\n",
              "    border-bottom-color: var(--fill-color);\n",
              "    animation:\n",
              "      spin 1s steps(1) infinite;\n",
              "  }\n",
              "\n",
              "  @keyframes spin {\n",
              "    0% {\n",
              "      border-color: transparent;\n",
              "      border-bottom-color: var(--fill-color);\n",
              "      border-left-color: var(--fill-color);\n",
              "    }\n",
              "    20% {\n",
              "      border-color: transparent;\n",
              "      border-left-color: var(--fill-color);\n",
              "      border-top-color: var(--fill-color);\n",
              "    }\n",
              "    30% {\n",
              "      border-color: transparent;\n",
              "      border-left-color: var(--fill-color);\n",
              "      border-top-color: var(--fill-color);\n",
              "      border-right-color: var(--fill-color);\n",
              "    }\n",
              "    40% {\n",
              "      border-color: transparent;\n",
              "      border-right-color: var(--fill-color);\n",
              "      border-top-color: var(--fill-color);\n",
              "    }\n",
              "    60% {\n",
              "      border-color: transparent;\n",
              "      border-right-color: var(--fill-color);\n",
              "    }\n",
              "    80% {\n",
              "      border-color: transparent;\n",
              "      border-right-color: var(--fill-color);\n",
              "      border-bottom-color: var(--fill-color);\n",
              "    }\n",
              "    90% {\n",
              "      border-color: transparent;\n",
              "      border-bottom-color: var(--fill-color);\n",
              "    }\n",
              "  }\n",
              "</style>\n",
              "\n",
              "  <script>\n",
              "    async function quickchart(key) {\n",
              "      const quickchartButtonEl =\n",
              "        document.querySelector('#' + key + ' button');\n",
              "      quickchartButtonEl.disabled = true;  // To prevent multiple clicks.\n",
              "      quickchartButtonEl.classList.add('colab-df-spinner');\n",
              "      try {\n",
              "        const charts = await google.colab.kernel.invokeFunction(\n",
              "            'suggestCharts', [key], {});\n",
              "      } catch (error) {\n",
              "        console.error('Error during call to suggestCharts:', error);\n",
              "      }\n",
              "      quickchartButtonEl.classList.remove('colab-df-spinner');\n",
              "      quickchartButtonEl.classList.add('colab-df-quickchart-complete');\n",
              "    }\n",
              "    (() => {\n",
              "      let quickchartButtonEl =\n",
              "        document.querySelector('#df-6dada17c-d2ef-496d-8c2d-26ee2fcc1979 button');\n",
              "      quickchartButtonEl.style.display =\n",
              "        google.colab.kernel.accessAllowed ? 'block' : 'none';\n",
              "    })();\n",
              "  </script>\n",
              "</div>\n",
              "\n",
              "    </div>\n",
              "  </div>\n"
            ],
            "application/vnd.google.colaboratory.intrinsic+json": {
              "type": "dataframe",
              "variable_name": "data_train",
              "summary": "{\n  \"name\": \"data_train\",\n  \"rows\": 303,\n  \"fields\": [\n    {\n      \"column\": \"sentence\",\n      \"properties\": {\n        \"dtype\": \"string\",\n        \"num_unique_values\": 303,\n        \"samples\": [\n          \"Name : [ * * Known lastname * * ] , [ * * Known firstname 9188 * * ] Unit No : [ * * Numeric Identifier 15402 * * ] Admission Date : [ * * 2107 - 3 - 4 * * ] Discharge Date : [ * * 2107 - 3 - 10 * * ] Date of Birth : [ * * 2029 - 12 - 14 * * ] Sex : F Service : FINAL DISCHARGE MEDICATIONS : 1 . Heparin 5 , 000 units subq q.8 . 2 . Acetaminophen 325 mg 1 - 2 tablets p.o . q.4 - 6h . prn . 3 . Olanzapin e 2.5 mg p.o . q.i.d . prn . 4 . Docusate 100 mg p.o . b.i.d . prn . 5 . Senna 8.6 mg p.o . b.i.d . prn . 6 . Carbidopa/ levodopa 25/100 mg one tablet p.o . t.i.d . 7 . Levothyroxine 100 mcg p.o . q.d . 8 . Valsartan/ hydrochlorothiazide 80/12.5 mg one tablet p.o . q.d . FOLLOW - UP PLANS : Patient has follow up with neurologist on [ * * 2107 - 4 - 25 * * ] at 12 p.m . Patient will need outpatient psychiatric followup , which can be arranged by the rehab facility or the patient's PCP . [ * * Name10 ( NameIs ) 15403 * * ] patient will likely need close followup of thyroid replacement medication as she will likely require a lower dose of exogenous thyroid in the future as she is unlikely to be reinstated on Lithium therapy . [ * * First Name11 ( Name Pattern1 ) 499 * * ] [ * * Last Name ( NamePattern4 ) 2839 * * ] , M.D . [ * * MD Number ( 1 ) 2840 * * ] Dictated By : [ * * Last Name ( NamePattern1 ) 9981 * * ] MEDQUIST36 D : [ * * 2107 - 3 - 10 * * ] 15 : 04 T : [ * * 2107 - 3 - 11 * * ] 04 : 24 JOB # : [ * * Job Number 15404 * * ]\",\n          \"Admission Date : [ * * 2176 - 7 - 5 * * ] Discharge Date : [ * * 2176 - 7 - 7 * * ] Service : SURGERY Allergies : Amoxicillin / Penicillins / Coumadin / Oxycodone / Megestrol Acetate / Remeron / Ritalin Attending : [ * * First Name3 ( LF ) 301 * * ] Chief Complaint : Free air on CXR Major Surgical or Invasive Procedure : None History of Present Illness : Pt is a 87 y/o male with extensive past medical history who was recently discharged after admission for possible meningitis/altered mental status . During that admission the patient was found to be a significant aspiration risk and a G - tube was placed by interventional radiology . He was discharged to [ * * Hospital * * ] rehab in good condition off all antibiotics on [ * * 7 - 4 * * ] . He presents today after a routine CXR was performed at [ * * Hospital * * ] rehab which demonstrated free intra - abdominal air beneath the right hemidiaphragm . The patient was subsequently transfered to [ * * Hospital1 18 * * ] for evaluation . At the time of presentation he was in no acute distress , without complaints of pain , nausea/vomiting , fever/chills . He had a suprapubic catheter which was functioning appropriately as well as a flexi - seal rectal tube which was collecting appropriate volumes of stool . Past Medical History : - DM II , on insulin - prostate CA s/p XRT [ * * 2156 * * ] - chronic urinary incontinence , s/p TURP [ * * 10 - 6 * * ] - history of UTIs , including prior MRSA , klebsiella , proteus , pseuduomonas - s/p bladder rupture and repair x2 , [ * * 2 - 8 * * ] , [ * * 6 - 8 * * ] - atrial fibrillation , not anticoagulated due to h/o bleeding - hyperthyroidism - depression - hypertension - moderate aortic stenosis on TTE [ * * 5 - /2176 * * ] - peripheral vascular disease - h/o CVA [ * * 2172 * * ] - severe chronic axonal neuropathy , radiculopathy and plexopathy ( due to XRT ) per Dr . [ * * Last Name ( STitle ) * * ] , with right foot drop for many years - L3 compression fracture - cataract s/p bilateral laser surgery , also with \\\"macular edema\\\" s/p dexamethasone injection - hard of hearing - left thyroid nodule , benign Social History : Smoked 2 ppd tobacco x24 years . Quit in [ * * 2137 * * ] . Denies EtOH . Former WWII vet . Former Fire Fighter . Wife is HCP . Daughter is RN , son is engineer . Family History : No illnesses , strokes , DM or early heart attacks run in the family . Physical Exam : On Admission GEN : NAD HEENT : AT/NC , EOMI , neck supple , trachea midline CV : Irregular , no m/g/r RESP : CTAB ABD : soft , non - tender , non - distended , no rebound , no guarding , no external evidence of injury , no gross masses , midline infra - umbilical incision well healed . L midline ; G - tube secured , no surrounding erythema or discharge . Suprapubic catheter , secured , no discharge/erythema . Rectal tube in place EXT : no C/C/E TLD : R PICC Pertinent Results : [ * * 2176 - 7 - 4 * * ] 05 : 55AM BLOOD WBC - 5.8 RBC - 2.50 * Hgb - 7.5 * Hct - 23.8 * MCV - 95 MCH - 29.8 MCHC - 31.3 RDW - 17.1 * Plt Ct - 396 [ * * 2176 - 7 - 4 * * ] 05 : 55AM BLOOD Plt Ct - 396 [ * * 2176 - 7 - 4 * * ] 05 : 55AM BLOOD Glucose - 116 * UreaN - 31 * Creat - 1.7 * Na - 147 * K - 4.3 Cl - 118 * HCO3 - 23 AnGap - 10 [ * * 2176 - 7 - 4 * * ] 05 : 55AM BLOOD Calcium - 8.0 * Phos - 2.5 * Mg - 2.2 Radiology Report CHEST ( PA & LAT ) Study Date of [ * * 2176 - 7 - 5 * * ] 2 : 22 PM FINDINGS : Comparison made to 5/28/200 , and to fluoroscopy from GJ tube placement [ * * 2176 - 7 - 3 * * ] . Free intraperitoneal air under both hemidiaphragms is not unexpected following recent G - tube placement . Cardiomediastinal contours are unchanged . The lungs are grossly clear and well expanded . Right PICC terminates in the mid SVC . There is no pleural effusion or pneumothorax . Radiology Report CHEST ( PA & LAT ) Study Date of [ * * 2176 - 7 - 6 * * ] 2 : 22 PM FINDINGS : There is a moderate amount of free air seen under the right hemidiaphragm extending across the midline . The amount on the right is similar compared to prior . The amount on the left is slightly less . _____ tube is again seen over the left upper quadrant . There is patchy atelectasis in the left lower lung . The right subclavian PICC line is unchanged . Brief Hospital Course : Pt admitted to observation due to free air seen on CXR s/p PEG placement . Abdominal exam benign during hospital course . Free air stable on serial CXR . Tube feeds via g - tube resumed and advanced and tolerated well . Pt discharged back to rehab facility [ * * 2172 - 7 - 5 * * ] . Medications on Admission : 1 . Phenytoin 125 mg/5 mL Suspension Sig : One ( 1 ) PO TID ( 3 times a day ) . 2 . Metoprolol Tartrate 25 mg Tablet Sig : One ( 1 ) Tablet PO BID ( 2 times a day ) . 3 . Acetaminophen 325 mg Tablet Sig : 1 - 2 Tablets PO Q6H ( every 6 hours ) as needed for pain . 4 . Miconazole Nitrate 2 % Powder Sig : One ( 1 ) Appl Topical [ * * Hospital1 * * ] ( 2 times a day ) as needed for rash . 5 . Senna 8.6 mg Tablet Sig : One ( 1 ) Tablet PO BID ( 2 times a day ) as needed for constipation . 6 . Docusate Sodium 50 mg/5 mL Liquid Sig : Ten ( 10 ) mL PO BID ( 2 times a day ) . 7 . Insulin Glargine 100 unit/mL Cartridge Sig : Six ( 6 ) Units Subcutaneous at bedtime . 8 . Heparin ( Porcine ) 5 , 000 unit/mL Solution Sig : One ( 1 ) mL Injection TID ( 3 times a day ) . 9 . Aspirin 81 mg Tablet Sig : One ( 1 ) Tablet PO once a day . Discharge Medications : 1 . Phenytoin 125 mg/5 mL Suspension Sig : One [ * * Age over 90 * * ]y Five ( 125 ) mg PO TID ( 3 times a day ) . 2 . Metoprolol Tartrate 25 mg Tablet Sig : One ( 1 ) Tablet PO BID ( 2 times a day ) . 3 . Acetaminophen 325 mg Tablet Sig : 1 - 2 Tablets PO Q6H ( every 6 hours ) as needed for pain . 4 . Miconazole Nitrate 2 % Cream Sig : One ( 1 ) Appl Topical [ * * Hospital1 * * ] ( 2 times a day ) as needed for fungus . 5 . Senna 8.6 mg Tablet Sig : One ( 1 ) Tablet PO HS ( at bedtime ) . 6 . Colace 50 mg/5 mL Liquid Sig : One Hundred ( 100 ) mg PO twice a day as needed for constipation . 7 . Lantus 100 unit/mL Solution Sig : Six ( 6 ) Units Subcutaneous at bedtime . 8 . Aspirin 81 mg Tablet , Chewable Sig : One ( 1 ) Tablet , Chewable PO DAILY ( Daily ) . 9 . Heparin ( Porcine ) 5 , 000 unit/mL Solution Sig : 5000 ( 5000 ) units SC Injection TID ( 3 times a day ) . 10 . Heparin , Porcine ( PF ) 10 unit/mL Syringe Sig : Two ( 2 ) ML Intravenous PRN ( as needed ) as needed for line flush . Discharge Disposition : Extended Care Facility : [ * * Hospital6 459 * * ] for the Aged - LTC Discharge Diagnosis : Free air on CXR s/p G - tube placement Discharge Condition : Good Discharge Instructions : Please call your surgeon if you develop chest pain , shortness of breath , fever greater than 101.5 , severe abdominal pain or distention , persistent nausea or vomiting , inability to eat or drink , or any other symptoms which are concerning to you . Activity : No heavy lifting of items [ * * 11 - 14 * * ] pounds until the follow up appointment with your doctor . Medications : Resume your home medications . You should take a stool softener , Colace 100 mg twice daily as needed for constipation . Pain medication may make you drowsy . No driving while taking pain medicine . Followup Instructions : Provider : [ * * First Name11 ( Name Pattern1 ) * * ] [ * * Last Name ( NamePattern4 ) 7025 * * ] , MD Phone : [ * * Telephone/Fax ( 1 ) 5285 * * ] Date/Time : [ * * 2176 - 8 - 8 * * ] 10 : 00 Provider : [ * * First Name11 ( Name Pattern1 ) * * ] [ * * Last Name ( NamePattern1 ) * * ] , MD Phone : [ * * Telephone/Fax ( 1 ) 435 * * ] Date/Time : [ * * 2176 - 8 - 9 * * ] 11 : 00 Please call the office of Dr.[ * * Last Name ( STitle ) * * ] at ( [ * * Telephone/Fax ( 1 ) 9000 * * ] to schedule a follow - up appointment .\",\n          \"Admission Date : [ * * 2152 - 7 - 25 * * ] Discharge Date : [ * * 2152 - 8 - 2 * * ] Service : MEDICINE Allergies : Levofloxacin / Nitrofurantoin / Sulfa ( Sulfonamide Antibiotics ) / Penicillins / NSAIDS ( Non - Steroidal Anti - Inflammatory Drug ) / lansoprazole / Tomato / Celery / Egg White / Beef Containing Products / Strawberry / Potato Starch / peppers / oranges Attending : [ * * First Name3 ( LF ) 2782 * * ] Chief Complaint : respiratory disress Major Surgical or Invasive Procedure : none History of Present Illness : Ms . [ * * Known lastname * * ] is a [ * * Age over 90 * * ] yo lady with a history of COPD , CHF , alzheimer's and expressive aphasia , who presented from her nursing home to the ED in respiratory distress on [ * * 2152 - 7 - 26 * * ] about 1.5 hours after eating her lunch . She has had an episode of aspiration about one year ago as well as urosepsis a few months ago . In the ED , her vitals were T 98.9F , HR 130 , BP 158/66 , RR 40 and O2 sat of 91 % on RL . A chest xray taken showed widespread coarse reticular opacities but no signs of consolidation . She was given solumedrol given her history of COPD . She was also started on IV Vancomycine and Aztreonam ( due to a PCN allergy ) as well as metronidazole . She was also given 1L Normal Saline for alactate of 4.7 . EKG showed sinus tachycardia . She was then admitted to the MICU for further care . In the MICU , her Aztreonam was dc'ed , and she was started on cefepime instead . She was also started on an insulin sliding scale . Her lactate returned to 1.3 , and her cre and WBC trended down as well ( WBC 26 ) . Her IV fluids were tricky since any flow >75cc/hr led to hypertension with sbp int he 170's . However , she was able to tolerate small boluses of fluids . A straight cath performed also showed purulent liquid , though her urine cultures from [ * * 2152 - 7 - 25 * * ] were negative . After a few hours in the MICU , she was transferred to the floor . Review of systems : Limited by patient's mental status Past Medical History : - alzheimers - expressive aphasia - dysphagia - aspiration pneumonia in past - colon CA - asthma/COPD - osteoporosis - lumbar laminectomy - UTI - anemia - DM - CHF ( EF : 67 % in [ * * 2142 * * ] ) - Hx of MI ( last known in [ * * 2148 * * ] ) Social History : Nursing home resident Per her son , she was a 40 pack year smoker . No current Etoh or drugs . Has 3 children , including a son who is a dermatologist at [ * * Hospital1 * * ] , who are all very involved in her care . Family History : Non - contributory Physical Exam : Admission Exam : General : Pt appeared uncomfortable , laying in bed . Pulm : tachypnic , shallow somewhat labored breaths . diffuse coarse crackles heard throughout , bilaterally . Some bronchial sounds at the apex bilaterally along with mild wheezes . Discharge Exam VS : 98.2 , 130 - 160/58 - 100 , 18 - 24 , 95 % on RA General : Frail elderly woman resting comfortably in no acute distress HEENT : Right eyelid closed intermittently . Sclera anicteric , nasal canula in place Neck : supple , moist CV : regular , no longer tachycardic . Lungs : Coarse crackles along leftlung base . Otherwise , clear ( much improved since admission ) . Mildly tachypneic with somewhat shallow breathing and occasional use of accessory muscles when alert . Not when sleeping . Abdomen : soft , non - tender , non - distended , bowel sounds present , no organomegaly GU : no foley ( d/c'ed on [ * * 2152 - 7 - 29 * * ] ) Ext : warm , well perfused , 2+ pulses , no clubbing , cyanosis or edema . lower extremities contracted Neuro : CNII - XII grossly intact , extremities contracted Pertinent Results : Labs on Admission : [ * * 2152 - 7 - 25 * * ] 09 : 10PM LACTATE - 4.3 * [ * * 2152 - 7 - 25 * * ] 08 : 22PM URINE COLOR - Straw APPEAR - Hazy SP [ * * Last Name ( un ) 155 * * ] - 1.008 [ * * 2152 - 7 - 25 * * ] 08 : 22PM URINE BLOOD - MOD NITRITE - NEG PROTEIN - 30 GLUCOSE - 1000 KETONE - NEG BILIRUBIN - NEG UROBILNGN - NEG PH - 7.0 LEUK - LG [ * * 2152 - 7 - 25 * * ] 08 : 22PM URINE RBC - 59 * WBC - >182 * BACTERIA - MOD YEAST - NONE EPI - 0 [ * * 2152 - 7 - 25 * * ] 08 : 22PM URINE MUCOUS - RARE [ * * 2152 - 7 - 25 * * ] 03 : 20PM LACTATE - 4.7 * [ * * 2152 - 7 - 25 * * ] 03 : 00PM GLUCOSE - 248 * UREA N - 29 * CREAT - 0.9 SODIUM - 131 * POTASSIUM - 4.8 CHLORIDE - 93 * TOTAL CO2 - 24 ANION GAP - 19 [ * * 2152 - 7 - 25 * * ] 03 : 00PM estGFR - Using this [ * * 2152 - 7 - 25 * * ] 03 : 00PM cTropnT - 0.01 [ * * 2152 - 7 - 25 * * ] 03 : 00PM WBC - 12.8 * RBC - 4.46 HGB - 12.0 HCT - 38.4 MCV - 86 MCH - 26.9 * MCHC - 31.2 RDW - 14.9 [ * * 2152 - 7 - 25 * * ] 03 : 00PM NEUTS - 83.2 * LYMPHS - 12.0 * MONOS - 1.9 * EOS - 2.6 BASOS - 0.4 [ * * 2152 - 7 - 25 * * ] 03 : 00PM PLT COUNT - 427 [ * * 2152 - 7 - 25 * * ] 03 : 00PM PT - 11.5 PTT - 28.2 INR ( PT ) - 1.1 Labs on Medicine floor : [ * * 2152 - 8 - 1 * * ] 07 : 30AM BLOOD WBC - 6.5 RBC - 3.80 * Hgb - 10.4 * Hct - 33.2 * MCV - 87 MCH - 27.4 MCHC - 31.3 RDW - 15.5 Plt Ct - 347 [ * * 2152 - 8 - 1 * * ] 07 : 30AM BLOOD Glucose - 106 * UreaN - 11 Creat - 0.7 Na - 141 K - 3.2 * Cl - 108 HCO3 - 23 AnGap - 13 [ * * 2152 - 8 - 1 * * ] 07 : 30AM BLOOD Calcium - 8.4 Phos - 2.2 * Mg - 1.7 [ * * 2152 - 7 - 31 * * ] 07 : 10PM BLOOD Lactate - 1.1 [ * * 2152 - 7 - 28 * * ] 04 : 40PM BLOOD CK ( CPK ) - 36 [ * * 2152 - 7 - 28 * * ] 07 : 50AM BLOOD CK ( CPK ) - 36 [ * * 2152 - 7 - 28 * * ] 04 : 40PM BLOOD CK - MB - 3 cTropnT - 0.06 * [ * * 2152 - 7 - 28 * * ] 07 : 50AM BLOOD CK - MB - 3 cTropnT - 0.06 * [ * * 2152 - 7 - 25 * * ] 03 : 00PM BLOOD cTropnT - 0.01 CXR ( [ * * 7 - 28 * * ] ) : FINDINGS : In comparison with study of [ * * 7 - 25 * * ] , the diffuse bilateral pulmonary opacifications are less prominent . Some of this may reflect the PA rather than AP frontal view . Blunting of the costophrenic angles is consistent with bilateral pleural effusions with some compressive atelectasis at the bases . CXR ( [ * * 7 - 25 * * ] ) : FINDINGS : As compared to the previous radiograph , there is a mild increase in the diameter of the pulmonary vessels , potentially indicative of mild fluid overload . In addition , the atelectasis at the left lung base has increased in extent and there is blunting of the left costophrenic sinus , potentially caused by a small left pleural effusion . No cardiomegaly . Unchanged tortuosity of the thoracic aorta . No pneumothorax . EKG : [ * * 2152 - 6 - 30 * * ] : Sinus rhythm and occasional atrial ectopy . Low limb lead voltage . Prior anteroseptal myocardial infarction . Compared to the previous tracing of [ * * 2152 - 7 - 26 * * ] the axis is more rightward , atrial ectopy has appeared . Otherwise , no diagnostic interim change . MICRO : MRSA SCREEN ( Final [ * * 2152 - 7 - 27 * * ] ) : POSITIVE FOR METHICILLIN RESISTANT STAPH AUREUS Urine Cx , Blood Cx - negative Discharge Labs : [ * * 2152 - 8 - 1 * * ] 07 : 30AM BLOOD WBC - 6.5 RBC - 3.80 * Hgb - 10.4 * Hct - 33.2 * MCV - 87 MCH - 27.4 MCHC - 31.3 RDW - 15.5 Plt Ct - 347 [ * * 2152 - 8 - 2 * * ] 07 : 45AM BLOOD Na - 144 K - 4.0 Cl - 111 * [ * * 2152 - 8 - 1 * * ] 07 : 30AM BLOOD Calcium - 8.4 Phos - 2.2 * Mg - 1.7 Brief Hospital Course : Ms . [ * * Known lastname * * ] is a [ * * Age over 90 * * ]F with a history of COPD , alzheimer's dementia , and aspiration who presented from her nursing home in acute respiratory distress after eating lunch . SIRS 4 PROGRESS NOTE [ * * 2152 - 7 - 29 * * ] Assessment and Plan : Ms . [ * * Known lastname * * ] is a [ * * Age over 90 * * ]F with a history of COPD , alzheimer's dementia , and aspiration who presented from her nursing home in acute respiratory distress after eating lunch . # Respiratory Distress : Possibly secondary to aspiration , which is consistent with the presentation 1.5 hours after lunch . Initial CXR showed multiple reticular opacities but no consolidations . Repeat CXR showed less prominant bilateral opacifications , though there is possible bilateral pleural effusions with some compressed atelectasis at the bases . Initially on Vancomycin and Cefepime , switched to IV Ceftriaxone to treat UTI since pna was unlikely . IVF was at 40cc/ml for the last 3 days of her hospitalization . PO trial of thick liquids started on [ * * 2152 - 7 - 29 * * ] , which pt tolerated well . Lungs sounded a lot clearer with residual right base crackles . Pt breathing comfortably at 94 % O2 sat on room air . # Abnormal EKG - Admission EKG read yesterday by Cardiology , who was concerned about possible acute event . However , EKG compared with one in [ * * 2142 * * ] , which also showed similar changes . Troponins elevated at 0.06 x 2 but did not trend up , likely from transient ischemia due to increased cardiac demand [ * * 12 - 30 * * ] infection . No signs of acute cardiac event . Medical management with beta blocker , asa discussed with family , who declined due to allergy to asa and desire for minimal medication . Patient did tolerate beta - blocker ( metoprolol 6.25mg ) for one dose and seemed to perk up afterwards , but given difficulty in administration here in the hospital ( took patient an hour to swallow pill ) did not continue . Can be considered as outpatient . # Sepsis : Resolved . Likely secondary to a UTI . Grossly positive UA though urine culture was negative , PMH of recurrent UTIs , recent admission to [ * * Hospital3 * * ] with urosepsis from multi - drug resistant E.coli , necessitating treatment with primaxin . Straight cath in MICU drained purulent material . Urine culture showed no growth , but per pt's son , pt had already received IV abx at that time . Plan to complete 7 day course of ceftriaxone on [ * * 2152 - 8 - 3 * * ] . # Volume status : Tenuous . Per MICU and patient's son , patient become hypotensive with no fluids but rapidly becomes hypertensive ( up to sbp of 170's ) if fluids given too fast . At present appears to respond well to slow small fluid boluses , at a rate of 75 - 100cc/hr . Was continued on IVF at 40cc/hr per pts son as an amount that she has tolerated well in the past . # Diabetes Mellitus Type II : Started on ISS on [ * * 2152 - 7 - 26 * * ] , but NPO , became hypoglycemic and ISS was downtitrated in the MICU . Changed to regular insulin sliding . Glucose stable . Januvia held while inpatient and continued to use reduced dose insulin slididng scale . Can restart Januvia on d/c . # Sacral pressure ulcer : Wound care recs - Plan : Pressure redistribution measures , turn and reposition every 1 - 2 hrs off back . Limit sit time to 1 hr at time and sit on a pressure redist cushion . Protect intact skin midback and coccyx area with Critic aid Clear daily and prn or every 3rd cleansing . # Pruritus : pt developed agitated pruritus starting about 15 minutes after her cefepime infusion two days ago . Resolved on switch to ceftriaxone . # Hypokalemia : Resolved after repletion . # General - PT discontinued because it was too rigorous . Followed their initial recs of OOBx3 per day . . Transitional Issues - Encourage PO intake - Completion of ceftriaxone 1gm q24 hrs - last dose on [ * * 2152 - 8 - 3 * * ] - Consideration of maintenance fluids - Consider beta blocker ( per pt's family , pt seemed to perk up after single dose of metoprolol 6.25mg PO . Systolic BP decreased to 120's , HR in 70's , Respiration rate to 16 - 20 ) . Medications on Admission : Preadmission medications listed are correct and complete . Information was obtained from NH records . 1 . Januvia * NF * ( sitaGLIPtin ) 25 mg Oral daily 2 . Potassium Chloride 10 mEq PO DAILY Duration : 24 Hours Hold for K > 3 . Multivitamins 1 TAB PO DAILY 4 . Sodium Chloride Nasal 1 SPRY NU DAILY 5 . Acetaminophen 650 mg PO Q4H : PRN pain 6 . Bisacodyl 10 mg PR HS : PRN consitpation Discharge Medications : 1 . Bisacodyl 10 mg PR HS : PRN consitpation 2 . Acetaminophen 650 mg PO Q4H : PRN pain 3 . Januvia * NF * ( sitaGLIPtin ) 25 mg Oral daily 4 . Multivitamins 1 TAB PO DAILY 5 . Potassium Chloride 10 mEq PO DAILY Duration : 24 Hours Hold for K > 6 . Sodium Chloride Nasal 1 SPRY NU DAILY 7 . CeftriaXONE 1 gm IV Q24H Duration : 2 Doses Last day is [ * * 8 - 3 * * ] 8 . Docusate Sodium ( Liquid ) 100 mg PO BID 9 . Polyethylene Glycol 17 g PO DAILY : PRN constipation give this once now and then every other day if pt does not have a bowel movement every other day after that . 10 . Triamcinolone Acetonide 0.025 % Ointment 1 Appl TP DAILY rash please apply to rash on back once daily thin layer thx Discharge Disposition : Extended Care Facility : South Cover Manor Discharge Diagnosis : bacterial Urinary tract infection COPD Dementia NSTEMI Discharge Condition : Level of Consciousness : Alert and interactive . Activity Status : Bedbound . Mental Status : Confused - always . Discharge Instructions : Mrs [ * * Known lastname * * ] , you were admitted to [ * * Hospital1 18 * * ] due to concern for a respiratory infection . You were found to have a urine infection . A chest xray showed no evidence of a pneumonia , so we think its more likely that a urinary infection was causing your worsening status . You were given antibiotics and for a few days we didn't give you any food by mouth and gave it instead through your IV . When you had improved and were eating small amounts of food again , you were discharged back to [ * * Hospital3 * * ] . You will need 2 more days of ceftriaxone for your urinary infection Followup Instructions : You will be discharged back to [ * * Hospital3 * * ] and should continue care under your prior outpatient doctors . Completed by : [ * * 2152 - 8 - 3 * * ]\"\n        ],\n        \"semantic_type\": \"\",\n        \"description\": \"\"\n      }\n    },\n    {\n      \"column\": \"word_labels\",\n      \"properties\": {\n        \"dtype\": \"string\",\n        \"num_unique_values\": 303,\n        \"samples\": [\n          \"O,O,O,O,O,O,O,O,O,O,O,O,O,O,O,O,O,O,O,O,O,O,O,O,O,O,O,O,O,O,O,O,O,O,O,O,O,O,O,O,O,O,O,O,O,O,O,O,O,O,O,O,O,O,O,O,O,O,O,O,O,O,O,O,O,O,O,O,O,O,O,O,O,O,O,O,O,O,O,O,O,O,O,O,O,O,B-Drug,B-Dosage,I-Dosage,I-Dosage,I-Dosage,B-Route,B-Frequency,I-Frequency,O,O,B-Drug,B-Strength,I-Strength,B-Dosage,I-Dosage,I-Dosage,B-Form,B-Route,I-Route,B-Frequency,I-Frequency,I-Frequency,I-Frequency,I-Frequency,I-Frequency,O,O,B-Drug,I-Drug,B-Strength,I-Strength,B-Route,I-Route,B-Frequency,I-Frequency,I-Frequency,I-Frequency,O,O,B-Drug,B-Strength,I-Strength,B-Route,I-Route,B-Frequency,I-Frequency,I-Frequency,I-Frequency,O,O,B-Drug,B-Strength,I-Strength,B-Route,I-Route,B-Frequency,I-Frequency,I-Frequency,I-Frequency,O,O,B-Drug,I-Drug,B-Strength,I-Strength,B-Dosage,B-Form,B-Route,I-Route,B-Frequency,I-Frequency,O,O,B-Drug,B-Strength,I-Strength,B-Route,I-Route,B-Frequency,I-Frequency,O,O,B-Drug,I-Drug,B-Strength,I-Strength,B-Dosage,B-Form,B-Route,I-Route,B-Frequency,I-Frequency,O,O,O,O,O,O,O,O,O,O,O,O,O,O,O,O,O,O,O,O,O,O,O,O,O,O,O,O,O,O,O,O,O,O,O,O,O,O,O,O,O,O,O,O,O,O,O,O,O,O,O,O,O,O,O,O,O,O,O,O,O,O,O,O,O,B-Drug,I-Drug,I-Drug,O,O,O,O,O,O,O,O,O,O,O,O,O,O,O,O,O,O,O,O,O,O,B-Drug,O,O,O,O,O,O,O,O,O,O,O,O,O,O,O,O,O,O,O,O,O,O,O,O,O,O,O,O,O,O,O,O,O,O,O,O,O,O,O,O,O,O,O,O,O,O,O,O,O,O,O,O,O,O,O,O,O,O,O,O,O,O,O,O,O,O,O,O,O,O,O,O,O,O,O,O,O,O,O,O,O,O,O,O,O,O,O,O,O,O,O,O,O,O,O,O,O,O,O,O,O,O\",\n          \"O,O,O,O,O,O,O,O,O,O,O,O,O,O,O,O,O,O,O,O,O,O,O,O,O,O,O,O,O,O,O,O,O,B-Drug,O,B-Drug,O,B-Drug,O,B-Drug,O,B-Drug,B-Drug,O,B-Drug,O,B-Drug,O,O,O,O,O,O,O,O,O,O,O,O,O,O,O,O,O,O,O,O,O,O,O,O,O,O,O,O,O,O,O,O,O,O,O,O,O,O,O,O,O,O,O,O,O,O,O,O,O,O,O,O,O,O,O,O,O,O,O,O,O,O,O,O,O,O,O,O,O,O,O,O,O,O,O,O,O,O,O,O,O,O,O,O,O,O,O,O,O,O,O,O,O,O,O,O,O,B-Drug,O,O,O,O,O,O,O,O,O,O,O,O,O,O,O,O,O,O,O,O,O,O,O,O,O,O,O,O,O,O,O,O,O,O,O,O,O,O,O,O,O,O,O,O,O,O,O,O,O,O,O,O,O,O,O,O,O,O,O,O,O,O,O,O,O,O,O,O,O,O,O,O,O,O,O,O,O,O,O,O,O,O,O,O,O,O,O,O,O,O,O,O,O,O,O,O,O,O,O,O,O,O,O,O,O,O,O,O,O,O,B-Reason,I-Reason,O,O,B-Drug,O,O,O,O,O,O,O,O,O,O,O,O,O,O,O,O,O,O,O,O,O,O,O,O,O,O,O,O,O,O,O,O,O,O,O,O,O,O,O,O,O,O,O,O,O,O,O,O,O,O,O,O,O,O,O,O,O,O,O,O,O,O,O,O,O,O,O,O,O,O,O,O,O,O,O,O,O,O,O,O,O,O,O,O,O,O,O,O,O,O,O,O,O,O,O,O,O,O,O,O,O,O,O,O,O,O,O,O,O,O,O,O,O,O,O,O,O,O,O,O,O,O,O,O,O,O,O,O,O,O,O,O,O,O,O,O,O,O,O,O,O,O,O,O,O,O,O,O,O,O,O,O,O,O,O,O,O,O,O,O,O,O,O,O,O,O,B-Drug,B-Route,O,O,O,O,O,O,O,O,O,O,O,O,O,O,O,O,O,O,O,O,O,O,O,O,O,O,O,O,O,O,O,O,O,O,O,O,O,O,O,O,O,O,O,O,O,O,O,O,O,O,O,O,O,O,O,O,O,O,O,O,O,O,O,O,O,O,O,O,O,O,O,O,O,O,O,O,O,O,O,O,O,O,O,O,O,O,O,O,O,O,O,O,O,O,O,O,O,O,O,O,O,O,O,O,O,O,O,O,O,O,O,O,O,O,O,O,O,O,O,O,O,O,O,O,O,O,O,O,O,O,O,O,O,O,O,O,O,O,O,O,O,O,O,O,O,O,O,O,O,O,O,O,O,O,O,O,O,O,O,O,O,O,O,O,O,O,O,O,O,O,O,O,O,O,O,O,O,O,O,O,O,O,O,O,O,O,O,O,O,O,O,O,O,O,O,O,O,O,O,O,O,O,O,O,O,O,O,O,O,O,O,O,O,O,O,O,O,O,O,O,O,O,O,O,O,O,O,O,O,O,O,O,O,O,O,O,O,O,O,O,O,O,O,O,O,O,O,O,O,O,O,O,O,O,O,O,O,O,O,O,O,O,O,O,O,O,O,O,O,O,O,O,O,O,O,O,O,O,O,O,O,O,O,O,O,O,O,O,O,O,O,O,O,O,O,O,O,O,O,O,O,O,O,O,O,O,O,O,O,O,O,O,O,O,O,O,O,O,O,O,O,O,O,O,O,O,O,O,O,O,O,O,O,O,O,O,O,O,O,O,O,O,O,O,O,O,O,O,O,O,O,O,O,O,O,O,O,O,O,O,O,O,O,O,O,O,O,O,O,O,O,O,O,O,O,O,O,O,O,O,O,O,O,O,O,O,O,O,O,O,O,O,O,O,O,O,O,O,O,O,O,O,O,O,O,O,O,O,O,O,O,O,O,O,O,O,O,O,O,O,O,O,O,O,O,O,O,O,O,O,O,O,O,O,O,O,O,O,O,O,O,O,O,O,O,O,O,O,O,O,O,O,O,O,O,O,O,O,O,O,O,O,O,O,O,O,O,O,O,O,O,O,O,O,O,O,O,O,O,O,O,O,O,O,O,O,O,O,O,O,O,O,O,O,O,O,O,O,O,O,O,O,O,O,O,O,O,O,O,O,O,O,O,O,O,O,O,O,O,O,O,O,O,O,O,O,O,O,O,O,O,O,O,O,O,O,O,O,O,O,O,O,O,O,O,O,O,O,O,O,O,O,O,O,O,O,O,O,O,O,O,O,O,O,O,O,O,O,O,O,O,B-Drug,B-Strength,I-Strength,I-Strength,B-Form,O,O,B-Dosage,I-Dosage,I-Dosage,I-Dosage,B-Route,B-Frequency,O,O,O,O,O,O,O,O,O,B-Drug,I-Drug,B-Strength,I-Strength,B-Form,O,O,B-Dosage,I-Dosage,I-Dosage,I-Dosage,B-Form,B-Route,B-Frequency,O,O,O,O,O,O,O,O,O,B-Drug,B-Strength,I-Strength,B-Form,O,O,B-Dosage,I-Dosage,I-Dosage,B-Form,B-Route,B-Frequency,I-Frequency,I-Frequency,I-Frequency,I-Frequency,I-Frequency,I-Frequency,I-Frequency,O,B-Reason,O,O,O,B-Drug,I-Drug,O,O,B-Form,O,O,B-Dosage,I-Dosage,I-Dosage,I-Dosage,B-Form,B-Route,O,O,O,O,O,O,O,O,B-Frequency,I-Frequency,I-Frequency,I-Frequency,I-Frequency,I-Frequency,I-Frequency,O,B-Reason,O,O,O,B-Drug,B-Strength,I-Strength,B-Form,O,O,B-Dosage,I-Dosage,I-Dosage,I-Dosage,B-Form,B-Route,B-Frequency,I-Frequency,I-Frequency,I-Frequency,I-Frequency,I-Frequency,I-Frequency,I-Frequency,I-Frequency,O,B-Reason,O,O,O,B-Drug,I-Drug,B-Strength,I-Strength,I-Strength,B-Form,O,O,B-Dosage,I-Dosage,I-Dosage,I-Dosage,I-Dosage,B-Route,B-Frequency,O,O,O,O,O,O,O,O,O,B-Drug,I-Drug,B-Strength,I-Strength,B-Form,O,O,B-Dosage,I-Dosage,I-Dosage,I-Dosage,I-Dosage,B-Route,B-Frequency,I-Frequency,O,O,O,B-Drug,O,O,O,B-Strength,I-Strength,I-Strength,I-Strength,B-Form,O,O,B-Dosage,I-Dosage,I-Dosage,I-Dosage,I-Dosage,B-Route,B-Frequency,I-Frequency,I-Frequency,I-Frequency,I-Frequency,I-Frequency,I-Frequency,O,O,O,B-Drug,B-Strength,I-Strength,B-Form,O,O,B-Dosage,I-Dosage,I-Dosage,I-Dosage,B-Form,B-Route,B-Frequency,I-Frequency,I-Frequency,O,O,O,O,O,O,B-Drug,B-Strength,I-Strength,I-Strength,B-Form,O,O,O,O,O,O,O,O,O,O,O,O,O,O,B-Dosage,I-Dosage,I-Dosage,B-Route,B-Frequency,I-Frequency,I-Frequency,I-Frequency,I-Frequency,I-Frequency,I-Frequency,O,O,O,B-Drug,I-Drug,B-Strength,I-Strength,B-Form,O,O,B-Dosage,I-Dosage,I-Dosage,I-Dosage,B-Form,B-Route,B-Frequency,O,O,O,O,O,O,O,O,O,B-Drug,B-Strength,I-Strength,B-Form,O,O,B-Dosage,I-Dosage,I-Dosage,B-Form,B-Route,B-Frequency,I-Frequency,I-Frequency,I-Frequency,I-Frequency,I-Frequency,I-Frequency,I-Frequency,O,B-Reason,O,O,O,B-Drug,I-Drug,O,O,B-Form,O,O,B-Dosage,I-Dosage,I-Dosage,I-Dosage,B-Form,B-Route,O,O,O,O,O,O,O,O,O,O,O,O,O,O,O,O,B-Reason,O,O,O,B-Drug,B-Strength,I-Strength,B-Form,O,O,B-Dosage,I-Dosage,I-Dosage,I-Dosage,B-Form,B-Route,B-Frequency,O,O,O,O,O,O,O,B-Drug,B-Strength,I-Strength,I-Strength,B-Form,O,O,B-Dosage,I-Dosage,I-Dosage,I-Dosage,I-Dosage,I-Dosage,B-Route,B-Frequency,I-Frequency,I-Frequency,I-Frequency,I-Frequency,O,B-Reason,O,O,O,B-Drug,B-Strength,I-Strength,B-Form,O,O,B-Dosage,I-Dosage,I-Dosage,I-Dosage,I-Dosage,B-Route,B-Frequency,I-Frequency,O,O,O,B-Drug,B-Strength,I-Strength,B-Form,I-Form,I-Form,O,O,B-Dosage,I-Dosage,I-Dosage,I-Dosage,B-Form,I-Form,I-Form,B-Route,B-Frequency,I-Frequency,I-Frequency,I-Frequency,O,O,O,B-Drug,I-Drug,I-Drug,I-Drug,B-Strength,I-Strength,I-Strength,I-Strength,B-Form,O,O,B-Dosage,I-Dosage,I-Dosage,I-Dosage,I-Dosage,B-Route,I-Route,B-Frequency,I-Frequency,I-Frequency,I-Frequency,I-Frequency,I-Frequency,I-Frequency,O,O,O,B-Drug,I-Drug,I-Drug,I-Drug,I-Drug,I-Drug,B-Strength,I-Strength,B-Form,O,O,B-Dosage,I-Dosage,I-Dosage,I-Dosage,I-Dosage,B-Route,B-Frequency,I-Frequency,I-Frequency,I-Frequency,I-Frequency,I-Frequency,I-Frequency,O,B-Reason,I-Reason,O,O,O,O,O,O,O,O,O,O,O,O,O,O,O,O,O,O,O,O,O,O,O,O,O,O,O,O,O,O,O,O,O,O,O,O,O,O,O,O,O,O,O,O,O,O,O,O,O,O,O,O,O,O,O,O,O,O,O,O,O,O,O,O,O,O,O,O,O,O,O,O,O,O,O,O,O,O,O,O,O,O,O,O,O,O,O,O,O,O,O,O,O,O,O,O,O,O,O,O,O,O,O,O,O,O,O,O,O,O,O,O,O,O,O,O,O,O,O,O,O,O,O,O,O,O,B-Drug,B-Strength,I-Strength,B-Frequency,I-Frequency,I-Frequency,I-Frequency,O,B-Reason,O,B-Drug,I-Drug,O,O,O,B-ADE,O,O,O,O,O,O,O,O,O,O,O,O,O,O,O,O,O,O,O,O,O,O,O,O,O,O,O,O,O,O,O,O,O,O,O,O,O,O,O,O,O,O,O,O,O,O,O,O,O,O,O,O,O,O,O,O,O,O,O,O,O,O,O,O,O,O,O,O,O,O,O,O,O,O,O,O,O,O,O,O,O,O,O,O,O,O,O,O,O,O,O,O,O,O,O,O,O,O,O,O,O,O,O,O,O,O,O,O,O,O,O,O,O,O,O,O,O,O,O,O,O,O,O,O,O,O,O,O,O,O,O,O,O,O,O,O,O,O,O,O,O,O,O,O,O,O,O,O,O,O,O,O,O,O,O,O,O,O,O,O,O\",\n          \"O,O,O,O,O,O,O,O,O,O,O,O,O,O,O,O,O,O,O,O,O,O,O,O,O,O,O,O,O,O,O,O,O,B-Drug,O,B-Drug,O,B-Drug,O,O,O,O,O,B-Drug,O,B-Drug,O,O,O,O,O,O,O,O,O,O,B-Drug,O,O,O,O,O,O,O,O,O,O,O,O,O,O,O,O,O,O,O,O,O,O,O,O,O,O,O,O,O,O,O,O,O,O,O,O,O,O,O,O,O,O,O,O,O,O,O,O,O,O,O,O,O,O,O,O,O,O,O,O,O,O,O,O,O,O,O,O,O,O,O,O,O,O,O,O,O,O,O,O,O,O,O,O,O,O,O,O,O,O,O,O,O,O,O,O,O,O,O,O,O,O,O,O,O,O,O,O,O,O,O,O,O,O,O,O,O,O,O,O,O,O,O,O,O,O,O,O,O,O,O,O,O,O,O,O,O,O,O,O,O,O,O,O,O,O,O,O,O,O,O,O,O,O,O,O,O,O,B-Drug,O,O,O,O,O,O,O,O,O,O,O,O,O,O,O,O,O,O,O,O,O,O,O,O,O,B-Drug,O,O,O,O,B-Reason,O,O,O,O,O,O,B-Route,B-Drug,O,B-Drug,O,O,O,O,O,O,O,O,O,O,B-Drug,O,O,O,O,O,B-Dosage,B-Drug,I-Drug,O,O,O,O,O,O,O,O,O,O,O,O,O,O,O,O,O,O,O,O,O,O,O,O,O,O,B-Drug,O,O,O,O,O,O,O,O,B-Drug,O,O,O,O,O,O,O,O,B-Drug,B-Dosage,I-Dosage,O,O,O,O,O,O,O,O,O,O,O,O,O,O,O,O,O,O,O,O,O,O,B-Route,B-Drug,O,O,O,O,O,O,O,O,O,O,O,O,O,O,O,O,O,O,O,O,O,O,O,B-Dosage,O,B-Drug,O,O,O,O,O,O,O,O,O,O,O,O,O,O,O,O,O,O,O,O,O,O,O,O,O,O,O,O,O,O,O,O,O,O,O,O,O,O,O,O,O,O,O,O,O,O,O,O,O,O,O,O,O,O,O,O,O,O,O,O,O,O,O,O,O,O,O,O,O,O,O,O,O,O,O,O,O,O,O,O,O,O,O,O,O,O,O,O,O,O,O,O,O,O,O,O,O,O,O,O,O,O,O,O,O,O,O,O,O,O,O,O,O,O,O,O,O,O,O,O,O,O,O,O,O,O,O,O,O,O,O,O,O,O,O,O,O,O,O,O,O,O,O,O,O,O,O,O,O,O,O,O,O,O,O,O,O,O,O,O,O,O,O,O,O,O,O,O,O,O,O,O,O,O,O,O,O,O,O,O,O,O,O,O,O,O,O,O,O,O,O,O,O,O,O,O,O,O,O,O,O,O,O,O,O,O,O,O,O,O,O,O,O,O,O,O,O,O,O,O,O,O,O,O,O,O,O,O,O,O,O,O,O,O,O,O,O,O,O,O,O,O,O,O,O,O,O,O,O,O,O,O,O,O,O,O,O,O,O,O,O,O,O,O,O,O,O,O,O,O,O,O,O,O,O,O,O,O,O,O,O,O,O,O,O,O,O,O,O,O,O,O,O,O,O,O,O,O,O,O,O,O,O,O,O,O,O,O,O,O,O,O,O,O,O,O,O,O,O,O,O,O,O,O,O,O,O,O,O,O,O,O,O,O,O,O,O,O,O,O,O,O,O,O,O,O,O,O,O,O,O,O,O,O,O,O,O,O,O,O,O,O,O,O,O,O,O,O,O,O,O,O,O,O,O,O,O,O,O,O,O,O,O,O,O,O,O,O,O,O,O,O,O,O,O,O,O,O,O,O,O,O,O,O,O,O,O,O,O,O,O,O,O,O,O,O,O,O,O,O,O,O,O,O,O,O,O,O,O,O,O,O,O,O,O,O,O,O,O,O,O,O,O,O,O,O,O,O,O,O,O,O,O,O,O,O,O,O,O,O,O,O,O,O,O,O,O,O,O,O,O,O,O,O,O,O,O,O,O,O,O,O,O,O,O,O,O,O,O,O,O,O,O,O,O,O,O,O,O,O,O,O,O,O,O,O,O,O,O,O,O,O,O,O,O,O,O,O,O,O,O,O,O,O,O,O,O,O,O,O,O,O,O,O,O,O,O,O,O,O,O,O,O,O,O,O,O,O,O,O,O,O,O,O,O,O,O,O,O,O,O,O,O,O,O,O,O,O,O,O,O,O,O,O,O,O,O,O,O,O,O,O,O,O,O,O,O,O,O,O,O,O,O,O,O,O,O,O,O,O,O,O,O,O,O,O,O,O,O,O,O,O,O,O,O,O,O,O,O,O,O,O,O,O,O,O,O,O,O,O,O,O,O,O,O,O,O,O,O,O,O,O,O,O,O,O,O,O,O,O,O,O,O,O,O,O,O,O,O,O,O,O,O,O,O,O,O,O,O,O,O,O,O,O,O,O,O,O,O,O,O,O,O,O,O,O,O,O,O,O,O,O,O,O,O,O,O,O,O,O,O,O,O,O,O,O,O,O,O,O,O,O,O,O,O,O,O,O,O,O,O,O,O,O,O,O,O,O,O,O,O,O,O,O,O,O,O,O,O,O,O,O,O,O,O,O,O,O,O,O,O,O,O,O,O,O,O,O,O,O,O,O,O,O,O,O,O,O,O,O,O,O,O,O,O,O,O,O,O,O,O,O,O,O,O,O,O,O,O,O,O,O,O,O,O,O,O,O,O,O,O,O,O,O,O,O,O,O,O,O,O,O,O,O,O,O,O,O,O,O,O,O,O,O,O,O,O,O,O,O,O,O,O,O,O,O,O,O,O,O,O,O,O,O,O,O,O,O,O,O,O,O,O,O,O,O,O,O,O,O,O,O,O,O,O,O,O,O,O,O,O,O,O,O,O,O,O,O,O,O,O,O,O,O,O,O,O,O,O,O,O,O,O,O,O,O,O,O,O,O,O,O,O,O,O,O,O,O,O,O,O,O,O,O,O,O,O,O,O,O,O,O,O,O,O,O,O,O,O,O,O,O,O,O,O,O,O,O,O,O,O,O,O,O,O,O,O,O,O,O,O,O,O,O,O,O,O,O,O,O,O,O,O,O,O,O,O,O,O,O,O,O,O,O,O,O,O,O,O,O,O,O,O,O,O,O,O,O,O,O,O,O,O,O,O,O,O,O,O,O,O,O,O,O,O,O,O,O,O,O,O,O,O,O,O,O,O,O,O,O,O,O,O,O,O,O,O,O,O,O,O,O,O,O,O,O,O,O,O,O,O,O,O,O,O,O,O,O,O,O,O,O,O,O,O,O,O,O,O,O,O,O,O,O,O,O,O,O,O,O,O,O,O,O,O,O,O,O,O,O,O,O,O,O,O,O,O,O,O,O,O,O,O,O,O,O,O,O,O,O,O,O,O,O,O,O,O,O,O,O,O,O,O,O,O,O,O,O,O,O,O,O,O,O,O,O,O,O,O,O,O,O,O,O,O,O,O,O,O,O,O,O,O,O,O,O,O,O,O,O,O,O,O,O,O,O,O,O,O,O,O,O,O,O,O,O,O,O,O,O,O,O,O,O,O,O,O,O,O,O,O,O,O,O,O,O,O,O,O,O,O,O,O,O,O,O,O,O,O,O,O,O,O,O,O,O,O,O,O,O,O,O,O,O,O,O,O,O,O,O,O,O,O,O,O,O,O,O,O,O,O,O,O,O,O,O,O,O,O,O,O,O,O,O,O,O,O,O,O,O,O,O,O,O,O,O,O,O,O,O,O,O,O,O,O,O,O,O,O,O,O,O,O,O,O,O,O,O,O,O,O,O,O,O,O,O,O,O,O,O,O,O,O,O,O,O,O,O,O,O,O,O,O,O,O,O,O,O,O,O,O,O,O,O,O,O,O,O,O,O,O,O,O,O,O,O,O,O,O,O,O,O,O,O,O,O,O,O,O,O,O,O,O,O,O,O,O,O,O,O,O,O,O,O,O,O,O,O,O,O,O,O,O,O,O,O,O,O,O,O,O,O,O,O,O,O,O,O,O,O,O,O,O,O,O,O,O,O,O,O,O,O,O,O,O,O,O,O,O,O,O,O,O,O,O,O,O,O,O,O,O,O,O,O,O,O,O,O,O,O,O,O,O,O,O,O,O,O,O,O,O,O,O,O,O,O,O,O,O,O,O,O,O,O,O,O,O,O,O,O,O,O,O,O,O,O,O,O,O,O,O,O,O,O,O,O,O,O,O,O,O,O,O,O,O,O,O,O,O,O,O,O,O,O,O,O,O,O,O,O,O,O,O,O,O,O,O,O,O,O,O,O,O,O,O,O,O,O,O,O,O,O,O,O,O,O,O,O,O,B-Drug,O,B-Drug,O,O,O,B-Route,B-Drug,O,O,B-Reason,O,O,O,O,O,B-Drug,O,O,B-Strength,O,O,O,B-Duration,I-Duration,O,O,O,O,O,O,O,O,O,O,O,O,O,O,O,O,O,O,O,O,O,O,O,O,O,O,O,O,O,O,O,O,O,O,O,O,O,O,O,O,O,O,O,O,O,O,O,O,O,O,O,O,O,O,O,O,O,O,O,O,O,O,O,O,O,O,O,O,O,O,O,O,O,O,O,O,O,O,O,O,O,O,O,O,O,O,O,O,O,O,O,O,O,O,O,O,O,O,O,O,O,O,O,O,O,O,O,O,O,O,O,O,O,O,O,O,O,O,O,O,O,O,O,O,O,O,O,O,O,O,O,O,O,B-Drug,I-Drug,O,B-Drug,O,O,O,O,O,O,O,O,O,O,B-Drug,O,O,O,O,O,O,O,O,O,O,O,O,O,B-Drug,B-Strength,O,O,O,O,O,O,O,O,O,O,O,O,O,O,O,O,O,O,O,O,O,O,O,O,O,O,O,O,O,O,O,O,O,O,O,O,O,O,O,O,O,O,O,O,O,O,O,O,O,O,O,O,O,O,O,O,O,O,O,O,O,O,O,O,O,O,O,O,O,O,O,O,O,O,O,O,O,O,O,O,O,O,O,O,O,O,B-Drug,O,O,O,O,O,O,O,O,O,O,O,O,O,O,O,O,O,O,O,O,O,O,O,O,B-Route,B-Drug,O,O,O,O,O,O,O,B-Duration,I-Duration,O,O,B-Drug,O,O,O,O,O,O,O,O,O,O,O,O,O,O,O,O,O,O,O,O,O,O,O,O,O,O,O,O,O,O,O,O,O,O,O,O,O,O,O,O,O,O,O,O,O,O,O,O,O,O,O,O,O,O,O,O,O,B-Drug,B-Dosage,O,O,O,O,O,O,O,O,O,O,O,O,B-Drug,O,B-Strength,O,O,O,O,O,O,O,O,O,O,O,O,O,O,O,O,B-Reason,I-Reason,I-Reason,I-Reason,O,O,O,B-Drug,O,O,O,O,O,O,O,O,O,O,O,O,O,O,O,O,O,B-ADE,O,O,O,O,O,O,O,O,O,O,B-Drug,I-Drug,B-Dosage,O,O,O,O,B-Drug,O,O,O,O,O,O,O,O,O,B-Drug,B-Dosage,I-Dosage,O,O,O,B-Drug,O,O,O,O,O,O,O,O,O,O,O,O,O,O,O,O,O,O,O,O,O,O,O,O,O,O,O,O,O,O,O,O,O,O,O,O,O,O,O,O,O,O,O,O,O,O,O,O,O,O,O,O,O,O,O,O,O,O,O,O,O,O,O,O,O,B-ADE,O,O,O,B-ADE,I-ADE,O,O,O,O,O,O,B-Drug,O,O,O,O,O,O,O,O,O,B-Drug,O,O,O,O,O,O,O,O,O,O,O,O,O,O,O,O,O,O,O,O,O,O,O,O,O,O,O,O,O,O,O,O,O,O,O,O,O,O,B-Drug,B-Strength,B-Frequency,I-Frequency,O,O,O,O,O,O,O,O,O,O,O,O,O,O,O,O,O,O,O,O,O,O,B-Drug,I-Drug,O,O,O,O,O,O,O,O,O,O,O,O,O,O,B-Drug,B-Strength,B-Route,O,O,O,O,O,O,O,O,O,O,O,O,O,O,O,O,O,O,O,O,O,O,O,O,O,O,O,O,O,O,O,O,O,O,O,O,O,O,O,O,B-Drug,O,O,O,O,O,O,B-Strength,I-Strength,B-Route,B-Frequency,O,O,B-Drug,I-Drug,B-Strength,I-Strength,B-Route,B-Frequency,O,O,B-Duration,I-Duration,O,O,O,O,O,O,B-Drug,B-Dosage,B-Form,B-Route,B-Frequency,O,O,B-Drug,I-Drug,B-Form,B-Dosage,B-Form,B-Route,B-Frequency,O,O,B-Drug,B-Strength,I-Strength,B-Route,B-Frequency,I-Frequency,I-Frequency,B-Reason,O,O,B-Drug,B-Strength,I-Strength,B-Route,B-Frequency,I-Frequency,I-Frequency,B-Reason,O,O,O,O,O,B-Drug,B-Strength,I-Strength,B-Route,B-Frequency,I-Frequency,I-Frequency,B-Reason,O,O,B-Drug,B-Strength,I-Strength,B-Route,B-Frequency,I-Frequency,I-Frequency,B-Reason,O,O,B-Drug,O,O,O,O,O,O,B-Strength,I-Strength,B-Route,B-Frequency,O,O,B-Drug,B-Dosage,B-Form,B-Route,B-Frequency,O,O,B-Drug,I-Drug,B-Strength,I-Strength,B-Route,B-Frequency,O,O,B-Duration,I-Duration,O,O,O,O,O,O,B-Drug,I-Drug,B-Form,B-Dosage,B-Form,B-Route,B-Frequency,O,O,B-Drug,B-Strength,I-Strength,B-Route,B-Frequency,O,O,O,O,O,O,O,O,O,O,O,O,O,O,O,O,O,O,B-Drug,I-Drug,O,B-Form,O,B-Strength,I-Strength,B-Route,B-Frequency,O,O,B-Drug,I-Drug,B-Strength,I-Strength,B-Route,B-Frequency,I-Frequency,I-Frequency,B-Reason,O,O,O,O,O,O,O,O,O,O,O,O,O,O,O,O,O,O,O,O,O,O,O,O,O,B-Drug,I-Drug,B-Strength,O,B-Form,B-Dosage,B-Form,B-Route,B-Frequency,B-Reason,O,O,O,O,O,O,O,O,O,O,O,O,O,O,O,O,O,O,O,O,O,O,O,O,O,O,O,O,O,O,O,O,O,O,O,O,O,O,O,O,O,O,O,O,O,O,O,O,O,O,O,O,O,O,O,O,O,O,O,O,O,O,O,O,O,O,O,O,O,O,O,O,O,O,O,O,O,O,O,O,O,O,O,O,O,O,O,O,O,O,O,O,O,O,O,O,O,O,O,O,O,O,O,O,O,O,O,O,O,O,O,O,O,O,O,O,O,O,O,O,O,O,O,O,O,B-Drug,O,O,O,B-Duration,I-Duration,O,O,O,O,O,O,O,O,O,O,O,O,O,O,O,O,O,O,O,O,O,O,O,O,O,O,O,O,O,O,O,O,O,O,O,O,O,O,O,O,O,O,O,O,O,B-Duration,I-Duration,I-Duration,O,B-Drug,O,O,B-Reason,I-Reason,O,O,O,O,O,O,O,O,O,O,O,O,O,O,O,O,O,O,O,O,O,O,O,O,O,O,O,O,O,O,O,O,O,O,O,O,O,O,O,O\"\n        ],\n        \"semantic_type\": \"\",\n        \"description\": \"\"\n      }\n    }\n  ]\n}"
            }
          },
          "metadata": {},
          "execution_count": 24
        }
      ]
    },
    {
      "cell_type": "markdown",
      "source": [
        "### It looks reasonable, let's proceed with training"
      ],
      "metadata": {
        "id": "oIRanj57PpZu"
      }
    },
    {
      "cell_type": "code",
      "source": [
        "from transformers import AutoTokenizer, AutoModelForTokenClassification\n",
        "tokenizer = AutoTokenizer.from_pretrained(\"yikuan8/Clinical-Longformer\", add_prefix_space=True)\n",
        "model = AutoModelForTokenClassification.from_pretrained(\n",
        "    \"yikuan8/Clinical-Longformer\", num_labels=len(labels_to_ids), gradient_checkpointing=True)\n"
      ],
      "metadata": {
        "colab": {
          "base_uri": "https://localhost:8080/"
        },
        "id": "yNvJkxlLRZ6n",
        "outputId": "ce156434-c7b5-472d-d855-8132c8234164"
      },
      "execution_count": 28,
      "outputs": [
        {
          "output_type": "stream",
          "name": "stderr",
          "text": [
            "/usr/local/lib/python3.10/dist-packages/huggingface_hub/utils/_token.py:88: UserWarning: \n",
            "The secret `HF_TOKEN` does not exist in your Colab secrets.\n",
            "To authenticate with the Hugging Face Hub, create a token in your settings tab (https://huggingface.co/settings/tokens), set it as secret in your Google Colab and restart your session.\n",
            "You will be able to reuse this secret in all of your notebooks.\n",
            "Please note that authentication is recommended but still optional to access public models or datasets.\n",
            "  warnings.warn(\n",
            "Some weights of LongformerForTokenClassification were not initialized from the model checkpoint at yikuan8/Clinical-Longformer and are newly initialized: ['classifier.bias', 'classifier.weight']\n",
            "You should probably TRAIN this model on a down-stream task to be able to use it for predictions and inference.\n"
          ]
        }
      ]
    },
    {
      "cell_type": "code",
      "source": [
        "MAX_LEN = 4096\n",
        "TRAIN_BATCH_SIZE = 1\n",
        "VALID_BATCH_SIZE = 1\n",
        "TEST_BATCH_SIZE = 2\n",
        "EPOCHS = 10\n",
        "LEARNING_RATE = 1e-05\n",
        "MAX_GRAD_NORM = 10"
      ],
      "metadata": {
        "id": "VRjrBQAR9-zc"
      },
      "execution_count": 30,
      "outputs": []
    },
    {
      "cell_type": "code",
      "source": [
        "class dataset(Dataset):\n",
        "  def __init__(self, dataframe, tokenizer, max_len):\n",
        "        self.len = len(dataframe)\n",
        "        self.data = dataframe\n",
        "        self.tokenizer = tokenizer\n",
        "        self.max_len = max_len\n",
        "\n",
        "  def __getitem__(self, index):\n",
        "        # step 1: get the sentence and word labels\n",
        "        sentence = self.data.sentence[index].strip().split()\n",
        "        word_labels = self.data.word_labels[index].split(\",\")\n",
        "\n",
        "        # step 2: use tokenizer to encode sentence (includes padding/truncation up to max length)\n",
        "        # BertTokenizerFast provides a handy \"return_offsets_mapping\" functionality for individual tokens\n",
        "        encoding = self.tokenizer(sentence,\n",
        "                             return_offsets_mapping=True,\n",
        "                             padding='max_length',\n",
        "                             is_split_into_words=True,\n",
        "                             truncation=True,\n",
        "                             max_length=self.max_len,\n",
        "                            #  add_prefix_space=True\n",
        "                            )\n",
        "\n",
        "        # step 3: create token labels only for first word pieces of each tokenized word\n",
        "        labels = [labels_to_ids[label] for label in word_labels]\n",
        "        # code based on https://huggingface.co/transformers/custom_datasets.html#tok-ner\n",
        "        # create an empty array of -100 of length max_length\n",
        "        encoded_labels = np.ones(len(encoding[\"offset_mapping\"]), dtype=int) * -100\n",
        "\n",
        "        # set only labels whose first offset position is 0 and the second is not 0\n",
        "        i = 0\n",
        "        for idx, mapping in enumerate(encoding[\"offset_mapping\"]):\n",
        "          if mapping[0] == 0 and mapping[1] != 0:\n",
        "            # overwrite label\n",
        "            encoded_labels[idx] = labels[i]\n",
        "            i += 1\n",
        "\n",
        "        # step 4: turn everything into PyTorch tensors\n",
        "        item = {key: torch.as_tensor(val) for key, val in encoding.items()}\n",
        "        item['labels'] = torch.as_tensor(encoded_labels)\n",
        "\n",
        "        return item\n",
        "\n",
        "  def __len__(self):\n",
        "        return self.len"
      ],
      "metadata": {
        "id": "rYVPN8o4ve9Q"
      },
      "execution_count": 31,
      "outputs": []
    },
    {
      "cell_type": "code",
      "source": [
        "train_size = 0.8\n",
        "train_dataset = data_train.sample(frac=train_size,random_state=200)\n",
        "val_dataset = data_train.drop(train_dataset.index).reset_index(drop=True)\n",
        "train_dataset = train_dataset.reset_index(drop=True)\n",
        "\n",
        "print(\"FULL Dataset: {}\".format(data_train.shape))\n",
        "print(\"TRAIN Dataset: {}\".format(train_dataset.shape))\n",
        "print(\"Val Dataset: {}\".format(val_dataset.shape))\n",
        "print(\"Test Dataset: {}\".format(data_test.shape))\n",
        "\n",
        "\n",
        "training_set = dataset(train_dataset, tokenizer, MAX_LEN)\n",
        "val_set = dataset(val_dataset, tokenizer, MAX_LEN)\n",
        "test_set = dataset(data_test.reset_index(drop=True), tokenizer, MAX_LEN)\n"
      ],
      "metadata": {
        "colab": {
          "base_uri": "https://localhost:8080/"
        },
        "id": "FDFvMkzgQjUX",
        "outputId": "6edc0618-12d6-4539-84e9-ce3606a02182"
      },
      "execution_count": 32,
      "outputs": [
        {
          "output_type": "stream",
          "name": "stdout",
          "text": [
            "FULL Dataset: (303, 2)\n",
            "TRAIN Dataset: (242, 2)\n",
            "Val Dataset: (61, 2)\n",
            "Test Dataset: (202, 2)\n"
          ]
        }
      ]
    },
    {
      "cell_type": "code",
      "source": [
        "training_set[0]"
      ],
      "metadata": {
        "colab": {
          "base_uri": "https://localhost:8080/"
        },
        "id": "49Zb6f0F0Ru3",
        "outputId": "0c51046a-f1ba-4112-d3f9-526b91d80efb"
      },
      "execution_count": 34,
      "outputs": [
        {
          "output_type": "execute_result",
          "data": {
            "text/plain": [
              "{'input_ids': tensor([    0, 18032, 10566,  ...,     1,     1,     1]),\n",
              " 'attention_mask': tensor([1, 1, 1,  ..., 0, 0, 0]),\n",
              " 'offset_mapping': tensor([[0, 0],\n",
              "         [0, 9],\n",
              "         [0, 4],\n",
              "         ...,\n",
              "         [0, 0],\n",
              "         [0, 0],\n",
              "         [0, 0]]),\n",
              " 'labels': tensor([-100,   18,   18,  ..., -100, -100, -100])}"
            ]
          },
          "metadata": {},
          "execution_count": 34
        }
      ]
    },
    {
      "cell_type": "code",
      "source": [
        "test_set[0]"
      ],
      "metadata": {
        "colab": {
          "base_uri": "https://localhost:8080/"
        },
        "id": "reyjdAMAyFAl",
        "outputId": "d49ff0ae-8b1f-48f0-d848-ea7ced2ba2dc"
      },
      "execution_count": 35,
      "outputs": [
        {
          "output_type": "execute_result",
          "data": {
            "text/plain": [
              "{'input_ids': tensor([    0, 18032, 10566,  ...,   110, 12234,     2]),\n",
              " 'attention_mask': tensor([1, 1, 1,  ..., 1, 1, 1]),\n",
              " 'offset_mapping': tensor([[0, 0],\n",
              "         [0, 9],\n",
              "         [0, 4],\n",
              "         ...,\n",
              "         [0, 4],\n",
              "         [0, 4],\n",
              "         [0, 0]]),\n",
              " 'labels': tensor([-100,   18,   18,  ...,   18,   18, -100])}"
            ]
          },
          "metadata": {},
          "execution_count": 35
        }
      ]
    },
    {
      "cell_type": "code",
      "source": [
        "train_params = {'batch_size': TRAIN_BATCH_SIZE,\n",
        "                'shuffle': True,\n",
        "                'num_workers': 0\n",
        "                }\n",
        "\n",
        "val_params = {'batch_size': VALID_BATCH_SIZE,\n",
        "                'shuffle': True,\n",
        "                'num_workers': 0\n",
        "                }\n",
        "\n",
        "test_params = {'batch_size': TEST_BATCH_SIZE,\n",
        "                'shuffle': True,\n",
        "                'num_workers': 0\n",
        "                }\n",
        "\n",
        "\n",
        "training_loader = DataLoader(training_set, **train_params)\n",
        "val_loader = DataLoader(val_set, **val_params)\n",
        "testing_loader = DataLoader(test_set, **test_params)\n",
        "\n"
      ],
      "metadata": {
        "id": "zDNfrhJP4llk"
      },
      "execution_count": 38,
      "outputs": []
    },
    {
      "cell_type": "code",
      "source": [
        "model.to(device)"
      ],
      "metadata": {
        "colab": {
          "base_uri": "https://localhost:8080/"
        },
        "id": "BkNhlqUI43pt",
        "outputId": "a4f41174-d240-4e62-a502-2e7fd7d5c910"
      },
      "execution_count": 39,
      "outputs": [
        {
          "output_type": "execute_result",
          "data": {
            "text/plain": [
              "LongformerForTokenClassification(\n",
              "  (longformer): LongformerModel(\n",
              "    (embeddings): LongformerEmbeddings(\n",
              "      (word_embeddings): Embedding(50265, 768, padding_idx=1)\n",
              "      (token_type_embeddings): Embedding(1, 768)\n",
              "      (LayerNorm): LayerNorm((768,), eps=1e-05, elementwise_affine=True)\n",
              "      (dropout): Dropout(p=0.1, inplace=False)\n",
              "      (position_embeddings): Embedding(4098, 768, padding_idx=1)\n",
              "    )\n",
              "    (encoder): LongformerEncoder(\n",
              "      (layer): ModuleList(\n",
              "        (0-11): 12 x LongformerLayer(\n",
              "          (attention): LongformerAttention(\n",
              "            (self): LongformerSelfAttention(\n",
              "              (query): Linear(in_features=768, out_features=768, bias=True)\n",
              "              (key): Linear(in_features=768, out_features=768, bias=True)\n",
              "              (value): Linear(in_features=768, out_features=768, bias=True)\n",
              "              (query_global): Linear(in_features=768, out_features=768, bias=True)\n",
              "              (key_global): Linear(in_features=768, out_features=768, bias=True)\n",
              "              (value_global): Linear(in_features=768, out_features=768, bias=True)\n",
              "            )\n",
              "            (output): LongformerSelfOutput(\n",
              "              (dense): Linear(in_features=768, out_features=768, bias=True)\n",
              "              (LayerNorm): LayerNorm((768,), eps=1e-05, elementwise_affine=True)\n",
              "              (dropout): Dropout(p=0.1, inplace=False)\n",
              "            )\n",
              "          )\n",
              "          (intermediate): LongformerIntermediate(\n",
              "            (dense): Linear(in_features=768, out_features=3072, bias=True)\n",
              "            (intermediate_act_fn): GELUActivation()\n",
              "          )\n",
              "          (output): LongformerOutput(\n",
              "            (dense): Linear(in_features=3072, out_features=768, bias=True)\n",
              "            (LayerNorm): LayerNorm((768,), eps=1e-05, elementwise_affine=True)\n",
              "            (dropout): Dropout(p=0.1, inplace=False)\n",
              "          )\n",
              "        )\n",
              "      )\n",
              "    )\n",
              "  )\n",
              "  (dropout): Dropout(p=0.1, inplace=False)\n",
              "  (classifier): Linear(in_features=768, out_features=19, bias=True)\n",
              ")"
            ]
          },
          "metadata": {},
          "execution_count": 39
        }
      ]
    },
    {
      "cell_type": "code",
      "source": [
        "inputs = training_set[2]\n",
        "input_ids = inputs[\"input_ids\"].unsqueeze(0)\n",
        "attention_mask = inputs[\"attention_mask\"].unsqueeze(0)\n",
        "labels = inputs[\"labels\"].unsqueeze(0)\n",
        "\n",
        "input_ids = input_ids.to(device)\n",
        "attention_mask = attention_mask.to(device)\n",
        "labels = labels.to(device)\n",
        "\n",
        "outputs = model(input_ids, attention_mask=attention_mask, labels=labels)\n",
        "initial_loss = outputs[0]\n",
        "initial_loss"
      ],
      "metadata": {
        "colab": {
          "base_uri": "https://localhost:8080/"
        },
        "id": "oUh5g2Az5J7u",
        "outputId": "94011e19-6c4d-4f9f-8dd3-374a3444a6c2"
      },
      "execution_count": 40,
      "outputs": [
        {
          "output_type": "execute_result",
          "data": {
            "text/plain": [
              "tensor(3.2752, device='cuda:0', grad_fn=<NllLossBackward0>)"
            ]
          },
          "metadata": {},
          "execution_count": 40
        }
      ]
    },
    {
      "cell_type": "code",
      "source": [
        "tr_logits = outputs[1]\n",
        "tr_logits.shape"
      ],
      "metadata": {
        "colab": {
          "base_uri": "https://localhost:8080/"
        },
        "id": "4-qfx9lU6JqM",
        "outputId": "4e92ff85-8bd7-4451-fb95-1058d9917d76"
      },
      "execution_count": 41,
      "outputs": [
        {
          "output_type": "execute_result",
          "data": {
            "text/plain": [
              "torch.Size([1, 4096, 19])"
            ]
          },
          "metadata": {},
          "execution_count": 41
        }
      ]
    },
    {
      "cell_type": "code",
      "source": [
        "optimizer = torch.optim.AdamW(params=model.parameters(), lr=LEARNING_RATE, )"
      ],
      "metadata": {
        "id": "CaOtXFnGQgqz"
      },
      "execution_count": 42,
      "outputs": []
    },
    {
      "cell_type": "code",
      "source": [
        "import torch.nn.functional as F\n",
        "\n",
        "\n",
        "def focal_loss(logits, labels, alpha=0.25, gamma=2.0, ignore_index=-100):\n",
        "    \"\"\"\n",
        "    logits: [batch_size, seq_len, num_labels] - model predictions\n",
        "    labels: [batch_size, seq_len] - ground truth labels\n",
        "    \"\"\"\n",
        "    ce_loss = F.cross_entropy(logits.view(-1, logits.size(-1)), labels.view(-1), reduction='none', ignore_index=ignore_index)\n",
        "    pred_probs = F.softmax(logits.view(-1, logits.size(-1)), dim=-1)\n",
        "    pred_class = labels.view(-1)\n",
        "    gamma = gamma\n",
        "    filtered = labels.view(-1) != ignore_index\n",
        "    ce_loss_filtered = ce_loss[filtered]\n",
        "    pred_probs_filtered = pred_probs[filtered]\n",
        "    pred_class_filtered = pred_class[filtered]\n",
        "    pt = pred_probs_filtered.gather(1, pred_class_filtered.unsqueeze(-1)).squeeze()\n",
        "    loss = ((1 - pt) ** gamma * ce_loss_filtered).mean()  # mean over the batch\n",
        "\n",
        "    return loss\n",
        "\n"
      ],
      "metadata": {
        "id": "_247Nj559I5C"
      },
      "execution_count": 43,
      "outputs": []
    },
    {
      "cell_type": "code",
      "source": [
        "def train(epoch):\n",
        "    tr_loss, tr_accuracy = 0, 0\n",
        "    nb_tr_examples, nb_tr_steps = 0, 0\n",
        "    tr_preds, tr_labels = [], []\n",
        "\n",
        "    model.train()\n",
        "\n",
        "    for idx, batch in enumerate(training_loader):\n",
        "        ids = batch['input_ids'].to(device, dtype=torch.long)\n",
        "        mask = batch['attention_mask'].to(device, dtype=torch.long)\n",
        "        labels = batch['labels'].to(device, dtype=torch.long)\n",
        "\n",
        "        # Create a global attention mask with 1s for first token and ADE entity locations\n",
        "        global_attention_mask = torch.zeros_like(ids)\n",
        "        global_attention_mask[:, 0] = 1  # Global attention on the first token ([CLS])\n",
        "\n",
        "        # # Assuming 'labels_to_ids' is a dictionary mapping label strings to their encoded IDs\n",
        "        # b_ade_id = labels_to_ids['B-Drug']\n",
        "        # i_ade_id = labels_to_ids['I-Drug']\n",
        "\n",
        "        # # Find indices where labels are B-ADE or I-ADE\n",
        "        # b_ade_indices = (labels == b_ade_id).nonzero(as_tuple=True)\n",
        "        # i_ade_indices = (labels == i_ade_id).nonzero(as_tuple=True)\n",
        "\n",
        "        # # Apply global attention to B-ADE and I-ADE locations\n",
        "        # # Assuming a 2D structure for `labels`, adjust dimensions as necessary\n",
        "        # for idx in b_ade_indices[0]:\n",
        "        #     global_attention_mask[idx] = 1\n",
        "        # for idx in i_ade_indices[0]:\n",
        "        #     global_attention_mask[idx] = 1\n",
        "\n",
        "        # Perform a forward pass to get the logits\n",
        "        outputs = model(input_ids=ids, attention_mask=mask, global_attention_mask=global_attention_mask)\n",
        "        logits = outputs.logits\n",
        "        # Calculate the loss using focal_loss function directly\n",
        "        loss = focal_loss(logits, labels)  # Assuming focal_loss is correctly implemented elsewhere\n",
        "\n",
        "        tr_loss += loss.item()\n",
        "        nb_tr_steps += 1\n",
        "        nb_tr_examples += labels.size(0)\n",
        "\n",
        "        if idx % 100 == 0:\n",
        "            loss_step = tr_loss / nb_tr_steps\n",
        "            print(f\"Training loss per 100 training steps: {loss_step}\")\n",
        "\n",
        "        # Decoding the logits to compute accuracy\n",
        "        active_logits = logits.view(-1, model.num_labels)  # Adjust according to your model's output shape\n",
        "        flattened_predictions = torch.argmax(active_logits, axis=1)\n",
        "\n",
        "        # Ignoring the predictions of the padding tokens\n",
        "        active_accuracy = labels.view(-1) != -100\n",
        "        active_labels = torch.where(active_accuracy, labels.view(-1), torch.tensor(-100).type_as(labels))\n",
        "\n",
        "        labels = torch.masked_select(active_labels, active_accuracy)\n",
        "        predictions = torch.masked_select(flattened_predictions, active_accuracy)\n",
        "\n",
        "        tr_labels.extend(labels.cpu().numpy())\n",
        "        tr_preds.extend(predictions.cpu().numpy())\n",
        "\n",
        "        tmp_tr_accuracy = accuracy_score(labels.cpu().numpy(), predictions.cpu().numpy())\n",
        "        tr_accuracy += tmp_tr_accuracy\n",
        "\n",
        "        # Gradient clipping\n",
        "        torch.nn.utils.clip_grad_norm_(parameters=model.parameters(), max_norm=MAX_GRAD_NORM)\n",
        "\n",
        "        # Backward pass and optimization\n",
        "        optimizer.zero_grad()\n",
        "        loss.backward()\n",
        "        optimizer.step()\n",
        "\n",
        "    epoch_loss = tr_loss / nb_tr_steps\n",
        "    tr_accuracy = tr_accuracy / nb_tr_steps\n",
        "    print(f\"Training loss epoch: {epoch_loss}\")\n",
        "    print(f\"Training accuracy epoch: {tr_accuracy}\")"
      ],
      "metadata": {
        "id": "V449l7PpdLOK"
      },
      "execution_count": 46,
      "outputs": []
    },
    {
      "cell_type": "code",
      "source": [
        "torch.cuda.empty_cache()"
      ],
      "metadata": {
        "id": "hJTCIVnHvK-a"
      },
      "execution_count": 47,
      "outputs": []
    },
    {
      "cell_type": "code",
      "source": [
        "for epoch in range(EPOCHS):\n",
        "    print(f\"Training epoch: {epoch + 1}\")\n",
        "    train(epoch)"
      ],
      "metadata": {
        "colab": {
          "base_uri": "https://localhost:8080/"
        },
        "id": "X9yYcqE5Qn62",
        "outputId": "6f0b9478-8191-4986-85a6-38e6a9419b83"
      },
      "execution_count": 49,
      "outputs": [
        {
          "output_type": "stream",
          "name": "stdout",
          "text": [
            "Training epoch: 1\n",
            "Training loss per 100 training steps: 3.036323308944702\n",
            "Training loss per 100 training steps: 0.5513081152250271\n",
            "Training loss per 100 training steps: 0.3790651059973596\n",
            "Training loss epoch: 0.33613162125991886\n",
            "Training accuracy epoch: 0.9045512867545524\n",
            "Training epoch: 2\n",
            "Training loss per 100 training steps: 0.04863933473825455\n",
            "Training loss per 100 training steps: 0.08356741555196483\n",
            "Training loss per 100 training steps: 0.07382493885639425\n",
            "Training loss epoch: 0.07024807010032622\n",
            "Training accuracy epoch: 0.9722690177696489\n",
            "Training epoch: 3\n",
            "Training loss per 100 training steps: 0.02900957688689232\n",
            "Training loss per 100 training steps: 0.04483641416645876\n",
            "Training loss per 100 training steps: 0.04387062910709076\n",
            "Training loss epoch: 0.04272075025061692\n",
            "Training accuracy epoch: 0.9780107124097148\n",
            "Training epoch: 4\n",
            "Training loss per 100 training steps: 0.004501887131482363\n",
            "Training loss per 100 training steps: 0.0324083151812158\n",
            "Training loss per 100 training steps: 0.032144874411945544\n",
            "Training loss epoch: 0.0323376705387053\n",
            "Training accuracy epoch: 0.9808265571760975\n",
            "Training epoch: 5\n",
            "Training loss per 100 training steps: 0.018953610211610794\n",
            "Training loss per 100 training steps: 0.02754640658985418\n",
            "Training loss per 100 training steps: 0.026766538558239975\n",
            "Training loss epoch: 0.026746497011042588\n",
            "Training accuracy epoch: 0.9823904132998859\n",
            "Training epoch: 6\n",
            "Training loss per 100 training steps: 0.012653140351176262\n",
            "Training loss per 100 training steps: 0.024043631286427752\n",
            "Training loss per 100 training steps: 0.02251499914596771\n",
            "Training loss epoch: 0.022455881867628237\n",
            "Training accuracy epoch: 0.9841008106371002\n",
            "Training epoch: 7\n",
            "Training loss per 100 training steps: 0.014446300454437733\n",
            "Training loss per 100 training steps: 0.02078520541242439\n",
            "Training loss per 100 training steps: 0.02006510749599139\n",
            "Training loss epoch: 0.01955213356484834\n",
            "Training accuracy epoch: 0.9853946242778646\n",
            "Training epoch: 8\n",
            "Training loss per 100 training steps: 0.015278436243534088\n",
            "Training loss per 100 training steps: 0.015157357414251903\n",
            "Training loss per 100 training steps: 0.016436235193468384\n",
            "Training loss epoch: 0.016541732241068138\n",
            "Training accuracy epoch: 0.9867721838543985\n",
            "Training epoch: 9\n",
            "Training loss per 100 training steps: 0.023940660059452057\n",
            "Training loss per 100 training steps: 0.014863304867026498\n",
            "Training loss per 100 training steps: 0.014981926958926892\n",
            "Training loss epoch: 0.014975414177728047\n",
            "Training accuracy epoch: 0.9876171165506799\n",
            "Training epoch: 10\n",
            "Training loss per 100 training steps: 0.008541974239051342\n",
            "Training loss per 100 training steps: 0.012928626518512126\n",
            "Training loss per 100 training steps: 0.012784706864299528\n",
            "Training loss epoch: 0.013359345986226656\n",
            "Training accuracy epoch: 0.9883838393468724\n"
          ]
        }
      ]
    },
    {
      "cell_type": "code",
      "source": [
        "def valid(model, testing_loader):\n",
        "    model.eval()\n",
        "    eval_loss, eval_accuracy = 0, 0\n",
        "    nb_eval_steps = 0\n",
        "    eval_preds, eval_labels = [], []\n",
        "\n",
        "    with torch.no_grad():\n",
        "        for idx, batch in enumerate(testing_loader):\n",
        "            ids = batch['input_ids'].to(device, dtype=torch.long)\n",
        "            mask = batch['attention_mask'].to(device, dtype=torch.long)\n",
        "            labels = batch['labels'].to(device, dtype=torch.long)\n",
        "            global_attention_mask = torch.zeros_like(ids)\n",
        "            global_attention_mask[:, 0] = 1  # Apply global attention to the first token\n",
        "\n",
        "\n",
        "            outputs = model(input_ids=ids, attention_mask=mask, global_attention_mask=global_attention_mask)\n",
        "            loss = focal_loss(outputs.logits, labels)\n",
        "\n",
        "            eval_loss += loss.item()\n",
        "            nb_eval_steps += 1\n",
        "\n",
        "            if idx % 100 == 0:\n",
        "                print(f\"Validation loss per 100 evaluation steps: {eval_loss / nb_eval_steps}\")\n",
        "\n",
        "            active_logits = outputs.logits.view(-1, model.num_labels)\n",
        "            flattened_predictions = torch.argmax(active_logits, axis=1)\n",
        "            active_accuracy = labels.view(-1) != -100\n",
        "            active_labels = torch.masked_select(labels.view(-1), active_accuracy)\n",
        "            predictions = torch.masked_select(flattened_predictions, active_accuracy)\n",
        "\n",
        "            eval_labels.extend(active_labels.cpu().numpy())\n",
        "            eval_preds.extend(predictions.cpu().numpy())\n",
        "\n",
        "    # Calculate and print final evaluation metrics\n",
        "    eval_accuracy = accuracy_score(eval_labels, eval_preds)\n",
        "    print(f\"Validation Loss: {eval_loss / nb_eval_steps}\")\n",
        "    print(f\"Validation Accuracy: {eval_accuracy}\")\n",
        "\n",
        "    # Optionally return detailed evaluation metrics\n",
        "    return eval_labels, eval_preds\n"
      ],
      "metadata": {
        "id": "-yPKcQuJZR_O"
      },
      "execution_count": 50,
      "outputs": []
    },
    {
      "cell_type": "code",
      "source": [
        "labels, predictions = valid(model, val_loader)\n"
      ],
      "metadata": {
        "id": "jsTZFFHJgHIM",
        "colab": {
          "base_uri": "https://localhost:8080/"
        },
        "outputId": "5f013a18-cdd4-4586-ad1f-af602763ba10"
      },
      "execution_count": 52,
      "outputs": [
        {
          "output_type": "stream",
          "name": "stdout",
          "text": [
            "Validation loss per 100 evaluation steps: 0.024418480694293976\n",
            "Validation Loss: 0.020247583578581172\n",
            "Validation Accuracy: 0.9867474256332872\n"
          ]
        }
      ]
    },
    {
      "cell_type": "code",
      "source": [
        "string_labels = [ids_to_labels[id] for id in labels]\n",
        "string_predictions = [ids_to_labels[id] for id in predictions]\n",
        "# since `seqeval` expects a list of lists (one per sentence), adjust accordingly\n",
        "string_labels = [string_labels]\n",
        "string_predictions = [string_predictions]\n",
        "\n",
        "from seqeval.metrics import classification_report\n",
        "\n",
        "print(classification_report(string_labels, string_predictions))"
      ],
      "metadata": {
        "colab": {
          "base_uri": "https://localhost:8080/"
        },
        "id": "fL5t4Q18-Ig8",
        "outputId": "e626818e-b2f1-4e32-de02-70b1d7685fbd"
      },
      "execution_count": 53,
      "outputs": [
        {
          "output_type": "stream",
          "name": "stdout",
          "text": [
            "              precision    recall  f1-score   support\n",
            "\n",
            "         ADE       0.44      0.58      0.50       130\n",
            "      Dosage       0.91      0.89      0.90       550\n",
            "        Drug       0.93      0.93      0.93      2412\n",
            "    Duration       0.75      0.75      0.75        96\n",
            "        Form       0.92      0.90      0.91       792\n",
            "   Frequency       0.86      0.88      0.87       865\n",
            "      Reason       0.68      0.61      0.64       545\n",
            "       Route       0.91      0.91      0.91       724\n",
            "    Strength       0.95      0.95      0.95       932\n",
            "\n",
            "   micro avg       0.89      0.88      0.88      7046\n",
            "   macro avg       0.82      0.82      0.82      7046\n",
            "weighted avg       0.89      0.88      0.88      7046\n",
            "\n"
          ]
        }
      ]
    },
    {
      "cell_type": "code",
      "source": [
        "test_labels, test_predictions = valid(model, testing_loader)"
      ],
      "metadata": {
        "colab": {
          "base_uri": "https://localhost:8080/"
        },
        "id": "UD-UQ4vC9xhw",
        "outputId": "98e5e1e1-ba99-4b59-f035-3937d33a510f"
      },
      "execution_count": 54,
      "outputs": [
        {
          "output_type": "stream",
          "name": "stdout",
          "text": [
            "Validation loss per 100 evaluation steps: 0.04302993416786194\n",
            "Validation loss per 100 evaluation steps: 0.02427766437522403\n",
            "Validation Loss: 0.02427766437522403\n",
            "Validation Accuracy: 0.98336468328611\n"
          ]
        }
      ]
    },
    {
      "cell_type": "code",
      "source": [
        "string_labels = [ids_to_labels[id] for id in test_labels]\n",
        "string_predictions = [ids_to_labels[id] for id in test_predictions]\n",
        "\n",
        "# since `seqeval` expects a list of lists (one per sentence), adjust accordingly\n",
        "string_labels = [string_labels]\n",
        "string_predictions = [string_predictions]\n",
        "\n",
        "from seqeval.metrics import classification_report\n",
        "\n",
        "print(classification_report(string_labels, string_predictions))"
      ],
      "metadata": {
        "colab": {
          "base_uri": "https://localhost:8080/"
        },
        "id": "40IkfZ9CPbuh",
        "outputId": "09d8e63b-cc89-4db5-b4b1-8773fcb74755"
      },
      "execution_count": 57,
      "outputs": [
        {
          "output_type": "stream",
          "name": "stdout",
          "text": [
            "              precision    recall  f1-score   support\n",
            "\n",
            "         ADE       0.54      0.54      0.54       529\n",
            "      Dosage       0.89      0.88      0.89      1923\n",
            "        Drug       0.93      0.91      0.92      8432\n",
            "    Duration       0.67      0.68      0.68       304\n",
            "        Form       0.92      0.91      0.91      3014\n",
            "   Frequency       0.80      0.81      0.80      2918\n",
            "      Reason       0.62      0.58      0.60      1965\n",
            "       Route       0.93      0.92      0.92      2568\n",
            "    Strength       0.93      0.94      0.93      3114\n",
            "\n",
            "   micro avg       0.87      0.86      0.87     24767\n",
            "   macro avg       0.80      0.80      0.80     24767\n",
            "weighted avg       0.87      0.86      0.87     24767\n",
            "\n"
          ]
        }
      ]
    },
    {
      "cell_type": "markdown",
      "source": [
        "### Save"
      ],
      "metadata": {
        "id": "uOkshlhxM2zH"
      }
    },
    {
      "cell_type": "code",
      "source": [
        "import os\n",
        "\n",
        "directory = \"/content/drive/MyDrive/266_final/clinical_longformer_final\"\n",
        "\n",
        "if not os.path.exists(directory):\n",
        "    os.makedirs(directory)\n",
        "\n",
        "tokenizer.save_vocabulary(directory)\n",
        "model.save_pretrained(directory, safe_serialization=True)"
      ],
      "metadata": {
        "id": "SmhHNpaCzni9"
      },
      "execution_count": 63,
      "outputs": []
    }
  ],
  "metadata": {
    "accelerator": "GPU",
    "colab": {
      "gpuType": "V100",
      "provenance": [],
      "machine_shape": "hm"
    },
    "kernelspec": {
      "display_name": "Python 3",
      "name": "python3"
    },
    "language_info": {
      "name": "python"
    }
  },
  "nbformat": 4,
  "nbformat_minor": 0
}
