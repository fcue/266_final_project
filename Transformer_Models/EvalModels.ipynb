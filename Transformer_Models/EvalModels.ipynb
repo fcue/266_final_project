{
  "nbformat": 4,
  "nbformat_minor": 0,
  "metadata": {
    "colab": {
      "provenance": []
    },
    "kernelspec": {
      "name": "python3",
      "display_name": "Python 3"
    },
    "language_info": {
      "name": "python"
    }
  },
  "cells": [
    {
      "cell_type": "code",
      "source": [
        "!pip install transformers"
      ],
      "metadata": {
        "colab": {
          "base_uri": "https://localhost:8080/"
        },
        "id": "z66yL0HEnS6c",
        "outputId": "fc29c622-cc16-4d2b-cfe3-3d0660e6c2e6"
      },
      "execution_count": 1,
      "outputs": [
        {
          "output_type": "stream",
          "name": "stdout",
          "text": [
            "Requirement already satisfied: transformers in /usr/local/lib/python3.10/dist-packages (4.38.2)\n",
            "Requirement already satisfied: filelock in /usr/local/lib/python3.10/dist-packages (from transformers) (3.13.4)\n",
            "Requirement already satisfied: huggingface-hub<1.0,>=0.19.3 in /usr/local/lib/python3.10/dist-packages (from transformers) (0.20.3)\n",
            "Requirement already satisfied: numpy>=1.17 in /usr/local/lib/python3.10/dist-packages (from transformers) (1.25.2)\n",
            "Requirement already satisfied: packaging>=20.0 in /usr/local/lib/python3.10/dist-packages (from transformers) (24.0)\n",
            "Requirement already satisfied: pyyaml>=5.1 in /usr/local/lib/python3.10/dist-packages (from transformers) (6.0.1)\n",
            "Requirement already satisfied: regex!=2019.12.17 in /usr/local/lib/python3.10/dist-packages (from transformers) (2023.12.25)\n",
            "Requirement already satisfied: requests in /usr/local/lib/python3.10/dist-packages (from transformers) (2.31.0)\n",
            "Requirement already satisfied: tokenizers<0.19,>=0.14 in /usr/local/lib/python3.10/dist-packages (from transformers) (0.15.2)\n",
            "Requirement already satisfied: safetensors>=0.4.1 in /usr/local/lib/python3.10/dist-packages (from transformers) (0.4.2)\n",
            "Requirement already satisfied: tqdm>=4.27 in /usr/local/lib/python3.10/dist-packages (from transformers) (4.66.2)\n",
            "Requirement already satisfied: fsspec>=2023.5.0 in /usr/local/lib/python3.10/dist-packages (from huggingface-hub<1.0,>=0.19.3->transformers) (2023.6.0)\n",
            "Requirement already satisfied: typing-extensions>=3.7.4.3 in /usr/local/lib/python3.10/dist-packages (from huggingface-hub<1.0,>=0.19.3->transformers) (4.11.0)\n",
            "Requirement already satisfied: charset-normalizer<4,>=2 in /usr/local/lib/python3.10/dist-packages (from requests->transformers) (3.3.2)\n",
            "Requirement already satisfied: idna<4,>=2.5 in /usr/local/lib/python3.10/dist-packages (from requests->transformers) (3.6)\n",
            "Requirement already satisfied: urllib3<3,>=1.21.1 in /usr/local/lib/python3.10/dist-packages (from requests->transformers) (2.0.7)\n",
            "Requirement already satisfied: certifi>=2017.4.17 in /usr/local/lib/python3.10/dist-packages (from requests->transformers) (2024.2.2)\n"
          ]
        }
      ]
    },
    {
      "cell_type": "code",
      "source": [
        "from transformers import BertTokenizer, BertForTokenClassification\n",
        "from transformers import pipeline\n"
      ],
      "metadata": {
        "id": "wEDJERtloIPi"
      },
      "execution_count": 2,
      "outputs": []
    },
    {
      "cell_type": "code",
      "source": [
        "import pandas as pd\n",
        "import numpy as np\n",
        "\n",
        "import os\n",
        "\n",
        "import torch\n",
        "from torch.utils.data import Dataset, DataLoader\n",
        "from sklearn.metrics import accuracy_score\n"
      ],
      "metadata": {
        "id": "wzfSxw1XnHAX"
      },
      "execution_count": 3,
      "outputs": []
    },
    {
      "cell_type": "code",
      "source": [
        "\n",
        "# verify GPU\n",
        "from torch import cuda\n",
        "device = 'cuda' if cuda.is_available() else 'cpu'\n",
        "print(device)"
      ],
      "metadata": {
        "colab": {
          "base_uri": "https://localhost:8080/"
        },
        "id": "isxapew9ogOO",
        "outputId": "b2b1cd9a-fa55-4722-b351-0f800bd827d7"
      },
      "execution_count": 4,
      "outputs": [
        {
          "output_type": "stream",
          "name": "stdout",
          "text": [
            "cpu\n"
          ]
        }
      ]
    },
    {
      "cell_type": "code",
      "execution_count": 6,
      "metadata": {
        "colab": {
          "base_uri": "https://localhost:8080/"
        },
        "id": "wUwWtfBgm9om",
        "outputId": "084fbeb8-112d-4ece-9b94-141497aec1ba"
      },
      "outputs": [
        {
          "output_type": "stream",
          "name": "stdout",
          "text": [
            "Mounted at /content/drive\n"
          ]
        }
      ],
      "source": [
        "from google.colab import drive\n",
        "drive.mount('/content/drive')"
      ]
    },
    {
      "cell_type": "code",
      "source": [
        "data = pd.read_csv(\"/content/drive/MyDrive/266_final/data/sentence_level_data/test_dataset.csv\")"
      ],
      "metadata": {
        "id": "HoASMhb6obvU"
      },
      "execution_count": 7,
      "outputs": []
    },
    {
      "cell_type": "code",
      "source": [
        "labels = {'B-ADE': 0, 'B-Dosage': 1, 'B-Drug': 2, 'B-Duration': 3, 'B-Form': 4, 'B-Frequency': 5, 'B-Reason': 6, 'B-Route': 7, 'B-Strength': 8, 'I-ADE': 9, 'I-Dosage': 10, 'I-Drug': 11, 'I-Duration': 12, 'I-Form': 13, 'I-Frequency': 14, 'I-Reason': 15, 'I-Route': 16, 'I-Strength': 17, 'O': 18}\n"
      ],
      "metadata": {
        "id": "_yM7ECxV9O2S"
      },
      "execution_count": 8,
      "outputs": []
    },
    {
      "cell_type": "markdown",
      "source": [
        "# Load model"
      ],
      "metadata": {
        "id": "jafv_TXi9U1B"
      }
    },
    {
      "cell_type": "code",
      "source": [
        "directory = \"/content/drive/MyDrive/266_final/microsoft_bbb_concat7\""
      ],
      "metadata": {
        "id": "tMrJxL8on4FW"
      },
      "execution_count": 9,
      "outputs": []
    },
    {
      "cell_type": "code",
      "source": [
        "tokenizer_bbc = BertTokenizer.from_pretrained(directory)\n",
        "model_bbb = BertForTokenClassification.from_pretrained(directory)\n"
      ],
      "metadata": {
        "id": "D3Fr7UzHnKzg"
      },
      "execution_count": 10,
      "outputs": []
    },
    {
      "cell_type": "code",
      "source": [
        "model_bbb.to(device)"
      ],
      "metadata": {
        "colab": {
          "base_uri": "https://localhost:8080/"
        },
        "id": "54k3EoXioWHB",
        "outputId": "f124fb3b-d563-4a83-fdb2-6b6e3045bd1b"
      },
      "execution_count": 12,
      "outputs": [
        {
          "output_type": "execute_result",
          "data": {
            "text/plain": [
              "BertForTokenClassification(\n",
              "  (bert): BertModel(\n",
              "    (embeddings): BertEmbeddings(\n",
              "      (word_embeddings): Embedding(30522, 768, padding_idx=0)\n",
              "      (position_embeddings): Embedding(512, 768)\n",
              "      (token_type_embeddings): Embedding(2, 768)\n",
              "      (LayerNorm): LayerNorm((768,), eps=1e-12, elementwise_affine=True)\n",
              "      (dropout): Dropout(p=0.1, inplace=False)\n",
              "    )\n",
              "    (encoder): BertEncoder(\n",
              "      (layer): ModuleList(\n",
              "        (0-11): 12 x BertLayer(\n",
              "          (attention): BertAttention(\n",
              "            (self): BertSelfAttention(\n",
              "              (query): Linear(in_features=768, out_features=768, bias=True)\n",
              "              (key): Linear(in_features=768, out_features=768, bias=True)\n",
              "              (value): Linear(in_features=768, out_features=768, bias=True)\n",
              "              (dropout): Dropout(p=0.1, inplace=False)\n",
              "            )\n",
              "            (output): BertSelfOutput(\n",
              "              (dense): Linear(in_features=768, out_features=768, bias=True)\n",
              "              (LayerNorm): LayerNorm((768,), eps=1e-12, elementwise_affine=True)\n",
              "              (dropout): Dropout(p=0.1, inplace=False)\n",
              "            )\n",
              "          )\n",
              "          (intermediate): BertIntermediate(\n",
              "            (dense): Linear(in_features=768, out_features=3072, bias=True)\n",
              "            (intermediate_act_fn): GELUActivation()\n",
              "          )\n",
              "          (output): BertOutput(\n",
              "            (dense): Linear(in_features=3072, out_features=768, bias=True)\n",
              "            (LayerNorm): LayerNorm((768,), eps=1e-12, elementwise_affine=True)\n",
              "            (dropout): Dropout(p=0.1, inplace=False)\n",
              "          )\n",
              "        )\n",
              "      )\n",
              "    )\n",
              "  )\n",
              "  (dropout): Dropout(p=0.1, inplace=False)\n",
              "  (classifier): Linear(in_features=768, out_features=19, bias=True)\n",
              ")"
            ]
          },
          "metadata": {},
          "execution_count": 12
        }
      ]
    },
    {
      "cell_type": "code",
      "source": [
        "ner_pipe = pipeline(\"ner\", model_bbb, tokenizer=tokenizer_bbc)"
      ],
      "metadata": {
        "id": "gHK0l-BT0fHi"
      },
      "execution_count": 14,
      "outputs": []
    },
    {
      "cell_type": "code",
      "source": [
        "def all_ade(labels):\n",
        "    return all(label in ('B-ADE', 'I-ADE') for label in labels.split(','))\n",
        "\n",
        "# Apply the function to filter the DataFrame\n",
        "filtered_data = data[data['word_labels'].apply(all_ade)]\n",
        "\n",
        "# Print the filtered DataFrame\n",
        "filtered_data"
      ],
      "metadata": {
        "colab": {
          "base_uri": "https://localhost:8080/",
          "height": 310
        },
        "id": "mwu3VJP36z85",
        "outputId": "5765b6b3-602f-4301-e5c6-1028b0e1fbe4"
      },
      "execution_count": null,
      "outputs": [
        {
          "output_type": "execute_result",
          "data": {
            "text/plain": [
              "                        text_file_name  sentence_line_number  \\\n",
              "13624  data/test_data_Task2/112445.txt                   457   \n",
              "14675  data/test_data_Task2/107128.txt                   292   \n",
              "16717  data/test_data_Task2/113265.txt                   714   \n",
              "17420  data/test_data_Task2/113852.txt                    25   \n",
              "48988  data/test_data_Task2/122365.txt                   313   \n",
              "\n",
              "                                                sentence  \\\n",
              "13624                                          confusion   \n",
              "14675  Acute blood loss anemia from Psoas muscle hema...   \n",
              "16717                                        neutropenia   \n",
              "17420  lips , tongue and face swelling and it progres...   \n",
              "48988                                   thrombocytopenia   \n",
              "\n",
              "                                             word_labels  \n",
              "13624                                              B-ADE  \n",
              "14675    B-ADE,I-ADE,I-ADE,I-ADE,I-ADE,I-ADE,I-ADE,I-ADE  \n",
              "16717                                              B-ADE  \n",
              "17420  B-ADE,I-ADE,I-ADE,I-ADE,I-ADE,I-ADE,I-ADE,I-AD...  \n",
              "48988                                              B-ADE  "
            ],
            "text/html": [
              "\n",
              "  <div id=\"df-a19705cb-8be4-4600-ae07-b4b65c785ee4\" class=\"colab-df-container\">\n",
              "    <div>\n",
              "<style scoped>\n",
              "    .dataframe tbody tr th:only-of-type {\n",
              "        vertical-align: middle;\n",
              "    }\n",
              "\n",
              "    .dataframe tbody tr th {\n",
              "        vertical-align: top;\n",
              "    }\n",
              "\n",
              "    .dataframe thead th {\n",
              "        text-align: right;\n",
              "    }\n",
              "</style>\n",
              "<table border=\"1\" class=\"dataframe\">\n",
              "  <thead>\n",
              "    <tr style=\"text-align: right;\">\n",
              "      <th></th>\n",
              "      <th>text_file_name</th>\n",
              "      <th>sentence_line_number</th>\n",
              "      <th>sentence</th>\n",
              "      <th>word_labels</th>\n",
              "    </tr>\n",
              "  </thead>\n",
              "  <tbody>\n",
              "    <tr>\n",
              "      <th>13624</th>\n",
              "      <td>data/test_data_Task2/112445.txt</td>\n",
              "      <td>457</td>\n",
              "      <td>confusion</td>\n",
              "      <td>B-ADE</td>\n",
              "    </tr>\n",
              "    <tr>\n",
              "      <th>14675</th>\n",
              "      <td>data/test_data_Task2/107128.txt</td>\n",
              "      <td>292</td>\n",
              "      <td>Acute blood loss anemia from Psoas muscle hema...</td>\n",
              "      <td>B-ADE,I-ADE,I-ADE,I-ADE,I-ADE,I-ADE,I-ADE,I-ADE</td>\n",
              "    </tr>\n",
              "    <tr>\n",
              "      <th>16717</th>\n",
              "      <td>data/test_data_Task2/113265.txt</td>\n",
              "      <td>714</td>\n",
              "      <td>neutropenia</td>\n",
              "      <td>B-ADE</td>\n",
              "    </tr>\n",
              "    <tr>\n",
              "      <th>17420</th>\n",
              "      <td>data/test_data_Task2/113852.txt</td>\n",
              "      <td>25</td>\n",
              "      <td>lips , tongue and face swelling and it progres...</td>\n",
              "      <td>B-ADE,I-ADE,I-ADE,I-ADE,I-ADE,I-ADE,I-ADE,I-AD...</td>\n",
              "    </tr>\n",
              "    <tr>\n",
              "      <th>48988</th>\n",
              "      <td>data/test_data_Task2/122365.txt</td>\n",
              "      <td>313</td>\n",
              "      <td>thrombocytopenia</td>\n",
              "      <td>B-ADE</td>\n",
              "    </tr>\n",
              "  </tbody>\n",
              "</table>\n",
              "</div>\n",
              "    <div class=\"colab-df-buttons\">\n",
              "\n",
              "  <div class=\"colab-df-container\">\n",
              "    <button class=\"colab-df-convert\" onclick=\"convertToInteractive('df-a19705cb-8be4-4600-ae07-b4b65c785ee4')\"\n",
              "            title=\"Convert this dataframe to an interactive table.\"\n",
              "            style=\"display:none;\">\n",
              "\n",
              "  <svg xmlns=\"http://www.w3.org/2000/svg\" height=\"24px\" viewBox=\"0 -960 960 960\">\n",
              "    <path d=\"M120-120v-720h720v720H120Zm60-500h600v-160H180v160Zm220 220h160v-160H400v160Zm0 220h160v-160H400v160ZM180-400h160v-160H180v160Zm440 0h160v-160H620v160ZM180-180h160v-160H180v160Zm440 0h160v-160H620v160Z\"/>\n",
              "  </svg>\n",
              "    </button>\n",
              "\n",
              "  <style>\n",
              "    .colab-df-container {\n",
              "      display:flex;\n",
              "      gap: 12px;\n",
              "    }\n",
              "\n",
              "    .colab-df-convert {\n",
              "      background-color: #E8F0FE;\n",
              "      border: none;\n",
              "      border-radius: 50%;\n",
              "      cursor: pointer;\n",
              "      display: none;\n",
              "      fill: #1967D2;\n",
              "      height: 32px;\n",
              "      padding: 0 0 0 0;\n",
              "      width: 32px;\n",
              "    }\n",
              "\n",
              "    .colab-df-convert:hover {\n",
              "      background-color: #E2EBFA;\n",
              "      box-shadow: 0px 1px 2px rgba(60, 64, 67, 0.3), 0px 1px 3px 1px rgba(60, 64, 67, 0.15);\n",
              "      fill: #174EA6;\n",
              "    }\n",
              "\n",
              "    .colab-df-buttons div {\n",
              "      margin-bottom: 4px;\n",
              "    }\n",
              "\n",
              "    [theme=dark] .colab-df-convert {\n",
              "      background-color: #3B4455;\n",
              "      fill: #D2E3FC;\n",
              "    }\n",
              "\n",
              "    [theme=dark] .colab-df-convert:hover {\n",
              "      background-color: #434B5C;\n",
              "      box-shadow: 0px 1px 3px 1px rgba(0, 0, 0, 0.15);\n",
              "      filter: drop-shadow(0px 1px 2px rgba(0, 0, 0, 0.3));\n",
              "      fill: #FFFFFF;\n",
              "    }\n",
              "  </style>\n",
              "\n",
              "    <script>\n",
              "      const buttonEl =\n",
              "        document.querySelector('#df-a19705cb-8be4-4600-ae07-b4b65c785ee4 button.colab-df-convert');\n",
              "      buttonEl.style.display =\n",
              "        google.colab.kernel.accessAllowed ? 'block' : 'none';\n",
              "\n",
              "      async function convertToInteractive(key) {\n",
              "        const element = document.querySelector('#df-a19705cb-8be4-4600-ae07-b4b65c785ee4');\n",
              "        const dataTable =\n",
              "          await google.colab.kernel.invokeFunction('convertToInteractive',\n",
              "                                                    [key], {});\n",
              "        if (!dataTable) return;\n",
              "\n",
              "        const docLinkHtml = 'Like what you see? Visit the ' +\n",
              "          '<a target=\"_blank\" href=https://colab.research.google.com/notebooks/data_table.ipynb>data table notebook</a>'\n",
              "          + ' to learn more about interactive tables.';\n",
              "        element.innerHTML = '';\n",
              "        dataTable['output_type'] = 'display_data';\n",
              "        await google.colab.output.renderOutput(dataTable, element);\n",
              "        const docLink = document.createElement('div');\n",
              "        docLink.innerHTML = docLinkHtml;\n",
              "        element.appendChild(docLink);\n",
              "      }\n",
              "    </script>\n",
              "  </div>\n",
              "\n",
              "\n",
              "<div id=\"df-2d87e0a3-639a-411b-928c-0239dc54c7e4\">\n",
              "  <button class=\"colab-df-quickchart\" onclick=\"quickchart('df-2d87e0a3-639a-411b-928c-0239dc54c7e4')\"\n",
              "            title=\"Suggest charts\"\n",
              "            style=\"display:none;\">\n",
              "\n",
              "<svg xmlns=\"http://www.w3.org/2000/svg\" height=\"24px\"viewBox=\"0 0 24 24\"\n",
              "     width=\"24px\">\n",
              "    <g>\n",
              "        <path d=\"M19 3H5c-1.1 0-2 .9-2 2v14c0 1.1.9 2 2 2h14c1.1 0 2-.9 2-2V5c0-1.1-.9-2-2-2zM9 17H7v-7h2v7zm4 0h-2V7h2v10zm4 0h-2v-4h2v4z\"/>\n",
              "    </g>\n",
              "</svg>\n",
              "  </button>\n",
              "\n",
              "<style>\n",
              "  .colab-df-quickchart {\n",
              "      --bg-color: #E8F0FE;\n",
              "      --fill-color: #1967D2;\n",
              "      --hover-bg-color: #E2EBFA;\n",
              "      --hover-fill-color: #174EA6;\n",
              "      --disabled-fill-color: #AAA;\n",
              "      --disabled-bg-color: #DDD;\n",
              "  }\n",
              "\n",
              "  [theme=dark] .colab-df-quickchart {\n",
              "      --bg-color: #3B4455;\n",
              "      --fill-color: #D2E3FC;\n",
              "      --hover-bg-color: #434B5C;\n",
              "      --hover-fill-color: #FFFFFF;\n",
              "      --disabled-bg-color: #3B4455;\n",
              "      --disabled-fill-color: #666;\n",
              "  }\n",
              "\n",
              "  .colab-df-quickchart {\n",
              "    background-color: var(--bg-color);\n",
              "    border: none;\n",
              "    border-radius: 50%;\n",
              "    cursor: pointer;\n",
              "    display: none;\n",
              "    fill: var(--fill-color);\n",
              "    height: 32px;\n",
              "    padding: 0;\n",
              "    width: 32px;\n",
              "  }\n",
              "\n",
              "  .colab-df-quickchart:hover {\n",
              "    background-color: var(--hover-bg-color);\n",
              "    box-shadow: 0 1px 2px rgba(60, 64, 67, 0.3), 0 1px 3px 1px rgba(60, 64, 67, 0.15);\n",
              "    fill: var(--button-hover-fill-color);\n",
              "  }\n",
              "\n",
              "  .colab-df-quickchart-complete:disabled,\n",
              "  .colab-df-quickchart-complete:disabled:hover {\n",
              "    background-color: var(--disabled-bg-color);\n",
              "    fill: var(--disabled-fill-color);\n",
              "    box-shadow: none;\n",
              "  }\n",
              "\n",
              "  .colab-df-spinner {\n",
              "    border: 2px solid var(--fill-color);\n",
              "    border-color: transparent;\n",
              "    border-bottom-color: var(--fill-color);\n",
              "    animation:\n",
              "      spin 1s steps(1) infinite;\n",
              "  }\n",
              "\n",
              "  @keyframes spin {\n",
              "    0% {\n",
              "      border-color: transparent;\n",
              "      border-bottom-color: var(--fill-color);\n",
              "      border-left-color: var(--fill-color);\n",
              "    }\n",
              "    20% {\n",
              "      border-color: transparent;\n",
              "      border-left-color: var(--fill-color);\n",
              "      border-top-color: var(--fill-color);\n",
              "    }\n",
              "    30% {\n",
              "      border-color: transparent;\n",
              "      border-left-color: var(--fill-color);\n",
              "      border-top-color: var(--fill-color);\n",
              "      border-right-color: var(--fill-color);\n",
              "    }\n",
              "    40% {\n",
              "      border-color: transparent;\n",
              "      border-right-color: var(--fill-color);\n",
              "      border-top-color: var(--fill-color);\n",
              "    }\n",
              "    60% {\n",
              "      border-color: transparent;\n",
              "      border-right-color: var(--fill-color);\n",
              "    }\n",
              "    80% {\n",
              "      border-color: transparent;\n",
              "      border-right-color: var(--fill-color);\n",
              "      border-bottom-color: var(--fill-color);\n",
              "    }\n",
              "    90% {\n",
              "      border-color: transparent;\n",
              "      border-bottom-color: var(--fill-color);\n",
              "    }\n",
              "  }\n",
              "</style>\n",
              "\n",
              "  <script>\n",
              "    async function quickchart(key) {\n",
              "      const quickchartButtonEl =\n",
              "        document.querySelector('#' + key + ' button');\n",
              "      quickchartButtonEl.disabled = true;  // To prevent multiple clicks.\n",
              "      quickchartButtonEl.classList.add('colab-df-spinner');\n",
              "      try {\n",
              "        const charts = await google.colab.kernel.invokeFunction(\n",
              "            'suggestCharts', [key], {});\n",
              "      } catch (error) {\n",
              "        console.error('Error during call to suggestCharts:', error);\n",
              "      }\n",
              "      quickchartButtonEl.classList.remove('colab-df-spinner');\n",
              "      quickchartButtonEl.classList.add('colab-df-quickchart-complete');\n",
              "    }\n",
              "    (() => {\n",
              "      let quickchartButtonEl =\n",
              "        document.querySelector('#df-2d87e0a3-639a-411b-928c-0239dc54c7e4 button');\n",
              "      quickchartButtonEl.style.display =\n",
              "        google.colab.kernel.accessAllowed ? 'block' : 'none';\n",
              "    })();\n",
              "  </script>\n",
              "</div>\n",
              "\n",
              "  <div id=\"id_104945ce-d400-4d02-990b-f5859abddd85\">\n",
              "    <style>\n",
              "      .colab-df-generate {\n",
              "        background-color: #E8F0FE;\n",
              "        border: none;\n",
              "        border-radius: 50%;\n",
              "        cursor: pointer;\n",
              "        display: none;\n",
              "        fill: #1967D2;\n",
              "        height: 32px;\n",
              "        padding: 0 0 0 0;\n",
              "        width: 32px;\n",
              "      }\n",
              "\n",
              "      .colab-df-generate:hover {\n",
              "        background-color: #E2EBFA;\n",
              "        box-shadow: 0px 1px 2px rgba(60, 64, 67, 0.3), 0px 1px 3px 1px rgba(60, 64, 67, 0.15);\n",
              "        fill: #174EA6;\n",
              "      }\n",
              "\n",
              "      [theme=dark] .colab-df-generate {\n",
              "        background-color: #3B4455;\n",
              "        fill: #D2E3FC;\n",
              "      }\n",
              "\n",
              "      [theme=dark] .colab-df-generate:hover {\n",
              "        background-color: #434B5C;\n",
              "        box-shadow: 0px 1px 3px 1px rgba(0, 0, 0, 0.15);\n",
              "        filter: drop-shadow(0px 1px 2px rgba(0, 0, 0, 0.3));\n",
              "        fill: #FFFFFF;\n",
              "      }\n",
              "    </style>\n",
              "    <button class=\"colab-df-generate\" onclick=\"generateWithVariable('filtered_data')\"\n",
              "            title=\"Generate code using this dataframe.\"\n",
              "            style=\"display:none;\">\n",
              "\n",
              "  <svg xmlns=\"http://www.w3.org/2000/svg\" height=\"24px\"viewBox=\"0 0 24 24\"\n",
              "       width=\"24px\">\n",
              "    <path d=\"M7,19H8.4L18.45,9,17,7.55,7,17.6ZM5,21V16.75L18.45,3.32a2,2,0,0,1,2.83,0l1.4,1.43a1.91,1.91,0,0,1,.58,1.4,1.91,1.91,0,0,1-.58,1.4L9.25,21ZM18.45,9,17,7.55Zm-12,3A5.31,5.31,0,0,0,4.9,8.1,5.31,5.31,0,0,0,1,6.5,5.31,5.31,0,0,0,4.9,4.9,5.31,5.31,0,0,0,6.5,1,5.31,5.31,0,0,0,8.1,4.9,5.31,5.31,0,0,0,12,6.5,5.46,5.46,0,0,0,6.5,12Z\"/>\n",
              "  </svg>\n",
              "    </button>\n",
              "    <script>\n",
              "      (() => {\n",
              "      const buttonEl =\n",
              "        document.querySelector('#id_104945ce-d400-4d02-990b-f5859abddd85 button.colab-df-generate');\n",
              "      buttonEl.style.display =\n",
              "        google.colab.kernel.accessAllowed ? 'block' : 'none';\n",
              "\n",
              "      buttonEl.onclick = () => {\n",
              "        google.colab.notebook.generateWithVariable('filtered_data');\n",
              "      }\n",
              "      })();\n",
              "    </script>\n",
              "  </div>\n",
              "\n",
              "    </div>\n",
              "  </div>\n"
            ],
            "application/vnd.google.colaboratory.intrinsic+json": {
              "type": "dataframe",
              "variable_name": "filtered_data",
              "summary": "{\n  \"name\": \"filtered_data\",\n  \"rows\": 5,\n  \"fields\": [\n    {\n      \"column\": \"text_file_name\",\n      \"properties\": {\n        \"dtype\": \"string\",\n        \"num_unique_values\": 5,\n        \"samples\": [\n          \"data/test_data_Task2/107128.txt\",\n          \"data/test_data_Task2/122365.txt\",\n          \"data/test_data_Task2/113265.txt\"\n        ],\n        \"semantic_type\": \"\",\n        \"description\": \"\"\n      }\n    },\n    {\n      \"column\": \"sentence_line_number\",\n      \"properties\": {\n        \"dtype\": \"number\",\n        \"std\": 251,\n        \"min\": 25,\n        \"max\": 714,\n        \"num_unique_values\": 5,\n        \"samples\": [\n          292,\n          313,\n          714\n        ],\n        \"semantic_type\": \"\",\n        \"description\": \"\"\n      }\n    },\n    {\n      \"column\": \"sentence\",\n      \"properties\": {\n        \"dtype\": \"string\",\n        \"num_unique_values\": 5,\n        \"samples\": [\n          \"Acute blood loss anemia from Psoas muscle hematoma\",\n          \"thrombocytopenia\",\n          \"neutropenia\"\n        ],\n        \"semantic_type\": \"\",\n        \"description\": \"\"\n      }\n    },\n    {\n      \"column\": \"word_labels\",\n      \"properties\": {\n        \"dtype\": \"string\",\n        \"num_unique_values\": 3,\n        \"samples\": [\n          \"B-ADE\",\n          \"B-ADE,I-ADE,I-ADE,I-ADE,I-ADE,I-ADE,I-ADE,I-ADE\",\n          \"B-ADE,I-ADE,I-ADE,I-ADE,I-ADE,I-ADE,I-ADE,I-ADE,I-ADE,I-ADE,I-ADE\"\n        ],\n        \"semantic_type\": \"\",\n        \"description\": \"\"\n      }\n    }\n  ]\n}"
            }
          },
          "metadata": {},
          "execution_count": 78
        }
      ]
    },
    {
      "cell_type": "code",
      "source": [
        "labels"
      ],
      "metadata": {
        "colab": {
          "base_uri": "https://localhost:8080/"
        },
        "id": "oXr7v46XD3pT",
        "outputId": "240210a0-a869-4cf0-cd9d-306889ce8124"
      },
      "execution_count": null,
      "outputs": [
        {
          "output_type": "execute_result",
          "data": {
            "text/plain": [
              "{'B-ADE': 0,\n",
              " 'B-Dosage': 1,\n",
              " 'B-Drug': 2,\n",
              " 'B-Duration': 3,\n",
              " 'B-Form': 4,\n",
              " 'B-Frequency': 5,\n",
              " 'B-Reason': 6,\n",
              " 'B-Route': 7,\n",
              " 'B-Strength': 8,\n",
              " 'I-ADE': 9,\n",
              " 'I-Dosage': 10,\n",
              " 'I-Drug': 11,\n",
              " 'I-Duration': 12,\n",
              " 'I-Form': 13,\n",
              " 'I-Frequency': 14,\n",
              " 'I-Reason': 15,\n",
              " 'I-Route': 16,\n",
              " 'I-Strength': 17,\n",
              " 'O': 18}"
            ]
          },
          "metadata": {},
          "execution_count": 89
        }
      ]
    },
    {
      "cell_type": "code",
      "source": [
        "data.iloc[14675]['sentence']"
      ],
      "metadata": {
        "colab": {
          "base_uri": "https://localhost:8080/",
          "height": 35
        },
        "id": "cvi51OMYDK5T",
        "outputId": "6d52c9d1-c6d4-4d5c-de92-0ed05f7411cb"
      },
      "execution_count": null,
      "outputs": [
        {
          "output_type": "execute_result",
          "data": {
            "text/plain": [
              "'Acute blood loss anemia from Psoas muscle hematoma'"
            ],
            "application/vnd.google.colaboratory.intrinsic+json": {
              "type": "string"
            }
          },
          "metadata": {},
          "execution_count": 79
        }
      ]
    },
    {
      "cell_type": "code",
      "source": [
        "data.iloc[13623]['sentence']"
      ],
      "metadata": {
        "colab": {
          "base_uri": "https://localhost:8080/",
          "height": 35
        },
        "id": "Ao0smmFgDTPI",
        "outputId": "5956c18f-ae63-4fcf-9dc1-63d0a00e7f2c"
      },
      "execution_count": null,
      "outputs": [
        {
          "output_type": "execute_result",
          "data": {
            "text/plain": [
              "'Decreased Elavil from 75mg to 25mg as it may have worsened your'"
            ],
            "application/vnd.google.colaboratory.intrinsic+json": {
              "type": "string"
            }
          },
          "metadata": {},
          "execution_count": 81
        }
      ]
    },
    {
      "cell_type": "code",
      "source": [
        "sequence_ADE = \"Decreased Elavil from 75mg to 25mg as it may have worsened your confusion\""
      ],
      "metadata": {
        "id": "ZecPDWh7Dcue"
      },
      "execution_count": 15,
      "outputs": []
    },
    {
      "cell_type": "code",
      "source": [
        "for entity in ner_pipe(sequence_ADE):\n",
        "    print(entity)"
      ],
      "metadata": {
        "colab": {
          "base_uri": "https://localhost:8080/"
        },
        "id": "jR7MOclf4XFb",
        "outputId": "0dbc548a-2d0e-4444-b7bc-564f2b47d3b2"
      },
      "execution_count": 16,
      "outputs": [
        {
          "output_type": "stream",
          "name": "stderr",
          "text": [
            "Asking to truncate to max_length but no maximum length is provided and the model has no predefined maximum length. Default to no truncation.\n"
          ]
        },
        {
          "output_type": "stream",
          "name": "stdout",
          "text": [
            "{'entity': 'LABEL_18', 'score': 0.9662258, 'index': 1, 'word': 'decreased', 'start': None, 'end': None}\n",
            "{'entity': 'LABEL_2', 'score': 0.9653698, 'index': 2, 'word': 'el', 'start': None, 'end': None}\n",
            "{'entity': 'LABEL_2', 'score': 0.66539043, 'index': 3, 'word': '##avi', 'start': None, 'end': None}\n",
            "{'entity': 'LABEL_11', 'score': 0.6296134, 'index': 4, 'word': '##l', 'start': None, 'end': None}\n",
            "{'entity': 'LABEL_18', 'score': 0.9524498, 'index': 5, 'word': 'from', 'start': None, 'end': None}\n",
            "{'entity': 'LABEL_8', 'score': 0.97232234, 'index': 6, 'word': '75', 'start': None, 'end': None}\n",
            "{'entity': 'LABEL_17', 'score': 0.95961416, 'index': 7, 'word': '##mg', 'start': None, 'end': None}\n",
            "{'entity': 'LABEL_18', 'score': 0.8957383, 'index': 8, 'word': 'to', 'start': None, 'end': None}\n",
            "{'entity': 'LABEL_8', 'score': 0.9657996, 'index': 9, 'word': '25', 'start': None, 'end': None}\n",
            "{'entity': 'LABEL_17', 'score': 0.9600873, 'index': 10, 'word': '##mg', 'start': None, 'end': None}\n",
            "{'entity': 'LABEL_18', 'score': 0.9553033, 'index': 11, 'word': 'as', 'start': None, 'end': None}\n",
            "{'entity': 'LABEL_18', 'score': 0.94095105, 'index': 12, 'word': 'it', 'start': None, 'end': None}\n",
            "{'entity': 'LABEL_18', 'score': 0.9121022, 'index': 13, 'word': 'may', 'start': None, 'end': None}\n",
            "{'entity': 'LABEL_18', 'score': 0.8942319, 'index': 14, 'word': 'have', 'start': None, 'end': None}\n",
            "{'entity': 'LABEL_18', 'score': 0.7299481, 'index': 15, 'word': 'worsened', 'start': None, 'end': None}\n",
            "{'entity': 'LABEL_18', 'score': 0.84591454, 'index': 16, 'word': 'your', 'start': None, 'end': None}\n",
            "{'entity': 'LABEL_0', 'score': 0.8072239, 'index': 17, 'word': 'confusion', 'start': None, 'end': None}\n"
          ]
        }
      ]
    },
    {
      "cell_type": "code",
      "source": [
        "data.iloc[17420]['sentence']"
      ],
      "metadata": {
        "colab": {
          "base_uri": "https://localhost:8080/",
          "height": 35
        },
        "id": "GFanJC8rEI0A",
        "outputId": "09178ef2-c0f6-4c44-f329-39f716961f3c"
      },
      "execution_count": null,
      "outputs": [
        {
          "output_type": "execute_result",
          "data": {
            "text/plain": [
              "'lips , tongue and face swelling and it progressivly worsened to'"
            ],
            "application/vnd.google.colaboratory.intrinsic+json": {
              "type": "string"
            }
          },
          "metadata": {},
          "execution_count": 121
        }
      ]
    },
    {
      "cell_type": "code",
      "source": [
        "data.iloc[17420]['word_labels']\n"
      ],
      "metadata": {
        "colab": {
          "base_uri": "https://localhost:8080/",
          "height": 35
        },
        "id": "Ow46HcCN38aD",
        "outputId": "ec6ffbea-1964-4778-cbc8-d67a893ba6e4"
      },
      "execution_count": null,
      "outputs": [
        {
          "output_type": "execute_result",
          "data": {
            "text/plain": [
              "'B-ADE,I-ADE,I-ADE,I-ADE,I-ADE,I-ADE,I-ADE,I-ADE,I-ADE,I-ADE,I-ADE'"
            ],
            "application/vnd.google.colaboratory.intrinsic+json": {
              "type": "string"
            }
          },
          "metadata": {},
          "execution_count": 120
        }
      ]
    },
    {
      "cell_type": "code",
      "source": [
        "sequenc_ADE2 = \"\"\"Patient had been giving script for lisinopril a while back but\n",
        "only started taking it on Friday [ * * 8 - 24 * * ] AM . He started to feel his\n",
        "lips , tongue and face swelling and it progressivly worsened to\n",
        "include his throat . He was admitted to the ICU and was intubated.\n",
        "\"\"\""
      ],
      "metadata": {
        "id": "Z1FfjfZ_EP6P"
      },
      "execution_count": 17,
      "outputs": []
    },
    {
      "cell_type": "code",
      "source": [
        "for entity in ner_pipe(sequenc_ADE2):\n",
        "    print(entity)"
      ],
      "metadata": {
        "colab": {
          "base_uri": "https://localhost:8080/"
        },
        "id": "IYxI99D915fz",
        "outputId": "b03d6914-7aaf-4bd2-f336-50a94151ba4f"
      },
      "execution_count": 18,
      "outputs": [
        {
          "output_type": "stream",
          "name": "stdout",
          "text": [
            "{'entity': 'LABEL_18', 'score': 0.99225533, 'index': 1, 'word': 'patient', 'start': None, 'end': None}\n",
            "{'entity': 'LABEL_18', 'score': 0.98955256, 'index': 2, 'word': 'had', 'start': None, 'end': None}\n",
            "{'entity': 'LABEL_18', 'score': 0.981857, 'index': 3, 'word': 'been', 'start': None, 'end': None}\n",
            "{'entity': 'LABEL_18', 'score': 0.9584423, 'index': 4, 'word': 'giving', 'start': None, 'end': None}\n",
            "{'entity': 'LABEL_2', 'score': 0.53978056, 'index': 5, 'word': 'script', 'start': None, 'end': None}\n",
            "{'entity': 'LABEL_18', 'score': 0.74679106, 'index': 6, 'word': 'for', 'start': None, 'end': None}\n",
            "{'entity': 'LABEL_2', 'score': 0.9538391, 'index': 7, 'word': 'lis', 'start': None, 'end': None}\n",
            "{'entity': 'LABEL_2', 'score': 0.5300952, 'index': 8, 'word': '##ino', 'start': None, 'end': None}\n",
            "{'entity': 'LABEL_11', 'score': 0.6661655, 'index': 9, 'word': '##pr', 'start': None, 'end': None}\n",
            "{'entity': 'LABEL_11', 'score': 0.7407746, 'index': 10, 'word': '##il', 'start': None, 'end': None}\n",
            "{'entity': 'LABEL_18', 'score': 0.9066772, 'index': 11, 'word': 'a', 'start': None, 'end': None}\n",
            "{'entity': 'LABEL_18', 'score': 0.9644833, 'index': 12, 'word': 'while', 'start': None, 'end': None}\n",
            "{'entity': 'LABEL_18', 'score': 0.9806544, 'index': 13, 'word': 'back', 'start': None, 'end': None}\n",
            "{'entity': 'LABEL_18', 'score': 0.9811319, 'index': 14, 'word': 'but', 'start': None, 'end': None}\n",
            "{'entity': 'LABEL_18', 'score': 0.9876161, 'index': 15, 'word': 'only', 'start': None, 'end': None}\n",
            "{'entity': 'LABEL_18', 'score': 0.9857304, 'index': 16, 'word': 'started', 'start': None, 'end': None}\n",
            "{'entity': 'LABEL_18', 'score': 0.97524136, 'index': 17, 'word': 'taking', 'start': None, 'end': None}\n",
            "{'entity': 'LABEL_18', 'score': 0.9455266, 'index': 18, 'word': 'it', 'start': None, 'end': None}\n",
            "{'entity': 'LABEL_18', 'score': 0.93722856, 'index': 19, 'word': 'on', 'start': None, 'end': None}\n",
            "{'entity': 'LABEL_18', 'score': 0.69440174, 'index': 20, 'word': 'fri', 'start': None, 'end': None}\n",
            "{'entity': 'LABEL_18', 'score': 0.77918357, 'index': 21, 'word': '##day', 'start': None, 'end': None}\n",
            "{'entity': 'LABEL_18', 'score': 0.8963201, 'index': 22, 'word': '[', 'start': None, 'end': None}\n",
            "{'entity': 'LABEL_18', 'score': 0.9501363, 'index': 23, 'word': '*', 'start': None, 'end': None}\n",
            "{'entity': 'LABEL_18', 'score': 0.94458723, 'index': 24, 'word': '*', 'start': None, 'end': None}\n",
            "{'entity': 'LABEL_18', 'score': 0.8744631, 'index': 25, 'word': '8', 'start': None, 'end': None}\n",
            "{'entity': 'LABEL_18', 'score': 0.8977517, 'index': 26, 'word': '-', 'start': None, 'end': None}\n",
            "{'entity': 'LABEL_18', 'score': 0.8797905, 'index': 27, 'word': '24', 'start': None, 'end': None}\n",
            "{'entity': 'LABEL_18', 'score': 0.9192701, 'index': 28, 'word': '*', 'start': None, 'end': None}\n",
            "{'entity': 'LABEL_18', 'score': 0.9207272, 'index': 29, 'word': '*', 'start': None, 'end': None}\n",
            "{'entity': 'LABEL_18', 'score': 0.88012934, 'index': 30, 'word': ']', 'start': None, 'end': None}\n",
            "{'entity': 'LABEL_18', 'score': 0.87692165, 'index': 31, 'word': 'am', 'start': None, 'end': None}\n",
            "{'entity': 'LABEL_18', 'score': 0.97346944, 'index': 32, 'word': '.', 'start': None, 'end': None}\n",
            "{'entity': 'LABEL_18', 'score': 0.9881528, 'index': 33, 'word': 'he', 'start': None, 'end': None}\n",
            "{'entity': 'LABEL_18', 'score': 0.98279965, 'index': 34, 'word': 'started', 'start': None, 'end': None}\n",
            "{'entity': 'LABEL_18', 'score': 0.97457606, 'index': 35, 'word': 'to', 'start': None, 'end': None}\n",
            "{'entity': 'LABEL_18', 'score': 0.9808318, 'index': 36, 'word': 'feel', 'start': None, 'end': None}\n",
            "{'entity': 'LABEL_18', 'score': 0.9710678, 'index': 37, 'word': 'his', 'start': None, 'end': None}\n",
            "{'entity': 'LABEL_18', 'score': 0.6965095, 'index': 38, 'word': 'lips', 'start': None, 'end': None}\n",
            "{'entity': 'LABEL_18', 'score': 0.88335913, 'index': 39, 'word': ',', 'start': None, 'end': None}\n",
            "{'entity': 'LABEL_18', 'score': 0.73017097, 'index': 40, 'word': 'tongue', 'start': None, 'end': None}\n",
            "{'entity': 'LABEL_18', 'score': 0.9093269, 'index': 41, 'word': 'and', 'start': None, 'end': None}\n",
            "{'entity': 'LABEL_18', 'score': 0.72465426, 'index': 42, 'word': 'face', 'start': None, 'end': None}\n",
            "{'entity': 'LABEL_18', 'score': 0.78589654, 'index': 43, 'word': 'swelling', 'start': None, 'end': None}\n",
            "{'entity': 'LABEL_18', 'score': 0.9687498, 'index': 44, 'word': 'and', 'start': None, 'end': None}\n",
            "{'entity': 'LABEL_18', 'score': 0.9837661, 'index': 45, 'word': 'it', 'start': None, 'end': None}\n",
            "{'entity': 'LABEL_18', 'score': 0.98453057, 'index': 46, 'word': 'progress', 'start': None, 'end': None}\n",
            "{'entity': 'LABEL_18', 'score': 0.9765192, 'index': 47, 'word': '##iv', 'start': None, 'end': None}\n",
            "{'entity': 'LABEL_18', 'score': 0.9590467, 'index': 48, 'word': '##ly', 'start': None, 'end': None}\n",
            "{'entity': 'LABEL_18', 'score': 0.98000723, 'index': 49, 'word': 'worsened', 'start': None, 'end': None}\n",
            "{'entity': 'LABEL_18', 'score': 0.9396838, 'index': 50, 'word': 'to', 'start': None, 'end': None}\n",
            "{'entity': 'LABEL_18', 'score': 0.9756369, 'index': 51, 'word': 'include', 'start': None, 'end': None}\n",
            "{'entity': 'LABEL_18', 'score': 0.960392, 'index': 52, 'word': 'his', 'start': None, 'end': None}\n",
            "{'entity': 'LABEL_18', 'score': 0.7070547, 'index': 53, 'word': 'throat', 'start': None, 'end': None}\n",
            "{'entity': 'LABEL_18', 'score': 0.9734803, 'index': 54, 'word': '.', 'start': None, 'end': None}\n",
            "{'entity': 'LABEL_18', 'score': 0.9910836, 'index': 55, 'word': 'he', 'start': None, 'end': None}\n",
            "{'entity': 'LABEL_18', 'score': 0.9902048, 'index': 56, 'word': 'was', 'start': None, 'end': None}\n",
            "{'entity': 'LABEL_18', 'score': 0.991034, 'index': 57, 'word': 'admitted', 'start': None, 'end': None}\n",
            "{'entity': 'LABEL_18', 'score': 0.9881194, 'index': 58, 'word': 'to', 'start': None, 'end': None}\n",
            "{'entity': 'LABEL_18', 'score': 0.99096054, 'index': 59, 'word': 'the', 'start': None, 'end': None}\n",
            "{'entity': 'LABEL_18', 'score': 0.98089087, 'index': 60, 'word': 'icu', 'start': None, 'end': None}\n",
            "{'entity': 'LABEL_18', 'score': 0.98837423, 'index': 61, 'word': 'and', 'start': None, 'end': None}\n",
            "{'entity': 'LABEL_18', 'score': 0.9902366, 'index': 62, 'word': 'was', 'start': None, 'end': None}\n",
            "{'entity': 'LABEL_18', 'score': 0.9127095, 'index': 63, 'word': 'intu', 'start': None, 'end': None}\n",
            "{'entity': 'LABEL_18', 'score': 0.97869086, 'index': 64, 'word': '##ba', 'start': None, 'end': None}\n",
            "{'entity': 'LABEL_18', 'score': 0.97686654, 'index': 65, 'word': '##ted', 'start': None, 'end': None}\n",
            "{'entity': 'LABEL_18', 'score': 0.9852048, 'index': 66, 'word': '.', 'start': None, 'end': None}\n"
          ]
        }
      ]
    },
    {
      "cell_type": "code",
      "source": [
        "sequence3 = \"ADDENDUM TO HOSPITAL COURSE : It was felt that the patient's seizures were caused by the combination of Ritalin and thalidomide\"\"\"\n",
        "\n",
        "for entity in ner_pipe(sequence3):\n",
        "    print(entity)"
      ],
      "metadata": {
        "colab": {
          "base_uri": "https://localhost:8080/"
        },
        "id": "uWTB3hYL-Gj5",
        "outputId": "3b1ab0a2-1906-4e26-bebe-621a8fac0c47"
      },
      "execution_count": 19,
      "outputs": [
        {
          "output_type": "stream",
          "name": "stdout",
          "text": [
            "{'entity': 'LABEL_18', 'score': 0.8933178, 'index': 1, 'word': 'add', 'start': None, 'end': None}\n",
            "{'entity': 'LABEL_18', 'score': 0.9097873, 'index': 2, 'word': '##end', 'start': None, 'end': None}\n",
            "{'entity': 'LABEL_18', 'score': 0.93543833, 'index': 3, 'word': '##um', 'start': None, 'end': None}\n",
            "{'entity': 'LABEL_18', 'score': 0.9377759, 'index': 4, 'word': 'to', 'start': None, 'end': None}\n",
            "{'entity': 'LABEL_18', 'score': 0.9440522, 'index': 5, 'word': 'hospital', 'start': None, 'end': None}\n",
            "{'entity': 'LABEL_18', 'score': 0.9481235, 'index': 6, 'word': 'course', 'start': None, 'end': None}\n",
            "{'entity': 'LABEL_18', 'score': 0.9730926, 'index': 7, 'word': ':', 'start': None, 'end': None}\n",
            "{'entity': 'LABEL_18', 'score': 0.95140886, 'index': 8, 'word': 'it', 'start': None, 'end': None}\n",
            "{'entity': 'LABEL_18', 'score': 0.9358156, 'index': 9, 'word': 'was', 'start': None, 'end': None}\n",
            "{'entity': 'LABEL_18', 'score': 0.94328195, 'index': 10, 'word': 'felt', 'start': None, 'end': None}\n",
            "{'entity': 'LABEL_18', 'score': 0.91615295, 'index': 11, 'word': 'that', 'start': None, 'end': None}\n",
            "{'entity': 'LABEL_18', 'score': 0.88534534, 'index': 12, 'word': 'the', 'start': None, 'end': None}\n",
            "{'entity': 'LABEL_18', 'score': 0.7090451, 'index': 13, 'word': 'patient', 'start': None, 'end': None}\n",
            "{'entity': 'LABEL_18', 'score': 0.5855119, 'index': 14, 'word': \"'\", 'start': None, 'end': None}\n",
            "{'entity': 'LABEL_18', 'score': 0.4401434, 'index': 15, 'word': 's', 'start': None, 'end': None}\n",
            "{'entity': 'LABEL_0', 'score': 0.7982743, 'index': 16, 'word': 'seizures', 'start': None, 'end': None}\n",
            "{'entity': 'LABEL_18', 'score': 0.75946313, 'index': 17, 'word': 'were', 'start': None, 'end': None}\n",
            "{'entity': 'LABEL_18', 'score': 0.8443773, 'index': 18, 'word': 'caused', 'start': None, 'end': None}\n",
            "{'entity': 'LABEL_18', 'score': 0.9275747, 'index': 19, 'word': 'by', 'start': None, 'end': None}\n",
            "{'entity': 'LABEL_18', 'score': 0.94900817, 'index': 20, 'word': 'the', 'start': None, 'end': None}\n",
            "{'entity': 'LABEL_18', 'score': 0.9367398, 'index': 21, 'word': 'combination', 'start': None, 'end': None}\n",
            "{'entity': 'LABEL_18', 'score': 0.92124486, 'index': 22, 'word': 'of', 'start': None, 'end': None}\n",
            "{'entity': 'LABEL_2', 'score': 0.9647347, 'index': 23, 'word': 'rit', 'start': None, 'end': None}\n",
            "{'entity': 'LABEL_2', 'score': 0.7210791, 'index': 24, 'word': '##alin', 'start': None, 'end': None}\n",
            "{'entity': 'LABEL_18', 'score': 0.8895102, 'index': 25, 'word': 'and', 'start': None, 'end': None}\n",
            "{'entity': 'LABEL_2', 'score': 0.96473473, 'index': 26, 'word': 'thalidomide', 'start': None, 'end': None}\n"
          ]
        }
      ]
    },
    {
      "cell_type": "code",
      "source": [
        "sequence4 = \"2 liters of O2 at home , Xanax .25 q.h.s\"\n",
        "for entity in ner_pipe(sequence4):\n",
        "    print(entity)"
      ],
      "metadata": {
        "colab": {
          "base_uri": "https://localhost:8080/"
        },
        "id": "nGjMC_pnNn57",
        "outputId": "3f86d461-b7a2-47b7-df38-7dfba4f4d108"
      },
      "execution_count": 20,
      "outputs": [
        {
          "output_type": "stream",
          "name": "stdout",
          "text": [
            "{'entity': 'LABEL_1', 'score': 0.8663034, 'index': 1, 'word': '2', 'start': None, 'end': None}\n",
            "{'entity': 'LABEL_10', 'score': 0.7952166, 'index': 2, 'word': 'liter', 'start': None, 'end': None}\n",
            "{'entity': 'LABEL_10', 'score': 0.70492196, 'index': 3, 'word': '##s', 'start': None, 'end': None}\n",
            "{'entity': 'LABEL_18', 'score': 0.878639, 'index': 4, 'word': 'of', 'start': None, 'end': None}\n",
            "{'entity': 'LABEL_2', 'score': 0.8513578, 'index': 5, 'word': 'o2', 'start': None, 'end': None}\n",
            "{'entity': 'LABEL_18', 'score': 0.5243555, 'index': 6, 'word': 'at', 'start': None, 'end': None}\n",
            "{'entity': 'LABEL_18', 'score': 0.65895677, 'index': 7, 'word': 'home', 'start': None, 'end': None}\n",
            "{'entity': 'LABEL_18', 'score': 0.93923736, 'index': 8, 'word': ',', 'start': None, 'end': None}\n",
            "{'entity': 'LABEL_2', 'score': 0.97475296, 'index': 9, 'word': 'xa', 'start': None, 'end': None}\n",
            "{'entity': 'LABEL_2', 'score': 0.54958236, 'index': 10, 'word': '##na', 'start': None, 'end': None}\n",
            "{'entity': 'LABEL_11', 'score': 0.7303361, 'index': 11, 'word': '##x', 'start': None, 'end': None}\n",
            "{'entity': 'LABEL_8', 'score': 0.94700915, 'index': 12, 'word': '.', 'start': None, 'end': None}\n",
            "{'entity': 'LABEL_8', 'score': 0.9525035, 'index': 13, 'word': '25', 'start': None, 'end': None}\n",
            "{'entity': 'LABEL_5', 'score': 0.8936448, 'index': 14, 'word': 'q', 'start': None, 'end': None}\n",
            "{'entity': 'LABEL_14', 'score': 0.75634706, 'index': 15, 'word': '.', 'start': None, 'end': None}\n",
            "{'entity': 'LABEL_14', 'score': 0.7629985, 'index': 16, 'word': 'h', 'start': None, 'end': None}\n",
            "{'entity': 'LABEL_14', 'score': 0.71094525, 'index': 17, 'word': '.', 'start': None, 'end': None}\n",
            "{'entity': 'LABEL_14', 'score': 0.5092268, 'index': 18, 'word': 's', 'start': None, 'end': None}\n"
          ]
        }
      ]
    },
    {
      "cell_type": "code",
      "source": [
        "sequence7 = \"She remained hemodynamically stable throughout her stay in the CCU , without need for pressors , and her HCT also remained stable following the 3 units of PRBCs .\"\n",
        "for entity in ner_pipe(sequence7):\n",
        "    print(entity)"
      ],
      "metadata": {
        "id": "zpLMw808OUBE",
        "colab": {
          "base_uri": "https://localhost:8080/"
        },
        "outputId": "efb2df78-1a86-4c72-c61c-b3187e034443"
      },
      "execution_count": 21,
      "outputs": [
        {
          "output_type": "stream",
          "name": "stdout",
          "text": [
            "{'entity': 'LABEL_18', 'score': 0.98314846, 'index': 1, 'word': 'she', 'start': None, 'end': None}\n",
            "{'entity': 'LABEL_18', 'score': 0.9795289, 'index': 2, 'word': 'remained', 'start': None, 'end': None}\n",
            "{'entity': 'LABEL_18', 'score': 0.8641945, 'index': 3, 'word': 'hemodynamic', 'start': None, 'end': None}\n",
            "{'entity': 'LABEL_18', 'score': 0.9721051, 'index': 4, 'word': '##ally', 'start': None, 'end': None}\n",
            "{'entity': 'LABEL_18', 'score': 0.964414, 'index': 5, 'word': 'stable', 'start': None, 'end': None}\n",
            "{'entity': 'LABEL_18', 'score': 0.9846044, 'index': 6, 'word': 'throughout', 'start': None, 'end': None}\n",
            "{'entity': 'LABEL_18', 'score': 0.9839125, 'index': 7, 'word': 'her', 'start': None, 'end': None}\n",
            "{'entity': 'LABEL_18', 'score': 0.9804319, 'index': 8, 'word': 'stay', 'start': None, 'end': None}\n",
            "{'entity': 'LABEL_18', 'score': 0.9769672, 'index': 9, 'word': 'in', 'start': None, 'end': None}\n",
            "{'entity': 'LABEL_18', 'score': 0.97683096, 'index': 10, 'word': 'the', 'start': None, 'end': None}\n",
            "{'entity': 'LABEL_18', 'score': 0.9413392, 'index': 11, 'word': 'cc', 'start': None, 'end': None}\n",
            "{'entity': 'LABEL_18', 'score': 0.9545049, 'index': 12, 'word': '##u', 'start': None, 'end': None}\n",
            "{'entity': 'LABEL_18', 'score': 0.9875289, 'index': 13, 'word': ',', 'start': None, 'end': None}\n",
            "{'entity': 'LABEL_18', 'score': 0.97983503, 'index': 14, 'word': 'without', 'start': None, 'end': None}\n",
            "{'entity': 'LABEL_18', 'score': 0.9621578, 'index': 15, 'word': 'need', 'start': None, 'end': None}\n",
            "{'entity': 'LABEL_18', 'score': 0.9472129, 'index': 16, 'word': 'for', 'start': None, 'end': None}\n",
            "{'entity': 'LABEL_2', 'score': 0.7065331, 'index': 17, 'word': 'press', 'start': None, 'end': None}\n",
            "{'entity': 'LABEL_18', 'score': 0.5670505, 'index': 18, 'word': '##ors', 'start': None, 'end': None}\n",
            "{'entity': 'LABEL_18', 'score': 0.98751915, 'index': 19, 'word': ',', 'start': None, 'end': None}\n",
            "{'entity': 'LABEL_18', 'score': 0.98906356, 'index': 20, 'word': 'and', 'start': None, 'end': None}\n",
            "{'entity': 'LABEL_18', 'score': 0.9630987, 'index': 21, 'word': 'her', 'start': None, 'end': None}\n",
            "{'entity': 'LABEL_18', 'score': 0.7212484, 'index': 22, 'word': 'hct', 'start': None, 'end': None}\n",
            "{'entity': 'LABEL_18', 'score': 0.97319716, 'index': 23, 'word': 'also', 'start': None, 'end': None}\n",
            "{'entity': 'LABEL_18', 'score': 0.962891, 'index': 24, 'word': 'remained', 'start': None, 'end': None}\n",
            "{'entity': 'LABEL_18', 'score': 0.9430683, 'index': 25, 'word': 'stable', 'start': None, 'end': None}\n",
            "{'entity': 'LABEL_18', 'score': 0.9824897, 'index': 26, 'word': 'following', 'start': None, 'end': None}\n",
            "{'entity': 'LABEL_18', 'score': 0.9667868, 'index': 27, 'word': 'the', 'start': None, 'end': None}\n",
            "{'entity': 'LABEL_1', 'score': 0.885361, 'index': 28, 'word': '3', 'start': None, 'end': None}\n",
            "{'entity': 'LABEL_10', 'score': 0.7786422, 'index': 29, 'word': 'units', 'start': None, 'end': None}\n",
            "{'entity': 'LABEL_18', 'score': 0.93001884, 'index': 30, 'word': 'of', 'start': None, 'end': None}\n",
            "{'entity': 'LABEL_2', 'score': 0.9083256, 'index': 31, 'word': 'prb', 'start': None, 'end': None}\n",
            "{'entity': 'LABEL_11', 'score': 0.5332123, 'index': 32, 'word': '##cs', 'start': None, 'end': None}\n",
            "{'entity': 'LABEL_18', 'score': 0.9631853, 'index': 33, 'word': '.', 'start': None, 'end': None}\n"
          ]
        }
      ]
    },
    {
      "cell_type": "code",
      "source": [
        "sequence8 = \"The patient received 2 units of FFP after a GI bleed was determined for the low HgB of 6.2.\"\n",
        "for entity in ner_pipe(sequence8):\n",
        "    print(entity)"
      ],
      "metadata": {
        "colab": {
          "base_uri": "https://localhost:8080/"
        },
        "id": "7HqQLkHaTdxO",
        "outputId": "6eb7dcc9-03b8-458e-e96e-605eee27e577"
      },
      "execution_count": 22,
      "outputs": [
        {
          "output_type": "stream",
          "name": "stdout",
          "text": [
            "{'entity': 'LABEL_18', 'score': 0.9836209, 'index': 1, 'word': 'the', 'start': None, 'end': None}\n",
            "{'entity': 'LABEL_18', 'score': 0.9739415, 'index': 2, 'word': 'patient', 'start': None, 'end': None}\n",
            "{'entity': 'LABEL_18', 'score': 0.94140506, 'index': 3, 'word': 'received', 'start': None, 'end': None}\n",
            "{'entity': 'LABEL_1', 'score': 0.8866815, 'index': 4, 'word': '2', 'start': None, 'end': None}\n",
            "{'entity': 'LABEL_10', 'score': 0.7421901, 'index': 5, 'word': 'units', 'start': None, 'end': None}\n",
            "{'entity': 'LABEL_18', 'score': 0.9059259, 'index': 6, 'word': 'of', 'start': None, 'end': None}\n",
            "{'entity': 'LABEL_2', 'score': 0.8902779, 'index': 7, 'word': 'ffp', 'start': None, 'end': None}\n",
            "{'entity': 'LABEL_18', 'score': 0.96031064, 'index': 8, 'word': 'after', 'start': None, 'end': None}\n",
            "{'entity': 'LABEL_18', 'score': 0.92863154, 'index': 9, 'word': 'a', 'start': None, 'end': None}\n",
            "{'entity': 'LABEL_18', 'score': 0.5786429, 'index': 10, 'word': 'gi', 'start': None, 'end': None}\n",
            "{'entity': 'LABEL_18', 'score': 0.6749389, 'index': 11, 'word': 'ble', 'start': None, 'end': None}\n",
            "{'entity': 'LABEL_18', 'score': 0.72022974, 'index': 12, 'word': '##ed', 'start': None, 'end': None}\n",
            "{'entity': 'LABEL_18', 'score': 0.8572542, 'index': 13, 'word': 'was', 'start': None, 'end': None}\n",
            "{'entity': 'LABEL_18', 'score': 0.87690854, 'index': 14, 'word': 'determined', 'start': None, 'end': None}\n",
            "{'entity': 'LABEL_18', 'score': 0.9124569, 'index': 15, 'word': 'for', 'start': None, 'end': None}\n",
            "{'entity': 'LABEL_18', 'score': 0.9213585, 'index': 16, 'word': 'the', 'start': None, 'end': None}\n",
            "{'entity': 'LABEL_18', 'score': 0.74444693, 'index': 17, 'word': 'low', 'start': None, 'end': None}\n",
            "{'entity': 'LABEL_18', 'score': 0.7829581, 'index': 18, 'word': 'hg', 'start': None, 'end': None}\n",
            "{'entity': 'LABEL_18', 'score': 0.7422255, 'index': 19, 'word': '##b', 'start': None, 'end': None}\n",
            "{'entity': 'LABEL_18', 'score': 0.750972, 'index': 20, 'word': 'of', 'start': None, 'end': None}\n",
            "{'entity': 'LABEL_18', 'score': 0.7417287, 'index': 21, 'word': '6', 'start': None, 'end': None}\n",
            "{'entity': 'LABEL_18', 'score': 0.76463914, 'index': 22, 'word': '.', 'start': None, 'end': None}\n",
            "{'entity': 'LABEL_18', 'score': 0.7801025, 'index': 23, 'word': '2', 'start': None, 'end': None}\n",
            "{'entity': 'LABEL_18', 'score': 0.92658156, 'index': 24, 'word': '.', 'start': None, 'end': None}\n"
          ]
        }
      ]
    }
  ]
}