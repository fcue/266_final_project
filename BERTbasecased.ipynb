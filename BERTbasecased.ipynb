{
  "cells": [
    {
      "cell_type": "code",
      "execution_count": 1,
      "metadata": {
        "colab": {
          "base_uri": "https://localhost:8080/"
        },
        "id": "dEURsjghWMCJ",
        "outputId": "0469b655-3b2d-4ead-9ddc-3aede4d5defa"
      },
      "outputs": [
        {
          "output_type": "stream",
          "name": "stdout",
          "text": [
            "Requirement already satisfied: seqeval in /usr/local/lib/python3.10/dist-packages (1.2.2)\n",
            "Requirement already satisfied: numpy>=1.14.0 in /usr/local/lib/python3.10/dist-packages (from seqeval) (1.25.2)\n",
            "Requirement already satisfied: scikit-learn>=0.21.3 in /usr/local/lib/python3.10/dist-packages (from seqeval) (1.2.2)\n",
            "Requirement already satisfied: scipy>=1.3.2 in /usr/local/lib/python3.10/dist-packages (from scikit-learn>=0.21.3->seqeval) (1.11.4)\n",
            "Requirement already satisfied: joblib>=1.1.1 in /usr/local/lib/python3.10/dist-packages (from scikit-learn>=0.21.3->seqeval) (1.3.2)\n",
            "Requirement already satisfied: threadpoolctl>=2.0.0 in /usr/local/lib/python3.10/dist-packages (from scikit-learn>=0.21.3->seqeval) (3.4.0)\n"
          ]
        }
      ],
      "source": [
        "!pip install seqeval"
      ]
    },
    {
      "cell_type": "code",
      "execution_count": 2,
      "metadata": {
        "id": "DixhWmqWcy3M"
      },
      "outputs": [],
      "source": [
        "import pandas as pd\n",
        "import numpy as np\n",
        "\n",
        "import os\n",
        "\n",
        "import torch\n",
        "from torch.utils.data import Dataset, DataLoader\n",
        "from sklearn.metrics import accuracy_score\n"
      ]
    },
    {
      "cell_type": "code",
      "execution_count": 3,
      "metadata": {
        "colab": {
          "base_uri": "https://localhost:8080/"
        },
        "id": "sYBZ86dRc2bq",
        "outputId": "cdc31fd0-4d5b-466b-f0f4-10287b0d24c5"
      },
      "outputs": [
        {
          "output_type": "stream",
          "name": "stdout",
          "text": [
            "Drive already mounted at /content/drive; to attempt to forcibly remount, call drive.mount(\"/content/drive\", force_remount=True).\n"
          ]
        }
      ],
      "source": [
        "from google.colab import drive\n",
        "drive.mount('/content/drive')"
      ]
    },
    {
      "cell_type": "code",
      "execution_count": 4,
      "metadata": {
        "colab": {
          "base_uri": "https://localhost:8080/"
        },
        "id": "nPL27mL0_sTC",
        "outputId": "a217809d-3596-463f-c0cc-23d38561ee70"
      },
      "outputs": [
        {
          "output_type": "stream",
          "name": "stdout",
          "text": [
            "cuda\n"
          ]
        }
      ],
      "source": [
        "# verify GPU\n",
        "from torch import cuda\n",
        "device = 'cuda' if cuda.is_available() else 'cpu'\n",
        "print(device)"
      ]
    },
    {
      "cell_type": "markdown",
      "metadata": {
        "id": "qyMy7PgZ_mME"
      },
      "source": [
        "## Convert to DataFrame for EDA"
      ]
    },
    {
      "cell_type": "code",
      "execution_count": 5,
      "metadata": {
        "id": "xJ6HnnrvKF_q"
      },
      "outputs": [],
      "source": [
        "def convert_data(filepath):\n",
        "\n",
        "  # Read the data from the text file\n",
        "  with open(filepath, \"r\") as file:\n",
        "      lines = file.readlines()\n",
        "\n",
        "  # Define an empty list to store the data\n",
        "  data = []\n",
        "\n",
        "  # Iterate over each line in the file\n",
        "  for line in lines:\n",
        "      # Split the line by spaces\n",
        "      parts = line.strip().split()\n",
        "\n",
        "      # Check if the line has the expected number of elements\n",
        "      if len(parts) == 9:\n",
        "          # Extract the values from the line\n",
        "          text_file_name = parts[0]\n",
        "          sentence_line_number = int(parts[1])\n",
        "          sentence_word_index = int(parts[2])\n",
        "          sentence_seq = parts[3]\n",
        "          start_token = int(parts[4])\n",
        "          end_token = int(parts[5])\n",
        "          original_word = parts[6]\n",
        "          word = parts[7]\n",
        "          label = parts[8]\n",
        "\n",
        "          # Append the values as a tuple to the data list\n",
        "          data.append((text_file_name, sentence_line_number, sentence_word_index, sentence_seq,\n",
        "                      start_token, end_token, original_word, word, label))\n",
        "\n",
        "  # Create a DataFrame from the data list with appropriate column names\n",
        "  df = pd.DataFrame(data, columns=['text_file_name', 'sentence_line_number', 'sentence_word_index',\n",
        "                                  'sentence_seq', 'start_token', 'end_token', 'original_word',\n",
        "                                  'word', 'label'])\n",
        "\n",
        "  return df\n"
      ]
    },
    {
      "cell_type": "code",
      "execution_count": 6,
      "metadata": {
        "colab": {
          "base_uri": "https://localhost:8080/"
        },
        "id": "PBwbw0ddKYcJ",
        "outputId": "1aa5baaa-4907-4e72-be33-4fa76e51b740"
      },
      "outputs": [
        {
          "output_type": "stream",
          "name": "stdout",
          "text": [
            "Length of train: 895141\n",
            "Length of test: 585761\n"
          ]
        }
      ],
      "source": [
        "train_data_path = \"/content/drive/MyDrive/266_final/data/Original_text/dataset1_train.txt\"\n",
        "test_data_path = \"/content/drive/MyDrive/266_final/data/Original_text/dataset1_test.txt\"\n",
        "\n",
        "train = convert_data(train_data_path)\n",
        "test = convert_data(test_data_path)\n",
        "\n",
        "print(f\"Length of train: {len(train)}\")\n",
        "print(f\"Length of test: {len(test)}\")\n"
      ]
    },
    {
      "cell_type": "code",
      "execution_count": 7,
      "metadata": {
        "colab": {
          "base_uri": "https://localhost:8080/"
        },
        "id": "kqnvelmiGLXi",
        "outputId": "b76cc3b7-1205-4ada-ad13-2fd21df3a6f5"
      },
      "outputs": [
        {
          "output_type": "execute_result",
          "data": {
            "text/plain": [
              "1053"
            ]
          },
          "metadata": {},
          "execution_count": 7
        }
      ],
      "source": [
        "df = train.copy()\n",
        "df['sentence_line_number'].nunique()"
      ]
    },
    {
      "cell_type": "code",
      "execution_count": 8,
      "metadata": {
        "colab": {
          "base_uri": "https://localhost:8080/"
        },
        "id": "fVvq1qgWw1vR",
        "outputId": "cd02109e-0f28-470f-e80d-096e62617cfb"
      },
      "outputs": [
        {
          "output_type": "execute_result",
          "data": {
            "text/plain": [
              "label\n",
              "I-Route           397\n",
              "B-Duration        592\n",
              "I-ADE             776\n",
              "B-ADE             956\n",
              "I-Duration       1034\n",
              "I-Reason         3125\n",
              "B-Reason         3791\n",
              "I-Form           4173\n",
              "B-Dosage         4221\n",
              "I-Drug           4298\n",
              "B-Route          5475\n",
              "B-Frequency      6279\n",
              "I-Strength       6617\n",
              "B-Form           6647\n",
              "B-Strength       6691\n",
              "I-Dosage         8779\n",
              "I-Frequency     13023\n",
              "B-Drug          16222\n",
              "O              802045\n",
              "Name: count, dtype: int64"
            ]
          },
          "metadata": {},
          "execution_count": 8
        }
      ],
      "source": [
        "df['label'].value_counts().sort_values()"
      ]
    },
    {
      "cell_type": "markdown",
      "metadata": {
        "id": "GWzDzNtXJRSa"
      },
      "source": [
        "### Label labels"
      ]
    },
    {
      "cell_type": "code",
      "execution_count": 10,
      "metadata": {
        "colab": {
          "base_uri": "https://localhost:8080/"
        },
        "id": "CXnnrZqSIX95",
        "outputId": "0622128c-e6db-4772-f97b-692b33d2391a"
      },
      "outputs": [
        {
          "output_type": "stream",
          "name": "stdout",
          "text": [
            "{'B-Form', 'O', 'I-Drug', 'B-Strength', 'I-Dosage', 'I-Frequency', 'B-Dosage', 'B-ADE', 'B-Frequency', 'B-Route', 'I-Duration', 'I-ADE', 'I-Reason', 'I-Route', 'B-Drug', 'I-Form', 'B-Reason', 'I-Strength', 'B-Duration'}\n"
          ]
        }
      ],
      "source": [
        "# Split labels based on whitespace and turn them into a list\n",
        "labels = [i.split() for i in df['label'].values.tolist()]\n",
        "\n",
        "# Check how many labels are there in the dataset\n",
        "unique_labels = set()\n",
        "\n",
        "for lb in labels:\n",
        "  [unique_labels.add(i) for i in lb if i not in unique_labels]\n",
        "\n",
        "print(unique_labels)"
      ]
    },
    {
      "cell_type": "code",
      "execution_count": 11,
      "metadata": {
        "colab": {
          "base_uri": "https://localhost:8080/"
        },
        "id": "ux83z2FGLU05",
        "outputId": "ac4cbb00-d8b2-4136-9c9f-0fcf2c274417"
      },
      "outputs": [
        {
          "output_type": "stream",
          "name": "stdout",
          "text": [
            "{'B-ADE': 0, 'B-Dosage': 1, 'B-Drug': 2, 'B-Duration': 3, 'B-Form': 4, 'B-Frequency': 5, 'B-Reason': 6, 'B-Route': 7, 'B-Strength': 8, 'I-ADE': 9, 'I-Dosage': 10, 'I-Drug': 11, 'I-Duration': 12, 'I-Form': 13, 'I-Frequency': 14, 'I-Reason': 15, 'I-Route': 16, 'I-Strength': 17, 'O': 18}\n"
          ]
        }
      ],
      "source": [
        "# Map each label into its id representation and vice versa\n",
        "labels_to_ids = {k: v for v, k in enumerate(sorted(unique_labels))}\n",
        "ids_to_labels = {v: k for v, k in enumerate(sorted(unique_labels))}\n",
        "print(labels_to_ids)"
      ]
    },
    {
      "cell_type": "code",
      "execution_count": 14,
      "metadata": {
        "id": "G4ukPCa0-SG6"
      },
      "outputs": [],
      "source": [
        "def formatted_df(df):\n",
        "  df['sentence'] = df[[\n",
        "      'text_file_name',\n",
        "      'sentence_line_number',\n",
        "      'original_word',\n",
        "      'label']].groupby(\n",
        "          ['text_file_name', 'sentence_line_number'])['original_word'].transform(lambda x: ' '.join(x))\n",
        "\n",
        "  df['word_labels'] = df[[\n",
        "      'text_file_name',\n",
        "      'sentence_line_number',\n",
        "      'original_word',\n",
        "      'label']].groupby(\n",
        "          ['text_file_name', 'sentence_line_number'])['label'].transform(lambda x: ','.join(x))\n",
        "\n",
        "  return df"
      ]
    },
    {
      "cell_type": "code",
      "execution_count": 15,
      "metadata": {
        "id": "1KfHxKgI-d7M"
      },
      "outputs": [],
      "source": [
        "df = formatted_df(df)\n",
        "df_test = formatted_df(test)"
      ]
    },
    {
      "cell_type": "code",
      "execution_count": 16,
      "metadata": {
        "id": "xxe_t7P5Ae-V"
      },
      "outputs": [],
      "source": [
        "def sentence_level_data_fn(df):\n",
        "  sentence_level_data = df[[\"text_file_name\", \"sentence_line_number\", \"sentence\", \"word_labels\"]].drop_duplicates().reset_index(drop=True)\n",
        "  return sentence_level_data\n",
        "\n",
        "sentence_level_train = sentence_level_data_fn(df)\n",
        "sentence_level_test = sentence_level_data_fn(df_test)"
      ]
    },
    {
      "cell_type": "code",
      "execution_count": 17,
      "metadata": {
        "colab": {
          "base_uri": "https://localhost:8080/",
          "height": 206
        },
        "id": "XpGwter59c47",
        "outputId": "177f50d8-a82a-4772-9457-031e8e6a8e3a"
      },
      "outputs": [
        {
          "output_type": "execute_result",
          "data": {
            "text/plain": [
              "                      text_file_name  sentence_line_number  \\\n",
              "0  data/training_20180910/110727.txt                     1   \n",
              "1  data/training_20180910/110727.txt                     3   \n",
              "2  data/training_20180910/110727.txt                     5   \n",
              "3  data/training_20180910/110727.txt                     7   \n",
              "4  data/training_20180910/110727.txt                     8   \n",
              "\n",
              "                                            sentence  \\\n",
              "0  Admission Date : [ * * 2202 - 1 - 8 * * ] Disc...   \n",
              "1  Date of Birth : [ * * 2163 - 9 - 18 * * ] Sex : M   \n",
              "2                                 Service : MEDICINE   \n",
              "3                                        Allergies :   \n",
              "4                        Keflex / Orencia / Remicade   \n",
              "\n",
              "                                         word_labels  \n",
              "0  O,O,O,O,O,O,O,O,O,O,O,O,O,O,O,O,O,O,O,O,O,O,O,...  \n",
              "1                O,O,O,O,O,O,O,O,O,O,O,O,O,O,O,O,O,O  \n",
              "2                                              O,O,O  \n",
              "3                                                O,O  \n",
              "4                           B-Drug,O,B-Drug,O,B-Drug  "
            ],
            "text/html": [
              "\n",
              "  <div id=\"df-7eb7687e-c5c6-4e8f-9bf4-c9b7d535f26d\" class=\"colab-df-container\">\n",
              "    <div>\n",
              "<style scoped>\n",
              "    .dataframe tbody tr th:only-of-type {\n",
              "        vertical-align: middle;\n",
              "    }\n",
              "\n",
              "    .dataframe tbody tr th {\n",
              "        vertical-align: top;\n",
              "    }\n",
              "\n",
              "    .dataframe thead th {\n",
              "        text-align: right;\n",
              "    }\n",
              "</style>\n",
              "<table border=\"1\" class=\"dataframe\">\n",
              "  <thead>\n",
              "    <tr style=\"text-align: right;\">\n",
              "      <th></th>\n",
              "      <th>text_file_name</th>\n",
              "      <th>sentence_line_number</th>\n",
              "      <th>sentence</th>\n",
              "      <th>word_labels</th>\n",
              "    </tr>\n",
              "  </thead>\n",
              "  <tbody>\n",
              "    <tr>\n",
              "      <th>0</th>\n",
              "      <td>data/training_20180910/110727.txt</td>\n",
              "      <td>1</td>\n",
              "      <td>Admission Date : [ * * 2202 - 1 - 8 * * ] Disc...</td>\n",
              "      <td>O,O,O,O,O,O,O,O,O,O,O,O,O,O,O,O,O,O,O,O,O,O,O,...</td>\n",
              "    </tr>\n",
              "    <tr>\n",
              "      <th>1</th>\n",
              "      <td>data/training_20180910/110727.txt</td>\n",
              "      <td>3</td>\n",
              "      <td>Date of Birth : [ * * 2163 - 9 - 18 * * ] Sex : M</td>\n",
              "      <td>O,O,O,O,O,O,O,O,O,O,O,O,O,O,O,O,O,O</td>\n",
              "    </tr>\n",
              "    <tr>\n",
              "      <th>2</th>\n",
              "      <td>data/training_20180910/110727.txt</td>\n",
              "      <td>5</td>\n",
              "      <td>Service : MEDICINE</td>\n",
              "      <td>O,O,O</td>\n",
              "    </tr>\n",
              "    <tr>\n",
              "      <th>3</th>\n",
              "      <td>data/training_20180910/110727.txt</td>\n",
              "      <td>7</td>\n",
              "      <td>Allergies :</td>\n",
              "      <td>O,O</td>\n",
              "    </tr>\n",
              "    <tr>\n",
              "      <th>4</th>\n",
              "      <td>data/training_20180910/110727.txt</td>\n",
              "      <td>8</td>\n",
              "      <td>Keflex / Orencia / Remicade</td>\n",
              "      <td>B-Drug,O,B-Drug,O,B-Drug</td>\n",
              "    </tr>\n",
              "  </tbody>\n",
              "</table>\n",
              "</div>\n",
              "    <div class=\"colab-df-buttons\">\n",
              "\n",
              "  <div class=\"colab-df-container\">\n",
              "    <button class=\"colab-df-convert\" onclick=\"convertToInteractive('df-7eb7687e-c5c6-4e8f-9bf4-c9b7d535f26d')\"\n",
              "            title=\"Convert this dataframe to an interactive table.\"\n",
              "            style=\"display:none;\">\n",
              "\n",
              "  <svg xmlns=\"http://www.w3.org/2000/svg\" height=\"24px\" viewBox=\"0 -960 960 960\">\n",
              "    <path d=\"M120-120v-720h720v720H120Zm60-500h600v-160H180v160Zm220 220h160v-160H400v160Zm0 220h160v-160H400v160ZM180-400h160v-160H180v160Zm440 0h160v-160H620v160ZM180-180h160v-160H180v160Zm440 0h160v-160H620v160Z\"/>\n",
              "  </svg>\n",
              "    </button>\n",
              "\n",
              "  <style>\n",
              "    .colab-df-container {\n",
              "      display:flex;\n",
              "      gap: 12px;\n",
              "    }\n",
              "\n",
              "    .colab-df-convert {\n",
              "      background-color: #E8F0FE;\n",
              "      border: none;\n",
              "      border-radius: 50%;\n",
              "      cursor: pointer;\n",
              "      display: none;\n",
              "      fill: #1967D2;\n",
              "      height: 32px;\n",
              "      padding: 0 0 0 0;\n",
              "      width: 32px;\n",
              "    }\n",
              "\n",
              "    .colab-df-convert:hover {\n",
              "      background-color: #E2EBFA;\n",
              "      box-shadow: 0px 1px 2px rgba(60, 64, 67, 0.3), 0px 1px 3px 1px rgba(60, 64, 67, 0.15);\n",
              "      fill: #174EA6;\n",
              "    }\n",
              "\n",
              "    .colab-df-buttons div {\n",
              "      margin-bottom: 4px;\n",
              "    }\n",
              "\n",
              "    [theme=dark] .colab-df-convert {\n",
              "      background-color: #3B4455;\n",
              "      fill: #D2E3FC;\n",
              "    }\n",
              "\n",
              "    [theme=dark] .colab-df-convert:hover {\n",
              "      background-color: #434B5C;\n",
              "      box-shadow: 0px 1px 3px 1px rgba(0, 0, 0, 0.15);\n",
              "      filter: drop-shadow(0px 1px 2px rgba(0, 0, 0, 0.3));\n",
              "      fill: #FFFFFF;\n",
              "    }\n",
              "  </style>\n",
              "\n",
              "    <script>\n",
              "      const buttonEl =\n",
              "        document.querySelector('#df-7eb7687e-c5c6-4e8f-9bf4-c9b7d535f26d button.colab-df-convert');\n",
              "      buttonEl.style.display =\n",
              "        google.colab.kernel.accessAllowed ? 'block' : 'none';\n",
              "\n",
              "      async function convertToInteractive(key) {\n",
              "        const element = document.querySelector('#df-7eb7687e-c5c6-4e8f-9bf4-c9b7d535f26d');\n",
              "        const dataTable =\n",
              "          await google.colab.kernel.invokeFunction('convertToInteractive',\n",
              "                                                    [key], {});\n",
              "        if (!dataTable) return;\n",
              "\n",
              "        const docLinkHtml = 'Like what you see? Visit the ' +\n",
              "          '<a target=\"_blank\" href=https://colab.research.google.com/notebooks/data_table.ipynb>data table notebook</a>'\n",
              "          + ' to learn more about interactive tables.';\n",
              "        element.innerHTML = '';\n",
              "        dataTable['output_type'] = 'display_data';\n",
              "        await google.colab.output.renderOutput(dataTable, element);\n",
              "        const docLink = document.createElement('div');\n",
              "        docLink.innerHTML = docLinkHtml;\n",
              "        element.appendChild(docLink);\n",
              "      }\n",
              "    </script>\n",
              "  </div>\n",
              "\n",
              "\n",
              "<div id=\"df-8086942d-4cfa-4a10-baed-a0d6ac082968\">\n",
              "  <button class=\"colab-df-quickchart\" onclick=\"quickchart('df-8086942d-4cfa-4a10-baed-a0d6ac082968')\"\n",
              "            title=\"Suggest charts\"\n",
              "            style=\"display:none;\">\n",
              "\n",
              "<svg xmlns=\"http://www.w3.org/2000/svg\" height=\"24px\"viewBox=\"0 0 24 24\"\n",
              "     width=\"24px\">\n",
              "    <g>\n",
              "        <path d=\"M19 3H5c-1.1 0-2 .9-2 2v14c0 1.1.9 2 2 2h14c1.1 0 2-.9 2-2V5c0-1.1-.9-2-2-2zM9 17H7v-7h2v7zm4 0h-2V7h2v10zm4 0h-2v-4h2v4z\"/>\n",
              "    </g>\n",
              "</svg>\n",
              "  </button>\n",
              "\n",
              "<style>\n",
              "  .colab-df-quickchart {\n",
              "      --bg-color: #E8F0FE;\n",
              "      --fill-color: #1967D2;\n",
              "      --hover-bg-color: #E2EBFA;\n",
              "      --hover-fill-color: #174EA6;\n",
              "      --disabled-fill-color: #AAA;\n",
              "      --disabled-bg-color: #DDD;\n",
              "  }\n",
              "\n",
              "  [theme=dark] .colab-df-quickchart {\n",
              "      --bg-color: #3B4455;\n",
              "      --fill-color: #D2E3FC;\n",
              "      --hover-bg-color: #434B5C;\n",
              "      --hover-fill-color: #FFFFFF;\n",
              "      --disabled-bg-color: #3B4455;\n",
              "      --disabled-fill-color: #666;\n",
              "  }\n",
              "\n",
              "  .colab-df-quickchart {\n",
              "    background-color: var(--bg-color);\n",
              "    border: none;\n",
              "    border-radius: 50%;\n",
              "    cursor: pointer;\n",
              "    display: none;\n",
              "    fill: var(--fill-color);\n",
              "    height: 32px;\n",
              "    padding: 0;\n",
              "    width: 32px;\n",
              "  }\n",
              "\n",
              "  .colab-df-quickchart:hover {\n",
              "    background-color: var(--hover-bg-color);\n",
              "    box-shadow: 0 1px 2px rgba(60, 64, 67, 0.3), 0 1px 3px 1px rgba(60, 64, 67, 0.15);\n",
              "    fill: var(--button-hover-fill-color);\n",
              "  }\n",
              "\n",
              "  .colab-df-quickchart-complete:disabled,\n",
              "  .colab-df-quickchart-complete:disabled:hover {\n",
              "    background-color: var(--disabled-bg-color);\n",
              "    fill: var(--disabled-fill-color);\n",
              "    box-shadow: none;\n",
              "  }\n",
              "\n",
              "  .colab-df-spinner {\n",
              "    border: 2px solid var(--fill-color);\n",
              "    border-color: transparent;\n",
              "    border-bottom-color: var(--fill-color);\n",
              "    animation:\n",
              "      spin 1s steps(1) infinite;\n",
              "  }\n",
              "\n",
              "  @keyframes spin {\n",
              "    0% {\n",
              "      border-color: transparent;\n",
              "      border-bottom-color: var(--fill-color);\n",
              "      border-left-color: var(--fill-color);\n",
              "    }\n",
              "    20% {\n",
              "      border-color: transparent;\n",
              "      border-left-color: var(--fill-color);\n",
              "      border-top-color: var(--fill-color);\n",
              "    }\n",
              "    30% {\n",
              "      border-color: transparent;\n",
              "      border-left-color: var(--fill-color);\n",
              "      border-top-color: var(--fill-color);\n",
              "      border-right-color: var(--fill-color);\n",
              "    }\n",
              "    40% {\n",
              "      border-color: transparent;\n",
              "      border-right-color: var(--fill-color);\n",
              "      border-top-color: var(--fill-color);\n",
              "    }\n",
              "    60% {\n",
              "      border-color: transparent;\n",
              "      border-right-color: var(--fill-color);\n",
              "    }\n",
              "    80% {\n",
              "      border-color: transparent;\n",
              "      border-right-color: var(--fill-color);\n",
              "      border-bottom-color: var(--fill-color);\n",
              "    }\n",
              "    90% {\n",
              "      border-color: transparent;\n",
              "      border-bottom-color: var(--fill-color);\n",
              "    }\n",
              "  }\n",
              "</style>\n",
              "\n",
              "  <script>\n",
              "    async function quickchart(key) {\n",
              "      const quickchartButtonEl =\n",
              "        document.querySelector('#' + key + ' button');\n",
              "      quickchartButtonEl.disabled = true;  // To prevent multiple clicks.\n",
              "      quickchartButtonEl.classList.add('colab-df-spinner');\n",
              "      try {\n",
              "        const charts = await google.colab.kernel.invokeFunction(\n",
              "            'suggestCharts', [key], {});\n",
              "      } catch (error) {\n",
              "        console.error('Error during call to suggestCharts:', error);\n",
              "      }\n",
              "      quickchartButtonEl.classList.remove('colab-df-spinner');\n",
              "      quickchartButtonEl.classList.add('colab-df-quickchart-complete');\n",
              "    }\n",
              "    (() => {\n",
              "      let quickchartButtonEl =\n",
              "        document.querySelector('#df-8086942d-4cfa-4a10-baed-a0d6ac082968 button');\n",
              "      quickchartButtonEl.style.display =\n",
              "        google.colab.kernel.accessAllowed ? 'block' : 'none';\n",
              "    })();\n",
              "  </script>\n",
              "</div>\n",
              "\n",
              "    </div>\n",
              "  </div>\n"
            ],
            "application/vnd.google.colaboratory.intrinsic+json": {
              "type": "dataframe",
              "variable_name": "sentence_level_data",
              "summary": "{\n  \"name\": \"sentence_level_data\",\n  \"rows\": 83321,\n  \"fields\": [\n    {\n      \"column\": \"text_file_name\",\n      \"properties\": {\n        \"dtype\": \"category\",\n        \"num_unique_values\": 303,\n        \"samples\": [\n          \"data/training_20180910/125867.txt\",\n          \"data/training_20180910/102173.txt\",\n          \"data/training_20180910/186876.txt\"\n        ],\n        \"semantic_type\": \"\",\n        \"description\": \"\"\n      }\n    },\n    {\n      \"column\": \"sentence_line_number\",\n      \"properties\": {\n        \"dtype\": \"number\",\n        \"std\": 140,\n        \"min\": 1,\n        \"max\": 1102,\n        \"num_unique_values\": 1053,\n        \"samples\": [\n          427,\n          111,\n          1010\n        ],\n        \"semantic_type\": \"\",\n        \"description\": \"\"\n      }\n    },\n    {\n      \"column\": \"sentence\",\n      \"properties\": {\n        \"dtype\": \"string\",\n        \"num_unique_values\": 66634,\n        \"samples\": [\n          \"[ * * Hospital1 * * ] . She had an LP done on [ * * 10 - 1 * * ] , which was positive for\",\n          \"Marrow clot section is similar to the biopsy .\",\n          \"Delirium secondary to medications\"\n        ],\n        \"semantic_type\": \"\",\n        \"description\": \"\"\n      }\n    },\n    {\n      \"column\": \"word_labels\",\n      \"properties\": {\n        \"dtype\": \"category\",\n        \"num_unique_values\": 8589,\n        \"samples\": [\n          \"B-Strength,O,O,O,O,O,O,O,O,O,O,O,O\",\n          \"O,O,O,B-Drug,O,B-Frequency,I-Frequency,I-Frequency,I-Frequency,B-Drug,B-Form\",\n          \"O,O,O,O,O,O,B-Drug,O,O,O\"\n        ],\n        \"semantic_type\": \"\",\n        \"description\": \"\"\n      }\n    }\n  ]\n}"
            }
          },
          "metadata": {},
          "execution_count": 17
        }
      ],
      "source": [
        "sentence_level_data = sentence_level_train[[\"text_file_name\", \"sentence_line_number\", \"sentence\", \"word_labels\"]].drop_duplicates().reset_index(drop=True)\n",
        "sentence_level_test = sentence_level_test[[\"text_file_name\",\"sentence_line_number\",  \"sentence\", \"word_labels\"]].drop_duplicates().reset_index(drop=True)\n",
        "\n",
        "sentence_level_data.head()"
      ]
    },
    {
      "cell_type": "code",
      "source": [
        "len(sentence_level_data)"
      ],
      "metadata": {
        "colab": {
          "base_uri": "https://localhost:8080/"
        },
        "id": "7RtPA5HtAzAl",
        "outputId": "165dd822-c9c2-4aa5-f7b5-8e6b1a2700fb"
      },
      "execution_count": 18,
      "outputs": [
        {
          "output_type": "execute_result",
          "data": {
            "text/plain": [
              "83321"
            ]
          },
          "metadata": {},
          "execution_count": 18
        }
      ]
    },
    {
      "cell_type": "code",
      "execution_count": 19,
      "metadata": {
        "colab": {
          "base_uri": "https://localhost:8080/",
          "height": 35
        },
        "id": "CWVeV6sXM9ct",
        "outputId": "e1ee7436-2e59-4def-a6a8-1aa9bb72311d"
      },
      "outputs": [
        {
          "output_type": "execute_result",
          "data": {
            "text/plain": [
              "'your chemistries .'"
            ],
            "application/vnd.google.colaboratory.intrinsic+json": {
              "type": "string"
            }
          },
          "metadata": {},
          "execution_count": 19
        }
      ],
      "source": [
        "sentence_level_data.iloc[7020].sentence"
      ]
    },
    {
      "cell_type": "code",
      "execution_count": 20,
      "metadata": {
        "colab": {
          "base_uri": "https://localhost:8080/",
          "height": 35
        },
        "id": "SQrlUXdUNDaj",
        "outputId": "0e3c6b54-b0ec-423d-f10b-5034d6b74319"
      },
      "outputs": [
        {
          "output_type": "execute_result",
          "data": {
            "text/plain": [
              "'O,O,O'"
            ],
            "application/vnd.google.colaboratory.intrinsic+json": {
              "type": "string"
            }
          },
          "metadata": {},
          "execution_count": 20
        }
      ],
      "source": [
        "sentence_level_data.iloc[7020].word_labels"
      ]
    },
    {
      "cell_type": "code",
      "execution_count": 21,
      "metadata": {
        "colab": {
          "base_uri": "https://localhost:8080/"
        },
        "id": "KRFGL3a1NGUI",
        "outputId": "d8b0c625-62fc-44ba-85be-ab3be222a8d8"
      },
      "outputs": [
        {
          "output_type": "stream",
          "name": "stdout",
          "text": [
            "fx on x - ray . This was thought to be a psoriatic arthritis flare ,\n",
            "O,O,O,O,O,O,O,O,O,O,O,O,O,O,O,O\n"
          ]
        }
      ],
      "source": [
        "print(sentence_level_data.iloc[21].sentence)\n",
        "print(sentence_level_data.iloc[21].word_labels)"
      ]
    },
    {
      "cell_type": "markdown",
      "metadata": {
        "id": "D1UvdlPAM67e"
      },
      "source": [
        "#### Some sentences are really short. *Try* concatenating sentence to get longer inputs"
      ]
    },
    {
      "cell_type": "code",
      "execution_count": null,
      "metadata": {
        "id": "rMGe3A5OJ_Pb"
      },
      "outputs": [],
      "source": [
        "df = sentence_level_data.sort_values(by=['text_file_name', 'sentence_line_number'])\n",
        "df_test = sentence_level_test.sort_values(by=['text_file_name', 'sentence_line_number'])\n",
        "\n",
        "def cs(dataframe):\n",
        "    processed_data_list = []\n",
        "\n",
        "    # Group by 'text_file_name'\n",
        "    grouped = dataframe.groupby(\"text_file_name\")\n",
        "\n",
        "    for name, group in grouped:\n",
        "        sentences = group['sentence'].tolist()\n",
        "        # Labels are already strings, so we take them as is\n",
        "        labels = group['word_labels'].tolist()\n",
        "\n",
        "        for i in range(0, len(sentences), 5):\n",
        "            end_index = min(i + 5, len(sentences))\n",
        "            current_batch = sentences[i:end_index]\n",
        "            current_labels = labels[i:end_index]\n",
        "\n",
        "            concatenated_sentence = \" \".join(current_batch)\n",
        "            # Concatenate labels as they are, assuming they're correctly formatted strings\n",
        "            concatenated_label = \",\".join(current_labels)\n",
        "\n",
        "            processed_data_list.append({\n",
        "                \"text_file_name\": name,\n",
        "                \"sentences\": concatenated_sentence,\n",
        "                \"labels\": concatenated_label\n",
        "            })\n",
        "\n",
        "    processed_data = pd.DataFrame(processed_data_list)\n",
        "    return processed_data\n",
        "\n",
        "\n",
        "# Correcting the function to properly handle labels\n",
        "concatenated_df = cs(df)\n",
        "concatenated_test= cs(df_test)\n",
        "\n",
        "concatenated_df\n",
        "\n"
      ]
    },
    {
      "cell_type": "markdown",
      "metadata": {
        "id": "wnD4BxkYhTF5"
      },
      "source": [
        "#### Comment this out if you want sentence level dataset."
      ]
    },
    {
      "cell_type": "code",
      "execution_count": 24,
      "metadata": {
        "id": "A3En5RdvFr_O"
      },
      "outputs": [],
      "source": [
        "data = concatenated_df.copy()\n",
        "data_test = concatenated_test.copy()\n",
        "\n",
        "data.rename(columns={'concatenated_sentence': 'sentence', 'concatenated_labels': 'word_labels'}, inplace=True)\n",
        "data_test.rename(columns={'concatenated_sentence': 'sentence', 'concatenated_labels': 'word_labels'}, inplace=True)"
      ]
    },
    {
      "cell_type": "markdown",
      "metadata": {
        "id": "oIRanj57PpZu"
      },
      "source": [
        "### It looks reasonable, let's proceed with training"
      ]
    },
    {
      "cell_type": "code",
      "execution_count": 26,
      "metadata": {
        "id": "8pmcdPWk_k5H",
        "colab": {
          "base_uri": "https://localhost:8080/",
          "height": 1000,
          "referenced_widgets": [
            "1bd0fe1b41534aae85c283dd7b72ba61",
            "8e13ac85e2bf4c35bd2d06b6b6e36882",
            "0a197acf7c6b49b6ae61678e3178dc38",
            "b7493d78b9af4eebaacf080d0f73f4c2",
            "b044fa2298ec4734b49d1058421a2514",
            "281d47253077432690a9d68fe70073fe",
            "2272cd8d97ec48808887772e467c4e21",
            "561f82e8f84e4238b408445417bae94e",
            "abe6e034bc084946bd7f4a7ed0214afd",
            "de2d00d5784a4a1ab35621b5d445502b",
            "dc3ce3c8b0fb4e979025b3a63c59dc99",
            "eecd7e9f02dd41aea5e6fc86ef774a8a",
            "032f95db99d34259b2ba8ba6bb387f0f",
            "d77cd8de552947d2aeacf2929dc212f1",
            "46a0c2d5b7084b28a0ded242f0b5a85b",
            "8b773a37f8e54a3a9e046d93c053a9a9",
            "75b1c432d5b8430cafcaba4b44b15dd9",
            "5f32e178b0004cb9b62fefc912b85c4f",
            "71b20e7a13734b76a5f0133162f951e6",
            "1089cf1200444094a49870654e9a74d6",
            "0728c6ee2cb042a985e2dda5e8f59dc9",
            "2af06f171d4142ecbb6786d594f66212",
            "5600d7ca7b4b4ba19cf5c3af776a6373",
            "1c30047af89449139f2768f69013655c",
            "cad794ae95844af985ce3878a8ee177a",
            "9c1b04187de146748c128d567a1c92c8",
            "dc8f618f535644158372e76f20f406f3",
            "136dc37e537a44f29689400a5d7fd7ed",
            "c9d609df0ddf4ba4b8b29c1e7026c238",
            "46493b3bae704011b09894e141ed6efb",
            "bda87ae9f3204d2c95ace8914ca65afb",
            "1fee286966074a0c8154f8a84629925c",
            "60edc506e4604248b2ef36712ecf008e",
            "5a0eadfa67ee49b89f4e0c98a6b3fcac",
            "bd85ae2446004ed9a5641c8cffda95e9",
            "0ee1d1cfba164f22b6ec48bc5ea28e89",
            "bb781a39ce37454a8dea57ae864177ae",
            "0b3f06ff406a41a4ad1626a3ca9c3f6c",
            "cfea0bd0bb9c42a4bfaf193629b2ec1c",
            "691af556d7b14e06bb1ad5672f0bd005",
            "e4b372470d6e4b929768e9ea5ec0f459",
            "b117040ca8664c4287bf42482a03c337",
            "caebcef42d3745faab2031359ed46283",
            "6c26905dd40b434bbd4e4b6e1cc65c25",
            "ccedd422b6324e64a8bb72fa8d68020e",
            "761f55dd620c45d38983b3017e51e803",
            "2e171dd95f364318bece3c8643add59d",
            "620dd4c0b9614f18b78805d037941185",
            "013ae461943e491faeaa0f2f4890d72b",
            "180ade7378164dbd88173050ce1487e2",
            "4cb9c4a7f5914666b116b73c7440b696",
            "b642439f55a84882b2d60a027706c039",
            "a21b5f94d3e64f44988f159b6f7c78f0",
            "b6402e8bd218425489ebf1355cfd168d",
            "eb956182a986446caeb63945a6bedeb6"
          ]
        },
        "outputId": "7bbc5714-d380-4c9f-dda9-c1b5dc1d6bf9"
      },
      "outputs": [
        {
          "output_type": "stream",
          "name": "stderr",
          "text": [
            "/usr/local/lib/python3.10/dist-packages/huggingface_hub/utils/_token.py:88: UserWarning: \n",
            "The secret `HF_TOKEN` does not exist in your Colab secrets.\n",
            "To authenticate with the Hugging Face Hub, create a token in your settings tab (https://huggingface.co/settings/tokens), set it as secret in your Google Colab and restart your session.\n",
            "You will be able to reuse this secret in all of your notebooks.\n",
            "Please note that authentication is recommended but still optional to access public models or datasets.\n",
            "  warnings.warn(\n"
          ]
        },
        {
          "output_type": "display_data",
          "data": {
            "text/plain": [
              "tokenizer_config.json:   0%|          | 0.00/49.0 [00:00<?, ?B/s]"
            ],
            "application/vnd.jupyter.widget-view+json": {
              "version_major": 2,
              "version_minor": 0,
              "model_id": "1bd0fe1b41534aae85c283dd7b72ba61"
            }
          },
          "metadata": {}
        },
        {
          "output_type": "display_data",
          "data": {
            "text/plain": [
              "vocab.txt:   0%|          | 0.00/213k [00:00<?, ?B/s]"
            ],
            "application/vnd.jupyter.widget-view+json": {
              "version_major": 2,
              "version_minor": 0,
              "model_id": "eecd7e9f02dd41aea5e6fc86ef774a8a"
            }
          },
          "metadata": {}
        },
        {
          "output_type": "display_data",
          "data": {
            "text/plain": [
              "tokenizer.json:   0%|          | 0.00/436k [00:00<?, ?B/s]"
            ],
            "application/vnd.jupyter.widget-view+json": {
              "version_major": 2,
              "version_minor": 0,
              "model_id": "5600d7ca7b4b4ba19cf5c3af776a6373"
            }
          },
          "metadata": {}
        },
        {
          "output_type": "display_data",
          "data": {
            "text/plain": [
              "config.json:   0%|          | 0.00/570 [00:00<?, ?B/s]"
            ],
            "application/vnd.jupyter.widget-view+json": {
              "version_major": 2,
              "version_minor": 0,
              "model_id": "5a0eadfa67ee49b89f4e0c98a6b3fcac"
            }
          },
          "metadata": {}
        },
        {
          "output_type": "display_data",
          "data": {
            "text/plain": [
              "model.safetensors:   0%|          | 0.00/436M [00:00<?, ?B/s]"
            ],
            "application/vnd.jupyter.widget-view+json": {
              "version_major": 2,
              "version_minor": 0,
              "model_id": "ccedd422b6324e64a8bb72fa8d68020e"
            }
          },
          "metadata": {}
        },
        {
          "output_type": "stream",
          "name": "stderr",
          "text": [
            "Some weights of BertForTokenClassification were not initialized from the model checkpoint at bert-base-cased and are newly initialized: ['classifier.bias', 'classifier.weight']\n",
            "You should probably TRAIN this model on a down-stream task to be able to use it for predictions and inference.\n"
          ]
        },
        {
          "output_type": "execute_result",
          "data": {
            "text/plain": [
              "BertForTokenClassification(\n",
              "  (bert): BertModel(\n",
              "    (embeddings): BertEmbeddings(\n",
              "      (word_embeddings): Embedding(28996, 768, padding_idx=0)\n",
              "      (position_embeddings): Embedding(512, 768)\n",
              "      (token_type_embeddings): Embedding(2, 768)\n",
              "      (LayerNorm): LayerNorm((768,), eps=1e-12, elementwise_affine=True)\n",
              "      (dropout): Dropout(p=0.1, inplace=False)\n",
              "    )\n",
              "    (encoder): BertEncoder(\n",
              "      (layer): ModuleList(\n",
              "        (0-11): 12 x BertLayer(\n",
              "          (attention): BertAttention(\n",
              "            (self): BertSelfAttention(\n",
              "              (query): Linear(in_features=768, out_features=768, bias=True)\n",
              "              (key): Linear(in_features=768, out_features=768, bias=True)\n",
              "              (value): Linear(in_features=768, out_features=768, bias=True)\n",
              "              (dropout): Dropout(p=0.1, inplace=False)\n",
              "            )\n",
              "            (output): BertSelfOutput(\n",
              "              (dense): Linear(in_features=768, out_features=768, bias=True)\n",
              "              (LayerNorm): LayerNorm((768,), eps=1e-12, elementwise_affine=True)\n",
              "              (dropout): Dropout(p=0.1, inplace=False)\n",
              "            )\n",
              "          )\n",
              "          (intermediate): BertIntermediate(\n",
              "            (dense): Linear(in_features=768, out_features=3072, bias=True)\n",
              "            (intermediate_act_fn): GELUActivation()\n",
              "          )\n",
              "          (output): BertOutput(\n",
              "            (dense): Linear(in_features=3072, out_features=768, bias=True)\n",
              "            (LayerNorm): LayerNorm((768,), eps=1e-12, elementwise_affine=True)\n",
              "            (dropout): Dropout(p=0.1, inplace=False)\n",
              "          )\n",
              "        )\n",
              "      )\n",
              "    )\n",
              "  )\n",
              "  (dropout): Dropout(p=0.1, inplace=False)\n",
              "  (classifier): Linear(in_features=768, out_features=19, bias=True)\n",
              ")"
            ]
          },
          "metadata": {},
          "execution_count": 26
        }
      ],
      "source": [
        "from transformers import BertTokenizerFast, BertForTokenClassification\n",
        "\n",
        "tokenizer = BertTokenizerFast.from_pretrained('bert-base-cased')\n",
        "model = BertForTokenClassification.from_pretrained('bert-base-cased', num_labels=len(labels_to_ids))\n",
        "model.to(device)"
      ]
    },
    {
      "cell_type": "code",
      "execution_count": 27,
      "metadata": {
        "id": "VRjrBQAR9-zc"
      },
      "outputs": [],
      "source": [
        "MAX_LEN = 512\n",
        "TRAIN_BATCH_SIZE = 4\n",
        "VALID_BATCH_SIZE = 2\n",
        "TEST_BATCH_SIZE = 32\n",
        "EPOCHS = 3\n",
        "LEARNING_RATE = 1e-05\n",
        "MAX_GRAD_NORM = 10\n",
        "# tokenizer = BertTokenizerFast.from_pretrained('bert-base-cased')\n"
      ]
    },
    {
      "cell_type": "code",
      "execution_count": 28,
      "metadata": {
        "id": "rYVPN8o4ve9Q"
      },
      "outputs": [],
      "source": [
        "class dataset(Dataset):\n",
        "  def __init__(self, dataframe, tokenizer, max_len):\n",
        "        self.len = len(dataframe)\n",
        "        self.data = dataframe\n",
        "        self.tokenizer = tokenizer\n",
        "        self.max_len = max_len\n",
        "\n",
        "  def __getitem__(self, index):\n",
        "        # step 1: get the sentence and word labels\n",
        "        sentence = self.data.sentences[index].strip().split()\n",
        "        word_labels = self.data.labels[index].split(\",\")\n",
        "        # sentence_id = self.data.iloc[index]['sentence_id']\n",
        "\n",
        "        # step 2: use tokenizer to encode sentence (includes padding/truncation up to max length)\n",
        "        # BertTokenizerFast provides a handy \"return_offsets_mapping\" functionality for individual tokens\n",
        "        encoding = self.tokenizer(sentence,\n",
        "                             return_offsets_mapping=True,\n",
        "                             padding='max_length',\n",
        "                             is_split_into_words=True,\n",
        "                             truncation=True,\n",
        "                             max_length=self.max_len)\n",
        "\n",
        "        # step 3: create token labels only for first word pieces of each tokenized word\n",
        "        labels = [labels_to_ids[label] for label in word_labels]\n",
        "        # code based on https://huggingface.co/transformers/custom_datasets.html#tok-ner\n",
        "        # create an empty array of -100 of length max_length\n",
        "        encoded_labels = np.ones(len(encoding[\"offset_mapping\"]), dtype=int) * -100\n",
        "\n",
        "        # set only labels whose first offset position is 0 and the second is not 0\n",
        "        i = 0\n",
        "        for idx, mapping in enumerate(encoding[\"offset_mapping\"]):\n",
        "          if mapping[0] == 0 and mapping[1] != 0:\n",
        "            # overwrite label\n",
        "            encoded_labels[idx] = labels[i]\n",
        "            i += 1\n",
        "\n",
        "        # step 4: turn everything into PyTorch tensors\n",
        "        item = {key: torch.as_tensor(val) for key, val in encoding.items()}\n",
        "        item['labels'] = torch.as_tensor(encoded_labels)\n",
        "        item['index'] = index\n",
        "\n",
        "        return item\n",
        "\n",
        "  def __len__(self):\n",
        "        return self.len"
      ]
    },
    {
      "cell_type": "code",
      "source": [
        "from sklearn.model_selection import train_test_split\n",
        "\n",
        "train_dataset, val_dataset = train_test_split(data, test_size=0.2, shuffle=False)\n"
      ],
      "metadata": {
        "id": "C9w4vm1oAZ4K"
      },
      "execution_count": 29,
      "outputs": []
    },
    {
      "cell_type": "code",
      "source": [
        "train_dataset.reset_index(drop=True, inplace=True)\n",
        "val_dataset.reset_index(drop=True, inplace=True)"
      ],
      "metadata": {
        "id": "6cwkfORqBDMA"
      },
      "execution_count": 30,
      "outputs": []
    },
    {
      "cell_type": "code",
      "source": [
        "train_dataset['sent_id']  = train_dataset.index\n",
        "val_dataset['sent_id']= val_dataset.index\n",
        "data_test['sent_id'] = data_test.index\n"
      ],
      "metadata": {
        "id": "eabNjnwEAef5"
      },
      "execution_count": 31,
      "outputs": []
    },
    {
      "cell_type": "code",
      "execution_count": 32,
      "metadata": {
        "colab": {
          "base_uri": "https://localhost:8080/"
        },
        "id": "FDFvMkzgQjUX",
        "outputId": "d77449c7-e0ad-40a6-8ff4-b410f69ed99c"
      },
      "outputs": [
        {
          "output_type": "stream",
          "name": "stdout",
          "text": [
            "FULL Dataet: (16788, 3)\n",
            "TRAIN Dataset: (13430, 4)\n",
            "VAL Dataset: (3358, 4)\n",
            "TEST Dataset: (11146, 4)\n"
          ]
        }
      ],
      "source": [
        "print(\"FULL Dataet: {}\".format(data.shape))\n",
        "print(\"TRAIN Dataset: {}\".format(train_dataset.shape))\n",
        "print(\"VAL Dataset: {}\".format(val_dataset.shape))\n",
        "print(\"TEST Dataset: {}\".format(data_test.shape))\n",
        "\n",
        "data_test.reset_index(drop=True, inplace=True)\n",
        "\n",
        "training_set = dataset(train_dataset, tokenizer, MAX_LEN)\n",
        "val_set = dataset(val_dataset, tokenizer, MAX_LEN)\n",
        "test_set = dataset(data_test, tokenizer, MAX_LEN)"
      ]
    },
    {
      "cell_type": "code",
      "execution_count": 33,
      "metadata": {
        "id": "f4v9CdAR3b9b",
        "colab": {
          "base_uri": "https://localhost:8080/"
        },
        "outputId": "5682a582-e341-43f4-97cf-5a05af7b4c06"
      },
      "outputs": [
        {
          "output_type": "stream",
          "name": "stdout",
          "text": [
            "[CLS]       -100\n",
            "to          18\n",
            "an          18\n",
            "OS          18\n",
            "##H         -100\n",
            "with        18\n",
            "d           18\n",
            "##ys        -100\n",
            "##p         -100\n",
            "##nea       -100\n",
            "now         18\n",
            "admitted    18\n",
            "to          18\n",
            "the         18\n",
            "MI          18\n",
            "##CU        -100\n",
            "after       18\n",
            "P           18\n",
            "##EA        -100\n",
            "arrest      18\n",
            "x           18\n",
            "##2         -100\n",
            ".           18\n",
            "The         18\n",
            "patient     18\n",
            "initially   18\n",
            "presented   18\n",
            "to          18\n",
            "L           18\n",
            "##G         -100\n",
            "##H         -100\n",
            "E           18\n",
            "##D         -100\n",
            "with        18\n",
            "h           18\n",
            "##y         -100\n",
            "##pox       -100\n",
            "##em        -100\n",
            "##ic        -100\n",
            "respiratory  18\n",
            "distress    18\n",
            ".           18\n",
            "While       18\n",
            "at          18\n",
            "the         18\n",
            "OS          18\n",
            "##H         -100\n",
            ",           18\n",
            "he          18\n",
            "received    18\n",
            "CT          2\n",
            "##X         -100\n",
            ",           18\n",
            "a           2\n",
            "##zi        -100\n",
            "##th        -100\n",
            "##rom       -100\n",
            "##y         -100\n",
            "##cin       -100\n",
            ",           18\n",
            "SC          7\n",
            "e           2\n",
            "##pine      -100\n",
            "##ph        -100\n",
            "##rine      -100\n",
            ",           18\n",
            "and         18\n",
            "so          2\n",
            "##lume      -100\n",
            "##dr        -100\n",
            "##ol        -100\n",
            ".           18\n",
            "While       18\n",
            "at          18\n",
            "the         18\n",
            "OS          18\n",
            "##H         -100\n",
            ",           18\n",
            "he          18\n",
            "became      18\n",
            "confused    18\n",
            "and         18\n",
            "subsequently  18\n",
            "had         18\n",
            "an          18\n",
            "episode     18\n",
            "of          18\n",
            "P           18\n",
            "##EA        -100\n",
            "arrest      18\n",
            "[SEP]       -100\n",
            "[PAD]       -100\n",
            "[PAD]       -100\n",
            "[PAD]       -100\n",
            "[PAD]       -100\n",
            "[PAD]       -100\n",
            "[PAD]       -100\n",
            "[PAD]       -100\n",
            "[PAD]       -100\n",
            "[PAD]       -100\n",
            "[PAD]       -100\n",
            "[PAD]       -100\n",
            "[PAD]       -100\n",
            "[PAD]       -100\n",
            "[PAD]       -100\n",
            "[PAD]       -100\n",
            "[PAD]       -100\n",
            "[PAD]       -100\n",
            "[PAD]       -100\n",
            "[PAD]       -100\n",
            "[PAD]       -100\n",
            "[PAD]       -100\n",
            "[PAD]       -100\n",
            "[PAD]       -100\n",
            "[PAD]       -100\n",
            "[PAD]       -100\n",
            "[PAD]       -100\n",
            "[PAD]       -100\n",
            "[PAD]       -100\n",
            "[PAD]       -100\n",
            "[PAD]       -100\n",
            "[PAD]       -100\n",
            "[PAD]       -100\n",
            "[PAD]       -100\n",
            "[PAD]       -100\n",
            "[PAD]       -100\n",
            "[PAD]       -100\n",
            "[PAD]       -100\n",
            "[PAD]       -100\n",
            "[PAD]       -100\n",
            "[PAD]       -100\n",
            "[PAD]       -100\n",
            "[PAD]       -100\n",
            "[PAD]       -100\n",
            "[PAD]       -100\n",
            "[PAD]       -100\n",
            "[PAD]       -100\n",
            "[PAD]       -100\n",
            "[PAD]       -100\n",
            "[PAD]       -100\n",
            "[PAD]       -100\n",
            "[PAD]       -100\n",
            "[PAD]       -100\n",
            "[PAD]       -100\n",
            "[PAD]       -100\n",
            "[PAD]       -100\n",
            "[PAD]       -100\n",
            "[PAD]       -100\n",
            "[PAD]       -100\n",
            "[PAD]       -100\n",
            "[PAD]       -100\n",
            "[PAD]       -100\n",
            "[PAD]       -100\n",
            "[PAD]       -100\n",
            "[PAD]       -100\n",
            "[PAD]       -100\n",
            "[PAD]       -100\n",
            "[PAD]       -100\n",
            "[PAD]       -100\n",
            "[PAD]       -100\n",
            "[PAD]       -100\n",
            "[PAD]       -100\n",
            "[PAD]       -100\n",
            "[PAD]       -100\n",
            "[PAD]       -100\n",
            "[PAD]       -100\n",
            "[PAD]       -100\n",
            "[PAD]       -100\n",
            "[PAD]       -100\n",
            "[PAD]       -100\n",
            "[PAD]       -100\n",
            "[PAD]       -100\n",
            "[PAD]       -100\n",
            "[PAD]       -100\n",
            "[PAD]       -100\n",
            "[PAD]       -100\n",
            "[PAD]       -100\n",
            "[PAD]       -100\n",
            "[PAD]       -100\n",
            "[PAD]       -100\n",
            "[PAD]       -100\n",
            "[PAD]       -100\n",
            "[PAD]       -100\n",
            "[PAD]       -100\n",
            "[PAD]       -100\n",
            "[PAD]       -100\n",
            "[PAD]       -100\n",
            "[PAD]       -100\n",
            "[PAD]       -100\n",
            "[PAD]       -100\n",
            "[PAD]       -100\n",
            "[PAD]       -100\n",
            "[PAD]       -100\n",
            "[PAD]       -100\n",
            "[PAD]       -100\n",
            "[PAD]       -100\n",
            "[PAD]       -100\n",
            "[PAD]       -100\n",
            "[PAD]       -100\n",
            "[PAD]       -100\n",
            "[PAD]       -100\n",
            "[PAD]       -100\n",
            "[PAD]       -100\n",
            "[PAD]       -100\n",
            "[PAD]       -100\n",
            "[PAD]       -100\n",
            "[PAD]       -100\n",
            "[PAD]       -100\n",
            "[PAD]       -100\n",
            "[PAD]       -100\n",
            "[PAD]       -100\n",
            "[PAD]       -100\n",
            "[PAD]       -100\n",
            "[PAD]       -100\n",
            "[PAD]       -100\n",
            "[PAD]       -100\n",
            "[PAD]       -100\n",
            "[PAD]       -100\n",
            "[PAD]       -100\n",
            "[PAD]       -100\n",
            "[PAD]       -100\n",
            "[PAD]       -100\n",
            "[PAD]       -100\n",
            "[PAD]       -100\n",
            "[PAD]       -100\n",
            "[PAD]       -100\n",
            "[PAD]       -100\n",
            "[PAD]       -100\n",
            "[PAD]       -100\n",
            "[PAD]       -100\n",
            "[PAD]       -100\n",
            "[PAD]       -100\n",
            "[PAD]       -100\n",
            "[PAD]       -100\n",
            "[PAD]       -100\n",
            "[PAD]       -100\n",
            "[PAD]       -100\n",
            "[PAD]       -100\n",
            "[PAD]       -100\n",
            "[PAD]       -100\n",
            "[PAD]       -100\n",
            "[PAD]       -100\n",
            "[PAD]       -100\n",
            "[PAD]       -100\n",
            "[PAD]       -100\n",
            "[PAD]       -100\n",
            "[PAD]       -100\n",
            "[PAD]       -100\n",
            "[PAD]       -100\n",
            "[PAD]       -100\n",
            "[PAD]       -100\n",
            "[PAD]       -100\n",
            "[PAD]       -100\n",
            "[PAD]       -100\n",
            "[PAD]       -100\n",
            "[PAD]       -100\n",
            "[PAD]       -100\n",
            "[PAD]       -100\n",
            "[PAD]       -100\n",
            "[PAD]       -100\n",
            "[PAD]       -100\n",
            "[PAD]       -100\n",
            "[PAD]       -100\n",
            "[PAD]       -100\n",
            "[PAD]       -100\n",
            "[PAD]       -100\n",
            "[PAD]       -100\n",
            "[PAD]       -100\n",
            "[PAD]       -100\n",
            "[PAD]       -100\n",
            "[PAD]       -100\n",
            "[PAD]       -100\n",
            "[PAD]       -100\n",
            "[PAD]       -100\n",
            "[PAD]       -100\n",
            "[PAD]       -100\n",
            "[PAD]       -100\n",
            "[PAD]       -100\n",
            "[PAD]       -100\n",
            "[PAD]       -100\n",
            "[PAD]       -100\n",
            "[PAD]       -100\n",
            "[PAD]       -100\n",
            "[PAD]       -100\n",
            "[PAD]       -100\n",
            "[PAD]       -100\n",
            "[PAD]       -100\n",
            "[PAD]       -100\n",
            "[PAD]       -100\n",
            "[PAD]       -100\n",
            "[PAD]       -100\n",
            "[PAD]       -100\n",
            "[PAD]       -100\n",
            "[PAD]       -100\n",
            "[PAD]       -100\n",
            "[PAD]       -100\n",
            "[PAD]       -100\n",
            "[PAD]       -100\n",
            "[PAD]       -100\n",
            "[PAD]       -100\n",
            "[PAD]       -100\n",
            "[PAD]       -100\n",
            "[PAD]       -100\n",
            "[PAD]       -100\n",
            "[PAD]       -100\n",
            "[PAD]       -100\n",
            "[PAD]       -100\n",
            "[PAD]       -100\n",
            "[PAD]       -100\n",
            "[PAD]       -100\n",
            "[PAD]       -100\n",
            "[PAD]       -100\n",
            "[PAD]       -100\n",
            "[PAD]       -100\n",
            "[PAD]       -100\n",
            "[PAD]       -100\n",
            "[PAD]       -100\n",
            "[PAD]       -100\n",
            "[PAD]       -100\n",
            "[PAD]       -100\n",
            "[PAD]       -100\n",
            "[PAD]       -100\n",
            "[PAD]       -100\n",
            "[PAD]       -100\n",
            "[PAD]       -100\n",
            "[PAD]       -100\n",
            "[PAD]       -100\n",
            "[PAD]       -100\n",
            "[PAD]       -100\n",
            "[PAD]       -100\n",
            "[PAD]       -100\n",
            "[PAD]       -100\n",
            "[PAD]       -100\n",
            "[PAD]       -100\n",
            "[PAD]       -100\n",
            "[PAD]       -100\n",
            "[PAD]       -100\n",
            "[PAD]       -100\n",
            "[PAD]       -100\n",
            "[PAD]       -100\n",
            "[PAD]       -100\n",
            "[PAD]       -100\n",
            "[PAD]       -100\n",
            "[PAD]       -100\n",
            "[PAD]       -100\n",
            "[PAD]       -100\n",
            "[PAD]       -100\n",
            "[PAD]       -100\n",
            "[PAD]       -100\n",
            "[PAD]       -100\n",
            "[PAD]       -100\n",
            "[PAD]       -100\n",
            "[PAD]       -100\n",
            "[PAD]       -100\n",
            "[PAD]       -100\n",
            "[PAD]       -100\n",
            "[PAD]       -100\n",
            "[PAD]       -100\n",
            "[PAD]       -100\n",
            "[PAD]       -100\n",
            "[PAD]       -100\n",
            "[PAD]       -100\n",
            "[PAD]       -100\n",
            "[PAD]       -100\n",
            "[PAD]       -100\n",
            "[PAD]       -100\n",
            "[PAD]       -100\n",
            "[PAD]       -100\n",
            "[PAD]       -100\n",
            "[PAD]       -100\n",
            "[PAD]       -100\n",
            "[PAD]       -100\n",
            "[PAD]       -100\n",
            "[PAD]       -100\n",
            "[PAD]       -100\n",
            "[PAD]       -100\n",
            "[PAD]       -100\n",
            "[PAD]       -100\n",
            "[PAD]       -100\n",
            "[PAD]       -100\n",
            "[PAD]       -100\n",
            "[PAD]       -100\n",
            "[PAD]       -100\n",
            "[PAD]       -100\n",
            "[PAD]       -100\n",
            "[PAD]       -100\n",
            "[PAD]       -100\n",
            "[PAD]       -100\n",
            "[PAD]       -100\n",
            "[PAD]       -100\n",
            "[PAD]       -100\n",
            "[PAD]       -100\n",
            "[PAD]       -100\n",
            "[PAD]       -100\n",
            "[PAD]       -100\n",
            "[PAD]       -100\n",
            "[PAD]       -100\n",
            "[PAD]       -100\n",
            "[PAD]       -100\n",
            "[PAD]       -100\n",
            "[PAD]       -100\n",
            "[PAD]       -100\n",
            "[PAD]       -100\n",
            "[PAD]       -100\n",
            "[PAD]       -100\n",
            "[PAD]       -100\n",
            "[PAD]       -100\n",
            "[PAD]       -100\n",
            "[PAD]       -100\n",
            "[PAD]       -100\n",
            "[PAD]       -100\n",
            "[PAD]       -100\n",
            "[PAD]       -100\n",
            "[PAD]       -100\n",
            "[PAD]       -100\n",
            "[PAD]       -100\n",
            "[PAD]       -100\n",
            "[PAD]       -100\n",
            "[PAD]       -100\n",
            "[PAD]       -100\n",
            "[PAD]       -100\n",
            "[PAD]       -100\n",
            "[PAD]       -100\n",
            "[PAD]       -100\n",
            "[PAD]       -100\n",
            "[PAD]       -100\n",
            "[PAD]       -100\n",
            "[PAD]       -100\n",
            "[PAD]       -100\n",
            "[PAD]       -100\n",
            "[PAD]       -100\n",
            "[PAD]       -100\n",
            "[PAD]       -100\n",
            "[PAD]       -100\n",
            "[PAD]       -100\n",
            "[PAD]       -100\n",
            "[PAD]       -100\n",
            "[PAD]       -100\n",
            "[PAD]       -100\n",
            "[PAD]       -100\n",
            "[PAD]       -100\n",
            "[PAD]       -100\n",
            "[PAD]       -100\n",
            "[PAD]       -100\n",
            "[PAD]       -100\n",
            "[PAD]       -100\n",
            "[PAD]       -100\n",
            "[PAD]       -100\n",
            "[PAD]       -100\n",
            "[PAD]       -100\n",
            "[PAD]       -100\n",
            "[PAD]       -100\n",
            "[PAD]       -100\n",
            "[PAD]       -100\n",
            "[PAD]       -100\n",
            "[PAD]       -100\n",
            "[PAD]       -100\n",
            "[PAD]       -100\n",
            "[PAD]       -100\n",
            "[PAD]       -100\n",
            "[PAD]       -100\n",
            "[PAD]       -100\n",
            "[PAD]       -100\n",
            "[PAD]       -100\n",
            "[PAD]       -100\n",
            "[PAD]       -100\n",
            "[PAD]       -100\n",
            "[PAD]       -100\n",
            "[PAD]       -100\n",
            "[PAD]       -100\n",
            "[PAD]       -100\n",
            "[PAD]       -100\n",
            "[PAD]       -100\n",
            "[PAD]       -100\n",
            "[PAD]       -100\n",
            "[PAD]       -100\n",
            "[PAD]       -100\n",
            "[PAD]       -100\n",
            "[PAD]       -100\n",
            "[PAD]       -100\n",
            "[PAD]       -100\n",
            "[PAD]       -100\n",
            "[PAD]       -100\n",
            "[PAD]       -100\n",
            "[PAD]       -100\n",
            "[PAD]       -100\n",
            "[PAD]       -100\n",
            "[PAD]       -100\n",
            "[PAD]       -100\n",
            "[PAD]       -100\n",
            "[PAD]       -100\n",
            "[PAD]       -100\n",
            "[PAD]       -100\n",
            "[PAD]       -100\n",
            "[PAD]       -100\n",
            "[PAD]       -100\n",
            "[PAD]       -100\n",
            "[PAD]       -100\n",
            "[PAD]       -100\n",
            "[PAD]       -100\n",
            "[PAD]       -100\n",
            "[PAD]       -100\n",
            "[PAD]       -100\n",
            "[PAD]       -100\n",
            "[PAD]       -100\n",
            "[PAD]       -100\n",
            "[PAD]       -100\n",
            "[PAD]       -100\n",
            "[PAD]       -100\n",
            "[PAD]       -100\n",
            "[PAD]       -100\n",
            "[PAD]       -100\n"
          ]
        }
      ],
      "source": [
        "for token, label in zip(tokenizer.convert_ids_to_tokens(training_set[3][\"input_ids\"]), training_set[3][\"labels\"]):\n",
        "  print('{0:10}  {1}'.format(token, label))"
      ]
    },
    {
      "cell_type": "code",
      "execution_count": 34,
      "metadata": {
        "id": "ntEzGdRMjVzL"
      },
      "outputs": [],
      "source": [
        "train_params = {'batch_size': TRAIN_BATCH_SIZE,\n",
        "                'shuffle': True,\n",
        "                'num_workers': 0\n",
        "                }\n",
        "\n",
        "val_params = {'batch_size': VALID_BATCH_SIZE,\n",
        "                'shuffle': True,\n",
        "                'num_workers': 0\n",
        "                }\n",
        "\n",
        "test_params = {'batch_size': TEST_BATCH_SIZE,\n",
        "                'shuffle': True,\n",
        "                'num_workers': 0\n",
        "                }\n",
        "\n",
        "\n",
        "training_loader = DataLoader(training_set, **train_params)\n",
        "val_loader = DataLoader(val_set, **val_params)\n",
        "test_loader = DataLoader(test_set, **test_params)\n"
      ]
    },
    {
      "cell_type": "code",
      "execution_count": 36,
      "metadata": {
        "colab": {
          "base_uri": "https://localhost:8080/"
        },
        "id": "oUh5g2Az5J7u",
        "outputId": "5f7689db-f46b-4090-f0b1-9b766f1b3378"
      },
      "outputs": [
        {
          "output_type": "execute_result",
          "data": {
            "text/plain": [
              "tensor(3.0790, device='cuda:0', grad_fn=<NllLossBackward0>)"
            ]
          },
          "metadata": {},
          "execution_count": 36
        }
      ],
      "source": [
        "inputs = training_set[2]\n",
        "input_ids = inputs[\"input_ids\"].unsqueeze(0)\n",
        "attention_mask = inputs[\"attention_mask\"].unsqueeze(0)\n",
        "labels = inputs[\"labels\"].unsqueeze(0)\n",
        "\n",
        "input_ids = input_ids.to(device)\n",
        "attention_mask = attention_mask.to(device)\n",
        "labels = labels.to(device)\n",
        "\n",
        "outputs = model(input_ids, attention_mask=attention_mask, labels=labels)\n",
        "initial_loss = outputs[0]\n",
        "initial_loss"
      ]
    },
    {
      "cell_type": "code",
      "execution_count": 37,
      "metadata": {
        "colab": {
          "base_uri": "https://localhost:8080/"
        },
        "id": "4-qfx9lU6JqM",
        "outputId": "16083eff-9bee-4f3f-9793-3216444c138a"
      },
      "outputs": [
        {
          "output_type": "execute_result",
          "data": {
            "text/plain": [
              "torch.Size([1, 512, 19])"
            ]
          },
          "metadata": {},
          "execution_count": 37
        }
      ],
      "source": [
        "tr_logits = outputs[1]\n",
        "tr_logits.shape"
      ]
    },
    {
      "cell_type": "code",
      "execution_count": 38,
      "metadata": {
        "id": "O4PsFZH8i837"
      },
      "outputs": [],
      "source": [
        "import torch.nn.functional as F\n",
        "\n",
        "def focal_loss(logits, labels, alpha=0.25, gamma=2.0, ignore_index=-100):\n",
        "    \"\"\"\n",
        "    logits: [batch_size, seq_len, num_labels] - model predictions\n",
        "    labels: [batch_size, seq_len] - ground truth labels\n",
        "    \"\"\"\n",
        "    # Calculate Cross Entropy Loss without reduction\n",
        "    ce_loss = F.cross_entropy(logits.view(-1, logits.size(-1)), labels.view(-1), reduction='none', ignore_index=ignore_index)\n",
        "\n",
        "    # Get the predictions\n",
        "    pred_probs = F.softmax(logits.view(-1, logits.size(-1)), dim=-1)\n",
        "    pred_class = labels.view(-1)\n",
        "\n",
        "    # focusing parameter\n",
        "    gamma = gamma\n",
        "\n",
        "    # Filter out 'ignore_index' labels\n",
        "    filtered = labels.view(-1) != ignore_index\n",
        "\n",
        "    # Calculate focal loss\n",
        "    ce_loss_filtered = ce_loss[filtered]\n",
        "    pred_probs_filtered = pred_probs[filtered]\n",
        "    pred_class_filtered = pred_class[filtered]\n",
        "\n",
        "    # Construct the loss\n",
        "    pt = pred_probs_filtered.gather(1, pred_class_filtered.unsqueeze(-1)).squeeze()\n",
        "    loss = ((1 - pt) ** gamma * ce_loss_filtered).mean()  # mean over the batch\n",
        "\n",
        "    return loss\n",
        "\n"
      ]
    },
    {
      "cell_type": "code",
      "execution_count": 39,
      "metadata": {
        "id": "CaOtXFnGQgqz"
      },
      "outputs": [],
      "source": [
        "optimizer = torch.optim.AdamW(params=model.parameters(), lr=LEARNING_RATE)"
      ]
    },
    {
      "cell_type": "code",
      "execution_count": 40,
      "metadata": {
        "id": "99XcALDnQk_K"
      },
      "outputs": [],
      "source": [
        "def train(epoch):\n",
        "    tr_loss, tr_accuracy = 0, 0\n",
        "    nb_tr_examples, nb_tr_steps = 0, 0\n",
        "    tr_preds, tr_labels = [], []\n",
        "\n",
        "    model.train()\n",
        "\n",
        "    for idx, batch in enumerate(training_loader):\n",
        "        ids = batch['input_ids'].to(device, dtype=torch.long)\n",
        "        mask = batch['attention_mask'].to(device, dtype=torch.long)\n",
        "        labels = batch['labels'].to(device, dtype=torch.long)\n",
        "    #     global_attention_mask = torch.zeros(\n",
        "    # input_ids.shape, dtype=torch.long, device=input_ids.device\n",
        "\n",
        "        # Perform a forward pass to get the logits\n",
        "        outputs = model(input_ids=ids, attention_mask=mask)\n",
        "\n",
        "        # Calculate the loss using focal_loss function directly\n",
        "        loss = focal_loss(outputs.logits, labels)  # Use the focal_loss function here directly\n",
        "\n",
        "        tr_loss += loss.item()\n",
        "        nb_tr_steps += 1\n",
        "        nb_tr_examples += labels.size(0)\n",
        "\n",
        "        if idx % 100 == 0:\n",
        "            loss_step = tr_loss / nb_tr_steps\n",
        "            print(f\"Training loss per 100 training steps: {loss_step}\")\n",
        "\n",
        "        # Decoding the logits to compute accuracy\n",
        "        active_logits = outputs.logits.view(-1, model.num_labels)\n",
        "        flattened_predictions = torch.argmax(active_logits, axis=1)\n",
        "\n",
        "        # Ignoring the predictions of the padding tokens\n",
        "        active_accuracy = labels.view(-1) != -100\n",
        "        active_labels = torch.where(active_accuracy, labels.view(-1), torch.tensor(-100).type_as(labels))\n",
        "\n",
        "        labels = torch.masked_select(active_labels, active_accuracy)\n",
        "        predictions = torch.masked_select(flattened_predictions, active_accuracy)\n",
        "\n",
        "        tr_labels.extend(labels.cpu().numpy())\n",
        "        tr_preds.extend(predictions.cpu().numpy())\n",
        "\n",
        "        tmp_tr_accuracy = accuracy_score(labels.cpu().numpy(), predictions.cpu().numpy())\n",
        "        tr_accuracy += tmp_tr_accuracy\n",
        "\n",
        "        # Gradient clipping\n",
        "        torch.nn.utils.clip_grad_norm_(parameters=model.parameters(), max_norm=MAX_GRAD_NORM)\n",
        "\n",
        "        # Backward pass and optimization\n",
        "        optimizer.zero_grad()\n",
        "        loss.backward()\n",
        "        optimizer.step()\n",
        "\n",
        "    epoch_loss = tr_loss / nb_tr_steps\n",
        "    tr_accuracy = tr_accuracy / nb_tr_steps\n",
        "    print(f\"Training loss epoch: {epoch_loss}\")\n",
        "    print(f\"Training accuracy epoch: {tr_accuracy}\")\n"
      ]
    },
    {
      "cell_type": "markdown",
      "source": [
        "## Train"
      ],
      "metadata": {
        "id": "AUrRodaYT-ZV"
      }
    },
    {
      "cell_type": "code",
      "execution_count": 41,
      "metadata": {
        "colab": {
          "base_uri": "https://localhost:8080/"
        },
        "id": "X9yYcqE5Qn62",
        "outputId": "a0160bee-a69d-4a79-b3dc-e5077ca89892"
      },
      "outputs": [
        {
          "output_type": "stream",
          "name": "stdout",
          "text": [
            "Training epoch: 1\n",
            "Training loss per 100 training steps: 2.7574527263641357\n",
            "Training loss per 100 training steps: 0.5802953314441855\n",
            "Training loss per 100 training steps: 0.4069263437040039\n",
            "Training loss per 100 training steps: 0.3151090971992484\n",
            "Training loss per 100 training steps: 0.2632187738760021\n",
            "Training loss per 100 training steps: 0.22767525625404922\n",
            "Training loss per 100 training steps: 0.20408259959248926\n",
            "Training loss per 100 training steps: 0.1875862858044206\n",
            "Training loss per 100 training steps: 0.17112036843086678\n",
            "Training loss per 100 training steps: 0.15974655264041326\n",
            "Training loss per 100 training steps: 0.14992563368150286\n",
            "Training loss per 100 training steps: 0.14109611066098485\n",
            "Training loss per 100 training steps: 0.13381413058069316\n",
            "Training loss per 100 training steps: 0.12726275831048936\n",
            "Training loss per 100 training steps: 0.1214326484019709\n",
            "Training loss per 100 training steps: 0.11663676413690295\n",
            "Training loss per 100 training steps: 0.1127649205576345\n",
            "Training loss per 100 training steps: 0.10906877297962084\n",
            "Training loss per 100 training steps: 0.10546968896126356\n",
            "Training loss per 100 training steps: 0.10194981929934124\n",
            "Training loss per 100 training steps: 0.0985066889733444\n",
            "Training loss per 100 training steps: 0.09620096608229178\n",
            "Training loss per 100 training steps: 0.09373938449549589\n",
            "Training loss per 100 training steps: 0.09142292010587855\n",
            "Training loss per 100 training steps: 0.08917339259110799\n",
            "Training loss per 100 training steps: 0.08714077271635069\n",
            "Training loss per 100 training steps: 0.08531520796535774\n",
            "Training loss per 100 training steps: 0.08337003994189411\n",
            "Training loss per 100 training steps: 0.08165172524473534\n",
            "Training loss per 100 training steps: 0.0802628026431946\n",
            "Training loss per 100 training steps: 0.07884898612003437\n",
            "Training loss per 100 training steps: 0.07744223141251937\n",
            "Training loss per 100 training steps: 0.07598268244534942\n",
            "Training loss per 100 training steps: 0.0745638745323704\n",
            "Training loss epoch: 0.07389126705363575\n",
            "Training accuracy epoch: 0.9690847789480969\n",
            "Training epoch: 2\n",
            "Training loss per 100 training steps: 0.0010683226864784956\n",
            "Training loss per 100 training steps: 0.03156897741435315\n",
            "Training loss per 100 training steps: 0.029275792362301642\n",
            "Training loss per 100 training steps: 0.02793024760388672\n",
            "Training loss per 100 training steps: 0.028232221589479238\n",
            "Training loss per 100 training steps: 0.02757759025992558\n",
            "Training loss per 100 training steps: 0.0282864580588159\n",
            "Training loss per 100 training steps: 0.027864623592193546\n",
            "Training loss per 100 training steps: 0.027264338918193767\n",
            "Training loss per 100 training steps: 0.026530864830226077\n",
            "Training loss per 100 training steps: 0.02671422123543803\n",
            "Training loss per 100 training steps: 0.026617230168167152\n",
            "Training loss per 100 training steps: 0.026760431588466853\n",
            "Training loss per 100 training steps: 0.027048076788298684\n",
            "Training loss per 100 training steps: 0.026712389356505578\n",
            "Training loss per 100 training steps: 0.02644443815898933\n",
            "Training loss per 100 training steps: 0.026254543144272547\n",
            "Training loss per 100 training steps: 0.02599701118084727\n",
            "Training loss per 100 training steps: 0.025975712063614737\n",
            "Training loss per 100 training steps: 0.02578090337231638\n",
            "Training loss per 100 training steps: 0.02600731633582723\n",
            "Training loss per 100 training steps: 0.025973322650337468\n",
            "Training loss per 100 training steps: 0.025811207584124248\n",
            "Training loss per 100 training steps: 0.02563360975384523\n",
            "Training loss per 100 training steps: 0.02553823475920027\n",
            "Training loss per 100 training steps: 0.02575037933204104\n",
            "Training loss per 100 training steps: 0.02584027514295604\n",
            "Training loss per 100 training steps: 0.025797609807723207\n",
            "Training loss per 100 training steps: 0.025989412768424584\n",
            "Training loss per 100 training steps: 0.025828193280520727\n",
            "Training loss per 100 training steps: 0.025756148752943592\n",
            "Training loss per 100 training steps: 0.025743246805676953\n",
            "Training loss per 100 training steps: 0.025729514173008214\n",
            "Training loss per 100 training steps: 0.025601910156267053\n",
            "Training loss epoch: 0.025543783272043933\n",
            "Training accuracy epoch: 0.9822881974123514\n",
            "Training epoch: 3\n",
            "Training loss per 100 training steps: 0.004570869728922844\n",
            "Training loss per 100 training steps: 0.018415932946274804\n",
            "Training loss per 100 training steps: 0.01721941633649525\n",
            "Training loss per 100 training steps: 0.017350490792940466\n",
            "Training loss per 100 training steps: 0.017196543278786114\n",
            "Training loss per 100 training steps: 0.017692127303953767\n",
            "Training loss per 100 training steps: 0.017295308796810682\n",
            "Training loss per 100 training steps: 0.017210123098744944\n",
            "Training loss per 100 training steps: 0.017746897470745995\n",
            "Training loss per 100 training steps: 0.017670396017085303\n",
            "Training loss per 100 training steps: 0.017493712338487843\n",
            "Training loss per 100 training steps: 0.01736978437742772\n",
            "Training loss per 100 training steps: 0.017690369360244828\n",
            "Training loss per 100 training steps: 0.017548216768897007\n",
            "Training loss per 100 training steps: 0.017763072894112344\n",
            "Training loss per 100 training steps: 0.017485679377561493\n",
            "Training loss per 100 training steps: 0.017467312652115652\n",
            "Training loss per 100 training steps: 0.017264534643686935\n",
            "Training loss per 100 training steps: 0.01707678863198203\n",
            "Training loss per 100 training steps: 0.017065856849707503\n",
            "Training loss per 100 training steps: 0.016984681406787862\n",
            "Training loss per 100 training steps: 0.017063044090948335\n",
            "Training loss per 100 training steps: 0.01696111051591898\n",
            "Training loss per 100 training steps: 0.016936934318311826\n",
            "Training loss per 100 training steps: 0.017083788371767914\n",
            "Training loss per 100 training steps: 0.017206192459332748\n",
            "Training loss per 100 training steps: 0.017121093548753696\n",
            "Training loss per 100 training steps: 0.01718974568180088\n",
            "Training loss per 100 training steps: 0.017378696149169304\n",
            "Training loss per 100 training steps: 0.01753982595350955\n",
            "Training loss per 100 training steps: 0.017547870996639018\n",
            "Training loss per 100 training steps: 0.01753566033037392\n",
            "Training loss per 100 training steps: 0.017370862940488913\n",
            "Training loss per 100 training steps: 0.017393499042429136\n",
            "Training loss epoch: 0.01739425616964031\n",
            "Training accuracy epoch: 0.9858355371197268\n"
          ]
        }
      ],
      "source": [
        "for epoch in range(EPOCHS):\n",
        "    print(f\"Training epoch: {epoch + 1}\")\n",
        "    train(epoch)"
      ]
    },
    {
      "cell_type": "markdown",
      "source": [
        "## Validate"
      ],
      "metadata": {
        "id": "7Xi8xRIpT_9n"
      }
    },
    {
      "cell_type": "code",
      "execution_count": 42,
      "metadata": {
        "id": "PiUuvNdBldmT"
      },
      "outputs": [],
      "source": [
        "def valid(model, testing_loader):\n",
        "    model.eval()\n",
        "    eval_loss, eval_accuracy = 0, 0\n",
        "\n",
        "    nb_eval_examples, nb_eval_steps = 0, 0\n",
        "    eval_preds, eval_labels, indices = [], [], []\n",
        "\n",
        "    with torch.no_grad():\n",
        "        for idx, batch in enumerate(testing_loader):\n",
        "            ids = batch['input_ids'].to(device, dtype=torch.long)\n",
        "            mask = batch['attention_mask'].to(device, dtype=torch.long)\n",
        "            labels = batch['labels'].to(device, dtype=torch.long)\n",
        "            # indices_list = batch[idx]\n",
        "\n",
        "            outputs = model(input_ids=ids, attention_mask=mask)\n",
        "            loss = focal_loss(outputs.logits, labels)  # Use the same focal_loss function\n",
        "\n",
        "            eval_loss += loss.item()\n",
        "            nb_eval_steps += 1\n",
        "            nb_eval_examples += labels.size(0)\n",
        "\n",
        "            if idx % 100 == 0:\n",
        "                loss_step = eval_loss / nb_eval_steps\n",
        "                print(f\"Validation loss per 100 evaluation steps: {loss_step}\")\n",
        "\n",
        "            # Decoding the logits to compute accuracy\n",
        "            active_logits = outputs.logits.view(-1, model.num_labels)\n",
        "            flattened_predictions = torch.argmax(active_logits, axis=1)\n",
        "\n",
        "            # Ignoring the predictions of the padding tokens\n",
        "            active_accuracy = labels.view(-1) != -100\n",
        "            active_labels = torch.where(active_accuracy, labels.view(-1), torch.tensor(-100).type_as(labels))\n",
        "\n",
        "            labels = torch.masked_select(active_labels, active_accuracy)\n",
        "            predictions = torch.masked_select(flattened_predictions, active_accuracy)\n",
        "\n",
        "            eval_labels.extend(labels.cpu().numpy())\n",
        "            eval_preds.extend(predictions.cpu().numpy())\n",
        "\n",
        "            tmp_eval_accuracy = accuracy_score(labels.cpu().numpy(), predictions.cpu().numpy())\n",
        "            eval_accuracy += tmp_eval_accuracy\n",
        "\n",
        "            indices.extend(batch['index'].tolist())\n",
        "\n",
        "\n",
        "\n",
        "    labels = [ids_to_labels[id.item()] for id in eval_labels]\n",
        "    predictions = [ids_to_labels[id.item()] for id in eval_preds]\n",
        "\n",
        "    eval_loss = eval_loss / nb_eval_steps\n",
        "    eval_accuracy = eval_accuracy / nb_eval_steps\n",
        "    print(f\"Validation Loss: {eval_loss}\")\n",
        "    print(f\"Validation Accuracy: {eval_accuracy}\")\n",
        "\n",
        "    return indices,labels, predictions\n",
        "\n"
      ]
    },
    {
      "cell_type": "code",
      "execution_count": 43,
      "metadata": {
        "colab": {
          "base_uri": "https://localhost:8080/"
        },
        "id": "Gs3qABW2_Z-V",
        "outputId": "8e9228e4-334f-4928-c61c-c4f9bc41d2e9"
      },
      "outputs": [
        {
          "output_type": "stream",
          "name": "stdout",
          "text": [
            "Validation loss per 100 evaluation steps: 0.008838528767228127\n",
            "Validation loss per 100 evaluation steps: 0.030501436968707184\n",
            "Validation loss per 100 evaluation steps: 0.03166459382074792\n",
            "Validation loss per 100 evaluation steps: 0.03030670038333332\n",
            "Validation loss per 100 evaluation steps: 0.031043381571355003\n",
            "Validation loss per 100 evaluation steps: 0.03252436430024292\n",
            "Validation loss per 100 evaluation steps: 0.03245420324389236\n",
            "Validation loss per 100 evaluation steps: 0.03226016557406876\n",
            "Validation loss per 100 evaluation steps: 0.03299174324748809\n",
            "Validation loss per 100 evaluation steps: 0.03214605947634137\n",
            "Validation loss per 100 evaluation steps: 0.03280890245574968\n",
            "Validation loss per 100 evaluation steps: 0.03247020354457121\n",
            "Validation loss per 100 evaluation steps: 0.03249185332263836\n",
            "Validation loss per 100 evaluation steps: 0.03275368067879558\n",
            "Validation loss per 100 evaluation steps: 0.03287561882657808\n",
            "Validation loss per 100 evaluation steps: 0.03216793327669484\n",
            "Validation loss per 100 evaluation steps: 0.03187349748103981\n",
            "Validation Loss: 0.03259949942948684\n",
            "Validation Accuracy: 0.9770908318557586\n"
          ]
        }
      ],
      "source": [
        "indices, labels, predictions = valid(model, val_loader)"
      ]
    },
    {
      "cell_type": "code",
      "execution_count": 44,
      "metadata": {
        "colab": {
          "base_uri": "https://localhost:8080/"
        },
        "id": "aIcbSKb79_2B",
        "outputId": "3d0e1d25-a639-4c64-8334-b0ab4fa7ec94"
      },
      "outputs": [
        {
          "output_type": "stream",
          "name": "stdout",
          "text": [
            "              precision    recall  f1-score   support\n",
            "\n",
            "         ADE       0.38      0.37      0.37       165\n",
            "      Dosage       0.84      0.89      0.87       782\n",
            "        Drug       0.86      0.92      0.89      3216\n",
            "    Duration       0.56      0.71      0.62       120\n",
            "        Form       0.91      0.88      0.90      1269\n",
            "   Frequency       0.77      0.83      0.80      1269\n",
            "      Reason       0.46      0.68      0.55       698\n",
            "       Route       0.91      0.92      0.92      1143\n",
            "    Strength       0.93      0.93      0.93      1341\n",
            "\n",
            "   micro avg       0.82      0.87      0.84     10003\n",
            "   macro avg       0.74      0.79      0.76     10003\n",
            "weighted avg       0.83      0.87      0.85     10003\n",
            "\n"
          ]
        }
      ],
      "source": [
        "from seqeval.metrics import classification_report\n",
        "\n",
        "print(classification_report([labels], [predictions]))"
      ]
    },
    {
      "cell_type": "markdown",
      "source": [
        "## Evaluation\n",
        "\n",
        " - convert val set back to word level"
      ],
      "metadata": {
        "id": "4RpW3JcJ1Kap"
      }
    },
    {
      "cell_type": "code",
      "source": [
        "val_dataset['label_count'] = val_dataset['labels'].str.split(',').apply(len)\n",
        "\n",
        "def split_predictions(test_predictions, label_count):\n",
        "    split_predictions = []\n",
        "    start_idx = 0\n",
        "    for count in label_count:\n",
        "        end_idx = start_idx + count\n",
        "        split_predictions.append(test_predictions[start_idx:end_idx])\n",
        "        start_idx = end_idx\n",
        "    return split_predictions\n",
        "\n",
        "broken_up_val_preds = split_predictions(predictions, val_dataset['label_count'])\n",
        "\n",
        "val_dataset['predictions'] = broken_up_val_preds"
      ],
      "metadata": {
        "id": "dThiB8MpGw_v"
      },
      "execution_count": 45,
      "outputs": []
    },
    {
      "cell_type": "code",
      "source": [
        "# indices"
      ],
      "metadata": {
        "id": "2728m67JeH2P"
      },
      "execution_count": 46,
      "outputs": []
    },
    {
      "cell_type": "code",
      "source": [
        "val_dataset['preds_idx'] = indices\n",
        "val_dataset.to_csv('/content/drive/MyDrive/266_final/bertbasecase_validation_df.csv')"
      ],
      "metadata": {
        "id": "niR8z1lOjGeO"
      },
      "execution_count": 50,
      "outputs": []
    },
    {
      "cell_type": "code",
      "source": [
        "val_dataset.head()\n"
      ],
      "metadata": {
        "id": "NijTqSKbjw_Z"
      },
      "execution_count": null,
      "outputs": []
    },
    {
      "cell_type": "markdown",
      "source": [
        "### Test Set"
      ],
      "metadata": {
        "id": "-r3I62WQTlJG"
      }
    },
    {
      "cell_type": "code",
      "source": [
        "test_indices, test_labels, test_predictions = valid(model, test_loader)"
      ],
      "metadata": {
        "colab": {
          "base_uri": "https://localhost:8080/"
        },
        "id": "INLdCF2yhcUg",
        "outputId": "0e7cbd17-abd5-4f1f-a3ff-9ac1a9f8fbf0"
      },
      "execution_count": 47,
      "outputs": [
        {
          "output_type": "stream",
          "name": "stdout",
          "text": [
            "Validation loss per 100 evaluation steps: 0.033017177134752274\n",
            "Validation loss per 100 evaluation steps: 0.02767990004400363\n",
            "Validation loss per 100 evaluation steps: 0.028100907274368984\n",
            "Validation loss per 100 evaluation steps: 0.02900631089178084\n",
            "Validation Loss: 0.02930186528653803\n",
            "Validation Accuracy: 0.9793069561968034\n"
          ]
        }
      ]
    },
    {
      "cell_type": "code",
      "source": [
        "from seqeval.metrics import classification_report\n",
        "\n",
        "print(classification_report([test_labels], [test_predictions]))"
      ],
      "metadata": {
        "colab": {
          "base_uri": "https://localhost:8080/"
        },
        "id": "4kgpCwberb1-",
        "outputId": "2f3b22d8-3027-4d98-e890-00130eb8018f"
      },
      "execution_count": 48,
      "outputs": [
        {
          "output_type": "stream",
          "name": "stdout",
          "text": [
            "              precision    recall  f1-score   support\n",
            "\n",
            "         ADE       0.45      0.39      0.42       634\n",
            "      Dosage       0.87      0.91      0.89      2704\n",
            "        Drug       0.88      0.94      0.91     10594\n",
            "    Duration       0.55      0.68      0.61       385\n",
            "        Form       0.94      0.91      0.92      4373\n",
            "   Frequency       0.78      0.82      0.80      4149\n",
            "      Reason       0.47      0.64      0.54      2559\n",
            "       Route       0.94      0.94      0.94      3513\n",
            "    Strength       0.94      0.96      0.95      4237\n",
            "\n",
            "   micro avg       0.84      0.88      0.86     33148\n",
            "   macro avg       0.76      0.80      0.78     33148\n",
            "weighted avg       0.85      0.88      0.86     33148\n",
            "\n"
          ]
        }
      ]
    },
    {
      "cell_type": "markdown",
      "metadata": {
        "id": "ccgbCa8siNo7"
      },
      "source": [
        "### Save"
      ]
    },
    {
      "cell_type": "code",
      "execution_count": 60,
      "metadata": {
        "id": "l4564VeJwyoj",
        "colab": {
          "base_uri": "https://localhost:8080/"
        },
        "outputId": "f394540b-3d49-493f-d518-e192b69e66ef"
      },
      "outputs": [
        {
          "output_type": "execute_result",
          "data": {
            "text/plain": [
              "('/content/drive/MyDrive/266_final/bertbasecase_final/vocab.txt',)"
            ]
          },
          "metadata": {},
          "execution_count": 60
        }
      ],
      "source": [
        "import os\n",
        "\n",
        "# directory = \"/content/drive/MyDrive/266_final/bertbasecase_final\"\n",
        "# tokenizer.save_vocabulary(\"/content/drive/MyDrive/266_final/bertbasecase_final\")\n",
        "# model.save_pretrained(directory, safe_serialization=False)"
      ]
    },
    {
      "cell_type": "markdown",
      "metadata": {
        "id": "bDOInmcW3qwe"
      },
      "source": [
        "Resources\n",
        "\n",
        "### https://github.com/lcampillos/Medical-NER/blob/master/bert_ner.ipynb\n",
        "### https://medium.com/analytics-vidhya/bio-tagged-text-to-original-text-99b05da6664"
      ]
    }
  ],
  "metadata": {
    "accelerator": "GPU",
    "colab": {
      "gpuType": "V100",
      "machine_shape": "hm",
      "provenance": []
    },
    "kernelspec": {
      "display_name": "Python 3",
      "name": "python3"
    },
    "language_info": {
      "name": "python"
    },
    "widgets": {
      "application/vnd.jupyter.widget-state+json": {
        "1bd0fe1b41534aae85c283dd7b72ba61": {
          "model_module": "@jupyter-widgets/controls",
          "model_name": "HBoxModel",
          "model_module_version": "1.5.0",
          "state": {
            "_dom_classes": [],
            "_model_module": "@jupyter-widgets/controls",
            "_model_module_version": "1.5.0",
            "_model_name": "HBoxModel",
            "_view_count": null,
            "_view_module": "@jupyter-widgets/controls",
            "_view_module_version": "1.5.0",
            "_view_name": "HBoxView",
            "box_style": "",
            "children": [
              "IPY_MODEL_8e13ac85e2bf4c35bd2d06b6b6e36882",
              "IPY_MODEL_0a197acf7c6b49b6ae61678e3178dc38",
              "IPY_MODEL_b7493d78b9af4eebaacf080d0f73f4c2"
            ],
            "layout": "IPY_MODEL_b044fa2298ec4734b49d1058421a2514"
          }
        },
        "8e13ac85e2bf4c35bd2d06b6b6e36882": {
          "model_module": "@jupyter-widgets/controls",
          "model_name": "HTMLModel",
          "model_module_version": "1.5.0",
          "state": {
            "_dom_classes": [],
            "_model_module": "@jupyter-widgets/controls",
            "_model_module_version": "1.5.0",
            "_model_name": "HTMLModel",
            "_view_count": null,
            "_view_module": "@jupyter-widgets/controls",
            "_view_module_version": "1.5.0",
            "_view_name": "HTMLView",
            "description": "",
            "description_tooltip": null,
            "layout": "IPY_MODEL_281d47253077432690a9d68fe70073fe",
            "placeholder": "​",
            "style": "IPY_MODEL_2272cd8d97ec48808887772e467c4e21",
            "value": "tokenizer_config.json: 100%"
          }
        },
        "0a197acf7c6b49b6ae61678e3178dc38": {
          "model_module": "@jupyter-widgets/controls",
          "model_name": "FloatProgressModel",
          "model_module_version": "1.5.0",
          "state": {
            "_dom_classes": [],
            "_model_module": "@jupyter-widgets/controls",
            "_model_module_version": "1.5.0",
            "_model_name": "FloatProgressModel",
            "_view_count": null,
            "_view_module": "@jupyter-widgets/controls",
            "_view_module_version": "1.5.0",
            "_view_name": "ProgressView",
            "bar_style": "success",
            "description": "",
            "description_tooltip": null,
            "layout": "IPY_MODEL_561f82e8f84e4238b408445417bae94e",
            "max": 49,
            "min": 0,
            "orientation": "horizontal",
            "style": "IPY_MODEL_abe6e034bc084946bd7f4a7ed0214afd",
            "value": 49
          }
        },
        "b7493d78b9af4eebaacf080d0f73f4c2": {
          "model_module": "@jupyter-widgets/controls",
          "model_name": "HTMLModel",
          "model_module_version": "1.5.0",
          "state": {
            "_dom_classes": [],
            "_model_module": "@jupyter-widgets/controls",
            "_model_module_version": "1.5.0",
            "_model_name": "HTMLModel",
            "_view_count": null,
            "_view_module": "@jupyter-widgets/controls",
            "_view_module_version": "1.5.0",
            "_view_name": "HTMLView",
            "description": "",
            "description_tooltip": null,
            "layout": "IPY_MODEL_de2d00d5784a4a1ab35621b5d445502b",
            "placeholder": "​",
            "style": "IPY_MODEL_dc3ce3c8b0fb4e979025b3a63c59dc99",
            "value": " 49.0/49.0 [00:00&lt;00:00, 3.59kB/s]"
          }
        },
        "b044fa2298ec4734b49d1058421a2514": {
          "model_module": "@jupyter-widgets/base",
          "model_name": "LayoutModel",
          "model_module_version": "1.2.0",
          "state": {
            "_model_module": "@jupyter-widgets/base",
            "_model_module_version": "1.2.0",
            "_model_name": "LayoutModel",
            "_view_count": null,
            "_view_module": "@jupyter-widgets/base",
            "_view_module_version": "1.2.0",
            "_view_name": "LayoutView",
            "align_content": null,
            "align_items": null,
            "align_self": null,
            "border": null,
            "bottom": null,
            "display": null,
            "flex": null,
            "flex_flow": null,
            "grid_area": null,
            "grid_auto_columns": null,
            "grid_auto_flow": null,
            "grid_auto_rows": null,
            "grid_column": null,
            "grid_gap": null,
            "grid_row": null,
            "grid_template_areas": null,
            "grid_template_columns": null,
            "grid_template_rows": null,
            "height": null,
            "justify_content": null,
            "justify_items": null,
            "left": null,
            "margin": null,
            "max_height": null,
            "max_width": null,
            "min_height": null,
            "min_width": null,
            "object_fit": null,
            "object_position": null,
            "order": null,
            "overflow": null,
            "overflow_x": null,
            "overflow_y": null,
            "padding": null,
            "right": null,
            "top": null,
            "visibility": null,
            "width": null
          }
        },
        "281d47253077432690a9d68fe70073fe": {
          "model_module": "@jupyter-widgets/base",
          "model_name": "LayoutModel",
          "model_module_version": "1.2.0",
          "state": {
            "_model_module": "@jupyter-widgets/base",
            "_model_module_version": "1.2.0",
            "_model_name": "LayoutModel",
            "_view_count": null,
            "_view_module": "@jupyter-widgets/base",
            "_view_module_version": "1.2.0",
            "_view_name": "LayoutView",
            "align_content": null,
            "align_items": null,
            "align_self": null,
            "border": null,
            "bottom": null,
            "display": null,
            "flex": null,
            "flex_flow": null,
            "grid_area": null,
            "grid_auto_columns": null,
            "grid_auto_flow": null,
            "grid_auto_rows": null,
            "grid_column": null,
            "grid_gap": null,
            "grid_row": null,
            "grid_template_areas": null,
            "grid_template_columns": null,
            "grid_template_rows": null,
            "height": null,
            "justify_content": null,
            "justify_items": null,
            "left": null,
            "margin": null,
            "max_height": null,
            "max_width": null,
            "min_height": null,
            "min_width": null,
            "object_fit": null,
            "object_position": null,
            "order": null,
            "overflow": null,
            "overflow_x": null,
            "overflow_y": null,
            "padding": null,
            "right": null,
            "top": null,
            "visibility": null,
            "width": null
          }
        },
        "2272cd8d97ec48808887772e467c4e21": {
          "model_module": "@jupyter-widgets/controls",
          "model_name": "DescriptionStyleModel",
          "model_module_version": "1.5.0",
          "state": {
            "_model_module": "@jupyter-widgets/controls",
            "_model_module_version": "1.5.0",
            "_model_name": "DescriptionStyleModel",
            "_view_count": null,
            "_view_module": "@jupyter-widgets/base",
            "_view_module_version": "1.2.0",
            "_view_name": "StyleView",
            "description_width": ""
          }
        },
        "561f82e8f84e4238b408445417bae94e": {
          "model_module": "@jupyter-widgets/base",
          "model_name": "LayoutModel",
          "model_module_version": "1.2.0",
          "state": {
            "_model_module": "@jupyter-widgets/base",
            "_model_module_version": "1.2.0",
            "_model_name": "LayoutModel",
            "_view_count": null,
            "_view_module": "@jupyter-widgets/base",
            "_view_module_version": "1.2.0",
            "_view_name": "LayoutView",
            "align_content": null,
            "align_items": null,
            "align_self": null,
            "border": null,
            "bottom": null,
            "display": null,
            "flex": null,
            "flex_flow": null,
            "grid_area": null,
            "grid_auto_columns": null,
            "grid_auto_flow": null,
            "grid_auto_rows": null,
            "grid_column": null,
            "grid_gap": null,
            "grid_row": null,
            "grid_template_areas": null,
            "grid_template_columns": null,
            "grid_template_rows": null,
            "height": null,
            "justify_content": null,
            "justify_items": null,
            "left": null,
            "margin": null,
            "max_height": null,
            "max_width": null,
            "min_height": null,
            "min_width": null,
            "object_fit": null,
            "object_position": null,
            "order": null,
            "overflow": null,
            "overflow_x": null,
            "overflow_y": null,
            "padding": null,
            "right": null,
            "top": null,
            "visibility": null,
            "width": null
          }
        },
        "abe6e034bc084946bd7f4a7ed0214afd": {
          "model_module": "@jupyter-widgets/controls",
          "model_name": "ProgressStyleModel",
          "model_module_version": "1.5.0",
          "state": {
            "_model_module": "@jupyter-widgets/controls",
            "_model_module_version": "1.5.0",
            "_model_name": "ProgressStyleModel",
            "_view_count": null,
            "_view_module": "@jupyter-widgets/base",
            "_view_module_version": "1.2.0",
            "_view_name": "StyleView",
            "bar_color": null,
            "description_width": ""
          }
        },
        "de2d00d5784a4a1ab35621b5d445502b": {
          "model_module": "@jupyter-widgets/base",
          "model_name": "LayoutModel",
          "model_module_version": "1.2.0",
          "state": {
            "_model_module": "@jupyter-widgets/base",
            "_model_module_version": "1.2.0",
            "_model_name": "LayoutModel",
            "_view_count": null,
            "_view_module": "@jupyter-widgets/base",
            "_view_module_version": "1.2.0",
            "_view_name": "LayoutView",
            "align_content": null,
            "align_items": null,
            "align_self": null,
            "border": null,
            "bottom": null,
            "display": null,
            "flex": null,
            "flex_flow": null,
            "grid_area": null,
            "grid_auto_columns": null,
            "grid_auto_flow": null,
            "grid_auto_rows": null,
            "grid_column": null,
            "grid_gap": null,
            "grid_row": null,
            "grid_template_areas": null,
            "grid_template_columns": null,
            "grid_template_rows": null,
            "height": null,
            "justify_content": null,
            "justify_items": null,
            "left": null,
            "margin": null,
            "max_height": null,
            "max_width": null,
            "min_height": null,
            "min_width": null,
            "object_fit": null,
            "object_position": null,
            "order": null,
            "overflow": null,
            "overflow_x": null,
            "overflow_y": null,
            "padding": null,
            "right": null,
            "top": null,
            "visibility": null,
            "width": null
          }
        },
        "dc3ce3c8b0fb4e979025b3a63c59dc99": {
          "model_module": "@jupyter-widgets/controls",
          "model_name": "DescriptionStyleModel",
          "model_module_version": "1.5.0",
          "state": {
            "_model_module": "@jupyter-widgets/controls",
            "_model_module_version": "1.5.0",
            "_model_name": "DescriptionStyleModel",
            "_view_count": null,
            "_view_module": "@jupyter-widgets/base",
            "_view_module_version": "1.2.0",
            "_view_name": "StyleView",
            "description_width": ""
          }
        },
        "eecd7e9f02dd41aea5e6fc86ef774a8a": {
          "model_module": "@jupyter-widgets/controls",
          "model_name": "HBoxModel",
          "model_module_version": "1.5.0",
          "state": {
            "_dom_classes": [],
            "_model_module": "@jupyter-widgets/controls",
            "_model_module_version": "1.5.0",
            "_model_name": "HBoxModel",
            "_view_count": null,
            "_view_module": "@jupyter-widgets/controls",
            "_view_module_version": "1.5.0",
            "_view_name": "HBoxView",
            "box_style": "",
            "children": [
              "IPY_MODEL_032f95db99d34259b2ba8ba6bb387f0f",
              "IPY_MODEL_d77cd8de552947d2aeacf2929dc212f1",
              "IPY_MODEL_46a0c2d5b7084b28a0ded242f0b5a85b"
            ],
            "layout": "IPY_MODEL_8b773a37f8e54a3a9e046d93c053a9a9"
          }
        },
        "032f95db99d34259b2ba8ba6bb387f0f": {
          "model_module": "@jupyter-widgets/controls",
          "model_name": "HTMLModel",
          "model_module_version": "1.5.0",
          "state": {
            "_dom_classes": [],
            "_model_module": "@jupyter-widgets/controls",
            "_model_module_version": "1.5.0",
            "_model_name": "HTMLModel",
            "_view_count": null,
            "_view_module": "@jupyter-widgets/controls",
            "_view_module_version": "1.5.0",
            "_view_name": "HTMLView",
            "description": "",
            "description_tooltip": null,
            "layout": "IPY_MODEL_75b1c432d5b8430cafcaba4b44b15dd9",
            "placeholder": "​",
            "style": "IPY_MODEL_5f32e178b0004cb9b62fefc912b85c4f",
            "value": "vocab.txt: 100%"
          }
        },
        "d77cd8de552947d2aeacf2929dc212f1": {
          "model_module": "@jupyter-widgets/controls",
          "model_name": "FloatProgressModel",
          "model_module_version": "1.5.0",
          "state": {
            "_dom_classes": [],
            "_model_module": "@jupyter-widgets/controls",
            "_model_module_version": "1.5.0",
            "_model_name": "FloatProgressModel",
            "_view_count": null,
            "_view_module": "@jupyter-widgets/controls",
            "_view_module_version": "1.5.0",
            "_view_name": "ProgressView",
            "bar_style": "success",
            "description": "",
            "description_tooltip": null,
            "layout": "IPY_MODEL_71b20e7a13734b76a5f0133162f951e6",
            "max": 213450,
            "min": 0,
            "orientation": "horizontal",
            "style": "IPY_MODEL_1089cf1200444094a49870654e9a74d6",
            "value": 213450
          }
        },
        "46a0c2d5b7084b28a0ded242f0b5a85b": {
          "model_module": "@jupyter-widgets/controls",
          "model_name": "HTMLModel",
          "model_module_version": "1.5.0",
          "state": {
            "_dom_classes": [],
            "_model_module": "@jupyter-widgets/controls",
            "_model_module_version": "1.5.0",
            "_model_name": "HTMLModel",
            "_view_count": null,
            "_view_module": "@jupyter-widgets/controls",
            "_view_module_version": "1.5.0",
            "_view_name": "HTMLView",
            "description": "",
            "description_tooltip": null,
            "layout": "IPY_MODEL_0728c6ee2cb042a985e2dda5e8f59dc9",
            "placeholder": "​",
            "style": "IPY_MODEL_2af06f171d4142ecbb6786d594f66212",
            "value": " 213k/213k [00:00&lt;00:00, 9.12MB/s]"
          }
        },
        "8b773a37f8e54a3a9e046d93c053a9a9": {
          "model_module": "@jupyter-widgets/base",
          "model_name": "LayoutModel",
          "model_module_version": "1.2.0",
          "state": {
            "_model_module": "@jupyter-widgets/base",
            "_model_module_version": "1.2.0",
            "_model_name": "LayoutModel",
            "_view_count": null,
            "_view_module": "@jupyter-widgets/base",
            "_view_module_version": "1.2.0",
            "_view_name": "LayoutView",
            "align_content": null,
            "align_items": null,
            "align_self": null,
            "border": null,
            "bottom": null,
            "display": null,
            "flex": null,
            "flex_flow": null,
            "grid_area": null,
            "grid_auto_columns": null,
            "grid_auto_flow": null,
            "grid_auto_rows": null,
            "grid_column": null,
            "grid_gap": null,
            "grid_row": null,
            "grid_template_areas": null,
            "grid_template_columns": null,
            "grid_template_rows": null,
            "height": null,
            "justify_content": null,
            "justify_items": null,
            "left": null,
            "margin": null,
            "max_height": null,
            "max_width": null,
            "min_height": null,
            "min_width": null,
            "object_fit": null,
            "object_position": null,
            "order": null,
            "overflow": null,
            "overflow_x": null,
            "overflow_y": null,
            "padding": null,
            "right": null,
            "top": null,
            "visibility": null,
            "width": null
          }
        },
        "75b1c432d5b8430cafcaba4b44b15dd9": {
          "model_module": "@jupyter-widgets/base",
          "model_name": "LayoutModel",
          "model_module_version": "1.2.0",
          "state": {
            "_model_module": "@jupyter-widgets/base",
            "_model_module_version": "1.2.0",
            "_model_name": "LayoutModel",
            "_view_count": null,
            "_view_module": "@jupyter-widgets/base",
            "_view_module_version": "1.2.0",
            "_view_name": "LayoutView",
            "align_content": null,
            "align_items": null,
            "align_self": null,
            "border": null,
            "bottom": null,
            "display": null,
            "flex": null,
            "flex_flow": null,
            "grid_area": null,
            "grid_auto_columns": null,
            "grid_auto_flow": null,
            "grid_auto_rows": null,
            "grid_column": null,
            "grid_gap": null,
            "grid_row": null,
            "grid_template_areas": null,
            "grid_template_columns": null,
            "grid_template_rows": null,
            "height": null,
            "justify_content": null,
            "justify_items": null,
            "left": null,
            "margin": null,
            "max_height": null,
            "max_width": null,
            "min_height": null,
            "min_width": null,
            "object_fit": null,
            "object_position": null,
            "order": null,
            "overflow": null,
            "overflow_x": null,
            "overflow_y": null,
            "padding": null,
            "right": null,
            "top": null,
            "visibility": null,
            "width": null
          }
        },
        "5f32e178b0004cb9b62fefc912b85c4f": {
          "model_module": "@jupyter-widgets/controls",
          "model_name": "DescriptionStyleModel",
          "model_module_version": "1.5.0",
          "state": {
            "_model_module": "@jupyter-widgets/controls",
            "_model_module_version": "1.5.0",
            "_model_name": "DescriptionStyleModel",
            "_view_count": null,
            "_view_module": "@jupyter-widgets/base",
            "_view_module_version": "1.2.0",
            "_view_name": "StyleView",
            "description_width": ""
          }
        },
        "71b20e7a13734b76a5f0133162f951e6": {
          "model_module": "@jupyter-widgets/base",
          "model_name": "LayoutModel",
          "model_module_version": "1.2.0",
          "state": {
            "_model_module": "@jupyter-widgets/base",
            "_model_module_version": "1.2.0",
            "_model_name": "LayoutModel",
            "_view_count": null,
            "_view_module": "@jupyter-widgets/base",
            "_view_module_version": "1.2.0",
            "_view_name": "LayoutView",
            "align_content": null,
            "align_items": null,
            "align_self": null,
            "border": null,
            "bottom": null,
            "display": null,
            "flex": null,
            "flex_flow": null,
            "grid_area": null,
            "grid_auto_columns": null,
            "grid_auto_flow": null,
            "grid_auto_rows": null,
            "grid_column": null,
            "grid_gap": null,
            "grid_row": null,
            "grid_template_areas": null,
            "grid_template_columns": null,
            "grid_template_rows": null,
            "height": null,
            "justify_content": null,
            "justify_items": null,
            "left": null,
            "margin": null,
            "max_height": null,
            "max_width": null,
            "min_height": null,
            "min_width": null,
            "object_fit": null,
            "object_position": null,
            "order": null,
            "overflow": null,
            "overflow_x": null,
            "overflow_y": null,
            "padding": null,
            "right": null,
            "top": null,
            "visibility": null,
            "width": null
          }
        },
        "1089cf1200444094a49870654e9a74d6": {
          "model_module": "@jupyter-widgets/controls",
          "model_name": "ProgressStyleModel",
          "model_module_version": "1.5.0",
          "state": {
            "_model_module": "@jupyter-widgets/controls",
            "_model_module_version": "1.5.0",
            "_model_name": "ProgressStyleModel",
            "_view_count": null,
            "_view_module": "@jupyter-widgets/base",
            "_view_module_version": "1.2.0",
            "_view_name": "StyleView",
            "bar_color": null,
            "description_width": ""
          }
        },
        "0728c6ee2cb042a985e2dda5e8f59dc9": {
          "model_module": "@jupyter-widgets/base",
          "model_name": "LayoutModel",
          "model_module_version": "1.2.0",
          "state": {
            "_model_module": "@jupyter-widgets/base",
            "_model_module_version": "1.2.0",
            "_model_name": "LayoutModel",
            "_view_count": null,
            "_view_module": "@jupyter-widgets/base",
            "_view_module_version": "1.2.0",
            "_view_name": "LayoutView",
            "align_content": null,
            "align_items": null,
            "align_self": null,
            "border": null,
            "bottom": null,
            "display": null,
            "flex": null,
            "flex_flow": null,
            "grid_area": null,
            "grid_auto_columns": null,
            "grid_auto_flow": null,
            "grid_auto_rows": null,
            "grid_column": null,
            "grid_gap": null,
            "grid_row": null,
            "grid_template_areas": null,
            "grid_template_columns": null,
            "grid_template_rows": null,
            "height": null,
            "justify_content": null,
            "justify_items": null,
            "left": null,
            "margin": null,
            "max_height": null,
            "max_width": null,
            "min_height": null,
            "min_width": null,
            "object_fit": null,
            "object_position": null,
            "order": null,
            "overflow": null,
            "overflow_x": null,
            "overflow_y": null,
            "padding": null,
            "right": null,
            "top": null,
            "visibility": null,
            "width": null
          }
        },
        "2af06f171d4142ecbb6786d594f66212": {
          "model_module": "@jupyter-widgets/controls",
          "model_name": "DescriptionStyleModel",
          "model_module_version": "1.5.0",
          "state": {
            "_model_module": "@jupyter-widgets/controls",
            "_model_module_version": "1.5.0",
            "_model_name": "DescriptionStyleModel",
            "_view_count": null,
            "_view_module": "@jupyter-widgets/base",
            "_view_module_version": "1.2.0",
            "_view_name": "StyleView",
            "description_width": ""
          }
        },
        "5600d7ca7b4b4ba19cf5c3af776a6373": {
          "model_module": "@jupyter-widgets/controls",
          "model_name": "HBoxModel",
          "model_module_version": "1.5.0",
          "state": {
            "_dom_classes": [],
            "_model_module": "@jupyter-widgets/controls",
            "_model_module_version": "1.5.0",
            "_model_name": "HBoxModel",
            "_view_count": null,
            "_view_module": "@jupyter-widgets/controls",
            "_view_module_version": "1.5.0",
            "_view_name": "HBoxView",
            "box_style": "",
            "children": [
              "IPY_MODEL_1c30047af89449139f2768f69013655c",
              "IPY_MODEL_cad794ae95844af985ce3878a8ee177a",
              "IPY_MODEL_9c1b04187de146748c128d567a1c92c8"
            ],
            "layout": "IPY_MODEL_dc8f618f535644158372e76f20f406f3"
          }
        },
        "1c30047af89449139f2768f69013655c": {
          "model_module": "@jupyter-widgets/controls",
          "model_name": "HTMLModel",
          "model_module_version": "1.5.0",
          "state": {
            "_dom_classes": [],
            "_model_module": "@jupyter-widgets/controls",
            "_model_module_version": "1.5.0",
            "_model_name": "HTMLModel",
            "_view_count": null,
            "_view_module": "@jupyter-widgets/controls",
            "_view_module_version": "1.5.0",
            "_view_name": "HTMLView",
            "description": "",
            "description_tooltip": null,
            "layout": "IPY_MODEL_136dc37e537a44f29689400a5d7fd7ed",
            "placeholder": "​",
            "style": "IPY_MODEL_c9d609df0ddf4ba4b8b29c1e7026c238",
            "value": "tokenizer.json: 100%"
          }
        },
        "cad794ae95844af985ce3878a8ee177a": {
          "model_module": "@jupyter-widgets/controls",
          "model_name": "FloatProgressModel",
          "model_module_version": "1.5.0",
          "state": {
            "_dom_classes": [],
            "_model_module": "@jupyter-widgets/controls",
            "_model_module_version": "1.5.0",
            "_model_name": "FloatProgressModel",
            "_view_count": null,
            "_view_module": "@jupyter-widgets/controls",
            "_view_module_version": "1.5.0",
            "_view_name": "ProgressView",
            "bar_style": "success",
            "description": "",
            "description_tooltip": null,
            "layout": "IPY_MODEL_46493b3bae704011b09894e141ed6efb",
            "max": 435797,
            "min": 0,
            "orientation": "horizontal",
            "style": "IPY_MODEL_bda87ae9f3204d2c95ace8914ca65afb",
            "value": 435797
          }
        },
        "9c1b04187de146748c128d567a1c92c8": {
          "model_module": "@jupyter-widgets/controls",
          "model_name": "HTMLModel",
          "model_module_version": "1.5.0",
          "state": {
            "_dom_classes": [],
            "_model_module": "@jupyter-widgets/controls",
            "_model_module_version": "1.5.0",
            "_model_name": "HTMLModel",
            "_view_count": null,
            "_view_module": "@jupyter-widgets/controls",
            "_view_module_version": "1.5.0",
            "_view_name": "HTMLView",
            "description": "",
            "description_tooltip": null,
            "layout": "IPY_MODEL_1fee286966074a0c8154f8a84629925c",
            "placeholder": "​",
            "style": "IPY_MODEL_60edc506e4604248b2ef36712ecf008e",
            "value": " 436k/436k [00:00&lt;00:00, 27.8MB/s]"
          }
        },
        "dc8f618f535644158372e76f20f406f3": {
          "model_module": "@jupyter-widgets/base",
          "model_name": "LayoutModel",
          "model_module_version": "1.2.0",
          "state": {
            "_model_module": "@jupyter-widgets/base",
            "_model_module_version": "1.2.0",
            "_model_name": "LayoutModel",
            "_view_count": null,
            "_view_module": "@jupyter-widgets/base",
            "_view_module_version": "1.2.0",
            "_view_name": "LayoutView",
            "align_content": null,
            "align_items": null,
            "align_self": null,
            "border": null,
            "bottom": null,
            "display": null,
            "flex": null,
            "flex_flow": null,
            "grid_area": null,
            "grid_auto_columns": null,
            "grid_auto_flow": null,
            "grid_auto_rows": null,
            "grid_column": null,
            "grid_gap": null,
            "grid_row": null,
            "grid_template_areas": null,
            "grid_template_columns": null,
            "grid_template_rows": null,
            "height": null,
            "justify_content": null,
            "justify_items": null,
            "left": null,
            "margin": null,
            "max_height": null,
            "max_width": null,
            "min_height": null,
            "min_width": null,
            "object_fit": null,
            "object_position": null,
            "order": null,
            "overflow": null,
            "overflow_x": null,
            "overflow_y": null,
            "padding": null,
            "right": null,
            "top": null,
            "visibility": null,
            "width": null
          }
        },
        "136dc37e537a44f29689400a5d7fd7ed": {
          "model_module": "@jupyter-widgets/base",
          "model_name": "LayoutModel",
          "model_module_version": "1.2.0",
          "state": {
            "_model_module": "@jupyter-widgets/base",
            "_model_module_version": "1.2.0",
            "_model_name": "LayoutModel",
            "_view_count": null,
            "_view_module": "@jupyter-widgets/base",
            "_view_module_version": "1.2.0",
            "_view_name": "LayoutView",
            "align_content": null,
            "align_items": null,
            "align_self": null,
            "border": null,
            "bottom": null,
            "display": null,
            "flex": null,
            "flex_flow": null,
            "grid_area": null,
            "grid_auto_columns": null,
            "grid_auto_flow": null,
            "grid_auto_rows": null,
            "grid_column": null,
            "grid_gap": null,
            "grid_row": null,
            "grid_template_areas": null,
            "grid_template_columns": null,
            "grid_template_rows": null,
            "height": null,
            "justify_content": null,
            "justify_items": null,
            "left": null,
            "margin": null,
            "max_height": null,
            "max_width": null,
            "min_height": null,
            "min_width": null,
            "object_fit": null,
            "object_position": null,
            "order": null,
            "overflow": null,
            "overflow_x": null,
            "overflow_y": null,
            "padding": null,
            "right": null,
            "top": null,
            "visibility": null,
            "width": null
          }
        },
        "c9d609df0ddf4ba4b8b29c1e7026c238": {
          "model_module": "@jupyter-widgets/controls",
          "model_name": "DescriptionStyleModel",
          "model_module_version": "1.5.0",
          "state": {
            "_model_module": "@jupyter-widgets/controls",
            "_model_module_version": "1.5.0",
            "_model_name": "DescriptionStyleModel",
            "_view_count": null,
            "_view_module": "@jupyter-widgets/base",
            "_view_module_version": "1.2.0",
            "_view_name": "StyleView",
            "description_width": ""
          }
        },
        "46493b3bae704011b09894e141ed6efb": {
          "model_module": "@jupyter-widgets/base",
          "model_name": "LayoutModel",
          "model_module_version": "1.2.0",
          "state": {
            "_model_module": "@jupyter-widgets/base",
            "_model_module_version": "1.2.0",
            "_model_name": "LayoutModel",
            "_view_count": null,
            "_view_module": "@jupyter-widgets/base",
            "_view_module_version": "1.2.0",
            "_view_name": "LayoutView",
            "align_content": null,
            "align_items": null,
            "align_self": null,
            "border": null,
            "bottom": null,
            "display": null,
            "flex": null,
            "flex_flow": null,
            "grid_area": null,
            "grid_auto_columns": null,
            "grid_auto_flow": null,
            "grid_auto_rows": null,
            "grid_column": null,
            "grid_gap": null,
            "grid_row": null,
            "grid_template_areas": null,
            "grid_template_columns": null,
            "grid_template_rows": null,
            "height": null,
            "justify_content": null,
            "justify_items": null,
            "left": null,
            "margin": null,
            "max_height": null,
            "max_width": null,
            "min_height": null,
            "min_width": null,
            "object_fit": null,
            "object_position": null,
            "order": null,
            "overflow": null,
            "overflow_x": null,
            "overflow_y": null,
            "padding": null,
            "right": null,
            "top": null,
            "visibility": null,
            "width": null
          }
        },
        "bda87ae9f3204d2c95ace8914ca65afb": {
          "model_module": "@jupyter-widgets/controls",
          "model_name": "ProgressStyleModel",
          "model_module_version": "1.5.0",
          "state": {
            "_model_module": "@jupyter-widgets/controls",
            "_model_module_version": "1.5.0",
            "_model_name": "ProgressStyleModel",
            "_view_count": null,
            "_view_module": "@jupyter-widgets/base",
            "_view_module_version": "1.2.0",
            "_view_name": "StyleView",
            "bar_color": null,
            "description_width": ""
          }
        },
        "1fee286966074a0c8154f8a84629925c": {
          "model_module": "@jupyter-widgets/base",
          "model_name": "LayoutModel",
          "model_module_version": "1.2.0",
          "state": {
            "_model_module": "@jupyter-widgets/base",
            "_model_module_version": "1.2.0",
            "_model_name": "LayoutModel",
            "_view_count": null,
            "_view_module": "@jupyter-widgets/base",
            "_view_module_version": "1.2.0",
            "_view_name": "LayoutView",
            "align_content": null,
            "align_items": null,
            "align_self": null,
            "border": null,
            "bottom": null,
            "display": null,
            "flex": null,
            "flex_flow": null,
            "grid_area": null,
            "grid_auto_columns": null,
            "grid_auto_flow": null,
            "grid_auto_rows": null,
            "grid_column": null,
            "grid_gap": null,
            "grid_row": null,
            "grid_template_areas": null,
            "grid_template_columns": null,
            "grid_template_rows": null,
            "height": null,
            "justify_content": null,
            "justify_items": null,
            "left": null,
            "margin": null,
            "max_height": null,
            "max_width": null,
            "min_height": null,
            "min_width": null,
            "object_fit": null,
            "object_position": null,
            "order": null,
            "overflow": null,
            "overflow_x": null,
            "overflow_y": null,
            "padding": null,
            "right": null,
            "top": null,
            "visibility": null,
            "width": null
          }
        },
        "60edc506e4604248b2ef36712ecf008e": {
          "model_module": "@jupyter-widgets/controls",
          "model_name": "DescriptionStyleModel",
          "model_module_version": "1.5.0",
          "state": {
            "_model_module": "@jupyter-widgets/controls",
            "_model_module_version": "1.5.0",
            "_model_name": "DescriptionStyleModel",
            "_view_count": null,
            "_view_module": "@jupyter-widgets/base",
            "_view_module_version": "1.2.0",
            "_view_name": "StyleView",
            "description_width": ""
          }
        },
        "5a0eadfa67ee49b89f4e0c98a6b3fcac": {
          "model_module": "@jupyter-widgets/controls",
          "model_name": "HBoxModel",
          "model_module_version": "1.5.0",
          "state": {
            "_dom_classes": [],
            "_model_module": "@jupyter-widgets/controls",
            "_model_module_version": "1.5.0",
            "_model_name": "HBoxModel",
            "_view_count": null,
            "_view_module": "@jupyter-widgets/controls",
            "_view_module_version": "1.5.0",
            "_view_name": "HBoxView",
            "box_style": "",
            "children": [
              "IPY_MODEL_bd85ae2446004ed9a5641c8cffda95e9",
              "IPY_MODEL_0ee1d1cfba164f22b6ec48bc5ea28e89",
              "IPY_MODEL_bb781a39ce37454a8dea57ae864177ae"
            ],
            "layout": "IPY_MODEL_0b3f06ff406a41a4ad1626a3ca9c3f6c"
          }
        },
        "bd85ae2446004ed9a5641c8cffda95e9": {
          "model_module": "@jupyter-widgets/controls",
          "model_name": "HTMLModel",
          "model_module_version": "1.5.0",
          "state": {
            "_dom_classes": [],
            "_model_module": "@jupyter-widgets/controls",
            "_model_module_version": "1.5.0",
            "_model_name": "HTMLModel",
            "_view_count": null,
            "_view_module": "@jupyter-widgets/controls",
            "_view_module_version": "1.5.0",
            "_view_name": "HTMLView",
            "description": "",
            "description_tooltip": null,
            "layout": "IPY_MODEL_cfea0bd0bb9c42a4bfaf193629b2ec1c",
            "placeholder": "​",
            "style": "IPY_MODEL_691af556d7b14e06bb1ad5672f0bd005",
            "value": "config.json: 100%"
          }
        },
        "0ee1d1cfba164f22b6ec48bc5ea28e89": {
          "model_module": "@jupyter-widgets/controls",
          "model_name": "FloatProgressModel",
          "model_module_version": "1.5.0",
          "state": {
            "_dom_classes": [],
            "_model_module": "@jupyter-widgets/controls",
            "_model_module_version": "1.5.0",
            "_model_name": "FloatProgressModel",
            "_view_count": null,
            "_view_module": "@jupyter-widgets/controls",
            "_view_module_version": "1.5.0",
            "_view_name": "ProgressView",
            "bar_style": "success",
            "description": "",
            "description_tooltip": null,
            "layout": "IPY_MODEL_e4b372470d6e4b929768e9ea5ec0f459",
            "max": 570,
            "min": 0,
            "orientation": "horizontal",
            "style": "IPY_MODEL_b117040ca8664c4287bf42482a03c337",
            "value": 570
          }
        },
        "bb781a39ce37454a8dea57ae864177ae": {
          "model_module": "@jupyter-widgets/controls",
          "model_name": "HTMLModel",
          "model_module_version": "1.5.0",
          "state": {
            "_dom_classes": [],
            "_model_module": "@jupyter-widgets/controls",
            "_model_module_version": "1.5.0",
            "_model_name": "HTMLModel",
            "_view_count": null,
            "_view_module": "@jupyter-widgets/controls",
            "_view_module_version": "1.5.0",
            "_view_name": "HTMLView",
            "description": "",
            "description_tooltip": null,
            "layout": "IPY_MODEL_caebcef42d3745faab2031359ed46283",
            "placeholder": "​",
            "style": "IPY_MODEL_6c26905dd40b434bbd4e4b6e1cc65c25",
            "value": " 570/570 [00:00&lt;00:00, 46.9kB/s]"
          }
        },
        "0b3f06ff406a41a4ad1626a3ca9c3f6c": {
          "model_module": "@jupyter-widgets/base",
          "model_name": "LayoutModel",
          "model_module_version": "1.2.0",
          "state": {
            "_model_module": "@jupyter-widgets/base",
            "_model_module_version": "1.2.0",
            "_model_name": "LayoutModel",
            "_view_count": null,
            "_view_module": "@jupyter-widgets/base",
            "_view_module_version": "1.2.0",
            "_view_name": "LayoutView",
            "align_content": null,
            "align_items": null,
            "align_self": null,
            "border": null,
            "bottom": null,
            "display": null,
            "flex": null,
            "flex_flow": null,
            "grid_area": null,
            "grid_auto_columns": null,
            "grid_auto_flow": null,
            "grid_auto_rows": null,
            "grid_column": null,
            "grid_gap": null,
            "grid_row": null,
            "grid_template_areas": null,
            "grid_template_columns": null,
            "grid_template_rows": null,
            "height": null,
            "justify_content": null,
            "justify_items": null,
            "left": null,
            "margin": null,
            "max_height": null,
            "max_width": null,
            "min_height": null,
            "min_width": null,
            "object_fit": null,
            "object_position": null,
            "order": null,
            "overflow": null,
            "overflow_x": null,
            "overflow_y": null,
            "padding": null,
            "right": null,
            "top": null,
            "visibility": null,
            "width": null
          }
        },
        "cfea0bd0bb9c42a4bfaf193629b2ec1c": {
          "model_module": "@jupyter-widgets/base",
          "model_name": "LayoutModel",
          "model_module_version": "1.2.0",
          "state": {
            "_model_module": "@jupyter-widgets/base",
            "_model_module_version": "1.2.0",
            "_model_name": "LayoutModel",
            "_view_count": null,
            "_view_module": "@jupyter-widgets/base",
            "_view_module_version": "1.2.0",
            "_view_name": "LayoutView",
            "align_content": null,
            "align_items": null,
            "align_self": null,
            "border": null,
            "bottom": null,
            "display": null,
            "flex": null,
            "flex_flow": null,
            "grid_area": null,
            "grid_auto_columns": null,
            "grid_auto_flow": null,
            "grid_auto_rows": null,
            "grid_column": null,
            "grid_gap": null,
            "grid_row": null,
            "grid_template_areas": null,
            "grid_template_columns": null,
            "grid_template_rows": null,
            "height": null,
            "justify_content": null,
            "justify_items": null,
            "left": null,
            "margin": null,
            "max_height": null,
            "max_width": null,
            "min_height": null,
            "min_width": null,
            "object_fit": null,
            "object_position": null,
            "order": null,
            "overflow": null,
            "overflow_x": null,
            "overflow_y": null,
            "padding": null,
            "right": null,
            "top": null,
            "visibility": null,
            "width": null
          }
        },
        "691af556d7b14e06bb1ad5672f0bd005": {
          "model_module": "@jupyter-widgets/controls",
          "model_name": "DescriptionStyleModel",
          "model_module_version": "1.5.0",
          "state": {
            "_model_module": "@jupyter-widgets/controls",
            "_model_module_version": "1.5.0",
            "_model_name": "DescriptionStyleModel",
            "_view_count": null,
            "_view_module": "@jupyter-widgets/base",
            "_view_module_version": "1.2.0",
            "_view_name": "StyleView",
            "description_width": ""
          }
        },
        "e4b372470d6e4b929768e9ea5ec0f459": {
          "model_module": "@jupyter-widgets/base",
          "model_name": "LayoutModel",
          "model_module_version": "1.2.0",
          "state": {
            "_model_module": "@jupyter-widgets/base",
            "_model_module_version": "1.2.0",
            "_model_name": "LayoutModel",
            "_view_count": null,
            "_view_module": "@jupyter-widgets/base",
            "_view_module_version": "1.2.0",
            "_view_name": "LayoutView",
            "align_content": null,
            "align_items": null,
            "align_self": null,
            "border": null,
            "bottom": null,
            "display": null,
            "flex": null,
            "flex_flow": null,
            "grid_area": null,
            "grid_auto_columns": null,
            "grid_auto_flow": null,
            "grid_auto_rows": null,
            "grid_column": null,
            "grid_gap": null,
            "grid_row": null,
            "grid_template_areas": null,
            "grid_template_columns": null,
            "grid_template_rows": null,
            "height": null,
            "justify_content": null,
            "justify_items": null,
            "left": null,
            "margin": null,
            "max_height": null,
            "max_width": null,
            "min_height": null,
            "min_width": null,
            "object_fit": null,
            "object_position": null,
            "order": null,
            "overflow": null,
            "overflow_x": null,
            "overflow_y": null,
            "padding": null,
            "right": null,
            "top": null,
            "visibility": null,
            "width": null
          }
        },
        "b117040ca8664c4287bf42482a03c337": {
          "model_module": "@jupyter-widgets/controls",
          "model_name": "ProgressStyleModel",
          "model_module_version": "1.5.0",
          "state": {
            "_model_module": "@jupyter-widgets/controls",
            "_model_module_version": "1.5.0",
            "_model_name": "ProgressStyleModel",
            "_view_count": null,
            "_view_module": "@jupyter-widgets/base",
            "_view_module_version": "1.2.0",
            "_view_name": "StyleView",
            "bar_color": null,
            "description_width": ""
          }
        },
        "caebcef42d3745faab2031359ed46283": {
          "model_module": "@jupyter-widgets/base",
          "model_name": "LayoutModel",
          "model_module_version": "1.2.0",
          "state": {
            "_model_module": "@jupyter-widgets/base",
            "_model_module_version": "1.2.0",
            "_model_name": "LayoutModel",
            "_view_count": null,
            "_view_module": "@jupyter-widgets/base",
            "_view_module_version": "1.2.0",
            "_view_name": "LayoutView",
            "align_content": null,
            "align_items": null,
            "align_self": null,
            "border": null,
            "bottom": null,
            "display": null,
            "flex": null,
            "flex_flow": null,
            "grid_area": null,
            "grid_auto_columns": null,
            "grid_auto_flow": null,
            "grid_auto_rows": null,
            "grid_column": null,
            "grid_gap": null,
            "grid_row": null,
            "grid_template_areas": null,
            "grid_template_columns": null,
            "grid_template_rows": null,
            "height": null,
            "justify_content": null,
            "justify_items": null,
            "left": null,
            "margin": null,
            "max_height": null,
            "max_width": null,
            "min_height": null,
            "min_width": null,
            "object_fit": null,
            "object_position": null,
            "order": null,
            "overflow": null,
            "overflow_x": null,
            "overflow_y": null,
            "padding": null,
            "right": null,
            "top": null,
            "visibility": null,
            "width": null
          }
        },
        "6c26905dd40b434bbd4e4b6e1cc65c25": {
          "model_module": "@jupyter-widgets/controls",
          "model_name": "DescriptionStyleModel",
          "model_module_version": "1.5.0",
          "state": {
            "_model_module": "@jupyter-widgets/controls",
            "_model_module_version": "1.5.0",
            "_model_name": "DescriptionStyleModel",
            "_view_count": null,
            "_view_module": "@jupyter-widgets/base",
            "_view_module_version": "1.2.0",
            "_view_name": "StyleView",
            "description_width": ""
          }
        },
        "ccedd422b6324e64a8bb72fa8d68020e": {
          "model_module": "@jupyter-widgets/controls",
          "model_name": "HBoxModel",
          "model_module_version": "1.5.0",
          "state": {
            "_dom_classes": [],
            "_model_module": "@jupyter-widgets/controls",
            "_model_module_version": "1.5.0",
            "_model_name": "HBoxModel",
            "_view_count": null,
            "_view_module": "@jupyter-widgets/controls",
            "_view_module_version": "1.5.0",
            "_view_name": "HBoxView",
            "box_style": "",
            "children": [
              "IPY_MODEL_761f55dd620c45d38983b3017e51e803",
              "IPY_MODEL_2e171dd95f364318bece3c8643add59d",
              "IPY_MODEL_620dd4c0b9614f18b78805d037941185"
            ],
            "layout": "IPY_MODEL_013ae461943e491faeaa0f2f4890d72b"
          }
        },
        "761f55dd620c45d38983b3017e51e803": {
          "model_module": "@jupyter-widgets/controls",
          "model_name": "HTMLModel",
          "model_module_version": "1.5.0",
          "state": {
            "_dom_classes": [],
            "_model_module": "@jupyter-widgets/controls",
            "_model_module_version": "1.5.0",
            "_model_name": "HTMLModel",
            "_view_count": null,
            "_view_module": "@jupyter-widgets/controls",
            "_view_module_version": "1.5.0",
            "_view_name": "HTMLView",
            "description": "",
            "description_tooltip": null,
            "layout": "IPY_MODEL_180ade7378164dbd88173050ce1487e2",
            "placeholder": "​",
            "style": "IPY_MODEL_4cb9c4a7f5914666b116b73c7440b696",
            "value": "model.safetensors: 100%"
          }
        },
        "2e171dd95f364318bece3c8643add59d": {
          "model_module": "@jupyter-widgets/controls",
          "model_name": "FloatProgressModel",
          "model_module_version": "1.5.0",
          "state": {
            "_dom_classes": [],
            "_model_module": "@jupyter-widgets/controls",
            "_model_module_version": "1.5.0",
            "_model_name": "FloatProgressModel",
            "_view_count": null,
            "_view_module": "@jupyter-widgets/controls",
            "_view_module_version": "1.5.0",
            "_view_name": "ProgressView",
            "bar_style": "success",
            "description": "",
            "description_tooltip": null,
            "layout": "IPY_MODEL_b642439f55a84882b2d60a027706c039",
            "max": 435755784,
            "min": 0,
            "orientation": "horizontal",
            "style": "IPY_MODEL_a21b5f94d3e64f44988f159b6f7c78f0",
            "value": 435755784
          }
        },
        "620dd4c0b9614f18b78805d037941185": {
          "model_module": "@jupyter-widgets/controls",
          "model_name": "HTMLModel",
          "model_module_version": "1.5.0",
          "state": {
            "_dom_classes": [],
            "_model_module": "@jupyter-widgets/controls",
            "_model_module_version": "1.5.0",
            "_model_name": "HTMLModel",
            "_view_count": null,
            "_view_module": "@jupyter-widgets/controls",
            "_view_module_version": "1.5.0",
            "_view_name": "HTMLView",
            "description": "",
            "description_tooltip": null,
            "layout": "IPY_MODEL_b6402e8bd218425489ebf1355cfd168d",
            "placeholder": "​",
            "style": "IPY_MODEL_eb956182a986446caeb63945a6bedeb6",
            "value": " 436M/436M [00:01&lt;00:00, 396MB/s]"
          }
        },
        "013ae461943e491faeaa0f2f4890d72b": {
          "model_module": "@jupyter-widgets/base",
          "model_name": "LayoutModel",
          "model_module_version": "1.2.0",
          "state": {
            "_model_module": "@jupyter-widgets/base",
            "_model_module_version": "1.2.0",
            "_model_name": "LayoutModel",
            "_view_count": null,
            "_view_module": "@jupyter-widgets/base",
            "_view_module_version": "1.2.0",
            "_view_name": "LayoutView",
            "align_content": null,
            "align_items": null,
            "align_self": null,
            "border": null,
            "bottom": null,
            "display": null,
            "flex": null,
            "flex_flow": null,
            "grid_area": null,
            "grid_auto_columns": null,
            "grid_auto_flow": null,
            "grid_auto_rows": null,
            "grid_column": null,
            "grid_gap": null,
            "grid_row": null,
            "grid_template_areas": null,
            "grid_template_columns": null,
            "grid_template_rows": null,
            "height": null,
            "justify_content": null,
            "justify_items": null,
            "left": null,
            "margin": null,
            "max_height": null,
            "max_width": null,
            "min_height": null,
            "min_width": null,
            "object_fit": null,
            "object_position": null,
            "order": null,
            "overflow": null,
            "overflow_x": null,
            "overflow_y": null,
            "padding": null,
            "right": null,
            "top": null,
            "visibility": null,
            "width": null
          }
        },
        "180ade7378164dbd88173050ce1487e2": {
          "model_module": "@jupyter-widgets/base",
          "model_name": "LayoutModel",
          "model_module_version": "1.2.0",
          "state": {
            "_model_module": "@jupyter-widgets/base",
            "_model_module_version": "1.2.0",
            "_model_name": "LayoutModel",
            "_view_count": null,
            "_view_module": "@jupyter-widgets/base",
            "_view_module_version": "1.2.0",
            "_view_name": "LayoutView",
            "align_content": null,
            "align_items": null,
            "align_self": null,
            "border": null,
            "bottom": null,
            "display": null,
            "flex": null,
            "flex_flow": null,
            "grid_area": null,
            "grid_auto_columns": null,
            "grid_auto_flow": null,
            "grid_auto_rows": null,
            "grid_column": null,
            "grid_gap": null,
            "grid_row": null,
            "grid_template_areas": null,
            "grid_template_columns": null,
            "grid_template_rows": null,
            "height": null,
            "justify_content": null,
            "justify_items": null,
            "left": null,
            "margin": null,
            "max_height": null,
            "max_width": null,
            "min_height": null,
            "min_width": null,
            "object_fit": null,
            "object_position": null,
            "order": null,
            "overflow": null,
            "overflow_x": null,
            "overflow_y": null,
            "padding": null,
            "right": null,
            "top": null,
            "visibility": null,
            "width": null
          }
        },
        "4cb9c4a7f5914666b116b73c7440b696": {
          "model_module": "@jupyter-widgets/controls",
          "model_name": "DescriptionStyleModel",
          "model_module_version": "1.5.0",
          "state": {
            "_model_module": "@jupyter-widgets/controls",
            "_model_module_version": "1.5.0",
            "_model_name": "DescriptionStyleModel",
            "_view_count": null,
            "_view_module": "@jupyter-widgets/base",
            "_view_module_version": "1.2.0",
            "_view_name": "StyleView",
            "description_width": ""
          }
        },
        "b642439f55a84882b2d60a027706c039": {
          "model_module": "@jupyter-widgets/base",
          "model_name": "LayoutModel",
          "model_module_version": "1.2.0",
          "state": {
            "_model_module": "@jupyter-widgets/base",
            "_model_module_version": "1.2.0",
            "_model_name": "LayoutModel",
            "_view_count": null,
            "_view_module": "@jupyter-widgets/base",
            "_view_module_version": "1.2.0",
            "_view_name": "LayoutView",
            "align_content": null,
            "align_items": null,
            "align_self": null,
            "border": null,
            "bottom": null,
            "display": null,
            "flex": null,
            "flex_flow": null,
            "grid_area": null,
            "grid_auto_columns": null,
            "grid_auto_flow": null,
            "grid_auto_rows": null,
            "grid_column": null,
            "grid_gap": null,
            "grid_row": null,
            "grid_template_areas": null,
            "grid_template_columns": null,
            "grid_template_rows": null,
            "height": null,
            "justify_content": null,
            "justify_items": null,
            "left": null,
            "margin": null,
            "max_height": null,
            "max_width": null,
            "min_height": null,
            "min_width": null,
            "object_fit": null,
            "object_position": null,
            "order": null,
            "overflow": null,
            "overflow_x": null,
            "overflow_y": null,
            "padding": null,
            "right": null,
            "top": null,
            "visibility": null,
            "width": null
          }
        },
        "a21b5f94d3e64f44988f159b6f7c78f0": {
          "model_module": "@jupyter-widgets/controls",
          "model_name": "ProgressStyleModel",
          "model_module_version": "1.5.0",
          "state": {
            "_model_module": "@jupyter-widgets/controls",
            "_model_module_version": "1.5.0",
            "_model_name": "ProgressStyleModel",
            "_view_count": null,
            "_view_module": "@jupyter-widgets/base",
            "_view_module_version": "1.2.0",
            "_view_name": "StyleView",
            "bar_color": null,
            "description_width": ""
          }
        },
        "b6402e8bd218425489ebf1355cfd168d": {
          "model_module": "@jupyter-widgets/base",
          "model_name": "LayoutModel",
          "model_module_version": "1.2.0",
          "state": {
            "_model_module": "@jupyter-widgets/base",
            "_model_module_version": "1.2.0",
            "_model_name": "LayoutModel",
            "_view_count": null,
            "_view_module": "@jupyter-widgets/base",
            "_view_module_version": "1.2.0",
            "_view_name": "LayoutView",
            "align_content": null,
            "align_items": null,
            "align_self": null,
            "border": null,
            "bottom": null,
            "display": null,
            "flex": null,
            "flex_flow": null,
            "grid_area": null,
            "grid_auto_columns": null,
            "grid_auto_flow": null,
            "grid_auto_rows": null,
            "grid_column": null,
            "grid_gap": null,
            "grid_row": null,
            "grid_template_areas": null,
            "grid_template_columns": null,
            "grid_template_rows": null,
            "height": null,
            "justify_content": null,
            "justify_items": null,
            "left": null,
            "margin": null,
            "max_height": null,
            "max_width": null,
            "min_height": null,
            "min_width": null,
            "object_fit": null,
            "object_position": null,
            "order": null,
            "overflow": null,
            "overflow_x": null,
            "overflow_y": null,
            "padding": null,
            "right": null,
            "top": null,
            "visibility": null,
            "width": null
          }
        },
        "eb956182a986446caeb63945a6bedeb6": {
          "model_module": "@jupyter-widgets/controls",
          "model_name": "DescriptionStyleModel",
          "model_module_version": "1.5.0",
          "state": {
            "_model_module": "@jupyter-widgets/controls",
            "_model_module_version": "1.5.0",
            "_model_name": "DescriptionStyleModel",
            "_view_count": null,
            "_view_module": "@jupyter-widgets/base",
            "_view_module_version": "1.2.0",
            "_view_name": "StyleView",
            "description_width": ""
          }
        }
      }
    }
  },
  "nbformat": 4,
  "nbformat_minor": 0
}